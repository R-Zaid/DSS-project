{
 "cells": [
  {
   "cell_type": "code",
   "execution_count": null,
   "id": "98497386",
   "metadata": {},
   "outputs": [],
   "source": [
    "print(\"test\")"
   ]
  },
  {
   "cell_type": "code",
   "execution_count": 57,
   "id": "a3a238d2",
   "metadata": {},
   "outputs": [
    {
     "name": "stdout",
     "output_type": "stream",
     "text": [
      "Requirement already satisfied: requests in c:\\users\\ratiba zaid\\appdata\\local\\programs\\python\\python311\\lib\\site-packages (2.32.5)\n",
      "Requirement already satisfied: charset_normalizer<4,>=2 in c:\\users\\ratiba zaid\\appdata\\local\\programs\\python\\python311\\lib\\site-packages (from requests) (3.4.3)\n",
      "Requirement already satisfied: idna<4,>=2.5 in c:\\users\\ratiba zaid\\appdata\\local\\programs\\python\\python311\\lib\\site-packages (from requests) (3.10)\n",
      "Requirement already satisfied: urllib3<3,>=1.21.1 in c:\\users\\ratiba zaid\\appdata\\local\\programs\\python\\python311\\lib\\site-packages (from requests) (2.5.0)\n",
      "Requirement already satisfied: certifi>=2017.4.17 in c:\\users\\ratiba zaid\\appdata\\local\\programs\\python\\python311\\lib\\site-packages (from requests) (2025.10.5)\n",
      "Note: you may need to restart the kernel to use updated packages.\n"
     ]
    },
    {
     "name": "stderr",
     "output_type": "stream",
     "text": [
      "\n",
      "[notice] A new release of pip available: 22.3.1 -> 25.2\n",
      "[notice] To update, run: c:\\Users\\Ratiba Zaid\\AppData\\Local\\Programs\\Python\\Python311\\python.exe -m pip install --upgrade pip\n"
     ]
    },
    {
     "name": "stdout",
     "output_type": "stream",
     "text": [
      "Requirement already satisfied: zeep in c:\\users\\ratiba zaid\\appdata\\local\\programs\\python\\python311\\lib\\site-packages (4.3.2)\n",
      "Requirement already satisfied: attrs>=17.2.0 in c:\\users\\ratiba zaid\\appdata\\local\\programs\\python\\python311\\lib\\site-packages (from zeep) (25.4.0)\n",
      "Requirement already satisfied: isodate>=0.5.4 in c:\\users\\ratiba zaid\\appdata\\local\\programs\\python\\python311\\lib\\site-packages (from zeep) (0.7.2)\n",
      "Requirement already satisfied: lxml>=4.6.0 in c:\\users\\ratiba zaid\\appdata\\local\\programs\\python\\python311\\lib\\site-packages (from zeep) (6.0.2)\n",
      "Requirement already satisfied: platformdirs>=1.4.0 in c:\\users\\ratiba zaid\\appdata\\roaming\\python\\python311\\site-packages (from zeep) (4.4.0)\n",
      "Requirement already satisfied: requests>=2.7.0 in c:\\users\\ratiba zaid\\appdata\\local\\programs\\python\\python311\\lib\\site-packages (from zeep) (2.32.5)\n",
      "Requirement already satisfied: requests-toolbelt>=0.7.1 in c:\\users\\ratiba zaid\\appdata\\local\\programs\\python\\python311\\lib\\site-packages (from zeep) (1.0.0)\n",
      "Requirement already satisfied: requests-file>=1.5.1 in c:\\users\\ratiba zaid\\appdata\\local\\programs\\python\\python311\\lib\\site-packages (from zeep) (2.1.0)\n",
      "Requirement already satisfied: pytz in c:\\users\\ratiba zaid\\appdata\\local\\programs\\python\\python311\\lib\\site-packages (from zeep) (2025.2)\n",
      "Requirement already satisfied: charset_normalizer<4,>=2 in c:\\users\\ratiba zaid\\appdata\\local\\programs\\python\\python311\\lib\\site-packages (from requests>=2.7.0->zeep) (3.4.3)\n",
      "Requirement already satisfied: idna<4,>=2.5 in c:\\users\\ratiba zaid\\appdata\\local\\programs\\python\\python311\\lib\\site-packages (from requests>=2.7.0->zeep) (3.10)\n",
      "Requirement already satisfied: urllib3<3,>=1.21.1 in c:\\users\\ratiba zaid\\appdata\\local\\programs\\python\\python311\\lib\\site-packages (from requests>=2.7.0->zeep) (2.5.0)\n",
      "Requirement already satisfied: certifi>=2017.4.17 in c:\\users\\ratiba zaid\\appdata\\local\\programs\\python\\python311\\lib\\site-packages (from requests>=2.7.0->zeep) (2025.10.5)\n",
      "Note: you may need to restart the kernel to use updated packages.\n"
     ]
    },
    {
     "name": "stderr",
     "output_type": "stream",
     "text": [
      "\n",
      "[notice] A new release of pip available: 22.3.1 -> 25.2\n",
      "[notice] To update, run: c:\\Users\\Ratiba Zaid\\AppData\\Local\\Programs\\Python\\Python311\\python.exe -m pip install --upgrade pip\n"
     ]
    },
    {
     "name": "stdout",
     "output_type": "stream",
     "text": [
      "Requirement already satisfied: openml in c:\\users\\ratiba zaid\\appdata\\local\\programs\\python\\python311\\lib\\site-packages (0.15.1)\n",
      "Requirement already satisfied: liac-arff>=2.4.0 in c:\\users\\ratiba zaid\\appdata\\local\\programs\\python\\python311\\lib\\site-packages (from openml) (2.5.0)\n",
      "Requirement already satisfied: xmltodict in c:\\users\\ratiba zaid\\appdata\\local\\programs\\python\\python311\\lib\\site-packages (from openml) (1.0.2)\n",
      "Requirement already satisfied: requests in c:\\users\\ratiba zaid\\appdata\\local\\programs\\python\\python311\\lib\\site-packages (from openml) (2.32.5)\n",
      "Requirement already satisfied: scikit-learn>=0.18 in c:\\users\\ratiba zaid\\appdata\\local\\programs\\python\\python311\\lib\\site-packages (from openml) (1.7.2)\n",
      "Requirement already satisfied: python-dateutil in c:\\users\\ratiba zaid\\appdata\\roaming\\python\\python311\\site-packages (from openml) (2.9.0.post0)\n",
      "Requirement already satisfied: pandas>=1.0.0 in c:\\users\\ratiba zaid\\appdata\\local\\programs\\python\\python311\\lib\\site-packages (from openml) (2.3.3)\n",
      "Requirement already satisfied: scipy>=0.13.3 in c:\\users\\ratiba zaid\\appdata\\local\\programs\\python\\python311\\lib\\site-packages (from openml) (1.16.2)\n",
      "Requirement already satisfied: numpy>=1.6.2 in c:\\users\\ratiba zaid\\appdata\\local\\programs\\python\\python311\\lib\\site-packages (from openml) (2.3.3)\n",
      "Requirement already satisfied: minio in c:\\users\\ratiba zaid\\appdata\\local\\programs\\python\\python311\\lib\\site-packages (from openml) (7.2.18)\n",
      "Requirement already satisfied: pyarrow in c:\\users\\ratiba zaid\\appdata\\local\\programs\\python\\python311\\lib\\site-packages (from openml) (21.0.0)\n",
      "Requirement already satisfied: tqdm in c:\\users\\ratiba zaid\\appdata\\local\\programs\\python\\python311\\lib\\site-packages (from openml) (4.67.1)\n",
      "Requirement already satisfied: packaging in c:\\users\\ratiba zaid\\appdata\\roaming\\python\\python311\\site-packages (from openml) (25.0)\n",
      "Requirement already satisfied: pytz>=2020.1 in c:\\users\\ratiba zaid\\appdata\\local\\programs\\python\\python311\\lib\\site-packages (from pandas>=1.0.0->openml) (2025.2)\n",
      "Requirement already satisfied: tzdata>=2022.7 in c:\\users\\ratiba zaid\\appdata\\local\\programs\\python\\python311\\lib\\site-packages (from pandas>=1.0.0->openml) (2025.2)\n",
      "Requirement already satisfied: six>=1.5 in c:\\users\\ratiba zaid\\appdata\\roaming\\python\\python311\\site-packages (from python-dateutil->openml) (1.17.0)\n",
      "Requirement already satisfied: joblib>=1.2.0 in c:\\users\\ratiba zaid\\appdata\\local\\programs\\python\\python311\\lib\\site-packages (from scikit-learn>=0.18->openml) (1.5.2)\n",
      "Requirement already satisfied: threadpoolctl>=3.1.0 in c:\\users\\ratiba zaid\\appdata\\local\\programs\\python\\python311\\lib\\site-packages (from scikit-learn>=0.18->openml) (3.6.0)\n",
      "Requirement already satisfied: argon2-cffi in c:\\users\\ratiba zaid\\appdata\\local\\programs\\python\\python311\\lib\\site-packages (from minio->openml) (25.1.0)\n",
      "Requirement already satisfied: certifi in c:\\users\\ratiba zaid\\appdata\\local\\programs\\python\\python311\\lib\\site-packages (from minio->openml) (2025.10.5)\n",
      "Requirement already satisfied: pycryptodome in c:\\users\\ratiba zaid\\appdata\\local\\programs\\python\\python311\\lib\\site-packages (from minio->openml) (3.23.0)\n",
      "Requirement already satisfied: typing-extensions in c:\\users\\ratiba zaid\\appdata\\roaming\\python\\python311\\site-packages (from minio->openml) (4.15.0)\n",
      "Requirement already satisfied: urllib3 in c:\\users\\ratiba zaid\\appdata\\local\\programs\\python\\python311\\lib\\site-packages (from minio->openml) (2.5.0)\n",
      "Requirement already satisfied: charset_normalizer<4,>=2 in c:\\users\\ratiba zaid\\appdata\\local\\programs\\python\\python311\\lib\\site-packages (from requests->openml) (3.4.3)\n",
      "Requirement already satisfied: idna<4,>=2.5 in c:\\users\\ratiba zaid\\appdata\\local\\programs\\python\\python311\\lib\\site-packages (from requests->openml) (3.10)\n",
      "Requirement already satisfied: colorama in c:\\users\\ratiba zaid\\appdata\\roaming\\python\\python311\\site-packages (from tqdm->openml) (0.4.6)\n",
      "Requirement already satisfied: argon2-cffi-bindings in c:\\users\\ratiba zaid\\appdata\\local\\programs\\python\\python311\\lib\\site-packages (from argon2-cffi->minio->openml) (25.1.0)\n",
      "Requirement already satisfied: cffi>=1.0.1 in c:\\users\\ratiba zaid\\appdata\\local\\programs\\python\\python311\\lib\\site-packages (from argon2-cffi-bindings->argon2-cffi->minio->openml) (2.0.0)\n",
      "Requirement already satisfied: pycparser in c:\\users\\ratiba zaid\\appdata\\local\\programs\\python\\python311\\lib\\site-packages (from cffi>=1.0.1->argon2-cffi-bindings->argon2-cffi->minio->openml) (2.23)\n",
      "Note: you may need to restart the kernel to use updated packages.\n"
     ]
    },
    {
     "name": "stderr",
     "output_type": "stream",
     "text": [
      "\n",
      "[notice] A new release of pip available: 22.3.1 -> 25.2\n",
      "[notice] To update, run: c:\\Users\\Ratiba Zaid\\AppData\\Local\\Programs\\Python\\Python311\\python.exe -m pip install --upgrade pip\n"
     ]
    },
    {
     "name": "stdout",
     "output_type": "stream",
     "text": [
      "Requirement already satisfied: seaborn in c:\\users\\ratiba zaid\\appdata\\local\\programs\\python\\python311\\lib\\site-packages (0.13.2)\n",
      "Requirement already satisfied: numpy!=1.24.0,>=1.20 in c:\\users\\ratiba zaid\\appdata\\local\\programs\\python\\python311\\lib\\site-packages (from seaborn) (2.3.3)\n",
      "Requirement already satisfied: pandas>=1.2 in c:\\users\\ratiba zaid\\appdata\\local\\programs\\python\\python311\\lib\\site-packages (from seaborn) (2.3.3)\n",
      "Requirement already satisfied: matplotlib!=3.6.1,>=3.4 in c:\\users\\ratiba zaid\\appdata\\local\\programs\\python\\python311\\lib\\site-packages (from seaborn) (3.10.6)\n",
      "Requirement already satisfied: contourpy>=1.0.1 in c:\\users\\ratiba zaid\\appdata\\local\\programs\\python\\python311\\lib\\site-packages (from matplotlib!=3.6.1,>=3.4->seaborn) (1.3.3)\n",
      "Requirement already satisfied: cycler>=0.10 in c:\\users\\ratiba zaid\\appdata\\local\\programs\\python\\python311\\lib\\site-packages (from matplotlib!=3.6.1,>=3.4->seaborn) (0.12.1)\n",
      "Requirement already satisfied: fonttools>=4.22.0 in c:\\users\\ratiba zaid\\appdata\\local\\programs\\python\\python311\\lib\\site-packages (from matplotlib!=3.6.1,>=3.4->seaborn) (4.60.1)\n",
      "Requirement already satisfied: kiwisolver>=1.3.1 in c:\\users\\ratiba zaid\\appdata\\local\\programs\\python\\python311\\lib\\site-packages (from matplotlib!=3.6.1,>=3.4->seaborn) (1.4.9)\n",
      "Requirement already satisfied: packaging>=20.0 in c:\\users\\ratiba zaid\\appdata\\roaming\\python\\python311\\site-packages (from matplotlib!=3.6.1,>=3.4->seaborn) (25.0)\n",
      "Requirement already satisfied: pillow>=8 in c:\\users\\ratiba zaid\\appdata\\local\\programs\\python\\python311\\lib\\site-packages (from matplotlib!=3.6.1,>=3.4->seaborn) (11.3.0)\n",
      "Requirement already satisfied: pyparsing>=2.3.1 in c:\\users\\ratiba zaid\\appdata\\local\\programs\\python\\python311\\lib\\site-packages (from matplotlib!=3.6.1,>=3.4->seaborn) (3.2.5)\n",
      "Requirement already satisfied: python-dateutil>=2.7 in c:\\users\\ratiba zaid\\appdata\\roaming\\python\\python311\\site-packages (from matplotlib!=3.6.1,>=3.4->seaborn) (2.9.0.post0)\n",
      "Requirement already satisfied: pytz>=2020.1 in c:\\users\\ratiba zaid\\appdata\\local\\programs\\python\\python311\\lib\\site-packages (from pandas>=1.2->seaborn) (2025.2)\n",
      "Requirement already satisfied: tzdata>=2022.7 in c:\\users\\ratiba zaid\\appdata\\local\\programs\\python\\python311\\lib\\site-packages (from pandas>=1.2->seaborn) (2025.2)\n",
      "Requirement already satisfied: six>=1.5 in c:\\users\\ratiba zaid\\appdata\\roaming\\python\\python311\\site-packages (from python-dateutil>=2.7->matplotlib!=3.6.1,>=3.4->seaborn) (1.17.0)\n",
      "Note: you may need to restart the kernel to use updated packages.\n"
     ]
    },
    {
     "name": "stderr",
     "output_type": "stream",
     "text": [
      "\n",
      "[notice] A new release of pip available: 22.3.1 -> 25.2\n",
      "[notice] To update, run: c:\\Users\\Ratiba Zaid\\AppData\\Local\\Programs\\Python\\Python311\\python.exe -m pip install --upgrade pip\n"
     ]
    },
    {
     "name": "stdout",
     "output_type": "stream",
     "text": [
      "Requirement already satisfied: plotly in c:\\users\\ratiba zaid\\appdata\\local\\programs\\python\\python311\\lib\\site-packages (6.3.1)\n",
      "Requirement already satisfied: narwhals>=1.15.1 in c:\\users\\ratiba zaid\\appdata\\local\\programs\\python\\python311\\lib\\site-packages (from plotly) (2.7.0)\n",
      "Requirement already satisfied: packaging in c:\\users\\ratiba zaid\\appdata\\roaming\\python\\python311\\site-packages (from plotly) (25.0)\n",
      "Note: you may need to restart the kernel to use updated packages.\n"
     ]
    },
    {
     "name": "stderr",
     "output_type": "stream",
     "text": [
      "\n",
      "[notice] A new release of pip available: 22.3.1 -> 25.2\n",
      "[notice] To update, run: c:\\Users\\Ratiba Zaid\\AppData\\Local\\Programs\\Python\\Python311\\python.exe -m pip install --upgrade pip\n"
     ]
    }
   ],
   "source": [
    "%pip install requests\n",
    "%pip install zeep\n",
    "%pip install openml\n",
    "%pip install seaborn\n",
    "%pip install plotly"
   ]
  },
  {
   "cell_type": "code",
   "execution_count": 58,
   "id": "680c91b3",
   "metadata": {},
   "outputs": [],
   "source": [
    "import requests\n",
    "from pprint import pprint\n",
    "import pandas as pd\n",
    "from zeep import Client\n",
    "import logging\n",
    "import openml\n",
    "import sqlite3\n",
    "import xml.etree.ElementTree as ET\n"
   ]
  },
  {
   "cell_type": "markdown",
   "id": "26f3483a",
   "metadata": {},
   "source": []
  },
  {
   "cell_type": "markdown",
   "id": "36034e47",
   "metadata": {},
   "source": [
    "# API Number of motor vehicles per 1,000 inhabitants \n",
    "\n",
    "Below you can find the end points. We will use the TypedDataSet end point.\n",
    "```\n",
    "{\n",
    "  \"odata.metadata\":\"https://opendata.cbs.nl/ODataApi/OData/85235NED/$metadata\",\"value\":[\n",
    "    {\n",
    "      \"name\":\"TableInfos\",\"url\":\"https://opendata.cbs.nl/ODataApi/odata/85235NED/TableInfos\"\n",
    "    },{\n",
    "      \"name\":\"UntypedDataSet\",\"url\":\"https://opendata.cbs.nl/ODataApi/odata/85235NED/UntypedDataSet\"\n",
    "    },{\n",
    "      \"name\":\"TypedDataSet\",\"url\":\"https://opendata.cbs.nl/ODataApi/odata/85235NED/TypedDataSet\"\n",
    "    },{\n",
    "      \"name\":\"DataProperties\",\"url\":\"https://opendata.cbs.nl/ODataApi/odata/85235NED/DataProperties\"\n",
    "    },{\n",
    "      \"name\":\"CategoryGroups\",\"url\":\"https://opendata.cbs.nl/ODataApi/odata/85235NED/CategoryGroups\"\n",
    "    },{\n",
    "      \"name\":\"RegioS\",\"url\":\"https://opendata.cbs.nl/ODataApi/odata/85235NED/RegioS\"\n",
    "    },{\n",
    "      \"name\":\"Perioden\",\"url\":\"https://opendata.cbs.nl/ODataApi/odata/85235NED/Perioden\"\n",
    "    }\n",
    "  ]\n",
    "}\n",
    "```"
   ]
  },
  {
   "cell_type": "code",
   "execution_count": 59,
   "id": "5e6cee5f",
   "metadata": {},
   "outputs": [
    {
     "name": "stdout",
     "output_type": "stream",
     "text": [
      "{'odata.metadata': 'https://opendata.cbs.nl/ODataApi/OData/85235NED/$metadata#Cbs.OData.WebAPI.TypedDataSet', 'value': [{'ID': 0, 'RegioS': 'NL01  ', 'Perioden': '2019JJ00', 'TotaalWegvoertuigen_1': 11372065, 'TotaalMotorvoertuigen_2': 10199679, 'TotaalPersonenautoS_3': 8442982, 'PersonenautoSRelatief_4': 489, 'InBezitNatuurlijkePersonen_5': 7452085, 'InBezitNatuurlijkePersonenRelatief_6': 431, 'TotaalBedrijfsvoertuigen_7': 2283037, 'TotaalBedrijfsmotorvoertuigen_8': 1110651, 'TotaalAanhangwagensEnOpleggers_9': 1172386, 'TotaalBedrijfsmotorvoertuigen_10': 1110651, 'Bestelauto_11': 903005, 'VrachtautoExclTrekkerVoorOplegger_12': 61652, 'TrekkerVoorOplegger_13': 78788, 'SpeciaalVoertuig_14': 57693, 'Bus_15': 9513, 'TotaalAanhangwagensEnOpleggers_16': 1172386, 'Aanhangwagen_17': 1008412, 'Oplegger_18': 163974, 'TotaalMotorfietsen_19': 646046, 'MotorfietsenRelatief_20': 37}, {'ID': 1, 'RegioS': 'NL01  ', 'Perioden': '2020JJ00', 'TotaalWegvoertuigen_1': 11567203, 'TotaalMotorvoertuigen_2': 10374721, 'TotaalPersonenautoS_3': 8584391, 'PersonenautoSRelatief_4': 493, 'InBezitNatuurlijkePersonen_5': 7548770, 'InBezitNatuurlijkePersonenRelatief_6': 434, 'TotaalBedrijfsvoertuigen_7': 2328425, 'TotaalBedrijfsmotorvoertuigen_8': 1135943, 'TotaalAanhangwagensEnOpleggers_9': 1192482, 'TotaalBedrijfsmotorvoertuigen_10': 1135943, 'Bestelauto_11': 927251, 'VrachtautoExclTrekkerVoorOplegger_12': 61746, 'TrekkerVoorOplegger_13': 80118, 'SpeciaalVoertuig_14': 57129, 'Bus_15': 9699, 'TotaalAanhangwagensEnOpleggers_16': 1192482, 'Aanhangwagen_17': 1023980, 'Oplegger_18': 168502, 'TotaalMotorfietsen_19': 654387, 'MotorfietsenRelatief_20': 38}, {'ID': 2, 'RegioS': 'NL01  ', 'Perioden': '2021JJ00', 'TotaalWegvoertuigen_1': 11704406, 'TotaalMotorvoertuigen_2': 10504756, 'TotaalPersonenautoS_3': 8686419, 'PersonenautoSRelatief_4': 497, 'InBezitNatuurlijkePersonen_5': 7683236, 'InBezitNatuurlijkePersonenRelatief_6': 440, 'TotaalBedrijfsvoertuigen_7': 2351390, 'TotaalBedrijfsmotorvoertuigen_8': 1151740, 'TotaalAanhangwagensEnOpleggers_9': 1199650, 'TotaalBedrijfsmotorvoertuigen_10': 1151740, 'Bestelauto_11': 945433, 'VrachtautoExclTrekkerVoorOplegger_12': 60831, 'TrekkerVoorOplegger_13': 79932, 'SpeciaalVoertuig_14': 56494, 'Bus_15': 9050, 'TotaalAanhangwagensEnOpleggers_16': 1199650, 'Aanhangwagen_17': 1029636, 'Oplegger_18': 170014, 'TotaalMotorfietsen_19': 666597, 'MotorfietsenRelatief_20': 38}, {'ID': 3, 'RegioS': 'NL01  ', 'Perioden': '2022JJ00', 'TotaalWegvoertuigen_1': 11917133, 'TotaalMotorvoertuigen_2': 10688353, 'TotaalPersonenautoS_3': 8827709, 'PersonenautoSRelatief_4': 502, 'InBezitNatuurlijkePersonen_5': 7803950, 'InBezitNatuurlijkePersonenRelatief_6': 444, 'TotaalBedrijfsvoertuigen_7': 2411637, 'TotaalBedrijfsmotorvoertuigen_8': 1182857, 'TotaalAanhangwagensEnOpleggers_9': 1228780, 'TotaalBedrijfsmotorvoertuigen_10': 1182857, 'Bestelauto_11': 974792, 'VrachtautoExclTrekkerVoorOplegger_12': 60867, 'TrekkerVoorOplegger_13': 82436, 'SpeciaalVoertuig_14': 56230, 'Bus_15': 8532, 'TotaalAanhangwagensEnOpleggers_16': 1228780, 'Aanhangwagen_17': 1051486, 'Oplegger_18': 177294, 'TotaalMotorfietsen_19': 677787, 'MotorfietsenRelatief_20': 39}, {'ID': 4, 'RegioS': 'NL01  ', 'Perioden': '2023JJ00', 'TotaalWegvoertuigen_1': 12063981, 'TotaalMotorvoertuigen_2': 10808892, 'TotaalPersonenautoS_3': 8917107, 'PersonenautoSRelatief_4': 501, 'InBezitNatuurlijkePersonen_5': 7842473, 'InBezitNatuurlijkePersonenRelatief_6': 440, 'TotaalBedrijfsvoertuigen_7': 2456150, 'TotaalBedrijfsmotorvoertuigen_8': 1201061, 'TotaalAanhangwagensEnOpleggers_9': 1255089, 'TotaalBedrijfsmotorvoertuigen_10': 1201061, 'Bestelauto_11': 989841, 'VrachtautoExclTrekkerVoorOplegger_12': 60811, 'TrekkerVoorOplegger_13': 85679, 'SpeciaalVoertuig_14': 55974, 'Bus_15': 8756, 'TotaalAanhangwagensEnOpleggers_16': 1255089, 'Aanhangwagen_17': 1069827, 'Oplegger_18': 185262, 'TotaalMotorfietsen_19': 690724, 'MotorfietsenRelatief_20': 39}, {'ID': 5, 'RegioS': 'NL01  ', 'Perioden': '2024JJ00', 'TotaalWegvoertuigen_1': 12255576, 'TotaalMotorvoertuigen_2': 10989401, 'TotaalPersonenautoS_3': 9067393, 'PersonenautoSRelatief_4': 505, 'InBezitNatuurlijkePersonen_5': 7946287, 'InBezitNatuurlijkePersonenRelatief_6': 443, 'TotaalBedrijfsvoertuigen_7': 2484868, 'TotaalBedrijfsmotorvoertuigen_8': 1218693, 'TotaalAanhangwagensEnOpleggers_9': 1266175, 'TotaalBedrijfsmotorvoertuigen_10': 1218693, 'Bestelauto_11': 1006477, 'VrachtautoExclTrekkerVoorOplegger_12': 61521, 'TrekkerVoorOplegger_13': 86457, 'SpeciaalVoertuig_14': 55563, 'Bus_15': 8675, 'TotaalAanhangwagensEnOpleggers_16': 1266175, 'Aanhangwagen_17': 1077996, 'Oplegger_18': 188179, 'TotaalMotorfietsen_19': 703315, 'MotorfietsenRelatief_20': 39}, {'ID': 6, 'RegioS': 'NL01  ', 'Perioden': '2025JJ00', 'TotaalWegvoertuigen_1': 12519332, 'TotaalMotorvoertuigen_2': 11234293, 'TotaalPersonenautoS_3': 9247810, 'PersonenautoSRelatief_4': 513, 'InBezitNatuurlijkePersonen_5': 8112145, 'InBezitNatuurlijkePersonenRelatief_6': 450, 'TotaalBedrijfsvoertuigen_7': 2550931, 'TotaalBedrijfsmotorvoertuigen_8': 1265892, 'TotaalAanhangwagensEnOpleggers_9': 1285039, 'TotaalBedrijfsmotorvoertuigen_10': 1265892, 'Bestelauto_11': 1050688, 'VrachtautoExclTrekkerVoorOplegger_12': 63197, 'TrekkerVoorOplegger_13': 87837, 'SpeciaalVoertuig_14': 54937, 'Bus_15': 9233, 'TotaalAanhangwagensEnOpleggers_16': 1285039, 'Aanhangwagen_17': 1096141, 'Oplegger_18': 188898, 'TotaalMotorfietsen_19': 720591, 'MotorfietsenRelatief_20': 40}, {'ID': 7, 'RegioS': 'LD01  ', 'Perioden': '2019JJ00', 'TotaalWegvoertuigen_1': 1235405, 'TotaalMotorvoertuigen_2': 1071110, 'TotaalPersonenautoS_3': 861974, 'PersonenautoSRelatief_4': 500, 'InBezitNatuurlijkePersonen_5': 807624, 'InBezitNatuurlijkePersonenRelatief_6': 469, 'TotaalBedrijfsvoertuigen_7': 292901, 'TotaalBedrijfsmotorvoertuigen_8': 128606, 'TotaalAanhangwagensEnOpleggers_9': 164295, 'TotaalBedrijfsmotorvoertuigen_10': 128606, 'Bestelauto_11': 105174, 'VrachtautoExclTrekkerVoorOplegger_12': 5998, 'TrekkerVoorOplegger_13': 7520, 'SpeciaalVoertuig_14': 8205, 'Bus_15': 1709, 'TotaalAanhangwagensEnOpleggers_16': 164295, 'Aanhangwagen_17': 153306, 'Oplegger_18': 10989, 'TotaalMotorfietsen_19': 80530, 'MotorfietsenRelatief_20': 47}, {'ID': 8, 'RegioS': 'LD01  ', 'Perioden': '2020JJ00', 'TotaalWegvoertuigen_1': 1258055, 'TotaalMotorvoertuigen_2': 1090809, 'TotaalPersonenautoS_3': 877666, 'PersonenautoSRelatief_4': 507, 'InBezitNatuurlijkePersonen_5': 819862, 'InBezitNatuurlijkePersonenRelatief_6': 474, 'TotaalBedrijfsvoertuigen_7': 299030, 'TotaalBedrijfsmotorvoertuigen_8': 131784, 'TotaalAanhangwagensEnOpleggers_9': 167246, 'TotaalBedrijfsmotorvoertuigen_10': 131784, 'Bestelauto_11': 108085, 'VrachtautoExclTrekkerVoorOplegger_12': 6062, 'TrekkerVoorOplegger_13': 7640, 'SpeciaalVoertuig_14': 8170, 'Bus_15': 1827, 'TotaalAanhangwagensEnOpleggers_16': 167246, 'Aanhangwagen_17': 155921, 'Oplegger_18': 11325, 'TotaalMotorfietsen_19': 81359, 'MotorfietsenRelatief_20': 47}, {'ID': 9, 'RegioS': 'LD01  ', 'Perioden': '2021JJ00', 'TotaalWegvoertuigen_1': 1279895, 'TotaalMotorvoertuigen_2': 1110551, 'TotaalPersonenautoS_3': 892790, 'PersonenautoSRelatief_4': 515, 'InBezitNatuurlijkePersonen_5': 834668, 'InBezitNatuurlijkePersonenRelatief_6': 482, 'TotaalBedrijfsvoertuigen_7': 304021, 'TotaalBedrijfsmotorvoertuigen_8': 134677, 'TotaalAanhangwagensEnOpleggers_9': 169344, 'TotaalBedrijfsmotorvoertuigen_10': 134677, 'Bestelauto_11': 111159, 'VrachtautoExclTrekkerVoorOplegger_12': 5961, 'TrekkerVoorOplegger_13': 7640, 'SpeciaalVoertuig_14': 8118, 'Bus_15': 1799, 'TotaalAanhangwagensEnOpleggers_16': 169344, 'Aanhangwagen_17': 157735, 'Oplegger_18': 11609, 'TotaalMotorfietsen_19': 83084, 'MotorfietsenRelatief_20': 48}, {'ID': 10, 'RegioS': 'LD01  ', 'Perioden': '2022JJ00', 'TotaalWegvoertuigen_1': 1306028, 'TotaalMotorvoertuigen_2': 1132392, 'TotaalPersonenautoS_3': 909302, 'PersonenautoSRelatief_4': 522, 'InBezitNatuurlijkePersonen_5': 849120, 'InBezitNatuurlijkePersonenRelatief_6': 487, 'TotaalBedrijfsvoertuigen_7': 311913, 'TotaalBedrijfsmotorvoertuigen_8': 138277, 'TotaalAanhangwagensEnOpleggers_9': 173636, 'TotaalBedrijfsmotorvoertuigen_10': 138277, 'Bestelauto_11': 114632, 'VrachtautoExclTrekkerVoorOplegger_12': 6032, 'TrekkerVoorOplegger_13': 7841, 'SpeciaalVoertuig_14': 8018, 'Bus_15': 1754, 'TotaalAanhangwagensEnOpleggers_16': 173636, 'Aanhangwagen_17': 161460, 'Oplegger_18': 12176, 'TotaalMotorfietsen_19': 84813, 'MotorfietsenRelatief_20': 49}, {'ID': 11, 'RegioS': 'LD01  ', 'Perioden': '2023JJ00', 'TotaalWegvoertuigen_1': 1323830, 'TotaalMotorvoertuigen_2': 1146105, 'TotaalPersonenautoS_3': 918843, 'PersonenautoSRelatief_4': 523, 'InBezitNatuurlijkePersonen_5': 854929, 'InBezitNatuurlijkePersonenRelatief_6': 486, 'TotaalBedrijfsvoertuigen_7': 318031, 'TotaalBedrijfsmotorvoertuigen_8': 140306, 'TotaalAanhangwagensEnOpleggers_9': 177725, 'TotaalBedrijfsmotorvoertuigen_10': 140306, 'Bestelauto_11': 116242, 'VrachtautoExclTrekkerVoorOplegger_12': 6115, 'TrekkerVoorOplegger_13': 8217, 'SpeciaalVoertuig_14': 7962, 'Bus_15': 1770, 'TotaalAanhangwagensEnOpleggers_16': 177725, 'Aanhangwagen_17': 164967, 'Oplegger_18': 12758, 'TotaalMotorfietsen_19': 86956, 'MotorfietsenRelatief_20': 49}, {'ID': 12, 'RegioS': 'LD01  ', 'Perioden': '2024JJ00', 'TotaalWegvoertuigen_1': 1348457, 'TotaalMotorvoertuigen_2': 1167559, 'TotaalPersonenautoS_3': 935286, 'PersonenautoSRelatief_4': 529, 'InBezitNatuurlijkePersonen_5': 868136, 'InBezitNatuurlijkePersonenRelatief_6': 491, 'TotaalBedrijfsvoertuigen_7': 324217, 'TotaalBedrijfsmotorvoertuigen_8': 143319, 'TotaalAanhangwagensEnOpleggers_9': 180898, 'TotaalBedrijfsmotorvoertuigen_10': 143319, 'Bestelauto_11': 118773, 'VrachtautoExclTrekkerVoorOplegger_12': 6210, 'TrekkerVoorOplegger_13': 8465, 'SpeciaalVoertuig_14': 7973, 'Bus_15': 1898, 'TotaalAanhangwagensEnOpleggers_16': 180898, 'Aanhangwagen_17': 167549, 'Oplegger_18': 13349, 'TotaalMotorfietsen_19': 88954, 'MotorfietsenRelatief_20': 50}, {'ID': 13, 'RegioS': 'LD01  ', 'Perioden': '2025JJ00', 'TotaalWegvoertuigen_1': 1382691, 'TotaalMotorvoertuigen_2': 1197613, 'TotaalPersonenautoS_3': 956702, 'PersonenautoSRelatief_4': 539, 'InBezitNatuurlijkePersonen_5': 887989, 'InBezitNatuurlijkePersonenRelatief_6': 501, 'TotaalBedrijfsvoertuigen_7': 334463, 'TotaalBedrijfsmotorvoertuigen_8': 149385, 'TotaalAanhangwagensEnOpleggers_9': 185078, 'TotaalBedrijfsmotorvoertuigen_10': 149385, 'Bestelauto_11': 124515, 'VrachtautoExclTrekkerVoorOplegger_12': 6346, 'TrekkerVoorOplegger_13': 8682, 'SpeciaalVoertuig_14': 7839, 'Bus_15': 2003, 'TotaalAanhangwagensEnOpleggers_16': 185078, 'Aanhangwagen_17': 171492, 'Oplegger_18': 13586, 'TotaalMotorfietsen_19': 91526, 'MotorfietsenRelatief_20': 52}, {'ID': 14, 'RegioS': 'LD02  ', 'Perioden': '2019JJ00', 'TotaalWegvoertuigen_1': 2681905, 'TotaalMotorvoertuigen_2': 2379788, 'TotaalPersonenautoS_3': 1960967, 'PersonenautoSRelatief_4': 538, 'InBezitNatuurlijkePersonen_5': 1650345, 'InBezitNatuurlijkePersonenRelatief_6': 453, 'TotaalBedrijfsvoertuigen_7': 572987, 'TotaalBedrijfsmotorvoertuigen_8': 270870, 'TotaalAanhangwagensEnOpleggers_9': 302117, 'TotaalBedrijfsmotorvoertuigen_10': 270870, 'Bestelauto_11': 220181, 'VrachtautoExclTrekkerVoorOplegger_12': 15452, 'TrekkerVoorOplegger_13': 19915, 'SpeciaalVoertuig_14': 13685, 'Bus_15': 1637, 'TotaalAanhangwagensEnOpleggers_16': 302117, 'Aanhangwagen_17': 266932, 'Oplegger_18': 35185, 'TotaalMotorfietsen_19': 147951, 'MotorfietsenRelatief_20': 41}, {'ID': 15, 'RegioS': 'LD02  ', 'Perioden': '2020JJ00', 'TotaalWegvoertuigen_1': 2726141, 'TotaalMotorvoertuigen_2': 2417677, 'TotaalPersonenautoS_3': 1993086, 'PersonenautoSRelatief_4': 543, 'InBezitNatuurlijkePersonen_5': 1675234, 'InBezitNatuurlijkePersonenRelatief_6': 456, 'TotaalBedrijfsvoertuigen_7': 583199, 'TotaalBedrijfsmotorvoertuigen_8': 274735, 'TotaalAanhangwagensEnOpleggers_9': 308464, 'TotaalBedrijfsmotorvoertuigen_10': 274735, 'Bestelauto_11': 223489, 'VrachtautoExclTrekkerVoorOplegger_12': 15535, 'TrekkerVoorOplegger_13': 20522, 'SpeciaalVoertuig_14': 13570, 'Bus_15': 1619, 'TotaalAanhangwagensEnOpleggers_16': 308464, 'Aanhangwagen_17': 271720, 'Oplegger_18': 36744, 'TotaalMotorfietsen_19': 149856, 'MotorfietsenRelatief_20': 41}, {'ID': 16, 'RegioS': 'LD02  ', 'Perioden': '2021JJ00', 'TotaalWegvoertuigen_1': 2751825, 'TotaalMotorvoertuigen_2': 2439853, 'TotaalPersonenautoS_3': 2007195, 'PersonenautoSRelatief_4': 544, 'InBezitNatuurlijkePersonen_5': 1709869, 'InBezitNatuurlijkePersonenRelatief_6': 463, 'TotaalBedrijfsvoertuigen_7': 591553, 'TotaalBedrijfsmotorvoertuigen_8': 279581, 'TotaalAanhangwagensEnOpleggers_9': 311972, 'TotaalBedrijfsmotorvoertuigen_10': 279581, 'Bestelauto_11': 228626, 'VrachtautoExclTrekkerVoorOplegger_12': 15330, 'TrekkerVoorOplegger_13': 20554, 'SpeciaalVoertuig_14': 13405, 'Bus_15': 1666, 'TotaalAanhangwagensEnOpleggers_16': 311972, 'Aanhangwagen_17': 274090, 'Oplegger_18': 37882, 'TotaalMotorfietsen_19': 153077, 'MotorfietsenRelatief_20': 41}, {'ID': 17, 'RegioS': 'LD02  ', 'Perioden': '2022JJ00', 'TotaalWegvoertuigen_1': 2798014, 'TotaalMotorvoertuigen_2': 2479477, 'TotaalPersonenautoS_3': 2036509, 'PersonenautoSRelatief_4': 548, 'InBezitNatuurlijkePersonen_5': 1742917, 'InBezitNatuurlijkePersonenRelatief_6': 469, 'TotaalBedrijfsvoertuigen_7': 605341, 'TotaalBedrijfsmotorvoertuigen_8': 286804, 'TotaalAanhangwagensEnOpleggers_9': 318537, 'TotaalBedrijfsmotorvoertuigen_10': 286804, 'Bestelauto_11': 235200, 'VrachtautoExclTrekkerVoorOplegger_12': 15372, 'TrekkerVoorOplegger_13': 21325, 'SpeciaalVoertuig_14': 13404, 'Bus_15': 1503, 'TotaalAanhangwagensEnOpleggers_16': 318537, 'Aanhangwagen_17': 280953, 'Oplegger_18': 37584, 'TotaalMotorfietsen_19': 156164, 'MotorfietsenRelatief_20': 42}, {'ID': 18, 'RegioS': 'LD02  ', 'Perioden': '2023JJ00', 'TotaalWegvoertuigen_1': 2827322, 'TotaalMotorvoertuigen_2': 2502221, 'TotaalPersonenautoS_3': 2053063, 'PersonenautoSRelatief_4': 546, 'InBezitNatuurlijkePersonen_5': 1755265, 'InBezitNatuurlijkePersonenRelatief_6': 466, 'TotaalBedrijfsvoertuigen_7': 614763, 'TotaalBedrijfsmotorvoertuigen_8': 289662, 'TotaalAanhangwagensEnOpleggers_9': 325101, 'TotaalBedrijfsmotorvoertuigen_10': 289662, 'Bestelauto_11': 237536, 'VrachtautoExclTrekkerVoorOplegger_12': 15446, 'TrekkerVoorOplegger_13': 21966, 'SpeciaalVoertuig_14': 13389, 'Bus_15': 1325, 'TotaalAanhangwagensEnOpleggers_16': 325101, 'Aanhangwagen_17': 286448, 'Oplegger_18': 38653, 'TotaalMotorfietsen_19': 159496, 'MotorfietsenRelatief_20': 42}, {'ID': 19, 'RegioS': 'LD02  ', 'Perioden': '2024JJ00', 'TotaalWegvoertuigen_1': 2886291, 'TotaalMotorvoertuigen_2': 2557678, 'TotaalPersonenautoS_3': 2099758, 'PersonenautoSRelatief_4': 554, 'InBezitNatuurlijkePersonen_5': 1784371, 'InBezitNatuurlijkePersonenRelatief_6': 471, 'TotaalBedrijfsvoertuigen_7': 623701, 'TotaalBedrijfsmotorvoertuigen_8': 295088, 'TotaalAanhangwagensEnOpleggers_9': 328613, 'TotaalBedrijfsmotorvoertuigen_10': 295088, 'Bestelauto_11': 243028, 'VrachtautoExclTrekkerVoorOplegger_12': 15553, 'TrekkerVoorOplegger_13': 21908, 'SpeciaalVoertuig_14': 13427, 'Bus_15': 1172, 'TotaalAanhangwagensEnOpleggers_16': 328613, 'Aanhangwagen_17': 289266, 'Oplegger_18': 39347, 'TotaalMotorfietsen_19': 162832, 'MotorfietsenRelatief_20': 43}, {'ID': 20, 'RegioS': 'LD02  ', 'Perioden': '2025JJ00', 'TotaalWegvoertuigen_1': 2996180, 'TotaalMotorvoertuigen_2': 2660938, 'TotaalPersonenautoS_3': 2178717, 'PersonenautoSRelatief_4': 571, 'InBezitNatuurlijkePersonen_5': 1826667, 'InBezitNatuurlijkePersonenRelatief_6': 479, 'TotaalBedrijfsvoertuigen_7': 650332, 'TotaalBedrijfsmotorvoertuigen_8': 315090, 'TotaalAanhangwagensEnOpleggers_9': 335242, 'TotaalBedrijfsmotorvoertuigen_10': 315090, 'Bestelauto_11': 262354, 'VrachtautoExclTrekkerVoorOplegger_12': 15962, 'TrekkerVoorOplegger_13': 22227, 'SpeciaalVoertuig_14': 13370, 'Bus_15': 1177, 'TotaalAanhangwagensEnOpleggers_16': 335242, 'Aanhangwagen_17': 295385, 'Oplegger_18': 39857, 'TotaalMotorfietsen_19': 167131, 'MotorfietsenRelatief_20': 44}, {'ID': 21, 'RegioS': 'LD03  ', 'Perioden': '2019JJ00', 'TotaalWegvoertuigen_1': 4811592, 'TotaalMotorvoertuigen_2': 4395686, 'TotaalPersonenautoS_3': 3664768, 'PersonenautoSRelatief_4': 444, 'InBezitNatuurlijkePersonen_5': 3226511, 'InBezitNatuurlijkePersonenRelatief_6': 391, 'TotaalBedrijfsvoertuigen_7': 873969, 'TotaalBedrijfsmotorvoertuigen_8': 458063, 'TotaalAanhangwagensEnOpleggers_9': 415906, 'TotaalBedrijfsmotorvoertuigen_10': 458063, 'Bestelauto_11': 376944, 'VrachtautoExclTrekkerVoorOplegger_12': 24092, 'TrekkerVoorOplegger_13': 30181, 'SpeciaalVoertuig_14': 21580, 'Bus_15': 5266, 'TotaalAanhangwagensEnOpleggers_16': 415906, 'Aanhangwagen_17': 348570, 'Oplegger_18': 67336, 'TotaalMotorfietsen_19': 272855, 'MotorfietsenRelatief_20': 33}, {'ID': 22, 'RegioS': 'LD03  ', 'Perioden': '2020JJ00', 'TotaalWegvoertuigen_1': 4896984, 'TotaalMotorvoertuigen_2': 4475788, 'TotaalPersonenautoS_3': 3728258, 'PersonenautoSRelatief_4': 448, 'InBezitNatuurlijkePersonen_5': 3264412, 'InBezitNatuurlijkePersonenRelatief_6': 392, 'TotaalBedrijfsvoertuigen_7': 891671, 'TotaalBedrijfsmotorvoertuigen_8': 470475, 'TotaalAanhangwagensEnOpleggers_9': 421196, 'TotaalBedrijfsmotorvoertuigen_10': 470475, 'Bestelauto_11': 388986, 'VrachtautoExclTrekkerVoorOplegger_12': 24072, 'TrekkerVoorOplegger_13': 30726, 'SpeciaalVoertuig_14': 21324, 'Bus_15': 5367, 'TotaalAanhangwagensEnOpleggers_16': 421196, 'Aanhangwagen_17': 352413, 'Oplegger_18': 68783, 'TotaalMotorfietsen_19': 277055, 'MotorfietsenRelatief_20': 33}, {'ID': 23, 'RegioS': 'LD03  ', 'Perioden': '2021JJ00', 'TotaalWegvoertuigen_1': 4957710, 'TotaalMotorvoertuigen_2': 4536614, 'TotaalPersonenautoS_3': 3780217, 'PersonenautoSRelatief_4': 452, 'InBezitNatuurlijkePersonen_5': 3323349, 'InBezitNatuurlijkePersonenRelatief_6': 397, 'TotaalBedrijfsvoertuigen_7': 895738, 'TotaalBedrijfsmotorvoertuigen_8': 474642, 'TotaalAanhangwagensEnOpleggers_9': 421096, 'TotaalBedrijfsmotorvoertuigen_10': 474642, 'Bestelauto_11': 394589, 'VrachtautoExclTrekkerVoorOplegger_12': 23610, 'TrekkerVoorOplegger_13': 30689, 'SpeciaalVoertuig_14': 21011, 'Bus_15': 4743, 'TotaalAanhangwagensEnOpleggers_16': 421096, 'Aanhangwagen_17': 351942, 'Oplegger_18': 69154, 'TotaalMotorfietsen_19': 281755, 'MotorfietsenRelatief_20': 34}, {'ID': 24, 'RegioS': 'LD03  ', 'Perioden': '2022JJ00', 'TotaalWegvoertuigen_1': 5053249, 'TotaalMotorvoertuigen_2': 4621605, 'TotaalPersonenautoS_3': 3848599, 'PersonenautoSRelatief_4': 457, 'InBezitNatuurlijkePersonen_5': 3371983, 'InBezitNatuurlijkePersonenRelatief_6': 400, 'TotaalBedrijfsvoertuigen_7': 919426, 'TotaalBedrijfsmotorvoertuigen_8': 487782, 'TotaalAanhangwagensEnOpleggers_9': 431644, 'TotaalBedrijfsmotorvoertuigen_10': 487782, 'Bestelauto_11': 407179, 'VrachtautoExclTrekkerVoorOplegger_12': 23467, 'TrekkerVoorOplegger_13': 31697, 'SpeciaalVoertuig_14': 20949, 'Bus_15': 4490, 'TotaalAanhangwagensEnOpleggers_16': 431644, 'Aanhangwagen_17': 357130, 'Oplegger_18': 74514, 'TotaalMotorfietsen_19': 285224, 'MotorfietsenRelatief_20': 34}, {'ID': 25, 'RegioS': 'LD03  ', 'Perioden': '2023JJ00', 'TotaalWegvoertuigen_1': 5116505, 'TotaalMotorvoertuigen_2': 4676564, 'TotaalPersonenautoS_3': 3890006, 'PersonenautoSRelatief_4': 456, 'InBezitNatuurlijkePersonen_5': 3384174, 'InBezitNatuurlijkePersonenRelatief_6': 396, 'TotaalBedrijfsvoertuigen_7': 937089, 'TotaalBedrijfsmotorvoertuigen_8': 497148, 'TotaalAanhangwagensEnOpleggers_9': 439941, 'TotaalBedrijfsmotorvoertuigen_10': 497148, 'Bestelauto_11': 414825, 'VrachtautoExclTrekkerVoorOplegger_12': 23393, 'TrekkerVoorOplegger_13': 33203, 'SpeciaalVoertuig_14': 20914, 'Bus_15': 4813, 'TotaalAanhangwagensEnOpleggers_16': 439941, 'Aanhangwagen_17': 361541, 'Oplegger_18': 78400, 'TotaalMotorfietsen_19': 289410, 'MotorfietsenRelatief_20': 34}, {'ID': 26, 'RegioS': 'LD03  ', 'Perioden': '2024JJ00', 'TotaalWegvoertuigen_1': 5185552, 'TotaalMotorvoertuigen_2': 4744501, 'TotaalPersonenautoS_3': 3947927, 'PersonenautoSRelatief_4': 459, 'InBezitNatuurlijkePersonen_5': 3422760, 'InBezitNatuurlijkePersonenRelatief_6': 398, 'TotaalBedrijfsvoertuigen_7': 943614, 'TotaalBedrijfsmotorvoertuigen_8': 502563, 'TotaalAanhangwagensEnOpleggers_9': 441051, 'TotaalBedrijfsmotorvoertuigen_10': 502563, 'Bestelauto_11': 419692, 'VrachtautoExclTrekkerVoorOplegger_12': 23940, 'TrekkerVoorOplegger_13': 33567, 'SpeciaalVoertuig_14': 20614, 'Bus_15': 4750, 'TotaalAanhangwagensEnOpleggers_16': 441051, 'Aanhangwagen_17': 362307, 'Oplegger_18': 78744, 'TotaalMotorfietsen_19': 294011, 'MotorfietsenRelatief_20': 34}, {'ID': 27, 'RegioS': 'LD03  ', 'Perioden': '2025JJ00', 'TotaalWegvoertuigen_1': 5248419, 'TotaalMotorvoertuigen_2': 4804577, 'TotaalPersonenautoS_3': 3989769, 'PersonenautoSRelatief_4': 461, 'InBezitNatuurlijkePersonen_5': 3490995, 'InBezitNatuurlijkePersonenRelatief_6': 403, 'TotaalBedrijfsvoertuigen_7': 957774, 'TotaalBedrijfsmotorvoertuigen_8': 513932, 'TotaalAanhangwagensEnOpleggers_9': 443842, 'TotaalBedrijfsmotorvoertuigen_10': 513932, 'Bestelauto_11': 429618, 'VrachtautoExclTrekkerVoorOplegger_12': 24500, 'TrekkerVoorOplegger_13': 34329, 'SpeciaalVoertuig_14': 20309, 'Bus_15': 5176, 'TotaalAanhangwagensEnOpleggers_16': 443842, 'Aanhangwagen_17': 366041, 'Oplegger_18': 77801, 'TotaalMotorfietsen_19': 300876, 'MotorfietsenRelatief_20': 35}, {'ID': 28, 'RegioS': 'LD04  ', 'Perioden': '2019JJ00', 'TotaalWegvoertuigen_1': 2643163, 'TotaalMotorvoertuigen_2': 2353095, 'TotaalPersonenautoS_3': 1955273, 'PersonenautoSRelatief_4': 534, 'InBezitNatuurlijkePersonen_5': 1767605, 'InBezitNatuurlijkePersonenRelatief_6': 483, 'TotaalBedrijfsvoertuigen_7': 543180, 'TotaalBedrijfsmotorvoertuigen_8': 253112, 'TotaalAanhangwagensEnOpleggers_9': 290068, 'TotaalBedrijfsmotorvoertuigen_10': 253112, 'Bestelauto_11': 200706, 'VrachtautoExclTrekkerVoorOplegger_12': 16110, 'TrekkerVoorOplegger_13': 21172, 'SpeciaalVoertuig_14': 14223, 'Bus_15': 901, 'TotaalAanhangwagensEnOpleggers_16': 290068, 'Aanhangwagen_17': 239604, 'Oplegger_18': 50464, 'TotaalMotorfietsen_19': 144710, 'MotorfietsenRelatief_20': 40}, {'ID': 29, 'RegioS': 'LD04  ', 'Perioden': '2020JJ00', 'TotaalWegvoertuigen_1': 2686023, 'TotaalMotorvoertuigen_2': 2390447, 'TotaalPersonenautoS_3': 1985381, 'PersonenautoSRelatief_4': 539, 'InBezitNatuurlijkePersonen_5': 1789262, 'InBezitNatuurlijkePersonenRelatief_6': 486, 'TotaalBedrijfsvoertuigen_7': 554525, 'TotaalBedrijfsmotorvoertuigen_8': 258949, 'TotaalAanhangwagensEnOpleggers_9': 295576, 'TotaalBedrijfsmotorvoertuigen_10': 258949, 'Bestelauto_11': 206691, 'VrachtautoExclTrekkerVoorOplegger_12': 16077, 'TrekkerVoorOplegger_13': 21230, 'SpeciaalVoertuig_14': 14065, 'Bus_15': 886, 'TotaalAanhangwagensEnOpleggers_16': 295576, 'Aanhangwagen_17': 243926, 'Oplegger_18': 51650, 'TotaalMotorfietsen_19': 146117, 'MotorfietsenRelatief_20': 40}, {'ID': 30, 'RegioS': 'LD04  ', 'Perioden': '2021JJ00', 'TotaalWegvoertuigen_1': 2714976, 'TotaalMotorvoertuigen_2': 2417738, 'TotaalPersonenautoS_3': 2006217, 'PersonenautoSRelatief_4': 544, 'InBezitNatuurlijkePersonen_5': 1815350, 'InBezitNatuurlijkePersonenRelatief_6': 492, 'TotaalBedrijfsvoertuigen_7': 560078, 'TotaalBedrijfsmotorvoertuigen_8': 262840, 'TotaalAanhangwagensEnOpleggers_9': 297238, 'TotaalBedrijfsmotorvoertuigen_10': 262840, 'Bestelauto_11': 211059, 'VrachtautoExclTrekkerVoorOplegger_12': 15930, 'TrekkerVoorOplegger_13': 21049, 'SpeciaalVoertuig_14': 13960, 'Bus_15': 842, 'TotaalAanhangwagensEnOpleggers_16': 297238, 'Aanhangwagen_17': 245869, 'Oplegger_18': 51369, 'TotaalMotorfietsen_19': 148681, 'MotorfietsenRelatief_20': 40}, {'ID': 31, 'RegioS': 'LD04  ', 'Perioden': '2022JJ00', 'TotaalWegvoertuigen_1': 2759842, 'TotaalMotorvoertuigen_2': 2454879, 'TotaalPersonenautoS_3': 2033299, 'PersonenautoSRelatief_4': 548, 'InBezitNatuurlijkePersonen_5': 1839930, 'InBezitNatuurlijkePersonenRelatief_6': 496, 'TotaalBedrijfsvoertuigen_7': 574957, 'TotaalBedrijfsmotorvoertuigen_8': 269994, 'TotaalAanhangwagensEnOpleggers_9': 304963, 'TotaalBedrijfsmotorvoertuigen_10': 269994, 'Bestelauto_11': 217781, 'VrachtautoExclTrekkerVoorOplegger_12': 15996, 'TrekkerVoorOplegger_13': 21573, 'SpeciaalVoertuig_14': 13859, 'Bus_15': 785, 'TotaalAanhangwagensEnOpleggers_16': 304963, 'Aanhangwagen_17': 251943, 'Oplegger_18': 53020, 'TotaalMotorfietsen_19': 151586, 'MotorfietsenRelatief_20': 41}, {'ID': 32, 'RegioS': 'LD04  ', 'Perioden': '2023JJ00', 'TotaalWegvoertuigen_1': 2796324, 'TotaalMotorvoertuigen_2': 2484002, 'TotaalPersonenautoS_3': 2055195, 'PersonenautoSRelatief_4': 547, 'InBezitNatuurlijkePersonen_5': 1848105, 'InBezitNatuurlijkePersonenRelatief_6': 492, 'TotaalBedrijfsvoertuigen_7': 586267, 'TotaalBedrijfsmotorvoertuigen_8': 273945, 'TotaalAanhangwagensEnOpleggers_9': 312322, 'TotaalBedrijfsmotorvoertuigen_10': 273945, 'Bestelauto_11': 221238, 'VrachtautoExclTrekkerVoorOplegger_12': 15857, 'TrekkerVoorOplegger_13': 22293, 'SpeciaalVoertuig_14': 13709, 'Bus_15': 848, 'TotaalAanhangwagensEnOpleggers_16': 312322, 'Aanhangwagen_17': 256871, 'Oplegger_18': 55451, 'TotaalMotorfietsen_19': 154862, 'MotorfietsenRelatief_20': 41}, {'ID': 33, 'RegioS': 'LD04  ', 'Perioden': '2024JJ00', 'TotaalWegvoertuigen_1': 2835276, 'TotaalMotorvoertuigen_2': 2519663, 'TotaalPersonenautoS_3': 2084422, 'PersonenautoSRelatief_4': 552, 'InBezitNatuurlijkePersonen_5': 1871020, 'InBezitNatuurlijkePersonenRelatief_6': 495, 'TotaalBedrijfsvoertuigen_7': 593336, 'TotaalBedrijfsmotorvoertuigen_8': 277723, 'TotaalAanhangwagensEnOpleggers_9': 315613, 'TotaalBedrijfsmotorvoertuigen_10': 277723, 'Bestelauto_11': 224984, 'VrachtautoExclTrekkerVoorOplegger_12': 15818, 'TrekkerVoorOplegger_13': 22517, 'SpeciaalVoertuig_14': 13549, 'Bus_15': 855, 'TotaalAanhangwagensEnOpleggers_16': 315613, 'Aanhangwagen_17': 258874, 'Oplegger_18': 56739, 'TotaalMotorfietsen_19': 157518, 'MotorfietsenRelatief_20': 42}, {'ID': 34, 'RegioS': 'LD04  ', 'Perioden': '2025JJ00', 'TotaalWegvoertuigen_1': 2892042, 'TotaalMotorvoertuigen_2': 2571165, 'TotaalPersonenautoS_3': 2122622, 'PersonenautoSRelatief_4': 559, 'InBezitNatuurlijkePersonen_5': 1906494, 'InBezitNatuurlijkePersonenRelatief_6': 502, 'TotaalBedrijfsvoertuigen_7': 608362, 'TotaalBedrijfsmotorvoertuigen_8': 287485, 'TotaalAanhangwagensEnOpleggers_9': 320877, 'TotaalBedrijfsmotorvoertuigen_10': 287485, 'Bestelauto_11': 234201, 'VrachtautoExclTrekkerVoorOplegger_12': 16389, 'TrekkerVoorOplegger_13': 22599, 'SpeciaalVoertuig_14': 13419, 'Bus_15': 877, 'TotaalAanhangwagensEnOpleggers_16': 320877, 'Aanhangwagen_17': 263223, 'Oplegger_18': 57654, 'TotaalMotorfietsen_19': 161058, 'MotorfietsenRelatief_20': 42}, {'ID': 35, 'RegioS': 'PV20  ', 'Perioden': '2019JJ00', 'TotaalWegvoertuigen_1': 384586, 'TotaalMotorvoertuigen_2': 337248, 'TotaalPersonenautoS_3': 274777, 'PersonenautoSRelatief_4': 471, 'InBezitNatuurlijkePersonen_5': 251789, 'InBezitNatuurlijkePersonenRelatief_6': 431, 'TotaalBedrijfsvoertuigen_7': 84948, 'TotaalBedrijfsmotorvoertuigen_8': 37610, 'TotaalAanhangwagensEnOpleggers_9': 47338, 'TotaalBedrijfsmotorvoertuigen_10': 37610, 'Bestelauto_11': 31359, 'VrachtautoExclTrekkerVoorOplegger_12': 1588, 'TrekkerVoorOplegger_13': 1940, 'SpeciaalVoertuig_14': 2624, 'Bus_15': 99, 'TotaalAanhangwagensEnOpleggers_16': 47338, 'Aanhangwagen_17': 44354, 'Oplegger_18': 2984, 'TotaalMotorfietsen_19': 24861, 'MotorfietsenRelatief_20': 43}, {'ID': 36, 'RegioS': 'PV20  ', 'Perioden': '2020JJ00', 'TotaalWegvoertuigen_1': 391093, 'TotaalMotorvoertuigen_2': 342992, 'TotaalPersonenautoS_3': 279281, 'PersonenautoSRelatief_4': 477, 'InBezitNatuurlijkePersonen_5': 255316, 'InBezitNatuurlijkePersonenRelatief_6': 436, 'TotaalBedrijfsvoertuigen_7': 86757, 'TotaalBedrijfsmotorvoertuigen_8': 38656, 'TotaalAanhangwagensEnOpleggers_9': 48101, 'TotaalBedrijfsmotorvoertuigen_10': 38656, 'Bestelauto_11': 32179, 'VrachtautoExclTrekkerVoorOplegger_12': 1582, 'TrekkerVoorOplegger_13': 1970, 'SpeciaalVoertuig_14': 2634, 'Bus_15': 291, 'TotaalAanhangwagensEnOpleggers_16': 48101, 'Aanhangwagen_17': 45012, 'Oplegger_18': 3089, 'TotaalMotorfietsen_19': 25055, 'MotorfietsenRelatief_20': 43}, {'ID': 37, 'RegioS': 'PV20  ', 'Perioden': '2021JJ00', 'TotaalWegvoertuigen_1': 398267, 'TotaalMotorvoertuigen_2': 349476, 'TotaalPersonenautoS_3': 284050, 'PersonenautoSRelatief_4': 484, 'InBezitNatuurlijkePersonen_5': 260707, 'InBezitNatuurlijkePersonenRelatief_6': 444, 'TotaalBedrijfsvoertuigen_7': 88552, 'TotaalBedrijfsmotorvoertuigen_8': 39761, 'TotaalAanhangwagensEnOpleggers_9': 48791, 'TotaalBedrijfsmotorvoertuigen_10': 39761, 'Bestelauto_11': 33225, 'VrachtautoExclTrekkerVoorOplegger_12': 1591, 'TrekkerVoorOplegger_13': 1977, 'SpeciaalVoertuig_14': 2625, 'Bus_15': 343, 'TotaalAanhangwagensEnOpleggers_16': 48791, 'Aanhangwagen_17': 45677, 'Oplegger_18': 3114, 'TotaalMotorfietsen_19': 25665, 'MotorfietsenRelatief_20': 44}, {'ID': 38, 'RegioS': 'PV20  ', 'Perioden': '2022JJ00', 'TotaalWegvoertuigen_1': 406386, 'TotaalMotorvoertuigen_2': 356506, 'TotaalPersonenautoS_3': 289536, 'PersonenautoSRelatief_4': 491, 'InBezitNatuurlijkePersonen_5': 265561, 'InBezitNatuurlijkePersonenRelatief_6': 450, 'TotaalBedrijfsvoertuigen_7': 90573, 'TotaalBedrijfsmotorvoertuigen_8': 40693, 'TotaalAanhangwagensEnOpleggers_9': 49880, 'TotaalBedrijfsmotorvoertuigen_10': 40693, 'Bestelauto_11': 34112, 'VrachtautoExclTrekkerVoorOplegger_12': 1611, 'TrekkerVoorOplegger_13': 2008, 'SpeciaalVoertuig_14': 2616, 'Bus_15': 346, 'TotaalAanhangwagensEnOpleggers_16': 49880, 'Aanhangwagen_17': 46662, 'Oplegger_18': 3218, 'TotaalMotorfietsen_19': 26277, 'MotorfietsenRelatief_20': 45}, {'ID': 39, 'RegioS': 'PV20  ', 'Perioden': '2023JJ00', 'TotaalWegvoertuigen_1': 411943, 'TotaalMotorvoertuigen_2': 360941, 'TotaalPersonenautoS_3': 292582, 'PersonenautoSRelatief_4': 491, 'InBezitNatuurlijkePersonen_5': 267111, 'InBezitNatuurlijkePersonenRelatief_6': 448, 'TotaalBedrijfsvoertuigen_7': 92384, 'TotaalBedrijfsmotorvoertuigen_8': 41382, 'TotaalAanhangwagensEnOpleggers_9': 51002, 'TotaalBedrijfsmotorvoertuigen_10': 41382, 'Bestelauto_11': 34680, 'VrachtautoExclTrekkerVoorOplegger_12': 1660, 'TrekkerVoorOplegger_13': 2105, 'SpeciaalVoertuig_14': 2565, 'Bus_15': 372, 'TotaalAanhangwagensEnOpleggers_16': 51002, 'Aanhangwagen_17': 47653, 'Oplegger_18': 3349, 'TotaalMotorfietsen_19': 26977, 'MotorfietsenRelatief_20': 45}, {'ID': 40, 'RegioS': 'PV20  ', 'Perioden': '2024JJ00', 'TotaalWegvoertuigen_1': 419548, 'TotaalMotorvoertuigen_2': 367859, 'TotaalPersonenautoS_3': 297952, 'PersonenautoSRelatief_4': 495, 'InBezitNatuurlijkePersonen_5': 270559, 'InBezitNatuurlijkePersonenRelatief_6': 450, 'TotaalBedrijfsvoertuigen_7': 94058, 'TotaalBedrijfsmotorvoertuigen_8': 42369, 'TotaalAanhangwagensEnOpleggers_9': 51689, 'TotaalBedrijfsmotorvoertuigen_10': 42369, 'Bestelauto_11': 35592, 'VrachtautoExclTrekkerVoorOplegger_12': 1716, 'TrekkerVoorOplegger_13': 2169, 'SpeciaalVoertuig_14': 2512, 'Bus_15': 380, 'TotaalAanhangwagensEnOpleggers_16': 51689, 'Aanhangwagen_17': 48247, 'Oplegger_18': 3442, 'TotaalMotorfietsen_19': 27538, 'MotorfietsenRelatief_20': 46}, {'ID': 41, 'RegioS': 'PV20  ', 'Perioden': '2025JJ00', 'TotaalWegvoertuigen_1': 430838, 'TotaalMotorvoertuigen_2': 378051, 'TotaalPersonenautoS_3': 305391, 'PersonenautoSRelatief_4': 507, 'InBezitNatuurlijkePersonen_5': 276699, 'InBezitNatuurlijkePersonenRelatief_6': 459, 'TotaalBedrijfsvoertuigen_7': 97219, 'TotaalBedrijfsmotorvoertuigen_8': 44432, 'TotaalAanhangwagensEnOpleggers_9': 52787, 'TotaalBedrijfsmotorvoertuigen_10': 44432, 'Bestelauto_11': 37387, 'VrachtautoExclTrekkerVoorOplegger_12': 1751, 'TrekkerVoorOplegger_13': 2191, 'SpeciaalVoertuig_14': 2463, 'Bus_15': 640, 'TotaalAanhangwagensEnOpleggers_16': 52787, 'Aanhangwagen_17': 49300, 'Oplegger_18': 3487, 'TotaalMotorfietsen_19': 28228, 'MotorfietsenRelatief_20': 47}, {'ID': 42, 'RegioS': 'PV21  ', 'Perioden': '2019JJ00', 'TotaalWegvoertuigen_1': 473970, 'TotaalMotorvoertuigen_2': 409921, 'TotaalPersonenautoS_3': 325142, 'PersonenautoSRelatief_4': 502, 'InBezitNatuurlijkePersonen_5': 307068, 'InBezitNatuurlijkePersonenRelatief_6': 474, 'TotaalBedrijfsvoertuigen_7': 118935, 'TotaalBedrijfsmotorvoertuigen_8': 54886, 'TotaalAanhangwagensEnOpleggers_9': 64049, 'TotaalBedrijfsmotorvoertuigen_10': 54886, 'Bestelauto_11': 44037, 'VrachtautoExclTrekkerVoorOplegger_12': 2803, 'TrekkerVoorOplegger_13': 3211, 'SpeciaalVoertuig_14': 3369, 'Bus_15': 1466, 'TotaalAanhangwagensEnOpleggers_16': 64049, 'Aanhangwagen_17': 59499, 'Oplegger_18': 4550, 'TotaalMotorfietsen_19': 29893, 'MotorfietsenRelatief_20': 46}, {'ID': 43, 'RegioS': 'PV21  ', 'Perioden': '2020JJ00', 'TotaalWegvoertuigen_1': 483165, 'TotaalMotorvoertuigen_2': 417776, 'TotaalPersonenautoS_3': 331325, 'PersonenautoSRelatief_4': 510, 'InBezitNatuurlijkePersonen_5': 311807, 'InBezitNatuurlijkePersonenRelatief_6': 480, 'TotaalBedrijfsvoertuigen_7': 121611, 'TotaalBedrijfsmotorvoertuigen_8': 56222, 'TotaalAanhangwagensEnOpleggers_9': 65389, 'TotaalBedrijfsmotorvoertuigen_10': 56222, 'Bestelauto_11': 45373, 'VrachtautoExclTrekkerVoorOplegger_12': 2848, 'TrekkerVoorOplegger_13': 3270, 'SpeciaalVoertuig_14': 3336, 'Bus_15': 1395, 'TotaalAanhangwagensEnOpleggers_16': 65389, 'Aanhangwagen_17': 60681, 'Oplegger_18': 4708, 'TotaalMotorfietsen_19': 30229, 'MotorfietsenRelatief_20': 47}, {'ID': 44, 'RegioS': 'PV21  ', 'Perioden': '2021JJ00', 'TotaalWegvoertuigen_1': 491139, 'TotaalMotorvoertuigen_2': 424783, 'TotaalPersonenautoS_3': 336818, 'PersonenautoSRelatief_4': 517, 'InBezitNatuurlijkePersonen_5': 317251, 'InBezitNatuurlijkePersonenRelatief_6': 487, 'TotaalBedrijfsvoertuigen_7': 123619, 'TotaalBedrijfsmotorvoertuigen_8': 57263, 'TotaalAanhangwagensEnOpleggers_9': 66356, 'TotaalBedrijfsmotorvoertuigen_10': 57263, 'Bestelauto_11': 46593, 'VrachtautoExclTrekkerVoorOplegger_12': 2769, 'TrekkerVoorOplegger_13': 3252, 'SpeciaalVoertuig_14': 3287, 'Bus_15': 1362, 'TotaalAanhangwagensEnOpleggers_16': 66356, 'Aanhangwagen_17': 61454, 'Oplegger_18': 4902, 'TotaalMotorfietsen_19': 30702, 'MotorfietsenRelatief_20': 47}, {'ID': 45, 'RegioS': 'PV21  ', 'Perioden': '2022JJ00', 'TotaalWegvoertuigen_1': 501889, 'TotaalMotorvoertuigen_2': 433558, 'TotaalPersonenautoS_3': 343211, 'PersonenautoSRelatief_4': 525, 'InBezitNatuurlijkePersonen_5': 322604, 'InBezitNatuurlijkePersonenRelatief_6': 493, 'TotaalBedrijfsvoertuigen_7': 127400, 'TotaalBedrijfsmotorvoertuigen_8': 59069, 'TotaalAanhangwagensEnOpleggers_9': 68331, 'TotaalBedrijfsmotorvoertuigen_10': 59069, 'Bestelauto_11': 48340, 'VrachtautoExclTrekkerVoorOplegger_12': 2789, 'TrekkerVoorOplegger_13': 3398, 'SpeciaalVoertuig_14': 3234, 'Bus_15': 1308, 'TotaalAanhangwagensEnOpleggers_16': 68331, 'Aanhangwagen_17': 63167, 'Oplegger_18': 5164, 'TotaalMotorfietsen_19': 31278, 'MotorfietsenRelatief_20': 48}, {'ID': 46, 'RegioS': 'PV21  ', 'Perioden': '2023JJ00', 'TotaalWegvoertuigen_1': 509552, 'TotaalMotorvoertuigen_2': 439394, 'TotaalPersonenautoS_3': 347242, 'PersonenautoSRelatief_4': 526, 'InBezitNatuurlijkePersonen_5': 325308, 'InBezitNatuurlijkePersonenRelatief_6': 493, 'TotaalBedrijfsvoertuigen_7': 130185, 'TotaalBedrijfsmotorvoertuigen_8': 60027, 'TotaalAanhangwagensEnOpleggers_9': 70158, 'TotaalBedrijfsmotorvoertuigen_10': 60027, 'Bestelauto_11': 49150, 'VrachtautoExclTrekkerVoorOplegger_12': 2816, 'TrekkerVoorOplegger_13': 3521, 'SpeciaalVoertuig_14': 3230, 'Bus_15': 1310, 'TotaalAanhangwagensEnOpleggers_16': 70158, 'Aanhangwagen_17': 64727, 'Oplegger_18': 5431, 'TotaalMotorfietsen_19': 32125, 'MotorfietsenRelatief_20': 49}, {'ID': 47, 'RegioS': 'PV21  ', 'Perioden': '2024JJ00', 'TotaalWegvoertuigen_1': 519292, 'TotaalMotorvoertuigen_2': 447813, 'TotaalPersonenautoS_3': 353630, 'PersonenautoSRelatief_4': 534, 'InBezitNatuurlijkePersonen_5': 330842, 'InBezitNatuurlijkePersonenRelatief_6': 500, 'TotaalBedrijfsvoertuigen_7': 132752, 'TotaalBedrijfsmotorvoertuigen_8': 61273, 'TotaalAanhangwagensEnOpleggers_9': 71479, 'TotaalBedrijfsmotorvoertuigen_10': 61273, 'Bestelauto_11': 50198, 'VrachtautoExclTrekkerVoorOplegger_12': 2851, 'TrekkerVoorOplegger_13': 3519, 'SpeciaalVoertuig_14': 3285, 'Bus_15': 1420, 'TotaalAanhangwagensEnOpleggers_16': 71479, 'Aanhangwagen_17': 65905, 'Oplegger_18': 5574, 'TotaalMotorfietsen_19': 32910, 'MotorfietsenRelatief_20': 50}, {'ID': 48, 'RegioS': 'PV21  ', 'Perioden': '2025JJ00', 'TotaalWegvoertuigen_1': 532561, 'TotaalMotorvoertuigen_2': 459441, 'TotaalPersonenautoS_3': 361837, 'PersonenautoSRelatief_4': 545, 'InBezitNatuurlijkePersonen_5': 338646, 'InBezitNatuurlijkePersonenRelatief_6': 510, 'TotaalBedrijfsvoertuigen_7': 136896, 'TotaalBedrijfsmotorvoertuigen_8': 63776, 'TotaalAanhangwagensEnOpleggers_9': 73120, 'TotaalBedrijfsmotorvoertuigen_10': 63776, 'Bestelauto_11': 52783, 'VrachtautoExclTrekkerVoorOplegger_12': 2919, 'TrekkerVoorOplegger_13': 3548, 'SpeciaalVoertuig_14': 3268, 'Bus_15': 1258, 'TotaalAanhangwagensEnOpleggers_16': 73120, 'Aanhangwagen_17': 67559, 'Oplegger_18': 5561, 'TotaalMotorfietsen_19': 33828, 'MotorfietsenRelatief_20': 51}, {'ID': 49, 'RegioS': 'PV22  ', 'Perioden': '2019JJ00', 'TotaalWegvoertuigen_1': 376849, 'TotaalMotorvoertuigen_2': 323941, 'TotaalPersonenautoS_3': 262055, 'PersonenautoSRelatief_4': 532, 'InBezitNatuurlijkePersonen_5': 248767, 'InBezitNatuurlijkePersonenRelatief_6': 505, 'TotaalBedrijfsvoertuigen_7': 89018, 'TotaalBedrijfsmotorvoertuigen_8': 36110, 'TotaalAanhangwagensEnOpleggers_9': 52908, 'TotaalBedrijfsmotorvoertuigen_10': 36110, 'Bestelauto_11': 29778, 'VrachtautoExclTrekkerVoorOplegger_12': 1607, 'TrekkerVoorOplegger_13': 2369, 'SpeciaalVoertuig_14': 2212, 'Bus_15': 144, 'TotaalAanhangwagensEnOpleggers_16': 52908, 'Aanhangwagen_17': 49453, 'Oplegger_18': 3455, 'TotaalMotorfietsen_19': 25776, 'MotorfietsenRelatief_20': 52}, {'ID': 50, 'RegioS': 'PV22  ', 'Perioden': '2020JJ00', 'TotaalWegvoertuigen_1': 383797, 'TotaalMotorvoertuigen_2': 330041, 'TotaalPersonenautoS_3': 267060, 'PersonenautoSRelatief_4': 541, 'InBezitNatuurlijkePersonen_5': 252739, 'InBezitNatuurlijkePersonenRelatief_6': 512, 'TotaalBedrijfsvoertuigen_7': 90662, 'TotaalBedrijfsmotorvoertuigen_8': 36906, 'TotaalAanhangwagensEnOpleggers_9': 53756, 'TotaalBedrijfsmotorvoertuigen_10': 36906, 'Bestelauto_11': 30533, 'VrachtautoExclTrekkerVoorOplegger_12': 1632, 'TrekkerVoorOplegger_13': 2400, 'SpeciaalVoertuig_14': 2200, 'Bus_15': 141, 'TotaalAanhangwagensEnOpleggers_16': 53756, 'Aanhangwagen_17': 50228, 'Oplegger_18': 3528, 'TotaalMotorfietsen_19': 26075, 'MotorfietsenRelatief_20': 53}, {'ID': 51, 'RegioS': 'PV22  ', 'Perioden': '2021JJ00', 'TotaalWegvoertuigen_1': 390489, 'TotaalMotorvoertuigen_2': 336292, 'TotaalPersonenautoS_3': 271922, 'PersonenautoSRelatief_4': 550, 'InBezitNatuurlijkePersonen_5': 256710, 'InBezitNatuurlijkePersonenRelatief_6': 519, 'TotaalBedrijfsvoertuigen_7': 91850, 'TotaalBedrijfsmotorvoertuigen_8': 37653, 'TotaalAanhangwagensEnOpleggers_9': 54197, 'TotaalBedrijfsmotorvoertuigen_10': 37653, 'Bestelauto_11': 31341, 'VrachtautoExclTrekkerVoorOplegger_12': 1601, 'TrekkerVoorOplegger_13': 2411, 'SpeciaalVoertuig_14': 2206, 'Bus_15': 94, 'TotaalAanhangwagensEnOpleggers_16': 54197, 'Aanhangwagen_17': 50604, 'Oplegger_18': 3593, 'TotaalMotorfietsen_19': 26717, 'MotorfietsenRelatief_20': 54}, {'ID': 52, 'RegioS': 'PV22  ', 'Perioden': '2022JJ00', 'TotaalWegvoertuigen_1': 397753, 'TotaalMotorvoertuigen_2': 342328, 'TotaalPersonenautoS_3': 276555, 'PersonenautoSRelatief_4': 556, 'InBezitNatuurlijkePersonen_5': 260955, 'InBezitNatuurlijkePersonenRelatief_6': 524, 'TotaalBedrijfsvoertuigen_7': 93940, 'TotaalBedrijfsmotorvoertuigen_8': 38515, 'TotaalAanhangwagensEnOpleggers_9': 55425, 'TotaalBedrijfsmotorvoertuigen_10': 38515, 'Bestelauto_11': 32180, 'VrachtautoExclTrekkerVoorOplegger_12': 1632, 'TrekkerVoorOplegger_13': 2435, 'SpeciaalVoertuig_14': 2168, 'Bus_15': 100, 'TotaalAanhangwagensEnOpleggers_16': 55425, 'Aanhangwagen_17': 51631, 'Oplegger_18': 3794, 'TotaalMotorfietsen_19': 27258, 'MotorfietsenRelatief_20': 55}, {'ID': 53, 'RegioS': 'PV22  ', 'Perioden': '2023JJ00', 'TotaalWegvoertuigen_1': 402335, 'TotaalMotorvoertuigen_2': 345770, 'TotaalPersonenautoS_3': 279019, 'PersonenautoSRelatief_4': 556, 'InBezitNatuurlijkePersonen_5': 262510, 'InBezitNatuurlijkePersonenRelatief_6': 523, 'TotaalBedrijfsvoertuigen_7': 95462, 'TotaalBedrijfsmotorvoertuigen_8': 38897, 'TotaalAanhangwagensEnOpleggers_9': 56565, 'TotaalBedrijfsmotorvoertuigen_10': 38897, 'Bestelauto_11': 32412, 'VrachtautoExclTrekkerVoorOplegger_12': 1639, 'TrekkerVoorOplegger_13': 2591, 'SpeciaalVoertuig_14': 2167, 'Bus_15': 88, 'TotaalAanhangwagensEnOpleggers_16': 56565, 'Aanhangwagen_17': 52587, 'Oplegger_18': 3978, 'TotaalMotorfietsen_19': 27854, 'MotorfietsenRelatief_20': 55}, {'ID': 54, 'RegioS': 'PV22  ', 'Perioden': '2024JJ00', 'TotaalWegvoertuigen_1': 409617, 'TotaalMotorvoertuigen_2': 351887, 'TotaalPersonenautoS_3': 283704, 'PersonenautoSRelatief_4': 563, 'InBezitNatuurlijkePersonen_5': 266735, 'InBezitNatuurlijkePersonenRelatief_6': 529, 'TotaalBedrijfsvoertuigen_7': 97407, 'TotaalBedrijfsmotorvoertuigen_8': 39677, 'TotaalAanhangwagensEnOpleggers_9': 57730, 'TotaalBedrijfsmotorvoertuigen_10': 39677, 'Bestelauto_11': 32983, 'VrachtautoExclTrekkerVoorOplegger_12': 1643, 'TrekkerVoorOplegger_13': 2777, 'SpeciaalVoertuig_14': 2176, 'Bus_15': 98, 'TotaalAanhangwagensEnOpleggers_16': 57730, 'Aanhangwagen_17': 53397, 'Oplegger_18': 4333, 'TotaalMotorfietsen_19': 28506, 'MotorfietsenRelatief_20': 57}, {'ID': 55, 'RegioS': 'PV22  ', 'Perioden': '2025JJ00', 'TotaalWegvoertuigen_1': 419292, 'TotaalMotorvoertuigen_2': 360121, 'TotaalPersonenautoS_3': 289474, 'PersonenautoSRelatief_4': 571, 'InBezitNatuurlijkePersonen_5': 272644, 'InBezitNatuurlijkePersonenRelatief_6': 538, 'TotaalBedrijfsvoertuigen_7': 100348, 'TotaalBedrijfsmotorvoertuigen_8': 41177, 'TotaalAanhangwagensEnOpleggers_9': 59171, 'TotaalBedrijfsmotorvoertuigen_10': 41177, 'Bestelauto_11': 34345, 'VrachtautoExclTrekkerVoorOplegger_12': 1676, 'TrekkerVoorOplegger_13': 2943, 'SpeciaalVoertuig_14': 2108, 'Bus_15': 105, 'TotaalAanhangwagensEnOpleggers_16': 59171, 'Aanhangwagen_17': 54633, 'Oplegger_18': 4538, 'TotaalMotorfietsen_19': 29470, 'MotorfietsenRelatief_20': 58}, {'ID': 56, 'RegioS': 'PV23  ', 'Perioden': '2019JJ00', 'TotaalWegvoertuigen_1': 806232, 'TotaalMotorvoertuigen_2': 699634, 'TotaalPersonenautoS_3': 570844, 'PersonenautoSRelatief_4': 494, 'InBezitNatuurlijkePersonen_5': 524123, 'InBezitNatuurlijkePersonenRelatief_6': 453, 'TotaalBedrijfsvoertuigen_7': 186249, 'TotaalBedrijfsmotorvoertuigen_8': 79651, 'TotaalAanhangwagensEnOpleggers_9': 106598, 'TotaalBedrijfsmotorvoertuigen_10': 79651, 'Bestelauto_11': 63481, 'VrachtautoExclTrekkerVoorOplegger_12': 4321, 'TrekkerVoorOplegger_13': 6430, 'SpeciaalVoertuig_14': 4286, 'Bus_15': 1133, 'TotaalAanhangwagensEnOpleggers_16': 106598, 'Aanhangwagen_17': 93527, 'Oplegger_18': 13071, 'TotaalMotorfietsen_19': 49139, 'MotorfietsenRelatief_20': 42}, {'ID': 57, 'RegioS': 'PV23  ', 'Perioden': '2020JJ00', 'TotaalWegvoertuigen_1': 820630, 'TotaalMotorvoertuigen_2': 711711, 'TotaalPersonenautoS_3': 580429, 'PersonenautoSRelatief_4': 499, 'InBezitNatuurlijkePersonen_5': 530611, 'InBezitNatuurlijkePersonenRelatief_6': 456, 'TotaalBedrijfsvoertuigen_7': 190535, 'TotaalBedrijfsmotorvoertuigen_8': 81616, 'TotaalAanhangwagensEnOpleggers_9': 108919, 'TotaalBedrijfsmotorvoertuigen_10': 81616, 'Bestelauto_11': 65343, 'VrachtautoExclTrekkerVoorOplegger_12': 4327, 'TrekkerVoorOplegger_13': 6591, 'SpeciaalVoertuig_14': 4231, 'Bus_15': 1124, 'TotaalAanhangwagensEnOpleggers_16': 108919, 'Aanhangwagen_17': 95249, 'Oplegger_18': 13670, 'TotaalMotorfietsen_19': 49666, 'MotorfietsenRelatief_20': 43}, {'ID': 58, 'RegioS': 'PV23  ', 'Perioden': '2021JJ00', 'TotaalWegvoertuigen_1': 835543, 'TotaalMotorvoertuigen_2': 725505, 'TotaalPersonenautoS_3': 589338, 'PersonenautoSRelatief_4': 505, 'InBezitNatuurlijkePersonen_5': 540612, 'InBezitNatuurlijkePersonenRelatief_6': 463, 'TotaalBedrijfsvoertuigen_7': 195449, 'TotaalBedrijfsmotorvoertuigen_8': 85411, 'TotaalAanhangwagensEnOpleggers_9': 110038, 'TotaalBedrijfsmotorvoertuigen_10': 85411, 'Bestelauto_11': 69029, 'VrachtautoExclTrekkerVoorOplegger_12': 4270, 'TrekkerVoorOplegger_13': 6675, 'SpeciaalVoertuig_14': 4215, 'Bus_15': 1222, 'TotaalAanhangwagensEnOpleggers_16': 110038, 'Aanhangwagen_17': 95742, 'Oplegger_18': 14296, 'TotaalMotorfietsen_19': 50756, 'MotorfietsenRelatief_20': 44}, {'ID': 59, 'RegioS': 'PV23  ', 'Perioden': '2022JJ00', 'TotaalWegvoertuigen_1': 853947, 'TotaalMotorvoertuigen_2': 741164, 'TotaalPersonenautoS_3': 601455, 'PersonenautoSRelatief_4': 513, 'InBezitNatuurlijkePersonen_5': 550306, 'InBezitNatuurlijkePersonenRelatief_6': 470, 'TotaalBedrijfsvoertuigen_7': 200593, 'TotaalBedrijfsmotorvoertuigen_8': 87810, 'TotaalAanhangwagensEnOpleggers_9': 112783, 'TotaalBedrijfsmotorvoertuigen_10': 87810, 'Bestelauto_11': 71319, 'VrachtautoExclTrekkerVoorOplegger_12': 4316, 'TrekkerVoorOplegger_13': 6880, 'SpeciaalVoertuig_14': 4227, 'Bus_15': 1068, 'TotaalAanhangwagensEnOpleggers_16': 112783, 'Aanhangwagen_17': 97753, 'Oplegger_18': 15030, 'TotaalMotorfietsen_19': 51899, 'MotorfietsenRelatief_20': 44}, {'ID': 60, 'RegioS': 'PV23  ', 'Perioden': '2023JJ00', 'TotaalWegvoertuigen_1': 864772, 'TotaalMotorvoertuigen_2': 749221, 'TotaalPersonenautoS_3': 607154, 'PersonenautoSRelatief_4': 513, 'InBezitNatuurlijkePersonen_5': 553856, 'InBezitNatuurlijkePersonenRelatief_6': 468, 'TotaalBedrijfsvoertuigen_7': 204523, 'TotaalBedrijfsmotorvoertuigen_8': 88972, 'TotaalAanhangwagensEnOpleggers_9': 115551, 'TotaalBedrijfsmotorvoertuigen_10': 88972, 'Bestelauto_11': 72482, 'VrachtautoExclTrekkerVoorOplegger_12': 4276, 'TrekkerVoorOplegger_13': 7184, 'SpeciaalVoertuig_14': 4174, 'Bus_15': 856, 'TotaalAanhangwagensEnOpleggers_16': 115551, 'Aanhangwagen_17': 99758, 'Oplegger_18': 15793, 'TotaalMotorfietsen_19': 53095, 'MotorfietsenRelatief_20': 45}, {'ID': 61, 'RegioS': 'PV23  ', 'Perioden': '2024JJ00', 'TotaalWegvoertuigen_1': 879472, 'TotaalMotorvoertuigen_2': 762766, 'TotaalPersonenautoS_3': 617947, 'PersonenautoSRelatief_4': 520, 'InBezitNatuurlijkePersonen_5': 562476, 'InBezitNatuurlijkePersonenRelatief_6': 473, 'TotaalBedrijfsvoertuigen_7': 207194, 'TotaalBedrijfsmotorvoertuigen_8': 90488, 'TotaalAanhangwagensEnOpleggers_9': 116706, 'TotaalBedrijfsmotorvoertuigen_10': 90488, 'Bestelauto_11': 74068, 'VrachtautoExclTrekkerVoorOplegger_12': 4326, 'TrekkerVoorOplegger_13': 7161, 'SpeciaalVoertuig_14': 4243, 'Bus_15': 690, 'TotaalAanhangwagensEnOpleggers_16': 116706, 'Aanhangwagen_17': 100765, 'Oplegger_18': 15941, 'TotaalMotorfietsen_19': 54331, 'MotorfietsenRelatief_20': 46}, {'ID': 62, 'RegioS': 'PV23  ', 'Perioden': '2025JJ00', 'TotaalWegvoertuigen_1': 901746, 'TotaalMotorvoertuigen_2': 782271, 'TotaalPersonenautoS_3': 632485, 'PersonenautoSRelatief_4': 529, 'InBezitNatuurlijkePersonen_5': 576430, 'InBezitNatuurlijkePersonenRelatief_6': 482, 'TotaalBedrijfsvoertuigen_7': 213530, 'TotaalBedrijfsmotorvoertuigen_8': 94055, 'TotaalAanhangwagensEnOpleggers_9': 119475, 'TotaalBedrijfsmotorvoertuigen_10': 94055, 'Bestelauto_11': 77499, 'VrachtautoExclTrekkerVoorOplegger_12': 4458, 'TrekkerVoorOplegger_13': 7252, 'SpeciaalVoertuig_14': 4152, 'Bus_15': 694, 'TotaalAanhangwagensEnOpleggers_16': 119475, 'Aanhangwagen_17': 103248, 'Oplegger_18': 16227, 'TotaalMotorfietsen_19': 55731, 'MotorfietsenRelatief_20': 47}, {'ID': 63, 'RegioS': 'PV24  ', 'Perioden': '2019JJ00', 'TotaalWegvoertuigen_1': 461775, 'TotaalMotorvoertuigen_2': 437606, 'TotaalPersonenautoS_3': 372423, 'PersonenautoSRelatief_4': 894, 'InBezitNatuurlijkePersonen_5': 172808, 'InBezitNatuurlijkePersonenRelatief_6': 415, 'TotaalBedrijfsvoertuigen_7': 74261, 'TotaalBedrijfsmotorvoertuigen_8': 50092, 'TotaalAanhangwagensEnOpleggers_9': 24169, 'TotaalBedrijfsmotorvoertuigen_10': 50092, 'Bestelauto_11': 46378, 'VrachtautoExclTrekkerVoorOplegger_12': 1162, 'TrekkerVoorOplegger_13': 1414, 'SpeciaalVoertuig_14': 1079, 'Bus_15': 59, 'TotaalAanhangwagensEnOpleggers_16': 24169, 'Aanhangwagen_17': 21810, 'Oplegger_18': 2359, 'TotaalMotorfietsen_19': 15091, 'MotorfietsenRelatief_20': 36}, {'ID': 64, 'RegioS': 'PV24  ', 'Perioden': '2020JJ00', 'TotaalWegvoertuigen_1': 466405, 'TotaalMotorvoertuigen_2': 441713, 'TotaalPersonenautoS_3': 377715, 'PersonenautoSRelatief_4': 893, 'InBezitNatuurlijkePersonen_5': 177066, 'InBezitNatuurlijkePersonenRelatief_6': 419, 'TotaalBedrijfsvoertuigen_7': 73559, 'TotaalBedrijfsmotorvoertuigen_8': 48867, 'TotaalAanhangwagensEnOpleggers_9': 24692, 'TotaalBedrijfsmotorvoertuigen_10': 48867, 'Bestelauto_11': 45089, 'VrachtautoExclTrekkerVoorOplegger_12': 1170, 'TrekkerVoorOplegger_13': 1482, 'SpeciaalVoertuig_14': 1071, 'Bus_15': 55, 'TotaalAanhangwagensEnOpleggers_16': 24692, 'Aanhangwagen_17': 22132, 'Oplegger_18': 2560, 'TotaalMotorfietsen_19': 15131, 'MotorfietsenRelatief_20': 36}, {'ID': 65, 'RegioS': 'PV24  ', 'Perioden': '2021JJ00', 'TotaalWegvoertuigen_1': 452738, 'TotaalMotorvoertuigen_2': 427961, 'TotaalPersonenautoS_3': 364462, 'PersonenautoSRelatief_4': 851, 'InBezitNatuurlijkePersonen_5': 182475, 'InBezitNatuurlijkePersonenRelatief_6': 426, 'TotaalBedrijfsvoertuigen_7': 72697, 'TotaalBedrijfsmotorvoertuigen_8': 47920, 'TotaalAanhangwagensEnOpleggers_9': 24777, 'TotaalBedrijfsmotorvoertuigen_10': 47920, 'Bestelauto_11': 44131, 'VrachtautoExclTrekkerVoorOplegger_12': 1175, 'TrekkerVoorOplegger_13': 1505, 'SpeciaalVoertuig_14': 1058, 'Bus_15': 51, 'TotaalAanhangwagensEnOpleggers_16': 24777, 'Aanhangwagen_17': 22186, 'Oplegger_18': 2591, 'TotaalMotorfietsen_19': 15579, 'MotorfietsenRelatief_20': 36}, {'ID': 66, 'RegioS': 'PV24  ', 'Perioden': '2022JJ00', 'TotaalWegvoertuigen_1': 452658, 'TotaalMotorvoertuigen_2': 427095, 'TotaalPersonenautoS_3': 363232, 'PersonenautoSRelatief_4': 835, 'InBezitNatuurlijkePersonen_5': 187926, 'InBezitNatuurlijkePersonenRelatief_6': 432, 'TotaalBedrijfsvoertuigen_7': 73579, 'TotaalBedrijfsmotorvoertuigen_8': 48016, 'TotaalAanhangwagensEnOpleggers_9': 25563, 'TotaalBedrijfsmotorvoertuigen_10': 48016, 'Bestelauto_11': 44157, 'VrachtautoExclTrekkerVoorOplegger_12': 1165, 'TrekkerVoorOplegger_13': 1611, 'SpeciaalVoertuig_14': 1030, 'Bus_15': 53, 'TotaalAanhangwagensEnOpleggers_16': 25563, 'Aanhangwagen_17': 22753, 'Oplegger_18': 2810, 'TotaalMotorfietsen_19': 15847, 'MotorfietsenRelatief_20': 36}, {'ID': 67, 'RegioS': 'PV24  ', 'Perioden': '2023JJ00', 'TotaalWegvoertuigen_1': 455231, 'TotaalMotorvoertuigen_2': 429053, 'TotaalPersonenautoS_3': 364785, 'PersonenautoSRelatief_4': 820, 'InBezitNatuurlijkePersonen_5': 190622, 'InBezitNatuurlijkePersonenRelatief_6': 429, 'TotaalBedrijfsvoertuigen_7': 74277, 'TotaalBedrijfsmotorvoertuigen_8': 48099, 'TotaalAanhangwagensEnOpleggers_9': 26178, 'TotaalBedrijfsmotorvoertuigen_10': 48099, 'Bestelauto_11': 44186, 'VrachtautoExclTrekkerVoorOplegger_12': 1156, 'TrekkerVoorOplegger_13': 1664, 'SpeciaalVoertuig_14': 1032, 'Bus_15': 61, 'TotaalAanhangwagensEnOpleggers_16': 26178, 'Aanhangwagen_17': 23239, 'Oplegger_18': 2939, 'TotaalMotorfietsen_19': 16169, 'MotorfietsenRelatief_20': 36}, {'ID': 68, 'RegioS': 'PV24  ', 'Perioden': '2024JJ00', 'TotaalWegvoertuigen_1': 466521, 'TotaalMotorvoertuigen_2': 440192, 'TotaalPersonenautoS_3': 374310, 'PersonenautoSRelatief_4': 830, 'InBezitNatuurlijkePersonen_5': 195238, 'InBezitNatuurlijkePersonenRelatief_6': 433, 'TotaalBedrijfsvoertuigen_7': 75741, 'TotaalBedrijfsmotorvoertuigen_8': 49412, 'TotaalAanhangwagensEnOpleggers_9': 26329, 'TotaalBedrijfsmotorvoertuigen_10': 49412, 'Bestelauto_11': 45445, 'VrachtautoExclTrekkerVoorOplegger_12': 1183, 'TrekkerVoorOplegger_13': 1652, 'SpeciaalVoertuig_14': 1061, 'Bus_15': 71, 'TotaalAanhangwagensEnOpleggers_16': 26329, 'Aanhangwagen_17': 23351, 'Oplegger_18': 2978, 'TotaalMotorfietsen_19': 16470, 'MotorfietsenRelatief_20': 37}, {'ID': 69, 'RegioS': 'PV24  ', 'Perioden': '2025JJ00', 'TotaalWegvoertuigen_1': 518446, 'TotaalMotorvoertuigen_2': 491558, 'TotaalPersonenautoS_3': 415274, 'PersonenautoSRelatief_4': 910, 'InBezitNatuurlijkePersonen_5': 201318, 'InBezitNatuurlijkePersonenRelatief_6': 441, 'TotaalBedrijfsvoertuigen_7': 86261, 'TotaalBedrijfsmotorvoertuigen_8': 59373, 'TotaalAanhangwagensEnOpleggers_9': 26888, 'TotaalBedrijfsmotorvoertuigen_10': 59373, 'Bestelauto_11': 55307, 'VrachtautoExclTrekkerVoorOplegger_12': 1199, 'TrekkerVoorOplegger_13': 1729, 'SpeciaalVoertuig_14': 1069, 'Bus_15': 69, 'TotaalAanhangwagensEnOpleggers_16': 26888, 'Aanhangwagen_17': 23736, 'Oplegger_18': 3152, 'TotaalMotorfietsen_19': 16911, 'MotorfietsenRelatief_20': 37}, {'ID': 70, 'RegioS': 'PV25  ', 'Perioden': '2019JJ00', 'TotaalWegvoertuigen_1': 1413898, 'TotaalMotorvoertuigen_2': 1242548, 'TotaalPersonenautoS_3': 1017700, 'PersonenautoSRelatief_4': 491, 'InBezitNatuurlijkePersonen_5': 953414, 'InBezitNatuurlijkePersonenRelatief_6': 460, 'TotaalBedrijfsvoertuigen_7': 312477, 'TotaalBedrijfsmotorvoertuigen_8': 141127, 'TotaalAanhangwagensEnOpleggers_9': 171350, 'TotaalBedrijfsmotorvoertuigen_10': 141127, 'Bestelauto_11': 110322, 'VrachtautoExclTrekkerVoorOplegger_12': 9969, 'TrekkerVoorOplegger_13': 12071, 'SpeciaalVoertuig_14': 8320, 'Bus_15': 445, 'TotaalAanhangwagensEnOpleggers_16': 171350, 'Aanhangwagen_17': 151595, 'Oplegger_18': 19755, 'TotaalMotorfietsen_19': 83721, 'MotorfietsenRelatief_20': 40}, {'ID': 71, 'RegioS': 'PV25  ', 'Perioden': '2020JJ00', 'TotaalWegvoertuigen_1': 1439106, 'TotaalMotorvoertuigen_2': 1264253, 'TotaalPersonenautoS_3': 1034942, 'PersonenautoSRelatief_4': 496, 'InBezitNatuurlijkePersonen_5': 967557, 'InBezitNatuurlijkePersonenRelatief_6': 464, 'TotaalBedrijfsvoertuigen_7': 319105, 'TotaalBedrijfsmotorvoertuigen_8': 144252, 'TotaalAanhangwagensEnOpleggers_9': 174853, 'TotaalBedrijfsmotorvoertuigen_10': 144252, 'Bestelauto_11': 113057, 'VrachtautoExclTrekkerVoorOplegger_12': 10038, 'TrekkerVoorOplegger_13': 12449, 'SpeciaalVoertuig_14': 8268, 'Bus_15': 440, 'TotaalAanhangwagensEnOpleggers_16': 174853, 'Aanhangwagen_17': 154339, 'Oplegger_18': 20514, 'TotaalMotorfietsen_19': 85059, 'MotorfietsenRelatief_20': 41}, {'ID': 72, 'RegioS': 'PV25  ', 'Perioden': '2021JJ00', 'TotaalWegvoertuigen_1': 1463544, 'TotaalMotorvoertuigen_2': 1286387, 'TotaalPersonenautoS_3': 1053395, 'PersonenautoSRelatief_4': 502, 'InBezitNatuurlijkePersonen_5': 986782, 'InBezitNatuurlijkePersonenRelatief_6': 471, 'TotaalBedrijfsvoertuigen_7': 323407, 'TotaalBedrijfsmotorvoertuigen_8': 146250, 'TotaalAanhangwagensEnOpleggers_9': 177157, 'TotaalBedrijfsmotorvoertuigen_10': 146250, 'Bestelauto_11': 115466, 'VrachtautoExclTrekkerVoorOplegger_12': 9885, 'TrekkerVoorOplegger_13': 12374, 'SpeciaalVoertuig_14': 8132, 'Bus_15': 393, 'TotaalAanhangwagensEnOpleggers_16': 177157, 'Aanhangwagen_17': 156162, 'Oplegger_18': 20995, 'TotaalMotorfietsen_19': 86742, 'MotorfietsenRelatief_20': 41}, {'ID': 73, 'RegioS': 'PV25  ', 'Perioden': '2022JJ00', 'TotaalWegvoertuigen_1': 1491409, 'TotaalMotorvoertuigen_2': 1311218, 'TotaalPersonenautoS_3': 1071822, 'PersonenautoSRelatief_4': 508, 'InBezitNatuurlijkePersonen_5': 1004685, 'InBezitNatuurlijkePersonenRelatief_6': 476, 'TotaalBedrijfsvoertuigen_7': 331169, 'TotaalBedrijfsmotorvoertuigen_8': 150978, 'TotaalAanhangwagensEnOpleggers_9': 180191, 'TotaalBedrijfsmotorvoertuigen_10': 150978, 'Bestelauto_11': 119724, 'VrachtautoExclTrekkerVoorOplegger_12': 9891, 'TrekkerVoorOplegger_13': 12834, 'SpeciaalVoertuig_14': 8147, 'Bus_15': 382, 'TotaalAanhangwagensEnOpleggers_16': 180191, 'Aanhangwagen_17': 160447, 'Oplegger_18': 19744, 'TotaalMotorfietsen_19': 88418, 'MotorfietsenRelatief_20': 42}, {'ID': 74, 'RegioS': 'PV25  ', 'Perioden': '2023JJ00', 'TotaalWegvoertuigen_1': 1507319, 'TotaalMotorvoertuigen_2': 1323947, 'TotaalPersonenautoS_3': 1081124, 'PersonenautoSRelatief_4': 507, 'InBezitNatuurlijkePersonen_5': 1010787, 'InBezitNatuurlijkePersonenRelatief_6': 474, 'TotaalBedrijfsvoertuigen_7': 335963, 'TotaalBedrijfsmotorvoertuigen_8': 152591, 'TotaalAanhangwagensEnOpleggers_9': 183372, 'TotaalBedrijfsmotorvoertuigen_10': 152591, 'Bestelauto_11': 120868, 'VrachtautoExclTrekkerVoorOplegger_12': 10014, 'TrekkerVoorOplegger_13': 13118, 'SpeciaalVoertuig_14': 8183, 'Bus_15': 408, 'TotaalAanhangwagensEnOpleggers_16': 183372, 'Aanhangwagen_17': 163451, 'Oplegger_18': 19921, 'TotaalMotorfietsen_19': 90232, 'MotorfietsenRelatief_20': 42}, {'ID': 75, 'RegioS': 'PV25  ', 'Perioden': '2024JJ00', 'TotaalWegvoertuigen_1': 1540298, 'TotaalMotorvoertuigen_2': 1354720, 'TotaalPersonenautoS_3': 1107501, 'PersonenautoSRelatief_4': 515, 'InBezitNatuurlijkePersonen_5': 1026657, 'InBezitNatuurlijkePersonenRelatief_6': 478, 'TotaalBedrijfsvoertuigen_7': 340766, 'TotaalBedrijfsmotorvoertuigen_8': 155188, 'TotaalAanhangwagensEnOpleggers_9': 185578, 'TotaalBedrijfsmotorvoertuigen_10': 155188, 'Bestelauto_11': 123515, 'VrachtautoExclTrekkerVoorOplegger_12': 10044, 'TrekkerVoorOplegger_13': 13095, 'SpeciaalVoertuig_14': 8123, 'Bus_15': 411, 'TotaalAanhangwagensEnOpleggers_16': 185578, 'Aanhangwagen_17': 165150, 'Oplegger_18': 20428, 'TotaalMotorfietsen_19': 92031, 'MotorfietsenRelatief_20': 43}, {'ID': 76, 'RegioS': 'PV25  ', 'Perioden': '2025JJ00', 'TotaalWegvoertuigen_1': 1575988, 'TotaalMotorvoertuigen_2': 1387109, 'TotaalPersonenautoS_3': 1130958, 'PersonenautoSRelatief_4': 523, 'InBezitNatuurlijkePersonen_5': 1048919, 'InBezitNatuurlijkePersonenRelatief_6': 485, 'TotaalBedrijfsvoertuigen_7': 350541, 'TotaalBedrijfsmotorvoertuigen_8': 161662, 'TotaalAanhangwagensEnOpleggers_9': 188879, 'TotaalBedrijfsmotorvoertuigen_10': 161662, 'Bestelauto_11': 129548, 'VrachtautoExclTrekkerVoorOplegger_12': 10305, 'TrekkerVoorOplegger_13': 13246, 'SpeciaalVoertuig_14': 8149, 'Bus_15': 414, 'TotaalAanhangwagensEnOpleggers_16': 188879, 'Aanhangwagen_17': 168401, 'Oplegger_18': 20478, 'TotaalMotorfietsen_19': 94489, 'MotorfietsenRelatief_20': 44}, {'ID': 77, 'RegioS': 'PV26  ', 'Perioden': '2019JJ00', 'TotaalWegvoertuigen_1': 895536, 'TotaalMotorvoertuigen_2': 824093, 'TotaalPersonenautoS_3': 689980, 'PersonenautoSRelatief_4': 514, 'InBezitNatuurlijkePersonen_5': 540893, 'InBezitNatuurlijkePersonenRelatief_6': 403, 'TotaalBedrijfsvoertuigen_7': 161269, 'TotaalBedrijfsmotorvoertuigen_8': 89826, 'TotaalAanhangwagensEnOpleggers_9': 71443, 'TotaalBedrijfsmotorvoertuigen_10': 89826, 'Bestelauto_11': 75931, 'VrachtautoExclTrekkerVoorOplegger_12': 4671, 'TrekkerVoorOplegger_13': 4384, 'SpeciaalVoertuig_14': 3812, 'Bus_15': 1028, 'TotaalAanhangwagensEnOpleggers_16': 71443, 'Aanhangwagen_17': 64368, 'Oplegger_18': 7075, 'TotaalMotorfietsen_19': 44287, 'MotorfietsenRelatief_20': 33}, {'ID': 78, 'RegioS': 'PV26  ', 'Perioden': '2020JJ00', 'TotaalWegvoertuigen_1': 922563, 'TotaalMotorvoertuigen_2': 850017, 'TotaalPersonenautoS_3': 710795, 'PersonenautoSRelatief_4': 525, 'InBezitNatuurlijkePersonen_5': 548218, 'InBezitNatuurlijkePersonenRelatief_6': 405, 'TotaalBedrijfsvoertuigen_7': 166869, 'TotaalBedrijfsmotorvoertuigen_8': 94323, 'TotaalAanhangwagensEnOpleggers_9': 72546, 'TotaalBedrijfsmotorvoertuigen_10': 94323, 'Bestelauto_11': 80107, 'VrachtautoExclTrekkerVoorOplegger_12': 4808, 'TrekkerVoorOplegger_13': 4545, 'SpeciaalVoertuig_14': 3803, 'Bus_15': 1060, 'TotaalAanhangwagensEnOpleggers_16': 72546, 'Aanhangwagen_17': 65324, 'Oplegger_18': 7222, 'TotaalMotorfietsen_19': 44899, 'MotorfietsenRelatief_20': 33}, {'ID': 79, 'RegioS': 'PV26  ', 'Perioden': '2021JJ00', 'TotaalWegvoertuigen_1': 936229, 'TotaalMotorvoertuigen_2': 863533, 'TotaalPersonenautoS_3': 721967, 'PersonenautoSRelatief_4': 530, 'InBezitNatuurlijkePersonen_5': 557862, 'InBezitNatuurlijkePersonenRelatief_6': 410, 'TotaalBedrijfsvoertuigen_7': 168474, 'TotaalBedrijfsmotorvoertuigen_8': 95778, 'TotaalAanhangwagensEnOpleggers_9': 72696, 'TotaalBedrijfsmotorvoertuigen_10': 95778, 'Bestelauto_11': 81859, 'VrachtautoExclTrekkerVoorOplegger_12': 4780, 'TrekkerVoorOplegger_13': 4494, 'SpeciaalVoertuig_14': 3735, 'Bus_15': 910, 'TotaalAanhangwagensEnOpleggers_16': 72696, 'Aanhangwagen_17': 65287, 'Oplegger_18': 7409, 'TotaalMotorfietsen_19': 45788, 'MotorfietsenRelatief_20': 34}, {'ID': 80, 'RegioS': 'PV26  ', 'Perioden': '2022JJ00', 'TotaalWegvoertuigen_1': 955541, 'TotaalMotorvoertuigen_2': 881585, 'TotaalPersonenautoS_3': 735995, 'PersonenautoSRelatief_4': 537, 'InBezitNatuurlijkePersonen_5': 565957, 'InBezitNatuurlijkePersonenRelatief_6': 413, 'TotaalBedrijfsvoertuigen_7': 173265, 'TotaalBedrijfsmotorvoertuigen_8': 99309, 'TotaalAanhangwagensEnOpleggers_9': 73956, 'TotaalBedrijfsmotorvoertuigen_10': 99309, 'Bestelauto_11': 85083, 'VrachtautoExclTrekkerVoorOplegger_12': 4825, 'TrekkerVoorOplegger_13': 4737, 'SpeciaalVoertuig_14': 3737, 'Bus_15': 927, 'TotaalAanhangwagensEnOpleggers_16': 73956, 'Aanhangwagen_17': 66355, 'Oplegger_18': 7601, 'TotaalMotorfietsen_19': 46281, 'MotorfietsenRelatief_20': 34}, {'ID': 81, 'RegioS': 'PV26  ', 'Perioden': '2023JJ00', 'TotaalWegvoertuigen_1': 975689, 'TotaalMotorvoertuigen_2': 900858, 'TotaalPersonenautoS_3': 752271, 'PersonenautoSRelatief_4': 542, 'InBezitNatuurlijkePersonen_5': 568312, 'InBezitNatuurlijkePersonenRelatief_6': 410, 'TotaalBedrijfsvoertuigen_7': 176548, 'TotaalBedrijfsmotorvoertuigen_8': 101717, 'TotaalAanhangwagensEnOpleggers_9': 74831, 'TotaalBedrijfsmotorvoertuigen_10': 101717, 'Bestelauto_11': 87647, 'VrachtautoExclTrekkerVoorOplegger_12': 4656, 'TrekkerVoorOplegger_13': 4825, 'SpeciaalVoertuig_14': 3680, 'Bus_15': 909, 'TotaalAanhangwagensEnOpleggers_16': 74831, 'Aanhangwagen_17': 66960, 'Oplegger_18': 7871, 'TotaalMotorfietsen_19': 46870, 'MotorfietsenRelatief_20': 34}, {'ID': 82, 'RegioS': 'PV26  ', 'Perioden': '2024JJ00', 'TotaalWegvoertuigen_1': 998601, 'TotaalMotorvoertuigen_2': 923535, 'TotaalPersonenautoS_3': 772001, 'PersonenautoSRelatief_4': 551, 'InBezitNatuurlijkePersonen_5': 575559, 'InBezitNatuurlijkePersonenRelatief_6': 411, 'TotaalBedrijfsvoertuigen_7': 179198, 'TotaalBedrijfsmotorvoertuigen_8': 104132, 'TotaalAanhangwagensEnOpleggers_9': 75066, 'TotaalBedrijfsmotorvoertuigen_10': 104132, 'Bestelauto_11': 89662, 'VrachtautoExclTrekkerVoorOplegger_12': 5159, 'TrekkerVoorOplegger_13': 4826, 'SpeciaalVoertuig_14': 3633, 'Bus_15': 852, 'TotaalAanhangwagensEnOpleggers_16': 75066, 'Aanhangwagen_17': 67259, 'Oplegger_18': 7807, 'TotaalMotorfietsen_19': 47402, 'MotorfietsenRelatief_20': 34}, {'ID': 83, 'RegioS': 'PV26  ', 'Perioden': '2025JJ00', 'TotaalWegvoertuigen_1': 1025541, 'TotaalMotorvoertuigen_2': 949889, 'TotaalPersonenautoS_3': 789682, 'PersonenautoSRelatief_4': 560, 'InBezitNatuurlijkePersonen_5': 587337, 'InBezitNatuurlijkePersonenRelatief_6': 417, 'TotaalBedrijfsvoertuigen_7': 187347, 'TotaalBedrijfsmotorvoertuigen_8': 111695, 'TotaalAanhangwagensEnOpleggers_9': 75652, 'TotaalBedrijfsmotorvoertuigen_10': 111695, 'Bestelauto_11': 96855, 'VrachtautoExclTrekkerVoorOplegger_12': 5241, 'TrekkerVoorOplegger_13': 4918, 'SpeciaalVoertuig_14': 3585, 'Bus_15': 1096, 'TotaalAanhangwagensEnOpleggers_16': 75652, 'Aanhangwagen_17': 67926, 'Oplegger_18': 7726, 'TotaalMotorfietsen_19': 48512, 'MotorfietsenRelatief_20': 34}, {'ID': 84, 'RegioS': 'PV27  ', 'Perioden': '2019JJ00', 'TotaalWegvoertuigen_1': 1580366, 'TotaalMotorvoertuigen_2': 1455057, 'TotaalPersonenautoS_3': 1202573, 'PersonenautoSRelatief_4': 421, 'InBezitNatuurlijkePersonen_5': 1070634, 'InBezitNatuurlijkePersonenRelatief_6': 375, 'TotaalBedrijfsvoertuigen_7': 276513, 'TotaalBedrijfsmotorvoertuigen_8': 151204, 'TotaalAanhangwagensEnOpleggers_9': 125309, 'TotaalBedrijfsmotorvoertuigen_10': 151204, 'Bestelauto_11': 124815, 'VrachtautoExclTrekkerVoorOplegger_12': 7703, 'TrekkerVoorOplegger_13': 8581, 'SpeciaalVoertuig_14': 7665, 'Bus_15': 2440, 'TotaalAanhangwagensEnOpleggers_16': 125309, 'Aanhangwagen_17': 112075, 'Oplegger_18': 13234, 'TotaalMotorfietsen_19': 101280, 'MotorfietsenRelatief_20': 35}, {'ID': 85, 'RegioS': 'PV27  ', 'Perioden': '2020JJ00', 'TotaalWegvoertuigen_1': 1604363, 'TotaalMotorvoertuigen_2': 1477878, 'TotaalPersonenautoS_3': 1221149, 'PersonenautoSRelatief_4': 424, 'InBezitNatuurlijkePersonen_5': 1081782, 'InBezitNatuurlijkePersonenRelatief_6': 376, 'TotaalBedrijfsvoertuigen_7': 280654, 'TotaalBedrijfsmotorvoertuigen_8': 154169, 'TotaalAanhangwagensEnOpleggers_9': 126485, 'TotaalBedrijfsmotorvoertuigen_10': 154169, 'Bestelauto_11': 127615, 'VrachtautoExclTrekkerVoorOplegger_12': 7779, 'TrekkerVoorOplegger_13': 8724, 'SpeciaalVoertuig_14': 7488, 'Bus_15': 2563, 'TotaalAanhangwagensEnOpleggers_16': 126485, 'Aanhangwagen_17': 112729, 'Oplegger_18': 13756, 'TotaalMotorfietsen_19': 102560, 'MotorfietsenRelatief_20': 36}, {'ID': 86, 'RegioS': 'PV27  ', 'Perioden': '2021JJ00', 'TotaalWegvoertuigen_1': 1622029, 'TotaalMotorvoertuigen_2': 1495705, 'TotaalPersonenautoS_3': 1237006, 'PersonenautoSRelatief_4': 428, 'InBezitNatuurlijkePersonen_5': 1100962, 'InBezitNatuurlijkePersonenRelatief_6': 381, 'TotaalBedrijfsvoertuigen_7': 281558, 'TotaalBedrijfsmotorvoertuigen_8': 155234, 'TotaalAanhangwagensEnOpleggers_9': 126324, 'TotaalBedrijfsmotorvoertuigen_10': 155234, 'Bestelauto_11': 129138, 'VrachtautoExclTrekkerVoorOplegger_12': 7546, 'TrekkerVoorOplegger_13': 8679, 'SpeciaalVoertuig_14': 7324, 'Bus_15': 2547, 'TotaalAanhangwagensEnOpleggers_16': 126324, 'Aanhangwagen_17': 112322, 'Oplegger_18': 14002, 'TotaalMotorfietsen_19': 103465, 'MotorfietsenRelatief_20': 36}, {'ID': 87, 'RegioS': 'PV27  ', 'Perioden': '2022JJ00', 'TotaalWegvoertuigen_1': 1655545, 'TotaalMotorvoertuigen_2': 1525984, 'TotaalPersonenautoS_3': 1263783, 'PersonenautoSRelatief_4': 434, 'InBezitNatuurlijkePersonen_5': 1117723, 'InBezitNatuurlijkePersonenRelatief_6': 384, 'TotaalBedrijfsvoertuigen_7': 288158, 'TotaalBedrijfsmotorvoertuigen_8': 158597, 'TotaalAanhangwagensEnOpleggers_9': 129561, 'TotaalBedrijfsmotorvoertuigen_10': 158597, 'Bestelauto_11': 132595, 'VrachtautoExclTrekkerVoorOplegger_12': 7326, 'TrekkerVoorOplegger_13': 8962, 'SpeciaalVoertuig_14': 7278, 'Bus_15': 2436, 'TotaalAanhangwagensEnOpleggers_16': 129561, 'Aanhangwagen_17': 113142, 'Oplegger_18': 16419, 'TotaalMotorfietsen_19': 103604, 'MotorfietsenRelatief_20': 36}, {'ID': 88, 'RegioS': 'PV27  ', 'Perioden': '2023JJ00', 'TotaalWegvoertuigen_1': 1678675, 'TotaalMotorvoertuigen_2': 1546699, 'TotaalPersonenautoS_3': 1281070, 'PersonenautoSRelatief_4': 434, 'InBezitNatuurlijkePersonen_5': 1120113, 'InBezitNatuurlijkePersonenRelatief_6': 379, 'TotaalBedrijfsvoertuigen_7': 293426, 'TotaalBedrijfsmotorvoertuigen_8': 161450, 'TotaalAanhangwagensEnOpleggers_9': 131976, 'TotaalBedrijfsmotorvoertuigen_10': 161450, 'Bestelauto_11': 134313, 'VrachtautoExclTrekkerVoorOplegger_12': 7433, 'TrekkerVoorOplegger_13': 9692, 'SpeciaalVoertuig_14': 7271, 'Bus_15': 2741, 'TotaalAanhangwagensEnOpleggers_16': 131976, 'Aanhangwagen_17': 114502, 'Oplegger_18': 17474, 'TotaalMotorfietsen_19': 104179, 'MotorfietsenRelatief_20': 35}, {'ID': 89, 'RegioS': 'PV27  ', 'Perioden': '2024JJ00', 'TotaalWegvoertuigen_1': 1693968, 'TotaalMotorvoertuigen_2': 1561959, 'TotaalPersonenautoS_3': 1295744, 'PersonenautoSRelatief_4': 435, 'InBezitNatuurlijkePersonen_5': 1131142, 'InBezitNatuurlijkePersonenRelatief_6': 380, 'TotaalBedrijfsvoertuigen_7': 293164, 'TotaalBedrijfsmotorvoertuigen_8': 161155, 'TotaalAanhangwagensEnOpleggers_9': 132009, 'TotaalBedrijfsmotorvoertuigen_10': 161155, 'Bestelauto_11': 134000, 'VrachtautoExclTrekkerVoorOplegger_12': 7490, 'TrekkerVoorOplegger_13': 9853, 'SpeciaalVoertuig_14': 7127, 'Bus_15': 2685, 'TotaalAanhangwagensEnOpleggers_16': 132009, 'Aanhangwagen_17': 114271, 'Oplegger_18': 17738, 'TotaalMotorfietsen_19': 105060, 'MotorfietsenRelatief_20': 35}, {'ID': 90, 'RegioS': 'PV27  ', 'Perioden': '2025JJ00', 'TotaalWegvoertuigen_1': 1680541, 'TotaalMotorvoertuigen_2': 1547375, 'TotaalPersonenautoS_3': 1281857, 'PersonenautoSRelatief_4': 428, 'InBezitNatuurlijkePersonen_5': 1152956, 'InBezitNatuurlijkePersonenRelatief_6': 385, 'TotaalBedrijfsvoertuigen_7': 291630, 'TotaalBedrijfsmotorvoertuigen_8': 158464, 'TotaalAanhangwagensEnOpleggers_9': 133166, 'TotaalBedrijfsmotorvoertuigen_10': 158464, 'Bestelauto_11': 130978, 'VrachtautoExclTrekkerVoorOplegger_12': 7511, 'TrekkerVoorOplegger_13': 10163, 'SpeciaalVoertuig_14': 6986, 'Bus_15': 2826, 'TotaalAanhangwagensEnOpleggers_16': 133166, 'Aanhangwagen_17': 115336, 'Oplegger_18': 17830, 'TotaalMotorfietsen_19': 107054, 'MotorfietsenRelatief_20': 36}, {'ID': 91, 'RegioS': 'PV28  ', 'Perioden': '2019JJ00', 'TotaalWegvoertuigen_1': 2053220, 'TotaalMotorvoertuigen_2': 1868767, 'TotaalPersonenautoS_3': 1570914, 'PersonenautoSRelatief_4': 428, 'InBezitNatuurlijkePersonen_5': 1423976, 'InBezitNatuurlijkePersonenRelatief_6': 388, 'TotaalBedrijfsvoertuigen_7': 372264, 'TotaalBedrijfsmotorvoertuigen_8': 187811, 'TotaalAanhangwagensEnOpleggers_9': 184453, 'TotaalBedrijfsmotorvoertuigen_10': 187811, 'Bestelauto_11': 152580, 'VrachtautoExclTrekkerVoorOplegger_12': 10347, 'TrekkerVoorOplegger_13': 15113, 'SpeciaalVoertuig_14': 8384, 'Bus_15': 1387, 'TotaalAanhangwagensEnOpleggers_16': 184453, 'Aanhangwagen_17': 142294, 'Oplegger_18': 42159, 'TotaalMotorfietsen_19': 110042, 'MotorfietsenRelatief_20': 30}, {'ID': 92, 'RegioS': 'PV28  ', 'Perioden': '2020JJ00', 'TotaalWegvoertuigen_1': 2084684, 'TotaalMotorvoertuigen_2': 1897478, 'TotaalPersonenautoS_3': 1593041, 'PersonenautoSRelatief_4': 430, 'InBezitNatuurlijkePersonen_5': 1441790, 'InBezitNatuurlijkePersonenRelatief_6': 389, 'TotaalBedrijfsvoertuigen_7': 379485, 'TotaalBedrijfsmotorvoertuigen_8': 192279, 'TotaalAanhangwagensEnOpleggers_9': 187206, 'TotaalBedrijfsmotorvoertuigen_10': 192279, 'Bestelauto_11': 157076, 'VrachtautoExclTrekkerVoorOplegger_12': 10148, 'TrekkerVoorOplegger_13': 15361, 'SpeciaalVoertuig_14': 8371, 'Bus_15': 1323, 'TotaalAanhangwagensEnOpleggers_16': 187206, 'Aanhangwagen_17': 144001, 'Oplegger_18': 43205, 'TotaalMotorfietsen_19': 112158, 'MotorfietsenRelatief_20': 30}, {'ID': 93, 'RegioS': 'PV28  ', 'Perioden': '2021JJ00', 'TotaalWegvoertuigen_1': 2110483, 'TotaalMotorvoertuigen_2': 1923834, 'TotaalPersonenautoS_3': 1615218, 'PersonenautoSRelatief_4': 433, 'InBezitNatuurlijkePersonen_5': 1468563, 'InBezitNatuurlijkePersonenRelatief_6': 394, 'TotaalBedrijfsvoertuigen_7': 380539, 'TotaalBedrijfsmotorvoertuigen_8': 193890, 'TotaalAanhangwagensEnOpleggers_9': 186649, 'TotaalBedrijfsmotorvoertuigen_10': 193890, 'Bestelauto_11': 159041, 'VrachtautoExclTrekkerVoorOplegger_12': 9943, 'TrekkerVoorOplegger_13': 15468, 'SpeciaalVoertuig_14': 8296, 'Bus_15': 1142, 'TotaalAanhangwagensEnOpleggers_16': 186649, 'Aanhangwagen_17': 143534, 'Oplegger_18': 43115, 'TotaalMotorfietsen_19': 114726, 'MotorfietsenRelatief_20': 31}, {'ID': 94, 'RegioS': 'PV28  ', 'Perioden': '2022JJ00', 'TotaalWegvoertuigen_1': 2148104, 'TotaalMotorvoertuigen_2': 1956286, 'TotaalPersonenautoS_3': 1639854, 'PersonenautoSRelatief_4': 437, 'InBezitNatuurlijkePersonen_5': 1489707, 'InBezitNatuurlijkePersonenRelatief_6': 397, 'TotaalBedrijfsvoertuigen_7': 391122, 'TotaalBedrijfsmotorvoertuigen_8': 199304, 'TotaalAanhangwagensEnOpleggers_9': 191818, 'TotaalBedrijfsmotorvoertuigen_10': 199304, 'Bestelauto_11': 164114, 'VrachtautoExclTrekkerVoorOplegger_12': 9973, 'TrekkerVoorOplegger_13': 15901, 'SpeciaalVoertuig_14': 8288, 'Bus_15': 1028, 'TotaalAanhangwagensEnOpleggers_16': 191818, 'Aanhangwagen_17': 146077, 'Oplegger_18': 45741, 'TotaalMotorfietsen_19': 117128, 'MotorfietsenRelatief_20': 31}, {'ID': 95, 'RegioS': 'PV28  ', 'Perioden': '2023JJ00', 'TotaalWegvoertuigen_1': 2164227, 'TotaalMotorvoertuigen_2': 1968243, 'TotaalPersonenautoS_3': 1645748, 'PersonenautoSRelatief_4': 433, 'InBezitNatuurlijkePersonen_5': 1495900, 'InBezitNatuurlijkePersonenRelatief_6': 393, 'TotaalBedrijfsvoertuigen_7': 398783, 'TotaalBedrijfsmotorvoertuigen_8': 202799, 'TotaalAanhangwagensEnOpleggers_9': 195984, 'TotaalBedrijfsmotorvoertuigen_10': 202799, 'Bestelauto_11': 166919, 'VrachtautoExclTrekkerVoorOplegger_12': 9983, 'TrekkerVoorOplegger_13': 16545, 'SpeciaalVoertuig_14': 8299, 'Bus_15': 1053, 'TotaalAanhangwagensEnOpleggers_16': 195984, 'Aanhangwagen_17': 147803, 'Oplegger_18': 48181, 'TotaalMotorfietsen_19': 119696, 'MotorfietsenRelatief_20': 31}, {'ID': 96, 'RegioS': 'PV28  ', 'Perioden': '2024JJ00', 'TotaalWegvoertuigen_1': 2190303, 'TotaalMotorvoertuigen_2': 1994010, 'TotaalPersonenautoS_3': 1666292, 'PersonenautoSRelatief_4': 434, 'InBezitNatuurlijkePersonen_5': 1513841, 'InBezitNatuurlijkePersonenRelatief_6': 394, 'TotaalBedrijfsvoertuigen_7': 401670, 'TotaalBedrijfsmotorvoertuigen_8': 205377, 'TotaalAanhangwagensEnOpleggers_9': 196293, 'TotaalBedrijfsmotorvoertuigen_10': 205377, 'Bestelauto_11': 169377, 'VrachtautoExclTrekkerVoorOplegger_12': 9963, 'TrekkerVoorOplegger_13': 16734, 'SpeciaalVoertuig_14': 8205, 'Bus_15': 1098, 'TotaalAanhangwagensEnOpleggers_16': 196293, 'Aanhangwagen_17': 148064, 'Oplegger_18': 48229, 'TotaalMotorfietsen_19': 122341, 'MotorfietsenRelatief_20': 32}, {'ID': 97, 'RegioS': 'PV28  ', 'Perioden': '2025JJ00', 'TotaalWegvoertuigen_1': 2232967, 'TotaalMotorvoertuigen_2': 2036324, 'TotaalPersonenautoS_3': 1700604, 'PersonenautoSRelatief_4': 440, 'InBezitNatuurlijkePersonen_5': 1545062, 'InBezitNatuurlijkePersonenRelatief_6': 400, 'TotaalBedrijfsvoertuigen_7': 407091, 'TotaalBedrijfsmotorvoertuigen_8': 210448, 'TotaalAanhangwagensEnOpleggers_9': 196643, 'TotaalBedrijfsmotorvoertuigen_10': 210448, 'Bestelauto_11': 173714, 'VrachtautoExclTrekkerVoorOplegger_12': 10421, 'TrekkerVoorOplegger_13': 17072, 'SpeciaalVoertuig_14': 8106, 'Bus_15': 1135, 'TotaalAanhangwagensEnOpleggers_16': 196643, 'Aanhangwagen_17': 149382, 'Oplegger_18': 47261, 'TotaalMotorfietsen_19': 125272, 'MotorfietsenRelatief_20': 32}, {'ID': 98, 'RegioS': 'PV29  ', 'Perioden': '2019JJ00', 'TotaalWegvoertuigen_1': 282470, 'TotaalMotorvoertuigen_2': 247769, 'TotaalPersonenautoS_3': 201301, 'PersonenautoSRelatief_4': 526, 'InBezitNatuurlijkePersonen_5': 191008, 'InBezitNatuurlijkePersonenRelatief_6': 499, 'TotaalBedrijfsvoertuigen_7': 63923, 'TotaalBedrijfsmotorvoertuigen_8': 29222, 'TotaalAanhangwagensEnOpleggers_9': 34701, 'TotaalBedrijfsmotorvoertuigen_10': 29222, 'Bestelauto_11': 23618, 'VrachtautoExclTrekkerVoorOplegger_12': 1371, 'TrekkerVoorOplegger_13': 2103, 'SpeciaalVoertuig_14': 1719, 'Bus_15': 411, 'TotaalAanhangwagensEnOpleggers_16': 34701, 'Aanhangwagen_17': 29833, 'Oplegger_18': 4868, 'TotaalMotorfietsen_19': 17246, 'MotorfietsenRelatief_20': 45}, {'ID': 99, 'RegioS': 'PV29  ', 'Perioden': '2020JJ00', 'TotaalWegvoertuigen_1': 285374, 'TotaalMotorvoertuigen_2': 250415, 'TotaalPersonenautoS_3': 203273, 'PersonenautoSRelatief_4': 530, 'InBezitNatuurlijkePersonen_5': 192622, 'InBezitNatuurlijkePersonenRelatief_6': 502, 'TotaalBedrijfsvoertuigen_7': 64663, 'TotaalBedrijfsmotorvoertuigen_8': 29704, 'TotaalAanhangwagensEnOpleggers_9': 34959, 'TotaalBedrijfsmotorvoertuigen_10': 29704, 'Bestelauto_11': 24188, 'VrachtautoExclTrekkerVoorOplegger_12': 1337, 'TrekkerVoorOplegger_13': 2096, 'SpeciaalVoertuig_14': 1662, 'Bus_15': 421, 'TotaalAanhangwagensEnOpleggers_16': 34959, 'Aanhangwagen_17': 30359, 'Oplegger_18': 4600, 'TotaalMotorfietsen_19': 17438, 'MotorfietsenRelatief_20': 45}, {'ID': 100, 'RegioS': 'PV29  ', 'Perioden': '2021JJ00', 'TotaalWegvoertuigen_1': 288969, 'TotaalMotorvoertuigen_2': 253542, 'TotaalPersonenautoS_3': 206026, 'PersonenautoSRelatief_4': 535, 'InBezitNatuurlijkePersonen_5': 195962, 'InBezitNatuurlijkePersonenRelatief_6': 508, 'TotaalBedrijfsvoertuigen_7': 65167, 'TotaalBedrijfsmotorvoertuigen_8': 29740, 'TotaalAanhangwagensEnOpleggers_9': 35427, 'TotaalBedrijfsmotorvoertuigen_10': 29740, 'Bestelauto_11': 24551, 'VrachtautoExclTrekkerVoorOplegger_12': 1341, 'TrekkerVoorOplegger_13': 2048, 'SpeciaalVoertuig_14': 1656, 'Bus_15': 144, 'TotaalAanhangwagensEnOpleggers_16': 35427, 'Aanhangwagen_17': 30799, 'Oplegger_18': 4628, 'TotaalMotorfietsen_19': 17776, 'MotorfietsenRelatief_20': 46}, {'ID': 101, 'RegioS': 'PV29  ', 'Perioden': '2022JJ00', 'TotaalWegvoertuigen_1': 294059, 'TotaalMotorvoertuigen_2': 257750, 'TotaalPersonenautoS_3': 208967, 'PersonenautoSRelatief_4': 540, 'InBezitNatuurlijkePersonen_5': 198596, 'InBezitNatuurlijkePersonenRelatief_6': 513, 'TotaalBedrijfsvoertuigen_7': 66881, 'TotaalBedrijfsmotorvoertuigen_8': 30572, 'TotaalAanhangwagensEnOpleggers_9': 36309, 'TotaalBedrijfsmotorvoertuigen_10': 30572, 'Bestelauto_11': 25387, 'VrachtautoExclTrekkerVoorOplegger_12': 1343, 'TrekkerVoorOplegger_13': 2097, 'SpeciaalVoertuig_14': 1646, 'Bus_15': 99, 'TotaalAanhangwagensEnOpleggers_16': 36309, 'Aanhangwagen_17': 31556, 'Oplegger_18': 4753, 'TotaalMotorfietsen_19': 18211, 'MotorfietsenRelatief_20': 47}, {'ID': 102, 'RegioS': 'PV29  ', 'Perioden': '2023JJ00', 'TotaalWegvoertuigen_1': 297914, 'TotaalMotorvoertuigen_2': 260764, 'TotaalPersonenautoS_3': 210917, 'PersonenautoSRelatief_4': 539, 'InBezitNatuurlijkePersonen_5': 199849, 'InBezitNatuurlijkePersonenRelatief_6': 511, 'TotaalBedrijfsvoertuigen_7': 68332, 'TotaalBedrijfsmotorvoertuigen_8': 31182, 'TotaalAanhangwagensEnOpleggers_9': 37150, 'TotaalBedrijfsmotorvoertuigen_10': 31182, 'Bestelauto_11': 25946, 'VrachtautoExclTrekkerVoorOplegger_12': 1321, 'TrekkerVoorOplegger_13': 2141, 'SpeciaalVoertuig_14': 1664, 'Bus_15': 110, 'TotaalAanhangwagensEnOpleggers_16': 37150, 'Aanhangwagen_17': 32276, 'Oplegger_18': 4874, 'TotaalMotorfietsen_19': 18665, 'MotorfietsenRelatief_20': 48}, {'ID': 103, 'RegioS': 'PV29  ', 'Perioden': '2024JJ00', 'TotaalWegvoertuigen_1': 302680, 'TotaalMotorvoertuigen_2': 264997, 'TotaalPersonenautoS_3': 213890, 'PersonenautoSRelatief_4': 546, 'InBezitNatuurlijkePersonen_5': 202218, 'InBezitNatuurlijkePersonenRelatief_6': 516, 'TotaalBedrijfsvoertuigen_7': 69582, 'TotaalBedrijfsmotorvoertuigen_8': 31899, 'TotaalAanhangwagensEnOpleggers_9': 37683, 'TotaalBedrijfsmotorvoertuigen_10': 31899, 'Bestelauto_11': 26653, 'VrachtautoExclTrekkerVoorOplegger_12': 1328, 'TrekkerVoorOplegger_13': 2154, 'SpeciaalVoertuig_14': 1649, 'Bus_15': 115, 'TotaalAanhangwagensEnOpleggers_16': 37683, 'Aanhangwagen_17': 32713, 'Oplegger_18': 4970, 'TotaalMotorfietsen_19': 19208, 'MotorfietsenRelatief_20': 49}, {'ID': 104, 'RegioS': 'PV29  ', 'Perioden': '2025JJ00', 'TotaalWegvoertuigen_1': 309370, 'TotaalMotorvoertuigen_2': 270989, 'TotaalPersonenautoS_3': 217626, 'PersonenautoSRelatief_4': 554, 'InBezitNatuurlijkePersonen_5': 205640, 'InBezitNatuurlijkePersonenRelatief_6': 523, 'TotaalBedrijfsvoertuigen_7': 71706, 'TotaalBedrijfsmotorvoertuigen_8': 33325, 'TotaalAanhangwagensEnOpleggers_9': 38381, 'TotaalBedrijfsmotorvoertuigen_10': 33325, 'Bestelauto_11': 28071, 'VrachtautoExclTrekkerVoorOplegger_12': 1327, 'TrekkerVoorOplegger_13': 2176, 'SpeciaalVoertuig_14': 1632, 'Bus_15': 119, 'TotaalAanhangwagensEnOpleggers_16': 38381, 'Aanhangwagen_17': 33397, 'Oplegger_18': 4984, 'TotaalMotorfietsen_19': 20038, 'MotorfietsenRelatief_20': 51}, {'ID': 105, 'RegioS': 'PV30  ', 'Perioden': '2019JJ00', 'TotaalWegvoertuigen_1': 1866639, 'TotaalMotorvoertuigen_2': 1662515, 'TotaalPersonenautoS_3': 1374772, 'PersonenautoSRelatief_4': 540, 'InBezitNatuurlijkePersonen_5': 1212166, 'InBezitNatuurlijkePersonenRelatief_6': 476, 'TotaalBedrijfsvoertuigen_7': 392577, 'TotaalBedrijfsmotorvoertuigen_8': 188453, 'TotaalAanhangwagensEnOpleggers_9': 204124, 'TotaalBedrijfsmotorvoertuigen_10': 188453, 'Bestelauto_11': 150244, 'VrachtautoExclTrekkerVoorOplegger_12': 12069, 'TrekkerVoorOplegger_13': 15483, 'SpeciaalVoertuig_14': 10108, 'Bus_15': 549, 'TotaalAanhangwagensEnOpleggers_16': 204124, 'Aanhangwagen_17': 171250, 'Oplegger_18': 32874, 'TotaalMotorfietsen_19': 99290, 'MotorfietsenRelatief_20': 39}, {'ID': 106, 'RegioS': 'PV30  ', 'Perioden': '2020JJ00', 'TotaalWegvoertuigen_1': 1901129, 'TotaalMotorvoertuigen_2': 1692675, 'TotaalPersonenautoS_3': 1398457, 'PersonenautoSRelatief_4': 546, 'InBezitNatuurlijkePersonen_5': 1228372, 'InBezitNatuurlijkePersonenRelatief_6': 479, 'TotaalBedrijfsvoertuigen_7': 402159, 'TotaalBedrijfsmotorvoertuigen_8': 193705, 'TotaalAanhangwagensEnOpleggers_9': 208454, 'TotaalBedrijfsmotorvoertuigen_10': 193705, 'Bestelauto_11': 155430, 'VrachtautoExclTrekkerVoorOplegger_12': 12055, 'TrekkerVoorOplegger_13': 15712, 'SpeciaalVoertuig_14': 9984, 'Bus_15': 524, 'TotaalAanhangwagensEnOpleggers_16': 208454, 'Aanhangwagen_17': 174093, 'Oplegger_18': 34361, 'TotaalMotorfietsen_19': 100513, 'MotorfietsenRelatief_20': 39}, {'ID': 107, 'RegioS': 'PV30  ', 'Perioden': '2021JJ00', 'TotaalWegvoertuigen_1': 1922775, 'TotaalMotorvoertuigen_2': 1712537, 'TotaalPersonenautoS_3': 1413174, 'PersonenautoSRelatief_4': 549, 'InBezitNatuurlijkePersonen_5': 1247712, 'InBezitNatuurlijkePersonenRelatief_6': 485, 'TotaalBedrijfsvoertuigen_7': 407060, 'TotaalBedrijfsmotorvoertuigen_8': 196822, 'TotaalAanhangwagensEnOpleggers_9': 210238, 'TotaalBedrijfsmotorvoertuigen_10': 196822, 'Bestelauto_11': 158850, 'VrachtautoExclTrekkerVoorOplegger_12': 11958, 'TrekkerVoorOplegger_13': 15603, 'SpeciaalVoertuig_14': 9920, 'Bus_15': 491, 'TotaalAanhangwagensEnOpleggers_16': 210238, 'Aanhangwagen_17': 175552, 'Oplegger_18': 34686, 'TotaalMotorfietsen_19': 102541, 'MotorfietsenRelatief_20': 40}, {'ID': 108, 'RegioS': 'PV30  ', 'Perioden': '2022JJ00', 'TotaalWegvoertuigen_1': 1955875, 'TotaalMotorvoertuigen_2': 1740587, 'TotaalPersonenautoS_3': 1433498, 'PersonenautoSRelatief_4': 553, 'InBezitNatuurlijkePersonen_5': 1266113, 'InBezitNatuurlijkePersonenRelatief_6': 488, 'TotaalBedrijfsvoertuigen_7': 417697, 'TotaalBedrijfsmotorvoertuigen_8': 202409, 'TotaalAanhangwagensEnOpleggers_9': 215288, 'TotaalBedrijfsmotorvoertuigen_10': 202409, 'Bestelauto_11': 164076, 'VrachtautoExclTrekkerVoorOplegger_12': 12090, 'TrekkerVoorOplegger_13': 15971, 'SpeciaalVoertuig_14': 9819, 'Bus_15': 453, 'TotaalAanhangwagensEnOpleggers_16': 215288, 'Aanhangwagen_17': 179765, 'Oplegger_18': 35523, 'TotaalMotorfietsen_19': 104680, 'MotorfietsenRelatief_20': 40}, {'ID': 109, 'RegioS': 'PV30  ', 'Perioden': '2023JJ00', 'TotaalWegvoertuigen_1': 1984833, 'TotaalMotorvoertuigen_2': 1764979, 'TotaalPersonenautoS_3': 1452605, 'PersonenautoSRelatief_4': 553, 'InBezitNatuurlijkePersonen_5': 1272565, 'InBezitNatuurlijkePersonenRelatief_6': 485, 'TotaalBedrijfsvoertuigen_7': 425501, 'TotaalBedrijfsmotorvoertuigen_8': 205647, 'TotaalAanhangwagensEnOpleggers_9': 219854, 'TotaalBedrijfsmotorvoertuigen_10': 205647, 'Bestelauto_11': 166842, 'VrachtautoExclTrekkerVoorOplegger_12': 11985, 'TrekkerVoorOplegger_13': 16638, 'SpeciaalVoertuig_14': 9695, 'Bus_15': 487, 'TotaalAanhangwagensEnOpleggers_16': 219854, 'Aanhangwagen_17': 182822, 'Oplegger_18': 37032, 'TotaalMotorfietsen_19': 106727, 'MotorfietsenRelatief_20': 41}, {'ID': 110, 'RegioS': 'PV30  ', 'Perioden': '2024JJ00', 'TotaalWegvoertuigen_1': 2014621, 'TotaalMotorvoertuigen_2': 1792873, 'TotaalPersonenautoS_3': 1475404, 'PersonenautoSRelatief_4': 558, 'InBezitNatuurlijkePersonen_5': 1289970, 'InBezitNatuurlijkePersonenRelatief_6': 488, 'TotaalBedrijfsvoertuigen_7': 430641, 'TotaalBedrijfsmotorvoertuigen_8': 208893, 'TotaalAanhangwagensEnOpleggers_9': 221748, 'TotaalBedrijfsmotorvoertuigen_10': 208893, 'Bestelauto_11': 169856, 'VrachtautoExclTrekkerVoorOplegger_12': 11943, 'TrekkerVoorOplegger_13': 17014, 'SpeciaalVoertuig_14': 9587, 'Bus_15': 493, 'TotaalAanhangwagensEnOpleggers_16': 221748, 'Aanhangwagen_17': 184149, 'Oplegger_18': 37599, 'TotaalMotorfietsen_19': 108576, 'MotorfietsenRelatief_20': 41}, {'ID': 111, 'RegioS': 'PV30  ', 'Perioden': '2025JJ00', 'TotaalWegvoertuigen_1': 2057755, 'TotaalMotorvoertuigen_2': 1832331, 'TotaalPersonenautoS_3': 1503993, 'PersonenautoSRelatief_4': 565, 'InBezitNatuurlijkePersonen_5': 1316255, 'InBezitNatuurlijkePersonenRelatief_6': 494, 'TotaalBedrijfsvoertuigen_7': 442598, 'TotaalBedrijfsmotorvoertuigen_8': 217174, 'TotaalAanhangwagensEnOpleggers_9': 225424, 'TotaalBedrijfsmotorvoertuigen_10': 217174, 'Bestelauto_11': 177467, 'VrachtautoExclTrekkerVoorOplegger_12': 12467, 'TrekkerVoorOplegger_13': 17217, 'SpeciaalVoertuig_14': 9498, 'Bus_15': 525, 'TotaalAanhangwagensEnOpleggers_16': 225424, 'Aanhangwagen_17': 187261, 'Oplegger_18': 38163, 'TotaalMotorfietsen_19': 111164, 'MotorfietsenRelatief_20': 42}, {'ID': 112, 'RegioS': 'PV31  ', 'Perioden': '2019JJ00', 'TotaalWegvoertuigen_1': 776524, 'TotaalMotorvoertuigen_2': 690580, 'TotaalPersonenautoS_3': 580501, 'PersonenautoSRelatief_4': 520, 'InBezitNatuurlijkePersonen_5': 555439, 'InBezitNatuurlijkePersonenRelatief_6': 498, 'TotaalBedrijfsvoertuigen_7': 150603, 'TotaalBedrijfsmotorvoertuigen_8': 64659, 'TotaalAanhangwagensEnOpleggers_9': 85944, 'TotaalBedrijfsmotorvoertuigen_10': 64659, 'Bestelauto_11': 50462, 'VrachtautoExclTrekkerVoorOplegger_12': 4041, 'TrekkerVoorOplegger_13': 5689, 'SpeciaalVoertuig_14': 4115, 'Bus_15': 352, 'TotaalAanhangwagensEnOpleggers_16': 85944, 'Aanhangwagen_17': 68354, 'Oplegger_18': 17590, 'TotaalMotorfietsen_19': 45420, 'MotorfietsenRelatief_20': 41}, {'ID': 113, 'RegioS': 'PV31  ', 'Perioden': '2020JJ00', 'TotaalWegvoertuigen_1': 784894, 'TotaalMotorvoertuigen_2': 697772, 'TotaalPersonenautoS_3': 586924, 'PersonenautoSRelatief_4': 525, 'InBezitNatuurlijkePersonen_5': 560890, 'InBezitNatuurlijkePersonenRelatief_6': 502, 'TotaalBedrijfsvoertuigen_7': 152366, 'TotaalBedrijfsmotorvoertuigen_8': 65244, 'TotaalAanhangwagensEnOpleggers_9': 87122, 'TotaalBedrijfsmotorvoertuigen_10': 65244, 'Bestelauto_11': 51261, 'VrachtautoExclTrekkerVoorOplegger_12': 4022, 'TrekkerVoorOplegger_13': 5518, 'SpeciaalVoertuig_14': 4081, 'Bus_15': 362, 'TotaalAanhangwagensEnOpleggers_16': 87122, 'Aanhangwagen_17': 69833, 'Oplegger_18': 17289, 'TotaalMotorfietsen_19': 45604, 'MotorfietsenRelatief_20': 41}, {'ID': 114, 'RegioS': 'PV31  ', 'Perioden': '2021JJ00', 'TotaalWegvoertuigen_1': 792201, 'TotaalMotorvoertuigen_2': 705201, 'TotaalPersonenautoS_3': 593043, 'PersonenautoSRelatief_4': 531, 'InBezitNatuurlijkePersonen_5': 567638, 'InBezitNatuurlijkePersonenRelatief_6': 509, 'TotaalBedrijfsvoertuigen_7': 153018, 'TotaalBedrijfsmotorvoertuigen_8': 66018, 'TotaalAanhangwagensEnOpleggers_9': 87000, 'TotaalBedrijfsmotorvoertuigen_10': 66018, 'Bestelauto_11': 52209, 'VrachtautoExclTrekkerVoorOplegger_12': 3972, 'TrekkerVoorOplegger_13': 5446, 'SpeciaalVoertuig_14': 4040, 'Bus_15': 351, 'TotaalAanhangwagensEnOpleggers_16': 87000, 'Aanhangwagen_17': 70317, 'Oplegger_18': 16683, 'TotaalMotorfietsen_19': 46140, 'MotorfietsenRelatief_20': 41}, {'ID': 115, 'RegioS': 'PV31  ', 'Perioden': '2022JJ00', 'TotaalWegvoertuigen_1': 803967, 'TotaalMotorvoertuigen_2': 714292, 'TotaalPersonenautoS_3': 599801, 'PersonenautoSRelatief_4': 536, 'InBezitNatuurlijkePersonen_5': 573817, 'InBezitNatuurlijkePersonenRelatief_6': 513, 'TotaalBedrijfsvoertuigen_7': 157260, 'TotaalBedrijfsmotorvoertuigen_8': 67585, 'TotaalAanhangwagensEnOpleggers_9': 89675, 'TotaalBedrijfsmotorvoertuigen_10': 67585, 'Bestelauto_11': 53705, 'VrachtautoExclTrekkerVoorOplegger_12': 3906, 'TrekkerVoorOplegger_13': 5602, 'SpeciaalVoertuig_14': 4040, 'Bus_15': 332, 'TotaalAanhangwagensEnOpleggers_16': 89675, 'Aanhangwagen_17': 72178, 'Oplegger_18': 17497, 'TotaalMotorfietsen_19': 46906, 'MotorfietsenRelatief_20': 42}, {'ID': 116, 'RegioS': 'PV31  ', 'Perioden': '2023JJ00', 'TotaalWegvoertuigen_1': 811491, 'TotaalMotorvoertuigen_2': 719023, 'TotaalPersonenautoS_3': 602590, 'PersonenautoSRelatief_4': 534, 'InBezitNatuurlijkePersonen_5': 575540, 'InBezitNatuurlijkePersonenRelatief_6': 510, 'TotaalBedrijfsvoertuigen_7': 160766, 'TotaalBedrijfsmotorvoertuigen_8': 68298, 'TotaalAanhangwagensEnOpleggers_9': 92468, 'TotaalBedrijfsmotorvoertuigen_10': 68298, 'Bestelauto_11': 54396, 'VrachtautoExclTrekkerVoorOplegger_12': 3872, 'TrekkerVoorOplegger_13': 5655, 'SpeciaalVoertuig_14': 4014, 'Bus_15': 361, 'TotaalAanhangwagensEnOpleggers_16': 92468, 'Aanhangwagen_17': 74049, 'Oplegger_18': 18419, 'TotaalMotorfietsen_19': 48135, 'MotorfietsenRelatief_20': 43}, {'ID': 117, 'RegioS': 'PV31  ', 'Perioden': '2024JJ00', 'TotaalWegvoertuigen_1': 820655, 'TotaalMotorvoertuigen_2': 726790, 'TotaalPersonenautoS_3': 609018, 'PersonenautoSRelatief_4': 537, 'InBezitNatuurlijkePersonen_5': 581050, 'InBezitNatuurlijkePersonenRelatief_6': 513, 'TotaalBedrijfsvoertuigen_7': 162695, 'TotaalBedrijfsmotorvoertuigen_8': 68830, 'TotaalAanhangwagensEnOpleggers_9': 93865, 'TotaalBedrijfsmotorvoertuigen_10': 68830, 'Bestelauto_11': 55128, 'VrachtautoExclTrekkerVoorOplegger_12': 3875, 'TrekkerVoorOplegger_13': 5503, 'SpeciaalVoertuig_14': 3962, 'Bus_15': 362, 'TotaalAanhangwagensEnOpleggers_16': 93865, 'Aanhangwagen_17': 74725, 'Oplegger_18': 19140, 'TotaalMotorfietsen_19': 48942, 'MotorfietsenRelatief_20': 43}, {'ID': 118, 'RegioS': 'PV31  ', 'Perioden': '2025JJ00', 'TotaalWegvoertuigen_1': 834287, 'TotaalMotorvoertuigen_2': 738834, 'TotaalPersonenautoS_3': 618629, 'PersonenautoSRelatief_4': 545, 'InBezitNatuurlijkePersonen_5': 590239, 'InBezitNatuurlijkePersonenRelatief_6': 520, 'TotaalBedrijfsvoertuigen_7': 165764, 'TotaalBedrijfsmotorvoertuigen_8': 70311, 'TotaalAanhangwagensEnOpleggers_9': 95453, 'TotaalBedrijfsmotorvoertuigen_10': 70311, 'Bestelauto_11': 56734, 'VrachtautoExclTrekkerVoorOplegger_12': 3922, 'TrekkerVoorOplegger_13': 5382, 'SpeciaalVoertuig_14': 3921, 'Bus_15': 352, 'TotaalAanhangwagensEnOpleggers_16': 95453, 'Aanhangwagen_17': 75962, 'Oplegger_18': 19491, 'TotaalMotorfietsen_19': 49894, 'MotorfietsenRelatief_20': 44}]}\n"
     ]
    }
   ],
   "source": [
    "url = \"https://opendata.cbs.nl/ODataApi/odata/85235NED/TypedDataSet\"\n",
    "response= requests.get(url)\n",
    "users= response.json()\n",
    "print(users)\n",
    "\n"
   ]
  },
  {
   "cell_type": "markdown",
   "id": "656e12f0",
   "metadata": {},
   "source": [
    "##### In order to make the output above more readable print the following cell"
   ]
  },
  {
   "cell_type": "code",
   "execution_count": null,
   "id": "5cca6e89",
   "metadata": {},
   "outputs": [
    {
     "name": "stdout",
     "output_type": "stream",
     "text": [
      "{'odata.metadata': 'https://opendata.cbs.nl/ODataApi/OData/85235NED/$metadata#Cbs.OData.WebAPI.TypedDataSet',\n",
      " 'value': [{'Aanhangwagen_17': 1008412,\n",
      "            'Bestelauto_11': 903005,\n",
      "            'Bus_15': 9513,\n",
      "            'ID': 0,\n",
      "            'InBezitNatuurlijkePersonenRelatief_6': 431,\n",
      "            'InBezitNatuurlijkePersonen_5': 7452085,\n",
      "            'MotorfietsenRelatief_20': 37,\n",
      "            'Oplegger_18': 163974,\n",
      "            'Perioden': '2019JJ00',\n",
      "            'PersonenautoSRelatief_4': 489,\n",
      "            'RegioS': 'NL01  ',\n",
      "            'SpeciaalVoertuig_14': 57693,\n",
      "            'TotaalAanhangwagensEnOpleggers_16': 1172386,\n",
      "            'TotaalAanhangwagensEnOpleggers_9': 1172386,\n",
      "            'TotaalBedrijfsmotorvoertuigen_10': 1110651,\n",
      "            'TotaalBedrijfsmotorvoertuigen_8': 1110651,\n",
      "            'TotaalBedrijfsvoertuigen_7': 2283037,\n",
      "            'TotaalMotorfietsen_19': 646046,\n",
      "            'TotaalMotorvoertuigen_2': 10199679,\n",
      "            'TotaalPersonenautoS_3': 8442982,\n",
      "            'TotaalWegvoertuigen_1': 11372065,\n",
      "            'TrekkerVoorOplegger_13': 78788,\n",
      "            'VrachtautoExclTrekkerVoorOplegger_12': 61652},\n",
      "           {'Aanhangwagen_17': 1023980,\n",
      "            'Bestelauto_11': 927251,\n",
      "            'Bus_15': 9699,\n",
      "            'ID': 1,\n",
      "            'InBezitNatuurlijkePersonenRelatief_6': 434,\n",
      "            'InBezitNatuurlijkePersonen_5': 7548770,\n",
      "            'MotorfietsenRelatief_20': 38,\n",
      "            'Oplegger_18': 168502,\n",
      "            'Perioden': '2020JJ00',\n",
      "            'PersonenautoSRelatief_4': 493,\n",
      "            'RegioS': 'NL01  ',\n",
      "            'SpeciaalVoertuig_14': 57129,\n",
      "            'TotaalAanhangwagensEnOpleggers_16': 1192482,\n",
      "            'TotaalAanhangwagensEnOpleggers_9': 1192482,\n",
      "            'TotaalBedrijfsmotorvoertuigen_10': 1135943,\n",
      "            'TotaalBedrijfsmotorvoertuigen_8': 1135943,\n",
      "            'TotaalBedrijfsvoertuigen_7': 2328425,\n",
      "            'TotaalMotorfietsen_19': 654387,\n",
      "            'TotaalMotorvoertuigen_2': 10374721,\n",
      "            'TotaalPersonenautoS_3': 8584391,\n",
      "            'TotaalWegvoertuigen_1': 11567203,\n",
      "            'TrekkerVoorOplegger_13': 80118,\n",
      "            'VrachtautoExclTrekkerVoorOplegger_12': 61746},\n",
      "           {'Aanhangwagen_17': 1029636,\n",
      "            'Bestelauto_11': 945433,\n",
      "            'Bus_15': 9050,\n",
      "            'ID': 2,\n",
      "            'InBezitNatuurlijkePersonenRelatief_6': 440,\n",
      "            'InBezitNatuurlijkePersonen_5': 7683236,\n",
      "            'MotorfietsenRelatief_20': 38,\n",
      "            'Oplegger_18': 170014,\n",
      "            'Perioden': '2021JJ00',\n",
      "            'PersonenautoSRelatief_4': 497,\n",
      "            'RegioS': 'NL01  ',\n",
      "            'SpeciaalVoertuig_14': 56494,\n",
      "            'TotaalAanhangwagensEnOpleggers_16': 1199650,\n",
      "            'TotaalAanhangwagensEnOpleggers_9': 1199650,\n",
      "            'TotaalBedrijfsmotorvoertuigen_10': 1151740,\n",
      "            'TotaalBedrijfsmotorvoertuigen_8': 1151740,\n",
      "            'TotaalBedrijfsvoertuigen_7': 2351390,\n",
      "            'TotaalMotorfietsen_19': 666597,\n",
      "            'TotaalMotorvoertuigen_2': 10504756,\n",
      "            'TotaalPersonenautoS_3': 8686419,\n",
      "            'TotaalWegvoertuigen_1': 11704406,\n",
      "            'TrekkerVoorOplegger_13': 79932,\n",
      "            'VrachtautoExclTrekkerVoorOplegger_12': 60831},\n",
      "           {'Aanhangwagen_17': 1051486,\n",
      "            'Bestelauto_11': 974792,\n",
      "            'Bus_15': 8532,\n",
      "            'ID': 3,\n",
      "            'InBezitNatuurlijkePersonenRelatief_6': 444,\n",
      "            'InBezitNatuurlijkePersonen_5': 7803950,\n",
      "            'MotorfietsenRelatief_20': 39,\n",
      "            'Oplegger_18': 177294,\n",
      "            'Perioden': '2022JJ00',\n",
      "            'PersonenautoSRelatief_4': 502,\n",
      "            'RegioS': 'NL01  ',\n",
      "            'SpeciaalVoertuig_14': 56230,\n",
      "            'TotaalAanhangwagensEnOpleggers_16': 1228780,\n",
      "            'TotaalAanhangwagensEnOpleggers_9': 1228780,\n",
      "            'TotaalBedrijfsmotorvoertuigen_10': 1182857,\n",
      "            'TotaalBedrijfsmotorvoertuigen_8': 1182857,\n",
      "            'TotaalBedrijfsvoertuigen_7': 2411637,\n",
      "            'TotaalMotorfietsen_19': 677787,\n",
      "            'TotaalMotorvoertuigen_2': 10688353,\n",
      "            'TotaalPersonenautoS_3': 8827709,\n",
      "            'TotaalWegvoertuigen_1': 11917133,\n",
      "            'TrekkerVoorOplegger_13': 82436,\n",
      "            'VrachtautoExclTrekkerVoorOplegger_12': 60867},\n",
      "           {'Aanhangwagen_17': 1069827,\n",
      "            'Bestelauto_11': 989841,\n",
      "            'Bus_15': 8756,\n",
      "            'ID': 4,\n",
      "            'InBezitNatuurlijkePersonenRelatief_6': 440,\n",
      "            'InBezitNatuurlijkePersonen_5': 7842473,\n",
      "            'MotorfietsenRelatief_20': 39,\n",
      "            'Oplegger_18': 185262,\n",
      "            'Perioden': '2023JJ00',\n",
      "            'PersonenautoSRelatief_4': 501,\n",
      "            'RegioS': 'NL01  ',\n",
      "            'SpeciaalVoertuig_14': 55974,\n",
      "            'TotaalAanhangwagensEnOpleggers_16': 1255089,\n",
      "            'TotaalAanhangwagensEnOpleggers_9': 1255089,\n",
      "            'TotaalBedrijfsmotorvoertuigen_10': 1201061,\n",
      "            'TotaalBedrijfsmotorvoertuigen_8': 1201061,\n",
      "            'TotaalBedrijfsvoertuigen_7': 2456150,\n",
      "            'TotaalMotorfietsen_19': 690724,\n",
      "            'TotaalMotorvoertuigen_2': 10808892,\n",
      "            'TotaalPersonenautoS_3': 8917107,\n",
      "            'TotaalWegvoertuigen_1': 12063981,\n",
      "            'TrekkerVoorOplegger_13': 85679,\n",
      "            'VrachtautoExclTrekkerVoorOplegger_12': 60811},\n",
      "           {'Aanhangwagen_17': 1077996,\n",
      "            'Bestelauto_11': 1006477,\n",
      "            'Bus_15': 8675,\n",
      "            'ID': 5,\n",
      "            'InBezitNatuurlijkePersonenRelatief_6': 443,\n",
      "            'InBezitNatuurlijkePersonen_5': 7946287,\n",
      "            'MotorfietsenRelatief_20': 39,\n",
      "            'Oplegger_18': 188179,\n",
      "            'Perioden': '2024JJ00',\n",
      "            'PersonenautoSRelatief_4': 505,\n",
      "            'RegioS': 'NL01  ',\n",
      "            'SpeciaalVoertuig_14': 55563,\n",
      "            'TotaalAanhangwagensEnOpleggers_16': 1266175,\n",
      "            'TotaalAanhangwagensEnOpleggers_9': 1266175,\n",
      "            'TotaalBedrijfsmotorvoertuigen_10': 1218693,\n",
      "            'TotaalBedrijfsmotorvoertuigen_8': 1218693,\n",
      "            'TotaalBedrijfsvoertuigen_7': 2484868,\n",
      "            'TotaalMotorfietsen_19': 703315,\n",
      "            'TotaalMotorvoertuigen_2': 10989401,\n",
      "            'TotaalPersonenautoS_3': 9067393,\n",
      "            'TotaalWegvoertuigen_1': 12255576,\n",
      "            'TrekkerVoorOplegger_13': 86457,\n",
      "            'VrachtautoExclTrekkerVoorOplegger_12': 61521},\n",
      "           {'Aanhangwagen_17': 1096141,\n",
      "            'Bestelauto_11': 1050688,\n",
      "            'Bus_15': 9233,\n",
      "            'ID': 6,\n",
      "            'InBezitNatuurlijkePersonenRelatief_6': 450,\n",
      "            'InBezitNatuurlijkePersonen_5': 8112145,\n",
      "            'MotorfietsenRelatief_20': 40,\n",
      "            'Oplegger_18': 188898,\n",
      "            'Perioden': '2025JJ00',\n",
      "            'PersonenautoSRelatief_4': 513,\n",
      "            'RegioS': 'NL01  ',\n",
      "            'SpeciaalVoertuig_14': 54937,\n",
      "            'TotaalAanhangwagensEnOpleggers_16': 1285039,\n",
      "            'TotaalAanhangwagensEnOpleggers_9': 1285039,\n",
      "            'TotaalBedrijfsmotorvoertuigen_10': 1265892,\n",
      "            'TotaalBedrijfsmotorvoertuigen_8': 1265892,\n",
      "            'TotaalBedrijfsvoertuigen_7': 2550931,\n",
      "            'TotaalMotorfietsen_19': 720591,\n",
      "            'TotaalMotorvoertuigen_2': 11234293,\n",
      "            'TotaalPersonenautoS_3': 9247810,\n",
      "            'TotaalWegvoertuigen_1': 12519332,\n",
      "            'TrekkerVoorOplegger_13': 87837,\n",
      "            'VrachtautoExclTrekkerVoorOplegger_12': 63197},\n",
      "           {'Aanhangwagen_17': 153306,\n",
      "            'Bestelauto_11': 105174,\n",
      "            'Bus_15': 1709,\n",
      "            'ID': 7,\n",
      "            'InBezitNatuurlijkePersonenRelatief_6': 469,\n",
      "            'InBezitNatuurlijkePersonen_5': 807624,\n",
      "            'MotorfietsenRelatief_20': 47,\n",
      "            'Oplegger_18': 10989,\n",
      "            'Perioden': '2019JJ00',\n",
      "            'PersonenautoSRelatief_4': 500,\n",
      "            'RegioS': 'LD01  ',\n",
      "            'SpeciaalVoertuig_14': 8205,\n",
      "            'TotaalAanhangwagensEnOpleggers_16': 164295,\n",
      "            'TotaalAanhangwagensEnOpleggers_9': 164295,\n",
      "            'TotaalBedrijfsmotorvoertuigen_10': 128606,\n",
      "            'TotaalBedrijfsmotorvoertuigen_8': 128606,\n",
      "            'TotaalBedrijfsvoertuigen_7': 292901,\n",
      "            'TotaalMotorfietsen_19': 80530,\n",
      "            'TotaalMotorvoertuigen_2': 1071110,\n",
      "            'TotaalPersonenautoS_3': 861974,\n",
      "            'TotaalWegvoertuigen_1': 1235405,\n",
      "            'TrekkerVoorOplegger_13': 7520,\n",
      "            'VrachtautoExclTrekkerVoorOplegger_12': 5998},\n",
      "           {'Aanhangwagen_17': 155921,\n",
      "            'Bestelauto_11': 108085,\n",
      "            'Bus_15': 1827,\n",
      "            'ID': 8,\n",
      "            'InBezitNatuurlijkePersonenRelatief_6': 474,\n",
      "            'InBezitNatuurlijkePersonen_5': 819862,\n",
      "            'MotorfietsenRelatief_20': 47,\n",
      "            'Oplegger_18': 11325,\n",
      "            'Perioden': '2020JJ00',\n",
      "            'PersonenautoSRelatief_4': 507,\n",
      "            'RegioS': 'LD01  ',\n",
      "            'SpeciaalVoertuig_14': 8170,\n",
      "            'TotaalAanhangwagensEnOpleggers_16': 167246,\n",
      "            'TotaalAanhangwagensEnOpleggers_9': 167246,\n",
      "            'TotaalBedrijfsmotorvoertuigen_10': 131784,\n",
      "            'TotaalBedrijfsmotorvoertuigen_8': 131784,\n",
      "            'TotaalBedrijfsvoertuigen_7': 299030,\n",
      "            'TotaalMotorfietsen_19': 81359,\n",
      "            'TotaalMotorvoertuigen_2': 1090809,\n",
      "            'TotaalPersonenautoS_3': 877666,\n",
      "            'TotaalWegvoertuigen_1': 1258055,\n",
      "            'TrekkerVoorOplegger_13': 7640,\n",
      "            'VrachtautoExclTrekkerVoorOplegger_12': 6062},\n",
      "           {'Aanhangwagen_17': 157735,\n",
      "            'Bestelauto_11': 111159,\n",
      "            'Bus_15': 1799,\n",
      "            'ID': 9,\n",
      "            'InBezitNatuurlijkePersonenRelatief_6': 482,\n",
      "            'InBezitNatuurlijkePersonen_5': 834668,\n",
      "            'MotorfietsenRelatief_20': 48,\n",
      "            'Oplegger_18': 11609,\n",
      "            'Perioden': '2021JJ00',\n",
      "            'PersonenautoSRelatief_4': 515,\n",
      "            'RegioS': 'LD01  ',\n",
      "            'SpeciaalVoertuig_14': 8118,\n",
      "            'TotaalAanhangwagensEnOpleggers_16': 169344,\n",
      "            'TotaalAanhangwagensEnOpleggers_9': 169344,\n",
      "            'TotaalBedrijfsmotorvoertuigen_10': 134677,\n",
      "            'TotaalBedrijfsmotorvoertuigen_8': 134677,\n",
      "            'TotaalBedrijfsvoertuigen_7': 304021,\n",
      "            'TotaalMotorfietsen_19': 83084,\n",
      "            'TotaalMotorvoertuigen_2': 1110551,\n",
      "            'TotaalPersonenautoS_3': 892790,\n",
      "            'TotaalWegvoertuigen_1': 1279895,\n",
      "            'TrekkerVoorOplegger_13': 7640,\n",
      "            'VrachtautoExclTrekkerVoorOplegger_12': 5961},\n",
      "           {'Aanhangwagen_17': 161460,\n",
      "            'Bestelauto_11': 114632,\n",
      "            'Bus_15': 1754,\n",
      "            'ID': 10,\n",
      "            'InBezitNatuurlijkePersonenRelatief_6': 487,\n",
      "            'InBezitNatuurlijkePersonen_5': 849120,\n",
      "            'MotorfietsenRelatief_20': 49,\n",
      "            'Oplegger_18': 12176,\n",
      "            'Perioden': '2022JJ00',\n",
      "            'PersonenautoSRelatief_4': 522,\n",
      "            'RegioS': 'LD01  ',\n",
      "            'SpeciaalVoertuig_14': 8018,\n",
      "            'TotaalAanhangwagensEnOpleggers_16': 173636,\n",
      "            'TotaalAanhangwagensEnOpleggers_9': 173636,\n",
      "            'TotaalBedrijfsmotorvoertuigen_10': 138277,\n",
      "            'TotaalBedrijfsmotorvoertuigen_8': 138277,\n",
      "            'TotaalBedrijfsvoertuigen_7': 311913,\n",
      "            'TotaalMotorfietsen_19': 84813,\n",
      "            'TotaalMotorvoertuigen_2': 1132392,\n",
      "            'TotaalPersonenautoS_3': 909302,\n",
      "            'TotaalWegvoertuigen_1': 1306028,\n",
      "            'TrekkerVoorOplegger_13': 7841,\n",
      "            'VrachtautoExclTrekkerVoorOplegger_12': 6032},\n",
      "           {'Aanhangwagen_17': 164967,\n",
      "            'Bestelauto_11': 116242,\n",
      "            'Bus_15': 1770,\n",
      "            'ID': 11,\n",
      "            'InBezitNatuurlijkePersonenRelatief_6': 486,\n",
      "            'InBezitNatuurlijkePersonen_5': 854929,\n",
      "            'MotorfietsenRelatief_20': 49,\n",
      "            'Oplegger_18': 12758,\n",
      "            'Perioden': '2023JJ00',\n",
      "            'PersonenautoSRelatief_4': 523,\n",
      "            'RegioS': 'LD01  ',\n",
      "            'SpeciaalVoertuig_14': 7962,\n",
      "            'TotaalAanhangwagensEnOpleggers_16': 177725,\n",
      "            'TotaalAanhangwagensEnOpleggers_9': 177725,\n",
      "            'TotaalBedrijfsmotorvoertuigen_10': 140306,\n",
      "            'TotaalBedrijfsmotorvoertuigen_8': 140306,\n",
      "            'TotaalBedrijfsvoertuigen_7': 318031,\n",
      "            'TotaalMotorfietsen_19': 86956,\n",
      "            'TotaalMotorvoertuigen_2': 1146105,\n",
      "            'TotaalPersonenautoS_3': 918843,\n",
      "            'TotaalWegvoertuigen_1': 1323830,\n",
      "            'TrekkerVoorOplegger_13': 8217,\n",
      "            'VrachtautoExclTrekkerVoorOplegger_12': 6115},\n",
      "           {'Aanhangwagen_17': 167549,\n",
      "            'Bestelauto_11': 118773,\n",
      "            'Bus_15': 1898,\n",
      "            'ID': 12,\n",
      "            'InBezitNatuurlijkePersonenRelatief_6': 491,\n",
      "            'InBezitNatuurlijkePersonen_5': 868136,\n",
      "            'MotorfietsenRelatief_20': 50,\n",
      "            'Oplegger_18': 13349,\n",
      "            'Perioden': '2024JJ00',\n",
      "            'PersonenautoSRelatief_4': 529,\n",
      "            'RegioS': 'LD01  ',\n",
      "            'SpeciaalVoertuig_14': 7973,\n",
      "            'TotaalAanhangwagensEnOpleggers_16': 180898,\n",
      "            'TotaalAanhangwagensEnOpleggers_9': 180898,\n",
      "            'TotaalBedrijfsmotorvoertuigen_10': 143319,\n",
      "            'TotaalBedrijfsmotorvoertuigen_8': 143319,\n",
      "            'TotaalBedrijfsvoertuigen_7': 324217,\n",
      "            'TotaalMotorfietsen_19': 88954,\n",
      "            'TotaalMotorvoertuigen_2': 1167559,\n",
      "            'TotaalPersonenautoS_3': 935286,\n",
      "            'TotaalWegvoertuigen_1': 1348457,\n",
      "            'TrekkerVoorOplegger_13': 8465,\n",
      "            'VrachtautoExclTrekkerVoorOplegger_12': 6210},\n",
      "           {'Aanhangwagen_17': 171492,\n",
      "            'Bestelauto_11': 124515,\n",
      "            'Bus_15': 2003,\n",
      "            'ID': 13,\n",
      "            'InBezitNatuurlijkePersonenRelatief_6': 501,\n",
      "            'InBezitNatuurlijkePersonen_5': 887989,\n",
      "            'MotorfietsenRelatief_20': 52,\n",
      "            'Oplegger_18': 13586,\n",
      "            'Perioden': '2025JJ00',\n",
      "            'PersonenautoSRelatief_4': 539,\n",
      "            'RegioS': 'LD01  ',\n",
      "            'SpeciaalVoertuig_14': 7839,\n",
      "            'TotaalAanhangwagensEnOpleggers_16': 185078,\n",
      "            'TotaalAanhangwagensEnOpleggers_9': 185078,\n",
      "            'TotaalBedrijfsmotorvoertuigen_10': 149385,\n",
      "            'TotaalBedrijfsmotorvoertuigen_8': 149385,\n",
      "            'TotaalBedrijfsvoertuigen_7': 334463,\n",
      "            'TotaalMotorfietsen_19': 91526,\n",
      "            'TotaalMotorvoertuigen_2': 1197613,\n",
      "            'TotaalPersonenautoS_3': 956702,\n",
      "            'TotaalWegvoertuigen_1': 1382691,\n",
      "            'TrekkerVoorOplegger_13': 8682,\n",
      "            'VrachtautoExclTrekkerVoorOplegger_12': 6346},\n",
      "           {'Aanhangwagen_17': 266932,\n",
      "            'Bestelauto_11': 220181,\n",
      "            'Bus_15': 1637,\n",
      "            'ID': 14,\n",
      "            'InBezitNatuurlijkePersonenRelatief_6': 453,\n",
      "            'InBezitNatuurlijkePersonen_5': 1650345,\n",
      "            'MotorfietsenRelatief_20': 41,\n",
      "            'Oplegger_18': 35185,\n",
      "            'Perioden': '2019JJ00',\n",
      "            'PersonenautoSRelatief_4': 538,\n",
      "            'RegioS': 'LD02  ',\n",
      "            'SpeciaalVoertuig_14': 13685,\n",
      "            'TotaalAanhangwagensEnOpleggers_16': 302117,\n",
      "            'TotaalAanhangwagensEnOpleggers_9': 302117,\n",
      "            'TotaalBedrijfsmotorvoertuigen_10': 270870,\n",
      "            'TotaalBedrijfsmotorvoertuigen_8': 270870,\n",
      "            'TotaalBedrijfsvoertuigen_7': 572987,\n",
      "            'TotaalMotorfietsen_19': 147951,\n",
      "            'TotaalMotorvoertuigen_2': 2379788,\n",
      "            'TotaalPersonenautoS_3': 1960967,\n",
      "            'TotaalWegvoertuigen_1': 2681905,\n",
      "            'TrekkerVoorOplegger_13': 19915,\n",
      "            'VrachtautoExclTrekkerVoorOplegger_12': 15452},\n",
      "           {'Aanhangwagen_17': 271720,\n",
      "            'Bestelauto_11': 223489,\n",
      "            'Bus_15': 1619,\n",
      "            'ID': 15,\n",
      "            'InBezitNatuurlijkePersonenRelatief_6': 456,\n",
      "            'InBezitNatuurlijkePersonen_5': 1675234,\n",
      "            'MotorfietsenRelatief_20': 41,\n",
      "            'Oplegger_18': 36744,\n",
      "            'Perioden': '2020JJ00',\n",
      "            'PersonenautoSRelatief_4': 543,\n",
      "            'RegioS': 'LD02  ',\n",
      "            'SpeciaalVoertuig_14': 13570,\n",
      "            'TotaalAanhangwagensEnOpleggers_16': 308464,\n",
      "            'TotaalAanhangwagensEnOpleggers_9': 308464,\n",
      "            'TotaalBedrijfsmotorvoertuigen_10': 274735,\n",
      "            'TotaalBedrijfsmotorvoertuigen_8': 274735,\n",
      "            'TotaalBedrijfsvoertuigen_7': 583199,\n",
      "            'TotaalMotorfietsen_19': 149856,\n",
      "            'TotaalMotorvoertuigen_2': 2417677,\n",
      "            'TotaalPersonenautoS_3': 1993086,\n",
      "            'TotaalWegvoertuigen_1': 2726141,\n",
      "            'TrekkerVoorOplegger_13': 20522,\n",
      "            'VrachtautoExclTrekkerVoorOplegger_12': 15535},\n",
      "           {'Aanhangwagen_17': 274090,\n",
      "            'Bestelauto_11': 228626,\n",
      "            'Bus_15': 1666,\n",
      "            'ID': 16,\n",
      "            'InBezitNatuurlijkePersonenRelatief_6': 463,\n",
      "            'InBezitNatuurlijkePersonen_5': 1709869,\n",
      "            'MotorfietsenRelatief_20': 41,\n",
      "            'Oplegger_18': 37882,\n",
      "            'Perioden': '2021JJ00',\n",
      "            'PersonenautoSRelatief_4': 544,\n",
      "            'RegioS': 'LD02  ',\n",
      "            'SpeciaalVoertuig_14': 13405,\n",
      "            'TotaalAanhangwagensEnOpleggers_16': 311972,\n",
      "            'TotaalAanhangwagensEnOpleggers_9': 311972,\n",
      "            'TotaalBedrijfsmotorvoertuigen_10': 279581,\n",
      "            'TotaalBedrijfsmotorvoertuigen_8': 279581,\n",
      "            'TotaalBedrijfsvoertuigen_7': 591553,\n",
      "            'TotaalMotorfietsen_19': 153077,\n",
      "            'TotaalMotorvoertuigen_2': 2439853,\n",
      "            'TotaalPersonenautoS_3': 2007195,\n",
      "            'TotaalWegvoertuigen_1': 2751825,\n",
      "            'TrekkerVoorOplegger_13': 20554,\n",
      "            'VrachtautoExclTrekkerVoorOplegger_12': 15330},\n",
      "           {'Aanhangwagen_17': 280953,\n",
      "            'Bestelauto_11': 235200,\n",
      "            'Bus_15': 1503,\n",
      "            'ID': 17,\n",
      "            'InBezitNatuurlijkePersonenRelatief_6': 469,\n",
      "            'InBezitNatuurlijkePersonen_5': 1742917,\n",
      "            'MotorfietsenRelatief_20': 42,\n",
      "            'Oplegger_18': 37584,\n",
      "            'Perioden': '2022JJ00',\n",
      "            'PersonenautoSRelatief_4': 548,\n",
      "            'RegioS': 'LD02  ',\n",
      "            'SpeciaalVoertuig_14': 13404,\n",
      "            'TotaalAanhangwagensEnOpleggers_16': 318537,\n",
      "            'TotaalAanhangwagensEnOpleggers_9': 318537,\n",
      "            'TotaalBedrijfsmotorvoertuigen_10': 286804,\n",
      "            'TotaalBedrijfsmotorvoertuigen_8': 286804,\n",
      "            'TotaalBedrijfsvoertuigen_7': 605341,\n",
      "            'TotaalMotorfietsen_19': 156164,\n",
      "            'TotaalMotorvoertuigen_2': 2479477,\n",
      "            'TotaalPersonenautoS_3': 2036509,\n",
      "            'TotaalWegvoertuigen_1': 2798014,\n",
      "            'TrekkerVoorOplegger_13': 21325,\n",
      "            'VrachtautoExclTrekkerVoorOplegger_12': 15372},\n",
      "           {'Aanhangwagen_17': 286448,\n",
      "            'Bestelauto_11': 237536,\n",
      "            'Bus_15': 1325,\n",
      "            'ID': 18,\n",
      "            'InBezitNatuurlijkePersonenRelatief_6': 466,\n",
      "            'InBezitNatuurlijkePersonen_5': 1755265,\n",
      "            'MotorfietsenRelatief_20': 42,\n",
      "            'Oplegger_18': 38653,\n",
      "            'Perioden': '2023JJ00',\n",
      "            'PersonenautoSRelatief_4': 546,\n",
      "            'RegioS': 'LD02  ',\n",
      "            'SpeciaalVoertuig_14': 13389,\n",
      "            'TotaalAanhangwagensEnOpleggers_16': 325101,\n",
      "            'TotaalAanhangwagensEnOpleggers_9': 325101,\n",
      "            'TotaalBedrijfsmotorvoertuigen_10': 289662,\n",
      "            'TotaalBedrijfsmotorvoertuigen_8': 289662,\n",
      "            'TotaalBedrijfsvoertuigen_7': 614763,\n",
      "            'TotaalMotorfietsen_19': 159496,\n",
      "            'TotaalMotorvoertuigen_2': 2502221,\n",
      "            'TotaalPersonenautoS_3': 2053063,\n",
      "            'TotaalWegvoertuigen_1': 2827322,\n",
      "            'TrekkerVoorOplegger_13': 21966,\n",
      "            'VrachtautoExclTrekkerVoorOplegger_12': 15446},\n",
      "           {'Aanhangwagen_17': 289266,\n",
      "            'Bestelauto_11': 243028,\n",
      "            'Bus_15': 1172,\n",
      "            'ID': 19,\n",
      "            'InBezitNatuurlijkePersonenRelatief_6': 471,\n",
      "            'InBezitNatuurlijkePersonen_5': 1784371,\n",
      "            'MotorfietsenRelatief_20': 43,\n",
      "            'Oplegger_18': 39347,\n",
      "            'Perioden': '2024JJ00',\n",
      "            'PersonenautoSRelatief_4': 554,\n",
      "            'RegioS': 'LD02  ',\n",
      "            'SpeciaalVoertuig_14': 13427,\n",
      "            'TotaalAanhangwagensEnOpleggers_16': 328613,\n",
      "            'TotaalAanhangwagensEnOpleggers_9': 328613,\n",
      "            'TotaalBedrijfsmotorvoertuigen_10': 295088,\n",
      "            'TotaalBedrijfsmotorvoertuigen_8': 295088,\n",
      "            'TotaalBedrijfsvoertuigen_7': 623701,\n",
      "            'TotaalMotorfietsen_19': 162832,\n",
      "            'TotaalMotorvoertuigen_2': 2557678,\n",
      "            'TotaalPersonenautoS_3': 2099758,\n",
      "            'TotaalWegvoertuigen_1': 2886291,\n",
      "            'TrekkerVoorOplegger_13': 21908,\n",
      "            'VrachtautoExclTrekkerVoorOplegger_12': 15553},\n",
      "           {'Aanhangwagen_17': 295385,\n",
      "            'Bestelauto_11': 262354,\n",
      "            'Bus_15': 1177,\n",
      "            'ID': 20,\n",
      "            'InBezitNatuurlijkePersonenRelatief_6': 479,\n",
      "            'InBezitNatuurlijkePersonen_5': 1826667,\n",
      "            'MotorfietsenRelatief_20': 44,\n",
      "            'Oplegger_18': 39857,\n",
      "            'Perioden': '2025JJ00',\n",
      "            'PersonenautoSRelatief_4': 571,\n",
      "            'RegioS': 'LD02  ',\n",
      "            'SpeciaalVoertuig_14': 13370,\n",
      "            'TotaalAanhangwagensEnOpleggers_16': 335242,\n",
      "            'TotaalAanhangwagensEnOpleggers_9': 335242,\n",
      "            'TotaalBedrijfsmotorvoertuigen_10': 315090,\n",
      "            'TotaalBedrijfsmotorvoertuigen_8': 315090,\n",
      "            'TotaalBedrijfsvoertuigen_7': 650332,\n",
      "            'TotaalMotorfietsen_19': 167131,\n",
      "            'TotaalMotorvoertuigen_2': 2660938,\n",
      "            'TotaalPersonenautoS_3': 2178717,\n",
      "            'TotaalWegvoertuigen_1': 2996180,\n",
      "            'TrekkerVoorOplegger_13': 22227,\n",
      "            'VrachtautoExclTrekkerVoorOplegger_12': 15962},\n",
      "           {'Aanhangwagen_17': 348570,\n",
      "            'Bestelauto_11': 376944,\n",
      "            'Bus_15': 5266,\n",
      "            'ID': 21,\n",
      "            'InBezitNatuurlijkePersonenRelatief_6': 391,\n",
      "            'InBezitNatuurlijkePersonen_5': 3226511,\n",
      "            'MotorfietsenRelatief_20': 33,\n",
      "            'Oplegger_18': 67336,\n",
      "            'Perioden': '2019JJ00',\n",
      "            'PersonenautoSRelatief_4': 444,\n",
      "            'RegioS': 'LD03  ',\n",
      "            'SpeciaalVoertuig_14': 21580,\n",
      "            'TotaalAanhangwagensEnOpleggers_16': 415906,\n",
      "            'TotaalAanhangwagensEnOpleggers_9': 415906,\n",
      "            'TotaalBedrijfsmotorvoertuigen_10': 458063,\n",
      "            'TotaalBedrijfsmotorvoertuigen_8': 458063,\n",
      "            'TotaalBedrijfsvoertuigen_7': 873969,\n",
      "            'TotaalMotorfietsen_19': 272855,\n",
      "            'TotaalMotorvoertuigen_2': 4395686,\n",
      "            'TotaalPersonenautoS_3': 3664768,\n",
      "            'TotaalWegvoertuigen_1': 4811592,\n",
      "            'TrekkerVoorOplegger_13': 30181,\n",
      "            'VrachtautoExclTrekkerVoorOplegger_12': 24092},\n",
      "           {'Aanhangwagen_17': 352413,\n",
      "            'Bestelauto_11': 388986,\n",
      "            'Bus_15': 5367,\n",
      "            'ID': 22,\n",
      "            'InBezitNatuurlijkePersonenRelatief_6': 392,\n",
      "            'InBezitNatuurlijkePersonen_5': 3264412,\n",
      "            'MotorfietsenRelatief_20': 33,\n",
      "            'Oplegger_18': 68783,\n",
      "            'Perioden': '2020JJ00',\n",
      "            'PersonenautoSRelatief_4': 448,\n",
      "            'RegioS': 'LD03  ',\n",
      "            'SpeciaalVoertuig_14': 21324,\n",
      "            'TotaalAanhangwagensEnOpleggers_16': 421196,\n",
      "            'TotaalAanhangwagensEnOpleggers_9': 421196,\n",
      "            'TotaalBedrijfsmotorvoertuigen_10': 470475,\n",
      "            'TotaalBedrijfsmotorvoertuigen_8': 470475,\n",
      "            'TotaalBedrijfsvoertuigen_7': 891671,\n",
      "            'TotaalMotorfietsen_19': 277055,\n",
      "            'TotaalMotorvoertuigen_2': 4475788,\n",
      "            'TotaalPersonenautoS_3': 3728258,\n",
      "            'TotaalWegvoertuigen_1': 4896984,\n",
      "            'TrekkerVoorOplegger_13': 30726,\n",
      "            'VrachtautoExclTrekkerVoorOplegger_12': 24072},\n",
      "           {'Aanhangwagen_17': 351942,\n",
      "            'Bestelauto_11': 394589,\n",
      "            'Bus_15': 4743,\n",
      "            'ID': 23,\n",
      "            'InBezitNatuurlijkePersonenRelatief_6': 397,\n",
      "            'InBezitNatuurlijkePersonen_5': 3323349,\n",
      "            'MotorfietsenRelatief_20': 34,\n",
      "            'Oplegger_18': 69154,\n",
      "            'Perioden': '2021JJ00',\n",
      "            'PersonenautoSRelatief_4': 452,\n",
      "            'RegioS': 'LD03  ',\n",
      "            'SpeciaalVoertuig_14': 21011,\n",
      "            'TotaalAanhangwagensEnOpleggers_16': 421096,\n",
      "            'TotaalAanhangwagensEnOpleggers_9': 421096,\n",
      "            'TotaalBedrijfsmotorvoertuigen_10': 474642,\n",
      "            'TotaalBedrijfsmotorvoertuigen_8': 474642,\n",
      "            'TotaalBedrijfsvoertuigen_7': 895738,\n",
      "            'TotaalMotorfietsen_19': 281755,\n",
      "            'TotaalMotorvoertuigen_2': 4536614,\n",
      "            'TotaalPersonenautoS_3': 3780217,\n",
      "            'TotaalWegvoertuigen_1': 4957710,\n",
      "            'TrekkerVoorOplegger_13': 30689,\n",
      "            'VrachtautoExclTrekkerVoorOplegger_12': 23610},\n",
      "           {'Aanhangwagen_17': 357130,\n",
      "            'Bestelauto_11': 407179,\n",
      "            'Bus_15': 4490,\n",
      "            'ID': 24,\n",
      "            'InBezitNatuurlijkePersonenRelatief_6': 400,\n",
      "            'InBezitNatuurlijkePersonen_5': 3371983,\n",
      "            'MotorfietsenRelatief_20': 34,\n",
      "            'Oplegger_18': 74514,\n",
      "            'Perioden': '2022JJ00',\n",
      "            'PersonenautoSRelatief_4': 457,\n",
      "            'RegioS': 'LD03  ',\n",
      "            'SpeciaalVoertuig_14': 20949,\n",
      "            'TotaalAanhangwagensEnOpleggers_16': 431644,\n",
      "            'TotaalAanhangwagensEnOpleggers_9': 431644,\n",
      "            'TotaalBedrijfsmotorvoertuigen_10': 487782,\n",
      "            'TotaalBedrijfsmotorvoertuigen_8': 487782,\n",
      "            'TotaalBedrijfsvoertuigen_7': 919426,\n",
      "            'TotaalMotorfietsen_19': 285224,\n",
      "            'TotaalMotorvoertuigen_2': 4621605,\n",
      "            'TotaalPersonenautoS_3': 3848599,\n",
      "            'TotaalWegvoertuigen_1': 5053249,\n",
      "            'TrekkerVoorOplegger_13': 31697,\n",
      "            'VrachtautoExclTrekkerVoorOplegger_12': 23467},\n",
      "           {'Aanhangwagen_17': 361541,\n",
      "            'Bestelauto_11': 414825,\n",
      "            'Bus_15': 4813,\n",
      "            'ID': 25,\n",
      "            'InBezitNatuurlijkePersonenRelatief_6': 396,\n",
      "            'InBezitNatuurlijkePersonen_5': 3384174,\n",
      "            'MotorfietsenRelatief_20': 34,\n",
      "            'Oplegger_18': 78400,\n",
      "            'Perioden': '2023JJ00',\n",
      "            'PersonenautoSRelatief_4': 456,\n",
      "            'RegioS': 'LD03  ',\n",
      "            'SpeciaalVoertuig_14': 20914,\n",
      "            'TotaalAanhangwagensEnOpleggers_16': 439941,\n",
      "            'TotaalAanhangwagensEnOpleggers_9': 439941,\n",
      "            'TotaalBedrijfsmotorvoertuigen_10': 497148,\n",
      "            'TotaalBedrijfsmotorvoertuigen_8': 497148,\n",
      "            'TotaalBedrijfsvoertuigen_7': 937089,\n",
      "            'TotaalMotorfietsen_19': 289410,\n",
      "            'TotaalMotorvoertuigen_2': 4676564,\n",
      "            'TotaalPersonenautoS_3': 3890006,\n",
      "            'TotaalWegvoertuigen_1': 5116505,\n",
      "            'TrekkerVoorOplegger_13': 33203,\n",
      "            'VrachtautoExclTrekkerVoorOplegger_12': 23393},\n",
      "           {'Aanhangwagen_17': 362307,\n",
      "            'Bestelauto_11': 419692,\n",
      "            'Bus_15': 4750,\n",
      "            'ID': 26,\n",
      "            'InBezitNatuurlijkePersonenRelatief_6': 398,\n",
      "            'InBezitNatuurlijkePersonen_5': 3422760,\n",
      "            'MotorfietsenRelatief_20': 34,\n",
      "            'Oplegger_18': 78744,\n",
      "            'Perioden': '2024JJ00',\n",
      "            'PersonenautoSRelatief_4': 459,\n",
      "            'RegioS': 'LD03  ',\n",
      "            'SpeciaalVoertuig_14': 20614,\n",
      "            'TotaalAanhangwagensEnOpleggers_16': 441051,\n",
      "            'TotaalAanhangwagensEnOpleggers_9': 441051,\n",
      "            'TotaalBedrijfsmotorvoertuigen_10': 502563,\n",
      "            'TotaalBedrijfsmotorvoertuigen_8': 502563,\n",
      "            'TotaalBedrijfsvoertuigen_7': 943614,\n",
      "            'TotaalMotorfietsen_19': 294011,\n",
      "            'TotaalMotorvoertuigen_2': 4744501,\n",
      "            'TotaalPersonenautoS_3': 3947927,\n",
      "            'TotaalWegvoertuigen_1': 5185552,\n",
      "            'TrekkerVoorOplegger_13': 33567,\n",
      "            'VrachtautoExclTrekkerVoorOplegger_12': 23940},\n",
      "           {'Aanhangwagen_17': 366041,\n",
      "            'Bestelauto_11': 429618,\n",
      "            'Bus_15': 5176,\n",
      "            'ID': 27,\n",
      "            'InBezitNatuurlijkePersonenRelatief_6': 403,\n",
      "            'InBezitNatuurlijkePersonen_5': 3490995,\n",
      "            'MotorfietsenRelatief_20': 35,\n",
      "            'Oplegger_18': 77801,\n",
      "            'Perioden': '2025JJ00',\n",
      "            'PersonenautoSRelatief_4': 461,\n",
      "            'RegioS': 'LD03  ',\n",
      "            'SpeciaalVoertuig_14': 20309,\n",
      "            'TotaalAanhangwagensEnOpleggers_16': 443842,\n",
      "            'TotaalAanhangwagensEnOpleggers_9': 443842,\n",
      "            'TotaalBedrijfsmotorvoertuigen_10': 513932,\n",
      "            'TotaalBedrijfsmotorvoertuigen_8': 513932,\n",
      "            'TotaalBedrijfsvoertuigen_7': 957774,\n",
      "            'TotaalMotorfietsen_19': 300876,\n",
      "            'TotaalMotorvoertuigen_2': 4804577,\n",
      "            'TotaalPersonenautoS_3': 3989769,\n",
      "            'TotaalWegvoertuigen_1': 5248419,\n",
      "            'TrekkerVoorOplegger_13': 34329,\n",
      "            'VrachtautoExclTrekkerVoorOplegger_12': 24500},\n",
      "           {'Aanhangwagen_17': 239604,\n",
      "            'Bestelauto_11': 200706,\n",
      "            'Bus_15': 901,\n",
      "            'ID': 28,\n",
      "            'InBezitNatuurlijkePersonenRelatief_6': 483,\n",
      "            'InBezitNatuurlijkePersonen_5': 1767605,\n",
      "            'MotorfietsenRelatief_20': 40,\n",
      "            'Oplegger_18': 50464,\n",
      "            'Perioden': '2019JJ00',\n",
      "            'PersonenautoSRelatief_4': 534,\n",
      "            'RegioS': 'LD04  ',\n",
      "            'SpeciaalVoertuig_14': 14223,\n",
      "            'TotaalAanhangwagensEnOpleggers_16': 290068,\n",
      "            'TotaalAanhangwagensEnOpleggers_9': 290068,\n",
      "            'TotaalBedrijfsmotorvoertuigen_10': 253112,\n",
      "            'TotaalBedrijfsmotorvoertuigen_8': 253112,\n",
      "            'TotaalBedrijfsvoertuigen_7': 543180,\n",
      "            'TotaalMotorfietsen_19': 144710,\n",
      "            'TotaalMotorvoertuigen_2': 2353095,\n",
      "            'TotaalPersonenautoS_3': 1955273,\n",
      "            'TotaalWegvoertuigen_1': 2643163,\n",
      "            'TrekkerVoorOplegger_13': 21172,\n",
      "            'VrachtautoExclTrekkerVoorOplegger_12': 16110},\n",
      "           {'Aanhangwagen_17': 243926,\n",
      "            'Bestelauto_11': 206691,\n",
      "            'Bus_15': 886,\n",
      "            'ID': 29,\n",
      "            'InBezitNatuurlijkePersonenRelatief_6': 486,\n",
      "            'InBezitNatuurlijkePersonen_5': 1789262,\n",
      "            'MotorfietsenRelatief_20': 40,\n",
      "            'Oplegger_18': 51650,\n",
      "            'Perioden': '2020JJ00',\n",
      "            'PersonenautoSRelatief_4': 539,\n",
      "            'RegioS': 'LD04  ',\n",
      "            'SpeciaalVoertuig_14': 14065,\n",
      "            'TotaalAanhangwagensEnOpleggers_16': 295576,\n",
      "            'TotaalAanhangwagensEnOpleggers_9': 295576,\n",
      "            'TotaalBedrijfsmotorvoertuigen_10': 258949,\n",
      "            'TotaalBedrijfsmotorvoertuigen_8': 258949,\n",
      "            'TotaalBedrijfsvoertuigen_7': 554525,\n",
      "            'TotaalMotorfietsen_19': 146117,\n",
      "            'TotaalMotorvoertuigen_2': 2390447,\n",
      "            'TotaalPersonenautoS_3': 1985381,\n",
      "            'TotaalWegvoertuigen_1': 2686023,\n",
      "            'TrekkerVoorOplegger_13': 21230,\n",
      "            'VrachtautoExclTrekkerVoorOplegger_12': 16077},\n",
      "           {'Aanhangwagen_17': 245869,\n",
      "            'Bestelauto_11': 211059,\n",
      "            'Bus_15': 842,\n",
      "            'ID': 30,\n",
      "            'InBezitNatuurlijkePersonenRelatief_6': 492,\n",
      "            'InBezitNatuurlijkePersonen_5': 1815350,\n",
      "            'MotorfietsenRelatief_20': 40,\n",
      "            'Oplegger_18': 51369,\n",
      "            'Perioden': '2021JJ00',\n",
      "            'PersonenautoSRelatief_4': 544,\n",
      "            'RegioS': 'LD04  ',\n",
      "            'SpeciaalVoertuig_14': 13960,\n",
      "            'TotaalAanhangwagensEnOpleggers_16': 297238,\n",
      "            'TotaalAanhangwagensEnOpleggers_9': 297238,\n",
      "            'TotaalBedrijfsmotorvoertuigen_10': 262840,\n",
      "            'TotaalBedrijfsmotorvoertuigen_8': 262840,\n",
      "            'TotaalBedrijfsvoertuigen_7': 560078,\n",
      "            'TotaalMotorfietsen_19': 148681,\n",
      "            'TotaalMotorvoertuigen_2': 2417738,\n",
      "            'TotaalPersonenautoS_3': 2006217,\n",
      "            'TotaalWegvoertuigen_1': 2714976,\n",
      "            'TrekkerVoorOplegger_13': 21049,\n",
      "            'VrachtautoExclTrekkerVoorOplegger_12': 15930},\n",
      "           {'Aanhangwagen_17': 251943,\n",
      "            'Bestelauto_11': 217781,\n",
      "            'Bus_15': 785,\n",
      "            'ID': 31,\n",
      "            'InBezitNatuurlijkePersonenRelatief_6': 496,\n",
      "            'InBezitNatuurlijkePersonen_5': 1839930,\n",
      "            'MotorfietsenRelatief_20': 41,\n",
      "            'Oplegger_18': 53020,\n",
      "            'Perioden': '2022JJ00',\n",
      "            'PersonenautoSRelatief_4': 548,\n",
      "            'RegioS': 'LD04  ',\n",
      "            'SpeciaalVoertuig_14': 13859,\n",
      "            'TotaalAanhangwagensEnOpleggers_16': 304963,\n",
      "            'TotaalAanhangwagensEnOpleggers_9': 304963,\n",
      "            'TotaalBedrijfsmotorvoertuigen_10': 269994,\n",
      "            'TotaalBedrijfsmotorvoertuigen_8': 269994,\n",
      "            'TotaalBedrijfsvoertuigen_7': 574957,\n",
      "            'TotaalMotorfietsen_19': 151586,\n",
      "            'TotaalMotorvoertuigen_2': 2454879,\n",
      "            'TotaalPersonenautoS_3': 2033299,\n",
      "            'TotaalWegvoertuigen_1': 2759842,\n",
      "            'TrekkerVoorOplegger_13': 21573,\n",
      "            'VrachtautoExclTrekkerVoorOplegger_12': 15996},\n",
      "           {'Aanhangwagen_17': 256871,\n",
      "            'Bestelauto_11': 221238,\n",
      "            'Bus_15': 848,\n",
      "            'ID': 32,\n",
      "            'InBezitNatuurlijkePersonenRelatief_6': 492,\n",
      "            'InBezitNatuurlijkePersonen_5': 1848105,\n",
      "            'MotorfietsenRelatief_20': 41,\n",
      "            'Oplegger_18': 55451,\n",
      "            'Perioden': '2023JJ00',\n",
      "            'PersonenautoSRelatief_4': 547,\n",
      "            'RegioS': 'LD04  ',\n",
      "            'SpeciaalVoertuig_14': 13709,\n",
      "            'TotaalAanhangwagensEnOpleggers_16': 312322,\n",
      "            'TotaalAanhangwagensEnOpleggers_9': 312322,\n",
      "            'TotaalBedrijfsmotorvoertuigen_10': 273945,\n",
      "            'TotaalBedrijfsmotorvoertuigen_8': 273945,\n",
      "            'TotaalBedrijfsvoertuigen_7': 586267,\n",
      "            'TotaalMotorfietsen_19': 154862,\n",
      "            'TotaalMotorvoertuigen_2': 2484002,\n",
      "            'TotaalPersonenautoS_3': 2055195,\n",
      "            'TotaalWegvoertuigen_1': 2796324,\n",
      "            'TrekkerVoorOplegger_13': 22293,\n",
      "            'VrachtautoExclTrekkerVoorOplegger_12': 15857},\n",
      "           {'Aanhangwagen_17': 258874,\n",
      "            'Bestelauto_11': 224984,\n",
      "            'Bus_15': 855,\n",
      "            'ID': 33,\n",
      "            'InBezitNatuurlijkePersonenRelatief_6': 495,\n",
      "            'InBezitNatuurlijkePersonen_5': 1871020,\n",
      "            'MotorfietsenRelatief_20': 42,\n",
      "            'Oplegger_18': 56739,\n",
      "            'Perioden': '2024JJ00',\n",
      "            'PersonenautoSRelatief_4': 552,\n",
      "            'RegioS': 'LD04  ',\n",
      "            'SpeciaalVoertuig_14': 13549,\n",
      "            'TotaalAanhangwagensEnOpleggers_16': 315613,\n",
      "            'TotaalAanhangwagensEnOpleggers_9': 315613,\n",
      "            'TotaalBedrijfsmotorvoertuigen_10': 277723,\n",
      "            'TotaalBedrijfsmotorvoertuigen_8': 277723,\n",
      "            'TotaalBedrijfsvoertuigen_7': 593336,\n",
      "            'TotaalMotorfietsen_19': 157518,\n",
      "            'TotaalMotorvoertuigen_2': 2519663,\n",
      "            'TotaalPersonenautoS_3': 2084422,\n",
      "            'TotaalWegvoertuigen_1': 2835276,\n",
      "            'TrekkerVoorOplegger_13': 22517,\n",
      "            'VrachtautoExclTrekkerVoorOplegger_12': 15818},\n",
      "           {'Aanhangwagen_17': 263223,\n",
      "            'Bestelauto_11': 234201,\n",
      "            'Bus_15': 877,\n",
      "            'ID': 34,\n",
      "            'InBezitNatuurlijkePersonenRelatief_6': 502,\n",
      "            'InBezitNatuurlijkePersonen_5': 1906494,\n",
      "            'MotorfietsenRelatief_20': 42,\n",
      "            'Oplegger_18': 57654,\n",
      "            'Perioden': '2025JJ00',\n",
      "            'PersonenautoSRelatief_4': 559,\n",
      "            'RegioS': 'LD04  ',\n",
      "            'SpeciaalVoertuig_14': 13419,\n",
      "            'TotaalAanhangwagensEnOpleggers_16': 320877,\n",
      "            'TotaalAanhangwagensEnOpleggers_9': 320877,\n",
      "            'TotaalBedrijfsmotorvoertuigen_10': 287485,\n",
      "            'TotaalBedrijfsmotorvoertuigen_8': 287485,\n",
      "            'TotaalBedrijfsvoertuigen_7': 608362,\n",
      "            'TotaalMotorfietsen_19': 161058,\n",
      "            'TotaalMotorvoertuigen_2': 2571165,\n",
      "            'TotaalPersonenautoS_3': 2122622,\n",
      "            'TotaalWegvoertuigen_1': 2892042,\n",
      "            'TrekkerVoorOplegger_13': 22599,\n",
      "            'VrachtautoExclTrekkerVoorOplegger_12': 16389},\n",
      "           {'Aanhangwagen_17': 44354,\n",
      "            'Bestelauto_11': 31359,\n",
      "            'Bus_15': 99,\n",
      "            'ID': 35,\n",
      "            'InBezitNatuurlijkePersonenRelatief_6': 431,\n",
      "            'InBezitNatuurlijkePersonen_5': 251789,\n",
      "            'MotorfietsenRelatief_20': 43,\n",
      "            'Oplegger_18': 2984,\n",
      "            'Perioden': '2019JJ00',\n",
      "            'PersonenautoSRelatief_4': 471,\n",
      "            'RegioS': 'PV20  ',\n",
      "            'SpeciaalVoertuig_14': 2624,\n",
      "            'TotaalAanhangwagensEnOpleggers_16': 47338,\n",
      "            'TotaalAanhangwagensEnOpleggers_9': 47338,\n",
      "            'TotaalBedrijfsmotorvoertuigen_10': 37610,\n",
      "            'TotaalBedrijfsmotorvoertuigen_8': 37610,\n",
      "            'TotaalBedrijfsvoertuigen_7': 84948,\n",
      "            'TotaalMotorfietsen_19': 24861,\n",
      "            'TotaalMotorvoertuigen_2': 337248,\n",
      "            'TotaalPersonenautoS_3': 274777,\n",
      "            'TotaalWegvoertuigen_1': 384586,\n",
      "            'TrekkerVoorOplegger_13': 1940,\n",
      "            'VrachtautoExclTrekkerVoorOplegger_12': 1588},\n",
      "           {'Aanhangwagen_17': 45012,\n",
      "            'Bestelauto_11': 32179,\n",
      "            'Bus_15': 291,\n",
      "            'ID': 36,\n",
      "            'InBezitNatuurlijkePersonenRelatief_6': 436,\n",
      "            'InBezitNatuurlijkePersonen_5': 255316,\n",
      "            'MotorfietsenRelatief_20': 43,\n",
      "            'Oplegger_18': 3089,\n",
      "            'Perioden': '2020JJ00',\n",
      "            'PersonenautoSRelatief_4': 477,\n",
      "            'RegioS': 'PV20  ',\n",
      "            'SpeciaalVoertuig_14': 2634,\n",
      "            'TotaalAanhangwagensEnOpleggers_16': 48101,\n",
      "            'TotaalAanhangwagensEnOpleggers_9': 48101,\n",
      "            'TotaalBedrijfsmotorvoertuigen_10': 38656,\n",
      "            'TotaalBedrijfsmotorvoertuigen_8': 38656,\n",
      "            'TotaalBedrijfsvoertuigen_7': 86757,\n",
      "            'TotaalMotorfietsen_19': 25055,\n",
      "            'TotaalMotorvoertuigen_2': 342992,\n",
      "            'TotaalPersonenautoS_3': 279281,\n",
      "            'TotaalWegvoertuigen_1': 391093,\n",
      "            'TrekkerVoorOplegger_13': 1970,\n",
      "            'VrachtautoExclTrekkerVoorOplegger_12': 1582},\n",
      "           {'Aanhangwagen_17': 45677,\n",
      "            'Bestelauto_11': 33225,\n",
      "            'Bus_15': 343,\n",
      "            'ID': 37,\n",
      "            'InBezitNatuurlijkePersonenRelatief_6': 444,\n",
      "            'InBezitNatuurlijkePersonen_5': 260707,\n",
      "            'MotorfietsenRelatief_20': 44,\n",
      "            'Oplegger_18': 3114,\n",
      "            'Perioden': '2021JJ00',\n",
      "            'PersonenautoSRelatief_4': 484,\n",
      "            'RegioS': 'PV20  ',\n",
      "            'SpeciaalVoertuig_14': 2625,\n",
      "            'TotaalAanhangwagensEnOpleggers_16': 48791,\n",
      "            'TotaalAanhangwagensEnOpleggers_9': 48791,\n",
      "            'TotaalBedrijfsmotorvoertuigen_10': 39761,\n",
      "            'TotaalBedrijfsmotorvoertuigen_8': 39761,\n",
      "            'TotaalBedrijfsvoertuigen_7': 88552,\n",
      "            'TotaalMotorfietsen_19': 25665,\n",
      "            'TotaalMotorvoertuigen_2': 349476,\n",
      "            'TotaalPersonenautoS_3': 284050,\n",
      "            'TotaalWegvoertuigen_1': 398267,\n",
      "            'TrekkerVoorOplegger_13': 1977,\n",
      "            'VrachtautoExclTrekkerVoorOplegger_12': 1591},\n",
      "           {'Aanhangwagen_17': 46662,\n",
      "            'Bestelauto_11': 34112,\n",
      "            'Bus_15': 346,\n",
      "            'ID': 38,\n",
      "            'InBezitNatuurlijkePersonenRelatief_6': 450,\n",
      "            'InBezitNatuurlijkePersonen_5': 265561,\n",
      "            'MotorfietsenRelatief_20': 45,\n",
      "            'Oplegger_18': 3218,\n",
      "            'Perioden': '2022JJ00',\n",
      "            'PersonenautoSRelatief_4': 491,\n",
      "            'RegioS': 'PV20  ',\n",
      "            'SpeciaalVoertuig_14': 2616,\n",
      "            'TotaalAanhangwagensEnOpleggers_16': 49880,\n",
      "            'TotaalAanhangwagensEnOpleggers_9': 49880,\n",
      "            'TotaalBedrijfsmotorvoertuigen_10': 40693,\n",
      "            'TotaalBedrijfsmotorvoertuigen_8': 40693,\n",
      "            'TotaalBedrijfsvoertuigen_7': 90573,\n",
      "            'TotaalMotorfietsen_19': 26277,\n",
      "            'TotaalMotorvoertuigen_2': 356506,\n",
      "            'TotaalPersonenautoS_3': 289536,\n",
      "            'TotaalWegvoertuigen_1': 406386,\n",
      "            'TrekkerVoorOplegger_13': 2008,\n",
      "            'VrachtautoExclTrekkerVoorOplegger_12': 1611},\n",
      "           {'Aanhangwagen_17': 47653,\n",
      "            'Bestelauto_11': 34680,\n",
      "            'Bus_15': 372,\n",
      "            'ID': 39,\n",
      "            'InBezitNatuurlijkePersonenRelatief_6': 448,\n",
      "            'InBezitNatuurlijkePersonen_5': 267111,\n",
      "            'MotorfietsenRelatief_20': 45,\n",
      "            'Oplegger_18': 3349,\n",
      "            'Perioden': '2023JJ00',\n",
      "            'PersonenautoSRelatief_4': 491,\n",
      "            'RegioS': 'PV20  ',\n",
      "            'SpeciaalVoertuig_14': 2565,\n",
      "            'TotaalAanhangwagensEnOpleggers_16': 51002,\n",
      "            'TotaalAanhangwagensEnOpleggers_9': 51002,\n",
      "            'TotaalBedrijfsmotorvoertuigen_10': 41382,\n",
      "            'TotaalBedrijfsmotorvoertuigen_8': 41382,\n",
      "            'TotaalBedrijfsvoertuigen_7': 92384,\n",
      "            'TotaalMotorfietsen_19': 26977,\n",
      "            'TotaalMotorvoertuigen_2': 360941,\n",
      "            'TotaalPersonenautoS_3': 292582,\n",
      "            'TotaalWegvoertuigen_1': 411943,\n",
      "            'TrekkerVoorOplegger_13': 2105,\n",
      "            'VrachtautoExclTrekkerVoorOplegger_12': 1660},\n",
      "           {'Aanhangwagen_17': 48247,\n",
      "            'Bestelauto_11': 35592,\n",
      "            'Bus_15': 380,\n",
      "            'ID': 40,\n",
      "            'InBezitNatuurlijkePersonenRelatief_6': 450,\n",
      "            'InBezitNatuurlijkePersonen_5': 270559,\n",
      "            'MotorfietsenRelatief_20': 46,\n",
      "            'Oplegger_18': 3442,\n",
      "            'Perioden': '2024JJ00',\n",
      "            'PersonenautoSRelatief_4': 495,\n",
      "            'RegioS': 'PV20  ',\n",
      "            'SpeciaalVoertuig_14': 2512,\n",
      "            'TotaalAanhangwagensEnOpleggers_16': 51689,\n",
      "            'TotaalAanhangwagensEnOpleggers_9': 51689,\n",
      "            'TotaalBedrijfsmotorvoertuigen_10': 42369,\n",
      "            'TotaalBedrijfsmotorvoertuigen_8': 42369,\n",
      "            'TotaalBedrijfsvoertuigen_7': 94058,\n",
      "            'TotaalMotorfietsen_19': 27538,\n",
      "            'TotaalMotorvoertuigen_2': 367859,\n",
      "            'TotaalPersonenautoS_3': 297952,\n",
      "            'TotaalWegvoertuigen_1': 419548,\n",
      "            'TrekkerVoorOplegger_13': 2169,\n",
      "            'VrachtautoExclTrekkerVoorOplegger_12': 1716},\n",
      "           {'Aanhangwagen_17': 49300,\n",
      "            'Bestelauto_11': 37387,\n",
      "            'Bus_15': 640,\n",
      "            'ID': 41,\n",
      "            'InBezitNatuurlijkePersonenRelatief_6': 459,\n",
      "            'InBezitNatuurlijkePersonen_5': 276699,\n",
      "            'MotorfietsenRelatief_20': 47,\n",
      "            'Oplegger_18': 3487,\n",
      "            'Perioden': '2025JJ00',\n",
      "            'PersonenautoSRelatief_4': 507,\n",
      "            'RegioS': 'PV20  ',\n",
      "            'SpeciaalVoertuig_14': 2463,\n",
      "            'TotaalAanhangwagensEnOpleggers_16': 52787,\n",
      "            'TotaalAanhangwagensEnOpleggers_9': 52787,\n",
      "            'TotaalBedrijfsmotorvoertuigen_10': 44432,\n",
      "            'TotaalBedrijfsmotorvoertuigen_8': 44432,\n",
      "            'TotaalBedrijfsvoertuigen_7': 97219,\n",
      "            'TotaalMotorfietsen_19': 28228,\n",
      "            'TotaalMotorvoertuigen_2': 378051,\n",
      "            'TotaalPersonenautoS_3': 305391,\n",
      "            'TotaalWegvoertuigen_1': 430838,\n",
      "            'TrekkerVoorOplegger_13': 2191,\n",
      "            'VrachtautoExclTrekkerVoorOplegger_12': 1751},\n",
      "           {'Aanhangwagen_17': 59499,\n",
      "            'Bestelauto_11': 44037,\n",
      "            'Bus_15': 1466,\n",
      "            'ID': 42,\n",
      "            'InBezitNatuurlijkePersonenRelatief_6': 474,\n",
      "            'InBezitNatuurlijkePersonen_5': 307068,\n",
      "            'MotorfietsenRelatief_20': 46,\n",
      "            'Oplegger_18': 4550,\n",
      "            'Perioden': '2019JJ00',\n",
      "            'PersonenautoSRelatief_4': 502,\n",
      "            'RegioS': 'PV21  ',\n",
      "            'SpeciaalVoertuig_14': 3369,\n",
      "            'TotaalAanhangwagensEnOpleggers_16': 64049,\n",
      "            'TotaalAanhangwagensEnOpleggers_9': 64049,\n",
      "            'TotaalBedrijfsmotorvoertuigen_10': 54886,\n",
      "            'TotaalBedrijfsmotorvoertuigen_8': 54886,\n",
      "            'TotaalBedrijfsvoertuigen_7': 118935,\n",
      "            'TotaalMotorfietsen_19': 29893,\n",
      "            'TotaalMotorvoertuigen_2': 409921,\n",
      "            'TotaalPersonenautoS_3': 325142,\n",
      "            'TotaalWegvoertuigen_1': 473970,\n",
      "            'TrekkerVoorOplegger_13': 3211,\n",
      "            'VrachtautoExclTrekkerVoorOplegger_12': 2803},\n",
      "           {'Aanhangwagen_17': 60681,\n",
      "            'Bestelauto_11': 45373,\n",
      "            'Bus_15': 1395,\n",
      "            'ID': 43,\n",
      "            'InBezitNatuurlijkePersonenRelatief_6': 480,\n",
      "            'InBezitNatuurlijkePersonen_5': 311807,\n",
      "            'MotorfietsenRelatief_20': 47,\n",
      "            'Oplegger_18': 4708,\n",
      "            'Perioden': '2020JJ00',\n",
      "            'PersonenautoSRelatief_4': 510,\n",
      "            'RegioS': 'PV21  ',\n",
      "            'SpeciaalVoertuig_14': 3336,\n",
      "            'TotaalAanhangwagensEnOpleggers_16': 65389,\n",
      "            'TotaalAanhangwagensEnOpleggers_9': 65389,\n",
      "            'TotaalBedrijfsmotorvoertuigen_10': 56222,\n",
      "            'TotaalBedrijfsmotorvoertuigen_8': 56222,\n",
      "            'TotaalBedrijfsvoertuigen_7': 121611,\n",
      "            'TotaalMotorfietsen_19': 30229,\n",
      "            'TotaalMotorvoertuigen_2': 417776,\n",
      "            'TotaalPersonenautoS_3': 331325,\n",
      "            'TotaalWegvoertuigen_1': 483165,\n",
      "            'TrekkerVoorOplegger_13': 3270,\n",
      "            'VrachtautoExclTrekkerVoorOplegger_12': 2848},\n",
      "           {'Aanhangwagen_17': 61454,\n",
      "            'Bestelauto_11': 46593,\n",
      "            'Bus_15': 1362,\n",
      "            'ID': 44,\n",
      "            'InBezitNatuurlijkePersonenRelatief_6': 487,\n",
      "            'InBezitNatuurlijkePersonen_5': 317251,\n",
      "            'MotorfietsenRelatief_20': 47,\n",
      "            'Oplegger_18': 4902,\n",
      "            'Perioden': '2021JJ00',\n",
      "            'PersonenautoSRelatief_4': 517,\n",
      "            'RegioS': 'PV21  ',\n",
      "            'SpeciaalVoertuig_14': 3287,\n",
      "            'TotaalAanhangwagensEnOpleggers_16': 66356,\n",
      "            'TotaalAanhangwagensEnOpleggers_9': 66356,\n",
      "            'TotaalBedrijfsmotorvoertuigen_10': 57263,\n",
      "            'TotaalBedrijfsmotorvoertuigen_8': 57263,\n",
      "            'TotaalBedrijfsvoertuigen_7': 123619,\n",
      "            'TotaalMotorfietsen_19': 30702,\n",
      "            'TotaalMotorvoertuigen_2': 424783,\n",
      "            'TotaalPersonenautoS_3': 336818,\n",
      "            'TotaalWegvoertuigen_1': 491139,\n",
      "            'TrekkerVoorOplegger_13': 3252,\n",
      "            'VrachtautoExclTrekkerVoorOplegger_12': 2769},\n",
      "           {'Aanhangwagen_17': 63167,\n",
      "            'Bestelauto_11': 48340,\n",
      "            'Bus_15': 1308,\n",
      "            'ID': 45,\n",
      "            'InBezitNatuurlijkePersonenRelatief_6': 493,\n",
      "            'InBezitNatuurlijkePersonen_5': 322604,\n",
      "            'MotorfietsenRelatief_20': 48,\n",
      "            'Oplegger_18': 5164,\n",
      "            'Perioden': '2022JJ00',\n",
      "            'PersonenautoSRelatief_4': 525,\n",
      "            'RegioS': 'PV21  ',\n",
      "            'SpeciaalVoertuig_14': 3234,\n",
      "            'TotaalAanhangwagensEnOpleggers_16': 68331,\n",
      "            'TotaalAanhangwagensEnOpleggers_9': 68331,\n",
      "            'TotaalBedrijfsmotorvoertuigen_10': 59069,\n",
      "            'TotaalBedrijfsmotorvoertuigen_8': 59069,\n",
      "            'TotaalBedrijfsvoertuigen_7': 127400,\n",
      "            'TotaalMotorfietsen_19': 31278,\n",
      "            'TotaalMotorvoertuigen_2': 433558,\n",
      "            'TotaalPersonenautoS_3': 343211,\n",
      "            'TotaalWegvoertuigen_1': 501889,\n",
      "            'TrekkerVoorOplegger_13': 3398,\n",
      "            'VrachtautoExclTrekkerVoorOplegger_12': 2789},\n",
      "           {'Aanhangwagen_17': 64727,\n",
      "            'Bestelauto_11': 49150,\n",
      "            'Bus_15': 1310,\n",
      "            'ID': 46,\n",
      "            'InBezitNatuurlijkePersonenRelatief_6': 493,\n",
      "            'InBezitNatuurlijkePersonen_5': 325308,\n",
      "            'MotorfietsenRelatief_20': 49,\n",
      "            'Oplegger_18': 5431,\n",
      "            'Perioden': '2023JJ00',\n",
      "            'PersonenautoSRelatief_4': 526,\n",
      "            'RegioS': 'PV21  ',\n",
      "            'SpeciaalVoertuig_14': 3230,\n",
      "            'TotaalAanhangwagensEnOpleggers_16': 70158,\n",
      "            'TotaalAanhangwagensEnOpleggers_9': 70158,\n",
      "            'TotaalBedrijfsmotorvoertuigen_10': 60027,\n",
      "            'TotaalBedrijfsmotorvoertuigen_8': 60027,\n",
      "            'TotaalBedrijfsvoertuigen_7': 130185,\n",
      "            'TotaalMotorfietsen_19': 32125,\n",
      "            'TotaalMotorvoertuigen_2': 439394,\n",
      "            'TotaalPersonenautoS_3': 347242,\n",
      "            'TotaalWegvoertuigen_1': 509552,\n",
      "            'TrekkerVoorOplegger_13': 3521,\n",
      "            'VrachtautoExclTrekkerVoorOplegger_12': 2816},\n",
      "           {'Aanhangwagen_17': 65905,\n",
      "            'Bestelauto_11': 50198,\n",
      "            'Bus_15': 1420,\n",
      "            'ID': 47,\n",
      "            'InBezitNatuurlijkePersonenRelatief_6': 500,\n",
      "            'InBezitNatuurlijkePersonen_5': 330842,\n",
      "            'MotorfietsenRelatief_20': 50,\n",
      "            'Oplegger_18': 5574,\n",
      "            'Perioden': '2024JJ00',\n",
      "            'PersonenautoSRelatief_4': 534,\n",
      "            'RegioS': 'PV21  ',\n",
      "            'SpeciaalVoertuig_14': 3285,\n",
      "            'TotaalAanhangwagensEnOpleggers_16': 71479,\n",
      "            'TotaalAanhangwagensEnOpleggers_9': 71479,\n",
      "            'TotaalBedrijfsmotorvoertuigen_10': 61273,\n",
      "            'TotaalBedrijfsmotorvoertuigen_8': 61273,\n",
      "            'TotaalBedrijfsvoertuigen_7': 132752,\n",
      "            'TotaalMotorfietsen_19': 32910,\n",
      "            'TotaalMotorvoertuigen_2': 447813,\n",
      "            'TotaalPersonenautoS_3': 353630,\n",
      "            'TotaalWegvoertuigen_1': 519292,\n",
      "            'TrekkerVoorOplegger_13': 3519,\n",
      "            'VrachtautoExclTrekkerVoorOplegger_12': 2851},\n",
      "           {'Aanhangwagen_17': 67559,\n",
      "            'Bestelauto_11': 52783,\n",
      "            'Bus_15': 1258,\n",
      "            'ID': 48,\n",
      "            'InBezitNatuurlijkePersonenRelatief_6': 510,\n",
      "            'InBezitNatuurlijkePersonen_5': 338646,\n",
      "            'MotorfietsenRelatief_20': 51,\n",
      "            'Oplegger_18': 5561,\n",
      "            'Perioden': '2025JJ00',\n",
      "            'PersonenautoSRelatief_4': 545,\n",
      "            'RegioS': 'PV21  ',\n",
      "            'SpeciaalVoertuig_14': 3268,\n",
      "            'TotaalAanhangwagensEnOpleggers_16': 73120,\n",
      "            'TotaalAanhangwagensEnOpleggers_9': 73120,\n",
      "            'TotaalBedrijfsmotorvoertuigen_10': 63776,\n",
      "            'TotaalBedrijfsmotorvoertuigen_8': 63776,\n",
      "            'TotaalBedrijfsvoertuigen_7': 136896,\n",
      "            'TotaalMotorfietsen_19': 33828,\n",
      "            'TotaalMotorvoertuigen_2': 459441,\n",
      "            'TotaalPersonenautoS_3': 361837,\n",
      "            'TotaalWegvoertuigen_1': 532561,\n",
      "            'TrekkerVoorOplegger_13': 3548,\n",
      "            'VrachtautoExclTrekkerVoorOplegger_12': 2919},\n",
      "           {'Aanhangwagen_17': 49453,\n",
      "            'Bestelauto_11': 29778,\n",
      "            'Bus_15': 144,\n",
      "            'ID': 49,\n",
      "            'InBezitNatuurlijkePersonenRelatief_6': 505,\n",
      "            'InBezitNatuurlijkePersonen_5': 248767,\n",
      "            'MotorfietsenRelatief_20': 52,\n",
      "            'Oplegger_18': 3455,\n",
      "            'Perioden': '2019JJ00',\n",
      "            'PersonenautoSRelatief_4': 532,\n",
      "            'RegioS': 'PV22  ',\n",
      "            'SpeciaalVoertuig_14': 2212,\n",
      "            'TotaalAanhangwagensEnOpleggers_16': 52908,\n",
      "            'TotaalAanhangwagensEnOpleggers_9': 52908,\n",
      "            'TotaalBedrijfsmotorvoertuigen_10': 36110,\n",
      "            'TotaalBedrijfsmotorvoertuigen_8': 36110,\n",
      "            'TotaalBedrijfsvoertuigen_7': 89018,\n",
      "            'TotaalMotorfietsen_19': 25776,\n",
      "            'TotaalMotorvoertuigen_2': 323941,\n",
      "            'TotaalPersonenautoS_3': 262055,\n",
      "            'TotaalWegvoertuigen_1': 376849,\n",
      "            'TrekkerVoorOplegger_13': 2369,\n",
      "            'VrachtautoExclTrekkerVoorOplegger_12': 1607},\n",
      "           {'Aanhangwagen_17': 50228,\n",
      "            'Bestelauto_11': 30533,\n",
      "            'Bus_15': 141,\n",
      "            'ID': 50,\n",
      "            'InBezitNatuurlijkePersonenRelatief_6': 512,\n",
      "            'InBezitNatuurlijkePersonen_5': 252739,\n",
      "            'MotorfietsenRelatief_20': 53,\n",
      "            'Oplegger_18': 3528,\n",
      "            'Perioden': '2020JJ00',\n",
      "            'PersonenautoSRelatief_4': 541,\n",
      "            'RegioS': 'PV22  ',\n",
      "            'SpeciaalVoertuig_14': 2200,\n",
      "            'TotaalAanhangwagensEnOpleggers_16': 53756,\n",
      "            'TotaalAanhangwagensEnOpleggers_9': 53756,\n",
      "            'TotaalBedrijfsmotorvoertuigen_10': 36906,\n",
      "            'TotaalBedrijfsmotorvoertuigen_8': 36906,\n",
      "            'TotaalBedrijfsvoertuigen_7': 90662,\n",
      "            'TotaalMotorfietsen_19': 26075,\n",
      "            'TotaalMotorvoertuigen_2': 330041,\n",
      "            'TotaalPersonenautoS_3': 267060,\n",
      "            'TotaalWegvoertuigen_1': 383797,\n",
      "            'TrekkerVoorOplegger_13': 2400,\n",
      "            'VrachtautoExclTrekkerVoorOplegger_12': 1632},\n",
      "           {'Aanhangwagen_17': 50604,\n",
      "            'Bestelauto_11': 31341,\n",
      "            'Bus_15': 94,\n",
      "            'ID': 51,\n",
      "            'InBezitNatuurlijkePersonenRelatief_6': 519,\n",
      "            'InBezitNatuurlijkePersonen_5': 256710,\n",
      "            'MotorfietsenRelatief_20': 54,\n",
      "            'Oplegger_18': 3593,\n",
      "            'Perioden': '2021JJ00',\n",
      "            'PersonenautoSRelatief_4': 550,\n",
      "            'RegioS': 'PV22  ',\n",
      "            'SpeciaalVoertuig_14': 2206,\n",
      "            'TotaalAanhangwagensEnOpleggers_16': 54197,\n",
      "            'TotaalAanhangwagensEnOpleggers_9': 54197,\n",
      "            'TotaalBedrijfsmotorvoertuigen_10': 37653,\n",
      "            'TotaalBedrijfsmotorvoertuigen_8': 37653,\n",
      "            'TotaalBedrijfsvoertuigen_7': 91850,\n",
      "            'TotaalMotorfietsen_19': 26717,\n",
      "            'TotaalMotorvoertuigen_2': 336292,\n",
      "            'TotaalPersonenautoS_3': 271922,\n",
      "            'TotaalWegvoertuigen_1': 390489,\n",
      "            'TrekkerVoorOplegger_13': 2411,\n",
      "            'VrachtautoExclTrekkerVoorOplegger_12': 1601},\n",
      "           {'Aanhangwagen_17': 51631,\n",
      "            'Bestelauto_11': 32180,\n",
      "            'Bus_15': 100,\n",
      "            'ID': 52,\n",
      "            'InBezitNatuurlijkePersonenRelatief_6': 524,\n",
      "            'InBezitNatuurlijkePersonen_5': 260955,\n",
      "            'MotorfietsenRelatief_20': 55,\n",
      "            'Oplegger_18': 3794,\n",
      "            'Perioden': '2022JJ00',\n",
      "            'PersonenautoSRelatief_4': 556,\n",
      "            'RegioS': 'PV22  ',\n",
      "            'SpeciaalVoertuig_14': 2168,\n",
      "            'TotaalAanhangwagensEnOpleggers_16': 55425,\n",
      "            'TotaalAanhangwagensEnOpleggers_9': 55425,\n",
      "            'TotaalBedrijfsmotorvoertuigen_10': 38515,\n",
      "            'TotaalBedrijfsmotorvoertuigen_8': 38515,\n",
      "            'TotaalBedrijfsvoertuigen_7': 93940,\n",
      "            'TotaalMotorfietsen_19': 27258,\n",
      "            'TotaalMotorvoertuigen_2': 342328,\n",
      "            'TotaalPersonenautoS_3': 276555,\n",
      "            'TotaalWegvoertuigen_1': 397753,\n",
      "            'TrekkerVoorOplegger_13': 2435,\n",
      "            'VrachtautoExclTrekkerVoorOplegger_12': 1632},\n",
      "           {'Aanhangwagen_17': 52587,\n",
      "            'Bestelauto_11': 32412,\n",
      "            'Bus_15': 88,\n",
      "            'ID': 53,\n",
      "            'InBezitNatuurlijkePersonenRelatief_6': 523,\n",
      "            'InBezitNatuurlijkePersonen_5': 262510,\n",
      "            'MotorfietsenRelatief_20': 55,\n",
      "            'Oplegger_18': 3978,\n",
      "            'Perioden': '2023JJ00',\n",
      "            'PersonenautoSRelatief_4': 556,\n",
      "            'RegioS': 'PV22  ',\n",
      "            'SpeciaalVoertuig_14': 2167,\n",
      "            'TotaalAanhangwagensEnOpleggers_16': 56565,\n",
      "            'TotaalAanhangwagensEnOpleggers_9': 56565,\n",
      "            'TotaalBedrijfsmotorvoertuigen_10': 38897,\n",
      "            'TotaalBedrijfsmotorvoertuigen_8': 38897,\n",
      "            'TotaalBedrijfsvoertuigen_7': 95462,\n",
      "            'TotaalMotorfietsen_19': 27854,\n",
      "            'TotaalMotorvoertuigen_2': 345770,\n",
      "            'TotaalPersonenautoS_3': 279019,\n",
      "            'TotaalWegvoertuigen_1': 402335,\n",
      "            'TrekkerVoorOplegger_13': 2591,\n",
      "            'VrachtautoExclTrekkerVoorOplegger_12': 1639},\n",
      "           {'Aanhangwagen_17': 53397,\n",
      "            'Bestelauto_11': 32983,\n",
      "            'Bus_15': 98,\n",
      "            'ID': 54,\n",
      "            'InBezitNatuurlijkePersonenRelatief_6': 529,\n",
      "            'InBezitNatuurlijkePersonen_5': 266735,\n",
      "            'MotorfietsenRelatief_20': 57,\n",
      "            'Oplegger_18': 4333,\n",
      "            'Perioden': '2024JJ00',\n",
      "            'PersonenautoSRelatief_4': 563,\n",
      "            'RegioS': 'PV22  ',\n",
      "            'SpeciaalVoertuig_14': 2176,\n",
      "            'TotaalAanhangwagensEnOpleggers_16': 57730,\n",
      "            'TotaalAanhangwagensEnOpleggers_9': 57730,\n",
      "            'TotaalBedrijfsmotorvoertuigen_10': 39677,\n",
      "            'TotaalBedrijfsmotorvoertuigen_8': 39677,\n",
      "            'TotaalBedrijfsvoertuigen_7': 97407,\n",
      "            'TotaalMotorfietsen_19': 28506,\n",
      "            'TotaalMotorvoertuigen_2': 351887,\n",
      "            'TotaalPersonenautoS_3': 283704,\n",
      "            'TotaalWegvoertuigen_1': 409617,\n",
      "            'TrekkerVoorOplegger_13': 2777,\n",
      "            'VrachtautoExclTrekkerVoorOplegger_12': 1643},\n",
      "           {'Aanhangwagen_17': 54633,\n",
      "            'Bestelauto_11': 34345,\n",
      "            'Bus_15': 105,\n",
      "            'ID': 55,\n",
      "            'InBezitNatuurlijkePersonenRelatief_6': 538,\n",
      "            'InBezitNatuurlijkePersonen_5': 272644,\n",
      "            'MotorfietsenRelatief_20': 58,\n",
      "            'Oplegger_18': 4538,\n",
      "            'Perioden': '2025JJ00',\n",
      "            'PersonenautoSRelatief_4': 571,\n",
      "            'RegioS': 'PV22  ',\n",
      "            'SpeciaalVoertuig_14': 2108,\n",
      "            'TotaalAanhangwagensEnOpleggers_16': 59171,\n",
      "            'TotaalAanhangwagensEnOpleggers_9': 59171,\n",
      "            'TotaalBedrijfsmotorvoertuigen_10': 41177,\n",
      "            'TotaalBedrijfsmotorvoertuigen_8': 41177,\n",
      "            'TotaalBedrijfsvoertuigen_7': 100348,\n",
      "            'TotaalMotorfietsen_19': 29470,\n",
      "            'TotaalMotorvoertuigen_2': 360121,\n",
      "            'TotaalPersonenautoS_3': 289474,\n",
      "            'TotaalWegvoertuigen_1': 419292,\n",
      "            'TrekkerVoorOplegger_13': 2943,\n",
      "            'VrachtautoExclTrekkerVoorOplegger_12': 1676},\n",
      "           {'Aanhangwagen_17': 93527,\n",
      "            'Bestelauto_11': 63481,\n",
      "            'Bus_15': 1133,\n",
      "            'ID': 56,\n",
      "            'InBezitNatuurlijkePersonenRelatief_6': 453,\n",
      "            'InBezitNatuurlijkePersonen_5': 524123,\n",
      "            'MotorfietsenRelatief_20': 42,\n",
      "            'Oplegger_18': 13071,\n",
      "            'Perioden': '2019JJ00',\n",
      "            'PersonenautoSRelatief_4': 494,\n",
      "            'RegioS': 'PV23  ',\n",
      "            'SpeciaalVoertuig_14': 4286,\n",
      "            'TotaalAanhangwagensEnOpleggers_16': 106598,\n",
      "            'TotaalAanhangwagensEnOpleggers_9': 106598,\n",
      "            'TotaalBedrijfsmotorvoertuigen_10': 79651,\n",
      "            'TotaalBedrijfsmotorvoertuigen_8': 79651,\n",
      "            'TotaalBedrijfsvoertuigen_7': 186249,\n",
      "            'TotaalMotorfietsen_19': 49139,\n",
      "            'TotaalMotorvoertuigen_2': 699634,\n",
      "            'TotaalPersonenautoS_3': 570844,\n",
      "            'TotaalWegvoertuigen_1': 806232,\n",
      "            'TrekkerVoorOplegger_13': 6430,\n",
      "            'VrachtautoExclTrekkerVoorOplegger_12': 4321},\n",
      "           {'Aanhangwagen_17': 95249,\n",
      "            'Bestelauto_11': 65343,\n",
      "            'Bus_15': 1124,\n",
      "            'ID': 57,\n",
      "            'InBezitNatuurlijkePersonenRelatief_6': 456,\n",
      "            'InBezitNatuurlijkePersonen_5': 530611,\n",
      "            'MotorfietsenRelatief_20': 43,\n",
      "            'Oplegger_18': 13670,\n",
      "            'Perioden': '2020JJ00',\n",
      "            'PersonenautoSRelatief_4': 499,\n",
      "            'RegioS': 'PV23  ',\n",
      "            'SpeciaalVoertuig_14': 4231,\n",
      "            'TotaalAanhangwagensEnOpleggers_16': 108919,\n",
      "            'TotaalAanhangwagensEnOpleggers_9': 108919,\n",
      "            'TotaalBedrijfsmotorvoertuigen_10': 81616,\n",
      "            'TotaalBedrijfsmotorvoertuigen_8': 81616,\n",
      "            'TotaalBedrijfsvoertuigen_7': 190535,\n",
      "            'TotaalMotorfietsen_19': 49666,\n",
      "            'TotaalMotorvoertuigen_2': 711711,\n",
      "            'TotaalPersonenautoS_3': 580429,\n",
      "            'TotaalWegvoertuigen_1': 820630,\n",
      "            'TrekkerVoorOplegger_13': 6591,\n",
      "            'VrachtautoExclTrekkerVoorOplegger_12': 4327},\n",
      "           {'Aanhangwagen_17': 95742,\n",
      "            'Bestelauto_11': 69029,\n",
      "            'Bus_15': 1222,\n",
      "            'ID': 58,\n",
      "            'InBezitNatuurlijkePersonenRelatief_6': 463,\n",
      "            'InBezitNatuurlijkePersonen_5': 540612,\n",
      "            'MotorfietsenRelatief_20': 44,\n",
      "            'Oplegger_18': 14296,\n",
      "            'Perioden': '2021JJ00',\n",
      "            'PersonenautoSRelatief_4': 505,\n",
      "            'RegioS': 'PV23  ',\n",
      "            'SpeciaalVoertuig_14': 4215,\n",
      "            'TotaalAanhangwagensEnOpleggers_16': 110038,\n",
      "            'TotaalAanhangwagensEnOpleggers_9': 110038,\n",
      "            'TotaalBedrijfsmotorvoertuigen_10': 85411,\n",
      "            'TotaalBedrijfsmotorvoertuigen_8': 85411,\n",
      "            'TotaalBedrijfsvoertuigen_7': 195449,\n",
      "            'TotaalMotorfietsen_19': 50756,\n",
      "            'TotaalMotorvoertuigen_2': 725505,\n",
      "            'TotaalPersonenautoS_3': 589338,\n",
      "            'TotaalWegvoertuigen_1': 835543,\n",
      "            'TrekkerVoorOplegger_13': 6675,\n",
      "            'VrachtautoExclTrekkerVoorOplegger_12': 4270},\n",
      "           {'Aanhangwagen_17': 97753,\n",
      "            'Bestelauto_11': 71319,\n",
      "            'Bus_15': 1068,\n",
      "            'ID': 59,\n",
      "            'InBezitNatuurlijkePersonenRelatief_6': 470,\n",
      "            'InBezitNatuurlijkePersonen_5': 550306,\n",
      "            'MotorfietsenRelatief_20': 44,\n",
      "            'Oplegger_18': 15030,\n",
      "            'Perioden': '2022JJ00',\n",
      "            'PersonenautoSRelatief_4': 513,\n",
      "            'RegioS': 'PV23  ',\n",
      "            'SpeciaalVoertuig_14': 4227,\n",
      "            'TotaalAanhangwagensEnOpleggers_16': 112783,\n",
      "            'TotaalAanhangwagensEnOpleggers_9': 112783,\n",
      "            'TotaalBedrijfsmotorvoertuigen_10': 87810,\n",
      "            'TotaalBedrijfsmotorvoertuigen_8': 87810,\n",
      "            'TotaalBedrijfsvoertuigen_7': 200593,\n",
      "            'TotaalMotorfietsen_19': 51899,\n",
      "            'TotaalMotorvoertuigen_2': 741164,\n",
      "            'TotaalPersonenautoS_3': 601455,\n",
      "            'TotaalWegvoertuigen_1': 853947,\n",
      "            'TrekkerVoorOplegger_13': 6880,\n",
      "            'VrachtautoExclTrekkerVoorOplegger_12': 4316},\n",
      "           {'Aanhangwagen_17': 99758,\n",
      "            'Bestelauto_11': 72482,\n",
      "            'Bus_15': 856,\n",
      "            'ID': 60,\n",
      "            'InBezitNatuurlijkePersonenRelatief_6': 468,\n",
      "            'InBezitNatuurlijkePersonen_5': 553856,\n",
      "            'MotorfietsenRelatief_20': 45,\n",
      "            'Oplegger_18': 15793,\n",
      "            'Perioden': '2023JJ00',\n",
      "            'PersonenautoSRelatief_4': 513,\n",
      "            'RegioS': 'PV23  ',\n",
      "            'SpeciaalVoertuig_14': 4174,\n",
      "            'TotaalAanhangwagensEnOpleggers_16': 115551,\n",
      "            'TotaalAanhangwagensEnOpleggers_9': 115551,\n",
      "            'TotaalBedrijfsmotorvoertuigen_10': 88972,\n",
      "            'TotaalBedrijfsmotorvoertuigen_8': 88972,\n",
      "            'TotaalBedrijfsvoertuigen_7': 204523,\n",
      "            'TotaalMotorfietsen_19': 53095,\n",
      "            'TotaalMotorvoertuigen_2': 749221,\n",
      "            'TotaalPersonenautoS_3': 607154,\n",
      "            'TotaalWegvoertuigen_1': 864772,\n",
      "            'TrekkerVoorOplegger_13': 7184,\n",
      "            'VrachtautoExclTrekkerVoorOplegger_12': 4276},\n",
      "           {'Aanhangwagen_17': 100765,\n",
      "            'Bestelauto_11': 74068,\n",
      "            'Bus_15': 690,\n",
      "            'ID': 61,\n",
      "            'InBezitNatuurlijkePersonenRelatief_6': 473,\n",
      "            'InBezitNatuurlijkePersonen_5': 562476,\n",
      "            'MotorfietsenRelatief_20': 46,\n",
      "            'Oplegger_18': 15941,\n",
      "            'Perioden': '2024JJ00',\n",
      "            'PersonenautoSRelatief_4': 520,\n",
      "            'RegioS': 'PV23  ',\n",
      "            'SpeciaalVoertuig_14': 4243,\n",
      "            'TotaalAanhangwagensEnOpleggers_16': 116706,\n",
      "            'TotaalAanhangwagensEnOpleggers_9': 116706,\n",
      "            'TotaalBedrijfsmotorvoertuigen_10': 90488,\n",
      "            'TotaalBedrijfsmotorvoertuigen_8': 90488,\n",
      "            'TotaalBedrijfsvoertuigen_7': 207194,\n",
      "            'TotaalMotorfietsen_19': 54331,\n",
      "            'TotaalMotorvoertuigen_2': 762766,\n",
      "            'TotaalPersonenautoS_3': 617947,\n",
      "            'TotaalWegvoertuigen_1': 879472,\n",
      "            'TrekkerVoorOplegger_13': 7161,\n",
      "            'VrachtautoExclTrekkerVoorOplegger_12': 4326},\n",
      "           {'Aanhangwagen_17': 103248,\n",
      "            'Bestelauto_11': 77499,\n",
      "            'Bus_15': 694,\n",
      "            'ID': 62,\n",
      "            'InBezitNatuurlijkePersonenRelatief_6': 482,\n",
      "            'InBezitNatuurlijkePersonen_5': 576430,\n",
      "            'MotorfietsenRelatief_20': 47,\n",
      "            'Oplegger_18': 16227,\n",
      "            'Perioden': '2025JJ00',\n",
      "            'PersonenautoSRelatief_4': 529,\n",
      "            'RegioS': 'PV23  ',\n",
      "            'SpeciaalVoertuig_14': 4152,\n",
      "            'TotaalAanhangwagensEnOpleggers_16': 119475,\n",
      "            'TotaalAanhangwagensEnOpleggers_9': 119475,\n",
      "            'TotaalBedrijfsmotorvoertuigen_10': 94055,\n",
      "            'TotaalBedrijfsmotorvoertuigen_8': 94055,\n",
      "            'TotaalBedrijfsvoertuigen_7': 213530,\n",
      "            'TotaalMotorfietsen_19': 55731,\n",
      "            'TotaalMotorvoertuigen_2': 782271,\n",
      "            'TotaalPersonenautoS_3': 632485,\n",
      "            'TotaalWegvoertuigen_1': 901746,\n",
      "            'TrekkerVoorOplegger_13': 7252,\n",
      "            'VrachtautoExclTrekkerVoorOplegger_12': 4458},\n",
      "           {'Aanhangwagen_17': 21810,\n",
      "            'Bestelauto_11': 46378,\n",
      "            'Bus_15': 59,\n",
      "            'ID': 63,\n",
      "            'InBezitNatuurlijkePersonenRelatief_6': 415,\n",
      "            'InBezitNatuurlijkePersonen_5': 172808,\n",
      "            'MotorfietsenRelatief_20': 36,\n",
      "            'Oplegger_18': 2359,\n",
      "            'Perioden': '2019JJ00',\n",
      "            'PersonenautoSRelatief_4': 894,\n",
      "            'RegioS': 'PV24  ',\n",
      "            'SpeciaalVoertuig_14': 1079,\n",
      "            'TotaalAanhangwagensEnOpleggers_16': 24169,\n",
      "            'TotaalAanhangwagensEnOpleggers_9': 24169,\n",
      "            'TotaalBedrijfsmotorvoertuigen_10': 50092,\n",
      "            'TotaalBedrijfsmotorvoertuigen_8': 50092,\n",
      "            'TotaalBedrijfsvoertuigen_7': 74261,\n",
      "            'TotaalMotorfietsen_19': 15091,\n",
      "            'TotaalMotorvoertuigen_2': 437606,\n",
      "            'TotaalPersonenautoS_3': 372423,\n",
      "            'TotaalWegvoertuigen_1': 461775,\n",
      "            'TrekkerVoorOplegger_13': 1414,\n",
      "            'VrachtautoExclTrekkerVoorOplegger_12': 1162},\n",
      "           {'Aanhangwagen_17': 22132,\n",
      "            'Bestelauto_11': 45089,\n",
      "            'Bus_15': 55,\n",
      "            'ID': 64,\n",
      "            'InBezitNatuurlijkePersonenRelatief_6': 419,\n",
      "            'InBezitNatuurlijkePersonen_5': 177066,\n",
      "            'MotorfietsenRelatief_20': 36,\n",
      "            'Oplegger_18': 2560,\n",
      "            'Perioden': '2020JJ00',\n",
      "            'PersonenautoSRelatief_4': 893,\n",
      "            'RegioS': 'PV24  ',\n",
      "            'SpeciaalVoertuig_14': 1071,\n",
      "            'TotaalAanhangwagensEnOpleggers_16': 24692,\n",
      "            'TotaalAanhangwagensEnOpleggers_9': 24692,\n",
      "            'TotaalBedrijfsmotorvoertuigen_10': 48867,\n",
      "            'TotaalBedrijfsmotorvoertuigen_8': 48867,\n",
      "            'TotaalBedrijfsvoertuigen_7': 73559,\n",
      "            'TotaalMotorfietsen_19': 15131,\n",
      "            'TotaalMotorvoertuigen_2': 441713,\n",
      "            'TotaalPersonenautoS_3': 377715,\n",
      "            'TotaalWegvoertuigen_1': 466405,\n",
      "            'TrekkerVoorOplegger_13': 1482,\n",
      "            'VrachtautoExclTrekkerVoorOplegger_12': 1170},\n",
      "           {'Aanhangwagen_17': 22186,\n",
      "            'Bestelauto_11': 44131,\n",
      "            'Bus_15': 51,\n",
      "            'ID': 65,\n",
      "            'InBezitNatuurlijkePersonenRelatief_6': 426,\n",
      "            'InBezitNatuurlijkePersonen_5': 182475,\n",
      "            'MotorfietsenRelatief_20': 36,\n",
      "            'Oplegger_18': 2591,\n",
      "            'Perioden': '2021JJ00',\n",
      "            'PersonenautoSRelatief_4': 851,\n",
      "            'RegioS': 'PV24  ',\n",
      "            'SpeciaalVoertuig_14': 1058,\n",
      "            'TotaalAanhangwagensEnOpleggers_16': 24777,\n",
      "            'TotaalAanhangwagensEnOpleggers_9': 24777,\n",
      "            'TotaalBedrijfsmotorvoertuigen_10': 47920,\n",
      "            'TotaalBedrijfsmotorvoertuigen_8': 47920,\n",
      "            'TotaalBedrijfsvoertuigen_7': 72697,\n",
      "            'TotaalMotorfietsen_19': 15579,\n",
      "            'TotaalMotorvoertuigen_2': 427961,\n",
      "            'TotaalPersonenautoS_3': 364462,\n",
      "            'TotaalWegvoertuigen_1': 452738,\n",
      "            'TrekkerVoorOplegger_13': 1505,\n",
      "            'VrachtautoExclTrekkerVoorOplegger_12': 1175},\n",
      "           {'Aanhangwagen_17': 22753,\n",
      "            'Bestelauto_11': 44157,\n",
      "            'Bus_15': 53,\n",
      "            'ID': 66,\n",
      "            'InBezitNatuurlijkePersonenRelatief_6': 432,\n",
      "            'InBezitNatuurlijkePersonen_5': 187926,\n",
      "            'MotorfietsenRelatief_20': 36,\n",
      "            'Oplegger_18': 2810,\n",
      "            'Perioden': '2022JJ00',\n",
      "            'PersonenautoSRelatief_4': 835,\n",
      "            'RegioS': 'PV24  ',\n",
      "            'SpeciaalVoertuig_14': 1030,\n",
      "            'TotaalAanhangwagensEnOpleggers_16': 25563,\n",
      "            'TotaalAanhangwagensEnOpleggers_9': 25563,\n",
      "            'TotaalBedrijfsmotorvoertuigen_10': 48016,\n",
      "            'TotaalBedrijfsmotorvoertuigen_8': 48016,\n",
      "            'TotaalBedrijfsvoertuigen_7': 73579,\n",
      "            'TotaalMotorfietsen_19': 15847,\n",
      "            'TotaalMotorvoertuigen_2': 427095,\n",
      "            'TotaalPersonenautoS_3': 363232,\n",
      "            'TotaalWegvoertuigen_1': 452658,\n",
      "            'TrekkerVoorOplegger_13': 1611,\n",
      "            'VrachtautoExclTrekkerVoorOplegger_12': 1165},\n",
      "           {'Aanhangwagen_17': 23239,\n",
      "            'Bestelauto_11': 44186,\n",
      "            'Bus_15': 61,\n",
      "            'ID': 67,\n",
      "            'InBezitNatuurlijkePersonenRelatief_6': 429,\n",
      "            'InBezitNatuurlijkePersonen_5': 190622,\n",
      "            'MotorfietsenRelatief_20': 36,\n",
      "            'Oplegger_18': 2939,\n",
      "            'Perioden': '2023JJ00',\n",
      "            'PersonenautoSRelatief_4': 820,\n",
      "            'RegioS': 'PV24  ',\n",
      "            'SpeciaalVoertuig_14': 1032,\n",
      "            'TotaalAanhangwagensEnOpleggers_16': 26178,\n",
      "            'TotaalAanhangwagensEnOpleggers_9': 26178,\n",
      "            'TotaalBedrijfsmotorvoertuigen_10': 48099,\n",
      "            'TotaalBedrijfsmotorvoertuigen_8': 48099,\n",
      "            'TotaalBedrijfsvoertuigen_7': 74277,\n",
      "            'TotaalMotorfietsen_19': 16169,\n",
      "            'TotaalMotorvoertuigen_2': 429053,\n",
      "            'TotaalPersonenautoS_3': 364785,\n",
      "            'TotaalWegvoertuigen_1': 455231,\n",
      "            'TrekkerVoorOplegger_13': 1664,\n",
      "            'VrachtautoExclTrekkerVoorOplegger_12': 1156},\n",
      "           {'Aanhangwagen_17': 23351,\n",
      "            'Bestelauto_11': 45445,\n",
      "            'Bus_15': 71,\n",
      "            'ID': 68,\n",
      "            'InBezitNatuurlijkePersonenRelatief_6': 433,\n",
      "            'InBezitNatuurlijkePersonen_5': 195238,\n",
      "            'MotorfietsenRelatief_20': 37,\n",
      "            'Oplegger_18': 2978,\n",
      "            'Perioden': '2024JJ00',\n",
      "            'PersonenautoSRelatief_4': 830,\n",
      "            'RegioS': 'PV24  ',\n",
      "            'SpeciaalVoertuig_14': 1061,\n",
      "            'TotaalAanhangwagensEnOpleggers_16': 26329,\n",
      "            'TotaalAanhangwagensEnOpleggers_9': 26329,\n",
      "            'TotaalBedrijfsmotorvoertuigen_10': 49412,\n",
      "            'TotaalBedrijfsmotorvoertuigen_8': 49412,\n",
      "            'TotaalBedrijfsvoertuigen_7': 75741,\n",
      "            'TotaalMotorfietsen_19': 16470,\n",
      "            'TotaalMotorvoertuigen_2': 440192,\n",
      "            'TotaalPersonenautoS_3': 374310,\n",
      "            'TotaalWegvoertuigen_1': 466521,\n",
      "            'TrekkerVoorOplegger_13': 1652,\n",
      "            'VrachtautoExclTrekkerVoorOplegger_12': 1183},\n",
      "           {'Aanhangwagen_17': 23736,\n",
      "            'Bestelauto_11': 55307,\n",
      "            'Bus_15': 69,\n",
      "            'ID': 69,\n",
      "            'InBezitNatuurlijkePersonenRelatief_6': 441,\n",
      "            'InBezitNatuurlijkePersonen_5': 201318,\n",
      "            'MotorfietsenRelatief_20': 37,\n",
      "            'Oplegger_18': 3152,\n",
      "            'Perioden': '2025JJ00',\n",
      "            'PersonenautoSRelatief_4': 910,\n",
      "            'RegioS': 'PV24  ',\n",
      "            'SpeciaalVoertuig_14': 1069,\n",
      "            'TotaalAanhangwagensEnOpleggers_16': 26888,\n",
      "            'TotaalAanhangwagensEnOpleggers_9': 26888,\n",
      "            'TotaalBedrijfsmotorvoertuigen_10': 59373,\n",
      "            'TotaalBedrijfsmotorvoertuigen_8': 59373,\n",
      "            'TotaalBedrijfsvoertuigen_7': 86261,\n",
      "            'TotaalMotorfietsen_19': 16911,\n",
      "            'TotaalMotorvoertuigen_2': 491558,\n",
      "            'TotaalPersonenautoS_3': 415274,\n",
      "            'TotaalWegvoertuigen_1': 518446,\n",
      "            'TrekkerVoorOplegger_13': 1729,\n",
      "            'VrachtautoExclTrekkerVoorOplegger_12': 1199},\n",
      "           {'Aanhangwagen_17': 151595,\n",
      "            'Bestelauto_11': 110322,\n",
      "            'Bus_15': 445,\n",
      "            'ID': 70,\n",
      "            'InBezitNatuurlijkePersonenRelatief_6': 460,\n",
      "            'InBezitNatuurlijkePersonen_5': 953414,\n",
      "            'MotorfietsenRelatief_20': 40,\n",
      "            'Oplegger_18': 19755,\n",
      "            'Perioden': '2019JJ00',\n",
      "            'PersonenautoSRelatief_4': 491,\n",
      "            'RegioS': 'PV25  ',\n",
      "            'SpeciaalVoertuig_14': 8320,\n",
      "            'TotaalAanhangwagensEnOpleggers_16': 171350,\n",
      "            'TotaalAanhangwagensEnOpleggers_9': 171350,\n",
      "            'TotaalBedrijfsmotorvoertuigen_10': 141127,\n",
      "            'TotaalBedrijfsmotorvoertuigen_8': 141127,\n",
      "            'TotaalBedrijfsvoertuigen_7': 312477,\n",
      "            'TotaalMotorfietsen_19': 83721,\n",
      "            'TotaalMotorvoertuigen_2': 1242548,\n",
      "            'TotaalPersonenautoS_3': 1017700,\n",
      "            'TotaalWegvoertuigen_1': 1413898,\n",
      "            'TrekkerVoorOplegger_13': 12071,\n",
      "            'VrachtautoExclTrekkerVoorOplegger_12': 9969},\n",
      "           {'Aanhangwagen_17': 154339,\n",
      "            'Bestelauto_11': 113057,\n",
      "            'Bus_15': 440,\n",
      "            'ID': 71,\n",
      "            'InBezitNatuurlijkePersonenRelatief_6': 464,\n",
      "            'InBezitNatuurlijkePersonen_5': 967557,\n",
      "            'MotorfietsenRelatief_20': 41,\n",
      "            'Oplegger_18': 20514,\n",
      "            'Perioden': '2020JJ00',\n",
      "            'PersonenautoSRelatief_4': 496,\n",
      "            'RegioS': 'PV25  ',\n",
      "            'SpeciaalVoertuig_14': 8268,\n",
      "            'TotaalAanhangwagensEnOpleggers_16': 174853,\n",
      "            'TotaalAanhangwagensEnOpleggers_9': 174853,\n",
      "            'TotaalBedrijfsmotorvoertuigen_10': 144252,\n",
      "            'TotaalBedrijfsmotorvoertuigen_8': 144252,\n",
      "            'TotaalBedrijfsvoertuigen_7': 319105,\n",
      "            'TotaalMotorfietsen_19': 85059,\n",
      "            'TotaalMotorvoertuigen_2': 1264253,\n",
      "            'TotaalPersonenautoS_3': 1034942,\n",
      "            'TotaalWegvoertuigen_1': 1439106,\n",
      "            'TrekkerVoorOplegger_13': 12449,\n",
      "            'VrachtautoExclTrekkerVoorOplegger_12': 10038},\n",
      "           {'Aanhangwagen_17': 156162,\n",
      "            'Bestelauto_11': 115466,\n",
      "            'Bus_15': 393,\n",
      "            'ID': 72,\n",
      "            'InBezitNatuurlijkePersonenRelatief_6': 471,\n",
      "            'InBezitNatuurlijkePersonen_5': 986782,\n",
      "            'MotorfietsenRelatief_20': 41,\n",
      "            'Oplegger_18': 20995,\n",
      "            'Perioden': '2021JJ00',\n",
      "            'PersonenautoSRelatief_4': 502,\n",
      "            'RegioS': 'PV25  ',\n",
      "            'SpeciaalVoertuig_14': 8132,\n",
      "            'TotaalAanhangwagensEnOpleggers_16': 177157,\n",
      "            'TotaalAanhangwagensEnOpleggers_9': 177157,\n",
      "            'TotaalBedrijfsmotorvoertuigen_10': 146250,\n",
      "            'TotaalBedrijfsmotorvoertuigen_8': 146250,\n",
      "            'TotaalBedrijfsvoertuigen_7': 323407,\n",
      "            'TotaalMotorfietsen_19': 86742,\n",
      "            'TotaalMotorvoertuigen_2': 1286387,\n",
      "            'TotaalPersonenautoS_3': 1053395,\n",
      "            'TotaalWegvoertuigen_1': 1463544,\n",
      "            'TrekkerVoorOplegger_13': 12374,\n",
      "            'VrachtautoExclTrekkerVoorOplegger_12': 9885},\n",
      "           {'Aanhangwagen_17': 160447,\n",
      "            'Bestelauto_11': 119724,\n",
      "            'Bus_15': 382,\n",
      "            'ID': 73,\n",
      "            'InBezitNatuurlijkePersonenRelatief_6': 476,\n",
      "            'InBezitNatuurlijkePersonen_5': 1004685,\n",
      "            'MotorfietsenRelatief_20': 42,\n",
      "            'Oplegger_18': 19744,\n",
      "            'Perioden': '2022JJ00',\n",
      "            'PersonenautoSRelatief_4': 508,\n",
      "            'RegioS': 'PV25  ',\n",
      "            'SpeciaalVoertuig_14': 8147,\n",
      "            'TotaalAanhangwagensEnOpleggers_16': 180191,\n",
      "            'TotaalAanhangwagensEnOpleggers_9': 180191,\n",
      "            'TotaalBedrijfsmotorvoertuigen_10': 150978,\n",
      "            'TotaalBedrijfsmotorvoertuigen_8': 150978,\n",
      "            'TotaalBedrijfsvoertuigen_7': 331169,\n",
      "            'TotaalMotorfietsen_19': 88418,\n",
      "            'TotaalMotorvoertuigen_2': 1311218,\n",
      "            'TotaalPersonenautoS_3': 1071822,\n",
      "            'TotaalWegvoertuigen_1': 1491409,\n",
      "            'TrekkerVoorOplegger_13': 12834,\n",
      "            'VrachtautoExclTrekkerVoorOplegger_12': 9891},\n",
      "           {'Aanhangwagen_17': 163451,\n",
      "            'Bestelauto_11': 120868,\n",
      "            'Bus_15': 408,\n",
      "            'ID': 74,\n",
      "            'InBezitNatuurlijkePersonenRelatief_6': 474,\n",
      "            'InBezitNatuurlijkePersonen_5': 1010787,\n",
      "            'MotorfietsenRelatief_20': 42,\n",
      "            'Oplegger_18': 19921,\n",
      "            'Perioden': '2023JJ00',\n",
      "            'PersonenautoSRelatief_4': 507,\n",
      "            'RegioS': 'PV25  ',\n",
      "            'SpeciaalVoertuig_14': 8183,\n",
      "            'TotaalAanhangwagensEnOpleggers_16': 183372,\n",
      "            'TotaalAanhangwagensEnOpleggers_9': 183372,\n",
      "            'TotaalBedrijfsmotorvoertuigen_10': 152591,\n",
      "            'TotaalBedrijfsmotorvoertuigen_8': 152591,\n",
      "            'TotaalBedrijfsvoertuigen_7': 335963,\n",
      "            'TotaalMotorfietsen_19': 90232,\n",
      "            'TotaalMotorvoertuigen_2': 1323947,\n",
      "            'TotaalPersonenautoS_3': 1081124,\n",
      "            'TotaalWegvoertuigen_1': 1507319,\n",
      "            'TrekkerVoorOplegger_13': 13118,\n",
      "            'VrachtautoExclTrekkerVoorOplegger_12': 10014},\n",
      "           {'Aanhangwagen_17': 165150,\n",
      "            'Bestelauto_11': 123515,\n",
      "            'Bus_15': 411,\n",
      "            'ID': 75,\n",
      "            'InBezitNatuurlijkePersonenRelatief_6': 478,\n",
      "            'InBezitNatuurlijkePersonen_5': 1026657,\n",
      "            'MotorfietsenRelatief_20': 43,\n",
      "            'Oplegger_18': 20428,\n",
      "            'Perioden': '2024JJ00',\n",
      "            'PersonenautoSRelatief_4': 515,\n",
      "            'RegioS': 'PV25  ',\n",
      "            'SpeciaalVoertuig_14': 8123,\n",
      "            'TotaalAanhangwagensEnOpleggers_16': 185578,\n",
      "            'TotaalAanhangwagensEnOpleggers_9': 185578,\n",
      "            'TotaalBedrijfsmotorvoertuigen_10': 155188,\n",
      "            'TotaalBedrijfsmotorvoertuigen_8': 155188,\n",
      "            'TotaalBedrijfsvoertuigen_7': 340766,\n",
      "            'TotaalMotorfietsen_19': 92031,\n",
      "            'TotaalMotorvoertuigen_2': 1354720,\n",
      "            'TotaalPersonenautoS_3': 1107501,\n",
      "            'TotaalWegvoertuigen_1': 1540298,\n",
      "            'TrekkerVoorOplegger_13': 13095,\n",
      "            'VrachtautoExclTrekkerVoorOplegger_12': 10044},\n",
      "           {'Aanhangwagen_17': 168401,\n",
      "            'Bestelauto_11': 129548,\n",
      "            'Bus_15': 414,\n",
      "            'ID': 76,\n",
      "            'InBezitNatuurlijkePersonenRelatief_6': 485,\n",
      "            'InBezitNatuurlijkePersonen_5': 1048919,\n",
      "            'MotorfietsenRelatief_20': 44,\n",
      "            'Oplegger_18': 20478,\n",
      "            'Perioden': '2025JJ00',\n",
      "            'PersonenautoSRelatief_4': 523,\n",
      "            'RegioS': 'PV25  ',\n",
      "            'SpeciaalVoertuig_14': 8149,\n",
      "            'TotaalAanhangwagensEnOpleggers_16': 188879,\n",
      "            'TotaalAanhangwagensEnOpleggers_9': 188879,\n",
      "            'TotaalBedrijfsmotorvoertuigen_10': 161662,\n",
      "            'TotaalBedrijfsmotorvoertuigen_8': 161662,\n",
      "            'TotaalBedrijfsvoertuigen_7': 350541,\n",
      "            'TotaalMotorfietsen_19': 94489,\n",
      "            'TotaalMotorvoertuigen_2': 1387109,\n",
      "            'TotaalPersonenautoS_3': 1130958,\n",
      "            'TotaalWegvoertuigen_1': 1575988,\n",
      "            'TrekkerVoorOplegger_13': 13246,\n",
      "            'VrachtautoExclTrekkerVoorOplegger_12': 10305},\n",
      "           {'Aanhangwagen_17': 64368,\n",
      "            'Bestelauto_11': 75931,\n",
      "            'Bus_15': 1028,\n",
      "            'ID': 77,\n",
      "            'InBezitNatuurlijkePersonenRelatief_6': 403,\n",
      "            'InBezitNatuurlijkePersonen_5': 540893,\n",
      "            'MotorfietsenRelatief_20': 33,\n",
      "            'Oplegger_18': 7075,\n",
      "            'Perioden': '2019JJ00',\n",
      "            'PersonenautoSRelatief_4': 514,\n",
      "            'RegioS': 'PV26  ',\n",
      "            'SpeciaalVoertuig_14': 3812,\n",
      "            'TotaalAanhangwagensEnOpleggers_16': 71443,\n",
      "            'TotaalAanhangwagensEnOpleggers_9': 71443,\n",
      "            'TotaalBedrijfsmotorvoertuigen_10': 89826,\n",
      "            'TotaalBedrijfsmotorvoertuigen_8': 89826,\n",
      "            'TotaalBedrijfsvoertuigen_7': 161269,\n",
      "            'TotaalMotorfietsen_19': 44287,\n",
      "            'TotaalMotorvoertuigen_2': 824093,\n",
      "            'TotaalPersonenautoS_3': 689980,\n",
      "            'TotaalWegvoertuigen_1': 895536,\n",
      "            'TrekkerVoorOplegger_13': 4384,\n",
      "            'VrachtautoExclTrekkerVoorOplegger_12': 4671},\n",
      "           {'Aanhangwagen_17': 65324,\n",
      "            'Bestelauto_11': 80107,\n",
      "            'Bus_15': 1060,\n",
      "            'ID': 78,\n",
      "            'InBezitNatuurlijkePersonenRelatief_6': 405,\n",
      "            'InBezitNatuurlijkePersonen_5': 548218,\n",
      "            'MotorfietsenRelatief_20': 33,\n",
      "            'Oplegger_18': 7222,\n",
      "            'Perioden': '2020JJ00',\n",
      "            'PersonenautoSRelatief_4': 525,\n",
      "            'RegioS': 'PV26  ',\n",
      "            'SpeciaalVoertuig_14': 3803,\n",
      "            'TotaalAanhangwagensEnOpleggers_16': 72546,\n",
      "            'TotaalAanhangwagensEnOpleggers_9': 72546,\n",
      "            'TotaalBedrijfsmotorvoertuigen_10': 94323,\n",
      "            'TotaalBedrijfsmotorvoertuigen_8': 94323,\n",
      "            'TotaalBedrijfsvoertuigen_7': 166869,\n",
      "            'TotaalMotorfietsen_19': 44899,\n",
      "            'TotaalMotorvoertuigen_2': 850017,\n",
      "            'TotaalPersonenautoS_3': 710795,\n",
      "            'TotaalWegvoertuigen_1': 922563,\n",
      "            'TrekkerVoorOplegger_13': 4545,\n",
      "            'VrachtautoExclTrekkerVoorOplegger_12': 4808},\n",
      "           {'Aanhangwagen_17': 65287,\n",
      "            'Bestelauto_11': 81859,\n",
      "            'Bus_15': 910,\n",
      "            'ID': 79,\n",
      "            'InBezitNatuurlijkePersonenRelatief_6': 410,\n",
      "            'InBezitNatuurlijkePersonen_5': 557862,\n",
      "            'MotorfietsenRelatief_20': 34,\n",
      "            'Oplegger_18': 7409,\n",
      "            'Perioden': '2021JJ00',\n",
      "            'PersonenautoSRelatief_4': 530,\n",
      "            'RegioS': 'PV26  ',\n",
      "            'SpeciaalVoertuig_14': 3735,\n",
      "            'TotaalAanhangwagensEnOpleggers_16': 72696,\n",
      "            'TotaalAanhangwagensEnOpleggers_9': 72696,\n",
      "            'TotaalBedrijfsmotorvoertuigen_10': 95778,\n",
      "            'TotaalBedrijfsmotorvoertuigen_8': 95778,\n",
      "            'TotaalBedrijfsvoertuigen_7': 168474,\n",
      "            'TotaalMotorfietsen_19': 45788,\n",
      "            'TotaalMotorvoertuigen_2': 863533,\n",
      "            'TotaalPersonenautoS_3': 721967,\n",
      "            'TotaalWegvoertuigen_1': 936229,\n",
      "            'TrekkerVoorOplegger_13': 4494,\n",
      "            'VrachtautoExclTrekkerVoorOplegger_12': 4780},\n",
      "           {'Aanhangwagen_17': 66355,\n",
      "            'Bestelauto_11': 85083,\n",
      "            'Bus_15': 927,\n",
      "            'ID': 80,\n",
      "            'InBezitNatuurlijkePersonenRelatief_6': 413,\n",
      "            'InBezitNatuurlijkePersonen_5': 565957,\n",
      "            'MotorfietsenRelatief_20': 34,\n",
      "            'Oplegger_18': 7601,\n",
      "            'Perioden': '2022JJ00',\n",
      "            'PersonenautoSRelatief_4': 537,\n",
      "            'RegioS': 'PV26  ',\n",
      "            'SpeciaalVoertuig_14': 3737,\n",
      "            'TotaalAanhangwagensEnOpleggers_16': 73956,\n",
      "            'TotaalAanhangwagensEnOpleggers_9': 73956,\n",
      "            'TotaalBedrijfsmotorvoertuigen_10': 99309,\n",
      "            'TotaalBedrijfsmotorvoertuigen_8': 99309,\n",
      "            'TotaalBedrijfsvoertuigen_7': 173265,\n",
      "            'TotaalMotorfietsen_19': 46281,\n",
      "            'TotaalMotorvoertuigen_2': 881585,\n",
      "            'TotaalPersonenautoS_3': 735995,\n",
      "            'TotaalWegvoertuigen_1': 955541,\n",
      "            'TrekkerVoorOplegger_13': 4737,\n",
      "            'VrachtautoExclTrekkerVoorOplegger_12': 4825},\n",
      "           {'Aanhangwagen_17': 66960,\n",
      "            'Bestelauto_11': 87647,\n",
      "            'Bus_15': 909,\n",
      "            'ID': 81,\n",
      "            'InBezitNatuurlijkePersonenRelatief_6': 410,\n",
      "            'InBezitNatuurlijkePersonen_5': 568312,\n",
      "            'MotorfietsenRelatief_20': 34,\n",
      "            'Oplegger_18': 7871,\n",
      "            'Perioden': '2023JJ00',\n",
      "            'PersonenautoSRelatief_4': 542,\n",
      "            'RegioS': 'PV26  ',\n",
      "            'SpeciaalVoertuig_14': 3680,\n",
      "            'TotaalAanhangwagensEnOpleggers_16': 74831,\n",
      "            'TotaalAanhangwagensEnOpleggers_9': 74831,\n",
      "            'TotaalBedrijfsmotorvoertuigen_10': 101717,\n",
      "            'TotaalBedrijfsmotorvoertuigen_8': 101717,\n",
      "            'TotaalBedrijfsvoertuigen_7': 176548,\n",
      "            'TotaalMotorfietsen_19': 46870,\n",
      "            'TotaalMotorvoertuigen_2': 900858,\n",
      "            'TotaalPersonenautoS_3': 752271,\n",
      "            'TotaalWegvoertuigen_1': 975689,\n",
      "            'TrekkerVoorOplegger_13': 4825,\n",
      "            'VrachtautoExclTrekkerVoorOplegger_12': 4656},\n",
      "           {'Aanhangwagen_17': 67259,\n",
      "            'Bestelauto_11': 89662,\n",
      "            'Bus_15': 852,\n",
      "            'ID': 82,\n",
      "            'InBezitNatuurlijkePersonenRelatief_6': 411,\n",
      "            'InBezitNatuurlijkePersonen_5': 575559,\n",
      "            'MotorfietsenRelatief_20': 34,\n",
      "            'Oplegger_18': 7807,\n",
      "            'Perioden': '2024JJ00',\n",
      "            'PersonenautoSRelatief_4': 551,\n",
      "            'RegioS': 'PV26  ',\n",
      "            'SpeciaalVoertuig_14': 3633,\n",
      "            'TotaalAanhangwagensEnOpleggers_16': 75066,\n",
      "            'TotaalAanhangwagensEnOpleggers_9': 75066,\n",
      "            'TotaalBedrijfsmotorvoertuigen_10': 104132,\n",
      "            'TotaalBedrijfsmotorvoertuigen_8': 104132,\n",
      "            'TotaalBedrijfsvoertuigen_7': 179198,\n",
      "            'TotaalMotorfietsen_19': 47402,\n",
      "            'TotaalMotorvoertuigen_2': 923535,\n",
      "            'TotaalPersonenautoS_3': 772001,\n",
      "            'TotaalWegvoertuigen_1': 998601,\n",
      "            'TrekkerVoorOplegger_13': 4826,\n",
      "            'VrachtautoExclTrekkerVoorOplegger_12': 5159},\n",
      "           {'Aanhangwagen_17': 67926,\n",
      "            'Bestelauto_11': 96855,\n",
      "            'Bus_15': 1096,\n",
      "            'ID': 83,\n",
      "            'InBezitNatuurlijkePersonenRelatief_6': 417,\n",
      "            'InBezitNatuurlijkePersonen_5': 587337,\n",
      "            'MotorfietsenRelatief_20': 34,\n",
      "            'Oplegger_18': 7726,\n",
      "            'Perioden': '2025JJ00',\n",
      "            'PersonenautoSRelatief_4': 560,\n",
      "            'RegioS': 'PV26  ',\n",
      "            'SpeciaalVoertuig_14': 3585,\n",
      "            'TotaalAanhangwagensEnOpleggers_16': 75652,\n",
      "            'TotaalAanhangwagensEnOpleggers_9': 75652,\n",
      "            'TotaalBedrijfsmotorvoertuigen_10': 111695,\n",
      "            'TotaalBedrijfsmotorvoertuigen_8': 111695,\n",
      "            'TotaalBedrijfsvoertuigen_7': 187347,\n",
      "            'TotaalMotorfietsen_19': 48512,\n",
      "            'TotaalMotorvoertuigen_2': 949889,\n",
      "            'TotaalPersonenautoS_3': 789682,\n",
      "            'TotaalWegvoertuigen_1': 1025541,\n",
      "            'TrekkerVoorOplegger_13': 4918,\n",
      "            'VrachtautoExclTrekkerVoorOplegger_12': 5241},\n",
      "           {'Aanhangwagen_17': 112075,\n",
      "            'Bestelauto_11': 124815,\n",
      "            'Bus_15': 2440,\n",
      "            'ID': 84,\n",
      "            'InBezitNatuurlijkePersonenRelatief_6': 375,\n",
      "            'InBezitNatuurlijkePersonen_5': 1070634,\n",
      "            'MotorfietsenRelatief_20': 35,\n",
      "            'Oplegger_18': 13234,\n",
      "            'Perioden': '2019JJ00',\n",
      "            'PersonenautoSRelatief_4': 421,\n",
      "            'RegioS': 'PV27  ',\n",
      "            'SpeciaalVoertuig_14': 7665,\n",
      "            'TotaalAanhangwagensEnOpleggers_16': 125309,\n",
      "            'TotaalAanhangwagensEnOpleggers_9': 125309,\n",
      "            'TotaalBedrijfsmotorvoertuigen_10': 151204,\n",
      "            'TotaalBedrijfsmotorvoertuigen_8': 151204,\n",
      "            'TotaalBedrijfsvoertuigen_7': 276513,\n",
      "            'TotaalMotorfietsen_19': 101280,\n",
      "            'TotaalMotorvoertuigen_2': 1455057,\n",
      "            'TotaalPersonenautoS_3': 1202573,\n",
      "            'TotaalWegvoertuigen_1': 1580366,\n",
      "            'TrekkerVoorOplegger_13': 8581,\n",
      "            'VrachtautoExclTrekkerVoorOplegger_12': 7703},\n",
      "           {'Aanhangwagen_17': 112729,\n",
      "            'Bestelauto_11': 127615,\n",
      "            'Bus_15': 2563,\n",
      "            'ID': 85,\n",
      "            'InBezitNatuurlijkePersonenRelatief_6': 376,\n",
      "            'InBezitNatuurlijkePersonen_5': 1081782,\n",
      "            'MotorfietsenRelatief_20': 36,\n",
      "            'Oplegger_18': 13756,\n",
      "            'Perioden': '2020JJ00',\n",
      "            'PersonenautoSRelatief_4': 424,\n",
      "            'RegioS': 'PV27  ',\n",
      "            'SpeciaalVoertuig_14': 7488,\n",
      "            'TotaalAanhangwagensEnOpleggers_16': 126485,\n",
      "            'TotaalAanhangwagensEnOpleggers_9': 126485,\n",
      "            'TotaalBedrijfsmotorvoertuigen_10': 154169,\n",
      "            'TotaalBedrijfsmotorvoertuigen_8': 154169,\n",
      "            'TotaalBedrijfsvoertuigen_7': 280654,\n",
      "            'TotaalMotorfietsen_19': 102560,\n",
      "            'TotaalMotorvoertuigen_2': 1477878,\n",
      "            'TotaalPersonenautoS_3': 1221149,\n",
      "            'TotaalWegvoertuigen_1': 1604363,\n",
      "            'TrekkerVoorOplegger_13': 8724,\n",
      "            'VrachtautoExclTrekkerVoorOplegger_12': 7779},\n",
      "           {'Aanhangwagen_17': 112322,\n",
      "            'Bestelauto_11': 129138,\n",
      "            'Bus_15': 2547,\n",
      "            'ID': 86,\n",
      "            'InBezitNatuurlijkePersonenRelatief_6': 381,\n",
      "            'InBezitNatuurlijkePersonen_5': 1100962,\n",
      "            'MotorfietsenRelatief_20': 36,\n",
      "            'Oplegger_18': 14002,\n",
      "            'Perioden': '2021JJ00',\n",
      "            'PersonenautoSRelatief_4': 428,\n",
      "            'RegioS': 'PV27  ',\n",
      "            'SpeciaalVoertuig_14': 7324,\n",
      "            'TotaalAanhangwagensEnOpleggers_16': 126324,\n",
      "            'TotaalAanhangwagensEnOpleggers_9': 126324,\n",
      "            'TotaalBedrijfsmotorvoertuigen_10': 155234,\n",
      "            'TotaalBedrijfsmotorvoertuigen_8': 155234,\n",
      "            'TotaalBedrijfsvoertuigen_7': 281558,\n",
      "            'TotaalMotorfietsen_19': 103465,\n",
      "            'TotaalMotorvoertuigen_2': 1495705,\n",
      "            'TotaalPersonenautoS_3': 1237006,\n",
      "            'TotaalWegvoertuigen_1': 1622029,\n",
      "            'TrekkerVoorOplegger_13': 8679,\n",
      "            'VrachtautoExclTrekkerVoorOplegger_12': 7546},\n",
      "           {'Aanhangwagen_17': 113142,\n",
      "            'Bestelauto_11': 132595,\n",
      "            'Bus_15': 2436,\n",
      "            'ID': 87,\n",
      "            'InBezitNatuurlijkePersonenRelatief_6': 384,\n",
      "            'InBezitNatuurlijkePersonen_5': 1117723,\n",
      "            'MotorfietsenRelatief_20': 36,\n",
      "            'Oplegger_18': 16419,\n",
      "            'Perioden': '2022JJ00',\n",
      "            'PersonenautoSRelatief_4': 434,\n",
      "            'RegioS': 'PV27  ',\n",
      "            'SpeciaalVoertuig_14': 7278,\n",
      "            'TotaalAanhangwagensEnOpleggers_16': 129561,\n",
      "            'TotaalAanhangwagensEnOpleggers_9': 129561,\n",
      "            'TotaalBedrijfsmotorvoertuigen_10': 158597,\n",
      "            'TotaalBedrijfsmotorvoertuigen_8': 158597,\n",
      "            'TotaalBedrijfsvoertuigen_7': 288158,\n",
      "            'TotaalMotorfietsen_19': 103604,\n",
      "            'TotaalMotorvoertuigen_2': 1525984,\n",
      "            'TotaalPersonenautoS_3': 1263783,\n",
      "            'TotaalWegvoertuigen_1': 1655545,\n",
      "            'TrekkerVoorOplegger_13': 8962,\n",
      "            'VrachtautoExclTrekkerVoorOplegger_12': 7326},\n",
      "           {'Aanhangwagen_17': 114502,\n",
      "            'Bestelauto_11': 134313,\n",
      "            'Bus_15': 2741,\n",
      "            'ID': 88,\n",
      "            'InBezitNatuurlijkePersonenRelatief_6': 379,\n",
      "            'InBezitNatuurlijkePersonen_5': 1120113,\n",
      "            'MotorfietsenRelatief_20': 35,\n",
      "            'Oplegger_18': 17474,\n",
      "            'Perioden': '2023JJ00',\n",
      "            'PersonenautoSRelatief_4': 434,\n",
      "            'RegioS': 'PV27  ',\n",
      "            'SpeciaalVoertuig_14': 7271,\n",
      "            'TotaalAanhangwagensEnOpleggers_16': 131976,\n",
      "            'TotaalAanhangwagensEnOpleggers_9': 131976,\n",
      "            'TotaalBedrijfsmotorvoertuigen_10': 161450,\n",
      "            'TotaalBedrijfsmotorvoertuigen_8': 161450,\n",
      "            'TotaalBedrijfsvoertuigen_7': 293426,\n",
      "            'TotaalMotorfietsen_19': 104179,\n",
      "            'TotaalMotorvoertuigen_2': 1546699,\n",
      "            'TotaalPersonenautoS_3': 1281070,\n",
      "            'TotaalWegvoertuigen_1': 1678675,\n",
      "            'TrekkerVoorOplegger_13': 9692,\n",
      "            'VrachtautoExclTrekkerVoorOplegger_12': 7433},\n",
      "           {'Aanhangwagen_17': 114271,\n",
      "            'Bestelauto_11': 134000,\n",
      "            'Bus_15': 2685,\n",
      "            'ID': 89,\n",
      "            'InBezitNatuurlijkePersonenRelatief_6': 380,\n",
      "            'InBezitNatuurlijkePersonen_5': 1131142,\n",
      "            'MotorfietsenRelatief_20': 35,\n",
      "            'Oplegger_18': 17738,\n",
      "            'Perioden': '2024JJ00',\n",
      "            'PersonenautoSRelatief_4': 435,\n",
      "            'RegioS': 'PV27  ',\n",
      "            'SpeciaalVoertuig_14': 7127,\n",
      "            'TotaalAanhangwagensEnOpleggers_16': 132009,\n",
      "            'TotaalAanhangwagensEnOpleggers_9': 132009,\n",
      "            'TotaalBedrijfsmotorvoertuigen_10': 161155,\n",
      "            'TotaalBedrijfsmotorvoertuigen_8': 161155,\n",
      "            'TotaalBedrijfsvoertuigen_7': 293164,\n",
      "            'TotaalMotorfietsen_19': 105060,\n",
      "            'TotaalMotorvoertuigen_2': 1561959,\n",
      "            'TotaalPersonenautoS_3': 1295744,\n",
      "            'TotaalWegvoertuigen_1': 1693968,\n",
      "            'TrekkerVoorOplegger_13': 9853,\n",
      "            'VrachtautoExclTrekkerVoorOplegger_12': 7490},\n",
      "           {'Aanhangwagen_17': 115336,\n",
      "            'Bestelauto_11': 130978,\n",
      "            'Bus_15': 2826,\n",
      "            'ID': 90,\n",
      "            'InBezitNatuurlijkePersonenRelatief_6': 385,\n",
      "            'InBezitNatuurlijkePersonen_5': 1152956,\n",
      "            'MotorfietsenRelatief_20': 36,\n",
      "            'Oplegger_18': 17830,\n",
      "            'Perioden': '2025JJ00',\n",
      "            'PersonenautoSRelatief_4': 428,\n",
      "            'RegioS': 'PV27  ',\n",
      "            'SpeciaalVoertuig_14': 6986,\n",
      "            'TotaalAanhangwagensEnOpleggers_16': 133166,\n",
      "            'TotaalAanhangwagensEnOpleggers_9': 133166,\n",
      "            'TotaalBedrijfsmotorvoertuigen_10': 158464,\n",
      "            'TotaalBedrijfsmotorvoertuigen_8': 158464,\n",
      "            'TotaalBedrijfsvoertuigen_7': 291630,\n",
      "            'TotaalMotorfietsen_19': 107054,\n",
      "            'TotaalMotorvoertuigen_2': 1547375,\n",
      "            'TotaalPersonenautoS_3': 1281857,\n",
      "            'TotaalWegvoertuigen_1': 1680541,\n",
      "            'TrekkerVoorOplegger_13': 10163,\n",
      "            'VrachtautoExclTrekkerVoorOplegger_12': 7511},\n",
      "           {'Aanhangwagen_17': 142294,\n",
      "            'Bestelauto_11': 152580,\n",
      "            'Bus_15': 1387,\n",
      "            'ID': 91,\n",
      "            'InBezitNatuurlijkePersonenRelatief_6': 388,\n",
      "            'InBezitNatuurlijkePersonen_5': 1423976,\n",
      "            'MotorfietsenRelatief_20': 30,\n",
      "            'Oplegger_18': 42159,\n",
      "            'Perioden': '2019JJ00',\n",
      "            'PersonenautoSRelatief_4': 428,\n",
      "            'RegioS': 'PV28  ',\n",
      "            'SpeciaalVoertuig_14': 8384,\n",
      "            'TotaalAanhangwagensEnOpleggers_16': 184453,\n",
      "            'TotaalAanhangwagensEnOpleggers_9': 184453,\n",
      "            'TotaalBedrijfsmotorvoertuigen_10': 187811,\n",
      "            'TotaalBedrijfsmotorvoertuigen_8': 187811,\n",
      "            'TotaalBedrijfsvoertuigen_7': 372264,\n",
      "            'TotaalMotorfietsen_19': 110042,\n",
      "            'TotaalMotorvoertuigen_2': 1868767,\n",
      "            'TotaalPersonenautoS_3': 1570914,\n",
      "            'TotaalWegvoertuigen_1': 2053220,\n",
      "            'TrekkerVoorOplegger_13': 15113,\n",
      "            'VrachtautoExclTrekkerVoorOplegger_12': 10347},\n",
      "           {'Aanhangwagen_17': 144001,\n",
      "            'Bestelauto_11': 157076,\n",
      "            'Bus_15': 1323,\n",
      "            'ID': 92,\n",
      "            'InBezitNatuurlijkePersonenRelatief_6': 389,\n",
      "            'InBezitNatuurlijkePersonen_5': 1441790,\n",
      "            'MotorfietsenRelatief_20': 30,\n",
      "            'Oplegger_18': 43205,\n",
      "            'Perioden': '2020JJ00',\n",
      "            'PersonenautoSRelatief_4': 430,\n",
      "            'RegioS': 'PV28  ',\n",
      "            'SpeciaalVoertuig_14': 8371,\n",
      "            'TotaalAanhangwagensEnOpleggers_16': 187206,\n",
      "            'TotaalAanhangwagensEnOpleggers_9': 187206,\n",
      "            'TotaalBedrijfsmotorvoertuigen_10': 192279,\n",
      "            'TotaalBedrijfsmotorvoertuigen_8': 192279,\n",
      "            'TotaalBedrijfsvoertuigen_7': 379485,\n",
      "            'TotaalMotorfietsen_19': 112158,\n",
      "            'TotaalMotorvoertuigen_2': 1897478,\n",
      "            'TotaalPersonenautoS_3': 1593041,\n",
      "            'TotaalWegvoertuigen_1': 2084684,\n",
      "            'TrekkerVoorOplegger_13': 15361,\n",
      "            'VrachtautoExclTrekkerVoorOplegger_12': 10148},\n",
      "           {'Aanhangwagen_17': 143534,\n",
      "            'Bestelauto_11': 159041,\n",
      "            'Bus_15': 1142,\n",
      "            'ID': 93,\n",
      "            'InBezitNatuurlijkePersonenRelatief_6': 394,\n",
      "            'InBezitNatuurlijkePersonen_5': 1468563,\n",
      "            'MotorfietsenRelatief_20': 31,\n",
      "            'Oplegger_18': 43115,\n",
      "            'Perioden': '2021JJ00',\n",
      "            'PersonenautoSRelatief_4': 433,\n",
      "            'RegioS': 'PV28  ',\n",
      "            'SpeciaalVoertuig_14': 8296,\n",
      "            'TotaalAanhangwagensEnOpleggers_16': 186649,\n",
      "            'TotaalAanhangwagensEnOpleggers_9': 186649,\n",
      "            'TotaalBedrijfsmotorvoertuigen_10': 193890,\n",
      "            'TotaalBedrijfsmotorvoertuigen_8': 193890,\n",
      "            'TotaalBedrijfsvoertuigen_7': 380539,\n",
      "            'TotaalMotorfietsen_19': 114726,\n",
      "            'TotaalMotorvoertuigen_2': 1923834,\n",
      "            'TotaalPersonenautoS_3': 1615218,\n",
      "            'TotaalWegvoertuigen_1': 2110483,\n",
      "            'TrekkerVoorOplegger_13': 15468,\n",
      "            'VrachtautoExclTrekkerVoorOplegger_12': 9943},\n",
      "           {'Aanhangwagen_17': 146077,\n",
      "            'Bestelauto_11': 164114,\n",
      "            'Bus_15': 1028,\n",
      "            'ID': 94,\n",
      "            'InBezitNatuurlijkePersonenRelatief_6': 397,\n",
      "            'InBezitNatuurlijkePersonen_5': 1489707,\n",
      "            'MotorfietsenRelatief_20': 31,\n",
      "            'Oplegger_18': 45741,\n",
      "            'Perioden': '2022JJ00',\n",
      "            'PersonenautoSRelatief_4': 437,\n",
      "            'RegioS': 'PV28  ',\n",
      "            'SpeciaalVoertuig_14': 8288,\n",
      "            'TotaalAanhangwagensEnOpleggers_16': 191818,\n",
      "            'TotaalAanhangwagensEnOpleggers_9': 191818,\n",
      "            'TotaalBedrijfsmotorvoertuigen_10': 199304,\n",
      "            'TotaalBedrijfsmotorvoertuigen_8': 199304,\n",
      "            'TotaalBedrijfsvoertuigen_7': 391122,\n",
      "            'TotaalMotorfietsen_19': 117128,\n",
      "            'TotaalMotorvoertuigen_2': 1956286,\n",
      "            'TotaalPersonenautoS_3': 1639854,\n",
      "            'TotaalWegvoertuigen_1': 2148104,\n",
      "            'TrekkerVoorOplegger_13': 15901,\n",
      "            'VrachtautoExclTrekkerVoorOplegger_12': 9973},\n",
      "           {'Aanhangwagen_17': 147803,\n",
      "            'Bestelauto_11': 166919,\n",
      "            'Bus_15': 1053,\n",
      "            'ID': 95,\n",
      "            'InBezitNatuurlijkePersonenRelatief_6': 393,\n",
      "            'InBezitNatuurlijkePersonen_5': 1495900,\n",
      "            'MotorfietsenRelatief_20': 31,\n",
      "            'Oplegger_18': 48181,\n",
      "            'Perioden': '2023JJ00',\n",
      "            'PersonenautoSRelatief_4': 433,\n",
      "            'RegioS': 'PV28  ',\n",
      "            'SpeciaalVoertuig_14': 8299,\n",
      "            'TotaalAanhangwagensEnOpleggers_16': 195984,\n",
      "            'TotaalAanhangwagensEnOpleggers_9': 195984,\n",
      "            'TotaalBedrijfsmotorvoertuigen_10': 202799,\n",
      "            'TotaalBedrijfsmotorvoertuigen_8': 202799,\n",
      "            'TotaalBedrijfsvoertuigen_7': 398783,\n",
      "            'TotaalMotorfietsen_19': 119696,\n",
      "            'TotaalMotorvoertuigen_2': 1968243,\n",
      "            'TotaalPersonenautoS_3': 1645748,\n",
      "            'TotaalWegvoertuigen_1': 2164227,\n",
      "            'TrekkerVoorOplegger_13': 16545,\n",
      "            'VrachtautoExclTrekkerVoorOplegger_12': 9983},\n",
      "           {'Aanhangwagen_17': 148064,\n",
      "            'Bestelauto_11': 169377,\n",
      "            'Bus_15': 1098,\n",
      "            'ID': 96,\n",
      "            'InBezitNatuurlijkePersonenRelatief_6': 394,\n",
      "            'InBezitNatuurlijkePersonen_5': 1513841,\n",
      "            'MotorfietsenRelatief_20': 32,\n",
      "            'Oplegger_18': 48229,\n",
      "            'Perioden': '2024JJ00',\n",
      "            'PersonenautoSRelatief_4': 434,\n",
      "            'RegioS': 'PV28  ',\n",
      "            'SpeciaalVoertuig_14': 8205,\n",
      "            'TotaalAanhangwagensEnOpleggers_16': 196293,\n",
      "            'TotaalAanhangwagensEnOpleggers_9': 196293,\n",
      "            'TotaalBedrijfsmotorvoertuigen_10': 205377,\n",
      "            'TotaalBedrijfsmotorvoertuigen_8': 205377,\n",
      "            'TotaalBedrijfsvoertuigen_7': 401670,\n",
      "            'TotaalMotorfietsen_19': 122341,\n",
      "            'TotaalMotorvoertuigen_2': 1994010,\n",
      "            'TotaalPersonenautoS_3': 1666292,\n",
      "            'TotaalWegvoertuigen_1': 2190303,\n",
      "            'TrekkerVoorOplegger_13': 16734,\n",
      "            'VrachtautoExclTrekkerVoorOplegger_12': 9963},\n",
      "           {'Aanhangwagen_17': 149382,\n",
      "            'Bestelauto_11': 173714,\n",
      "            'Bus_15': 1135,\n",
      "            'ID': 97,\n",
      "            'InBezitNatuurlijkePersonenRelatief_6': 400,\n",
      "            'InBezitNatuurlijkePersonen_5': 1545062,\n",
      "            'MotorfietsenRelatief_20': 32,\n",
      "            'Oplegger_18': 47261,\n",
      "            'Perioden': '2025JJ00',\n",
      "            'PersonenautoSRelatief_4': 440,\n",
      "            'RegioS': 'PV28  ',\n",
      "            'SpeciaalVoertuig_14': 8106,\n",
      "            'TotaalAanhangwagensEnOpleggers_16': 196643,\n",
      "            'TotaalAanhangwagensEnOpleggers_9': 196643,\n",
      "            'TotaalBedrijfsmotorvoertuigen_10': 210448,\n",
      "            'TotaalBedrijfsmotorvoertuigen_8': 210448,\n",
      "            'TotaalBedrijfsvoertuigen_7': 407091,\n",
      "            'TotaalMotorfietsen_19': 125272,\n",
      "            'TotaalMotorvoertuigen_2': 2036324,\n",
      "            'TotaalPersonenautoS_3': 1700604,\n",
      "            'TotaalWegvoertuigen_1': 2232967,\n",
      "            'TrekkerVoorOplegger_13': 17072,\n",
      "            'VrachtautoExclTrekkerVoorOplegger_12': 10421},\n",
      "           {'Aanhangwagen_17': 29833,\n",
      "            'Bestelauto_11': 23618,\n",
      "            'Bus_15': 411,\n",
      "            'ID': 98,\n",
      "            'InBezitNatuurlijkePersonenRelatief_6': 499,\n",
      "            'InBezitNatuurlijkePersonen_5': 191008,\n",
      "            'MotorfietsenRelatief_20': 45,\n",
      "            'Oplegger_18': 4868,\n",
      "            'Perioden': '2019JJ00',\n",
      "            'PersonenautoSRelatief_4': 526,\n",
      "            'RegioS': 'PV29  ',\n",
      "            'SpeciaalVoertuig_14': 1719,\n",
      "            'TotaalAanhangwagensEnOpleggers_16': 34701,\n",
      "            'TotaalAanhangwagensEnOpleggers_9': 34701,\n",
      "            'TotaalBedrijfsmotorvoertuigen_10': 29222,\n",
      "            'TotaalBedrijfsmotorvoertuigen_8': 29222,\n",
      "            'TotaalBedrijfsvoertuigen_7': 63923,\n",
      "            'TotaalMotorfietsen_19': 17246,\n",
      "            'TotaalMotorvoertuigen_2': 247769,\n",
      "            'TotaalPersonenautoS_3': 201301,\n",
      "            'TotaalWegvoertuigen_1': 282470,\n",
      "            'TrekkerVoorOplegger_13': 2103,\n",
      "            'VrachtautoExclTrekkerVoorOplegger_12': 1371},\n",
      "           {'Aanhangwagen_17': 30359,\n",
      "            'Bestelauto_11': 24188,\n",
      "            'Bus_15': 421,\n",
      "            'ID': 99,\n",
      "            'InBezitNatuurlijkePersonenRelatief_6': 502,\n",
      "            'InBezitNatuurlijkePersonen_5': 192622,\n",
      "            'MotorfietsenRelatief_20': 45,\n",
      "            'Oplegger_18': 4600,\n",
      "            'Perioden': '2020JJ00',\n",
      "            'PersonenautoSRelatief_4': 530,\n",
      "            'RegioS': 'PV29  ',\n",
      "            'SpeciaalVoertuig_14': 1662,\n",
      "            'TotaalAanhangwagensEnOpleggers_16': 34959,\n",
      "            'TotaalAanhangwagensEnOpleggers_9': 34959,\n",
      "            'TotaalBedrijfsmotorvoertuigen_10': 29704,\n",
      "            'TotaalBedrijfsmotorvoertuigen_8': 29704,\n",
      "            'TotaalBedrijfsvoertuigen_7': 64663,\n",
      "            'TotaalMotorfietsen_19': 17438,\n",
      "            'TotaalMotorvoertuigen_2': 250415,\n",
      "            'TotaalPersonenautoS_3': 203273,\n",
      "            'TotaalWegvoertuigen_1': 285374,\n",
      "            'TrekkerVoorOplegger_13': 2096,\n",
      "            'VrachtautoExclTrekkerVoorOplegger_12': 1337},\n",
      "           {'Aanhangwagen_17': 30799,\n",
      "            'Bestelauto_11': 24551,\n",
      "            'Bus_15': 144,\n",
      "            'ID': 100,\n",
      "            'InBezitNatuurlijkePersonenRelatief_6': 508,\n",
      "            'InBezitNatuurlijkePersonen_5': 195962,\n",
      "            'MotorfietsenRelatief_20': 46,\n",
      "            'Oplegger_18': 4628,\n",
      "            'Perioden': '2021JJ00',\n",
      "            'PersonenautoSRelatief_4': 535,\n",
      "            'RegioS': 'PV29  ',\n",
      "            'SpeciaalVoertuig_14': 1656,\n",
      "            'TotaalAanhangwagensEnOpleggers_16': 35427,\n",
      "            'TotaalAanhangwagensEnOpleggers_9': 35427,\n",
      "            'TotaalBedrijfsmotorvoertuigen_10': 29740,\n",
      "            'TotaalBedrijfsmotorvoertuigen_8': 29740,\n",
      "            'TotaalBedrijfsvoertuigen_7': 65167,\n",
      "            'TotaalMotorfietsen_19': 17776,\n",
      "            'TotaalMotorvoertuigen_2': 253542,\n",
      "            'TotaalPersonenautoS_3': 206026,\n",
      "            'TotaalWegvoertuigen_1': 288969,\n",
      "            'TrekkerVoorOplegger_13': 2048,\n",
      "            'VrachtautoExclTrekkerVoorOplegger_12': 1341},\n",
      "           {'Aanhangwagen_17': 31556,\n",
      "            'Bestelauto_11': 25387,\n",
      "            'Bus_15': 99,\n",
      "            'ID': 101,\n",
      "            'InBezitNatuurlijkePersonenRelatief_6': 513,\n",
      "            'InBezitNatuurlijkePersonen_5': 198596,\n",
      "            'MotorfietsenRelatief_20': 47,\n",
      "            'Oplegger_18': 4753,\n",
      "            'Perioden': '2022JJ00',\n",
      "            'PersonenautoSRelatief_4': 540,\n",
      "            'RegioS': 'PV29  ',\n",
      "            'SpeciaalVoertuig_14': 1646,\n",
      "            'TotaalAanhangwagensEnOpleggers_16': 36309,\n",
      "            'TotaalAanhangwagensEnOpleggers_9': 36309,\n",
      "            'TotaalBedrijfsmotorvoertuigen_10': 30572,\n",
      "            'TotaalBedrijfsmotorvoertuigen_8': 30572,\n",
      "            'TotaalBedrijfsvoertuigen_7': 66881,\n",
      "            'TotaalMotorfietsen_19': 18211,\n",
      "            'TotaalMotorvoertuigen_2': 257750,\n",
      "            'TotaalPersonenautoS_3': 208967,\n",
      "            'TotaalWegvoertuigen_1': 294059,\n",
      "            'TrekkerVoorOplegger_13': 2097,\n",
      "            'VrachtautoExclTrekkerVoorOplegger_12': 1343},\n",
      "           {'Aanhangwagen_17': 32276,\n",
      "            'Bestelauto_11': 25946,\n",
      "            'Bus_15': 110,\n",
      "            'ID': 102,\n",
      "            'InBezitNatuurlijkePersonenRelatief_6': 511,\n",
      "            'InBezitNatuurlijkePersonen_5': 199849,\n",
      "            'MotorfietsenRelatief_20': 48,\n",
      "            'Oplegger_18': 4874,\n",
      "            'Perioden': '2023JJ00',\n",
      "            'PersonenautoSRelatief_4': 539,\n",
      "            'RegioS': 'PV29  ',\n",
      "            'SpeciaalVoertuig_14': 1664,\n",
      "            'TotaalAanhangwagensEnOpleggers_16': 37150,\n",
      "            'TotaalAanhangwagensEnOpleggers_9': 37150,\n",
      "            'TotaalBedrijfsmotorvoertuigen_10': 31182,\n",
      "            'TotaalBedrijfsmotorvoertuigen_8': 31182,\n",
      "            'TotaalBedrijfsvoertuigen_7': 68332,\n",
      "            'TotaalMotorfietsen_19': 18665,\n",
      "            'TotaalMotorvoertuigen_2': 260764,\n",
      "            'TotaalPersonenautoS_3': 210917,\n",
      "            'TotaalWegvoertuigen_1': 297914,\n",
      "            'TrekkerVoorOplegger_13': 2141,\n",
      "            'VrachtautoExclTrekkerVoorOplegger_12': 1321},\n",
      "           {'Aanhangwagen_17': 32713,\n",
      "            'Bestelauto_11': 26653,\n",
      "            'Bus_15': 115,\n",
      "            'ID': 103,\n",
      "            'InBezitNatuurlijkePersonenRelatief_6': 516,\n",
      "            'InBezitNatuurlijkePersonen_5': 202218,\n",
      "            'MotorfietsenRelatief_20': 49,\n",
      "            'Oplegger_18': 4970,\n",
      "            'Perioden': '2024JJ00',\n",
      "            'PersonenautoSRelatief_4': 546,\n",
      "            'RegioS': 'PV29  ',\n",
      "            'SpeciaalVoertuig_14': 1649,\n",
      "            'TotaalAanhangwagensEnOpleggers_16': 37683,\n",
      "            'TotaalAanhangwagensEnOpleggers_9': 37683,\n",
      "            'TotaalBedrijfsmotorvoertuigen_10': 31899,\n",
      "            'TotaalBedrijfsmotorvoertuigen_8': 31899,\n",
      "            'TotaalBedrijfsvoertuigen_7': 69582,\n",
      "            'TotaalMotorfietsen_19': 19208,\n",
      "            'TotaalMotorvoertuigen_2': 264997,\n",
      "            'TotaalPersonenautoS_3': 213890,\n",
      "            'TotaalWegvoertuigen_1': 302680,\n",
      "            'TrekkerVoorOplegger_13': 2154,\n",
      "            'VrachtautoExclTrekkerVoorOplegger_12': 1328},\n",
      "           {'Aanhangwagen_17': 33397,\n",
      "            'Bestelauto_11': 28071,\n",
      "            'Bus_15': 119,\n",
      "            'ID': 104,\n",
      "            'InBezitNatuurlijkePersonenRelatief_6': 523,\n",
      "            'InBezitNatuurlijkePersonen_5': 205640,\n",
      "            'MotorfietsenRelatief_20': 51,\n",
      "            'Oplegger_18': 4984,\n",
      "            'Perioden': '2025JJ00',\n",
      "            'PersonenautoSRelatief_4': 554,\n",
      "            'RegioS': 'PV29  ',\n",
      "            'SpeciaalVoertuig_14': 1632,\n",
      "            'TotaalAanhangwagensEnOpleggers_16': 38381,\n",
      "            'TotaalAanhangwagensEnOpleggers_9': 38381,\n",
      "            'TotaalBedrijfsmotorvoertuigen_10': 33325,\n",
      "            'TotaalBedrijfsmotorvoertuigen_8': 33325,\n",
      "            'TotaalBedrijfsvoertuigen_7': 71706,\n",
      "            'TotaalMotorfietsen_19': 20038,\n",
      "            'TotaalMotorvoertuigen_2': 270989,\n",
      "            'TotaalPersonenautoS_3': 217626,\n",
      "            'TotaalWegvoertuigen_1': 309370,\n",
      "            'TrekkerVoorOplegger_13': 2176,\n",
      "            'VrachtautoExclTrekkerVoorOplegger_12': 1327},\n",
      "           {'Aanhangwagen_17': 171250,\n",
      "            'Bestelauto_11': 150244,\n",
      "            'Bus_15': 549,\n",
      "            'ID': 105,\n",
      "            'InBezitNatuurlijkePersonenRelatief_6': 476,\n",
      "            'InBezitNatuurlijkePersonen_5': 1212166,\n",
      "            'MotorfietsenRelatief_20': 39,\n",
      "            'Oplegger_18': 32874,\n",
      "            'Perioden': '2019JJ00',\n",
      "            'PersonenautoSRelatief_4': 540,\n",
      "            'RegioS': 'PV30  ',\n",
      "            'SpeciaalVoertuig_14': 10108,\n",
      "            'TotaalAanhangwagensEnOpleggers_16': 204124,\n",
      "            'TotaalAanhangwagensEnOpleggers_9': 204124,\n",
      "            'TotaalBedrijfsmotorvoertuigen_10': 188453,\n",
      "            'TotaalBedrijfsmotorvoertuigen_8': 188453,\n",
      "            'TotaalBedrijfsvoertuigen_7': 392577,\n",
      "            'TotaalMotorfietsen_19': 99290,\n",
      "            'TotaalMotorvoertuigen_2': 1662515,\n",
      "            'TotaalPersonenautoS_3': 1374772,\n",
      "            'TotaalWegvoertuigen_1': 1866639,\n",
      "            'TrekkerVoorOplegger_13': 15483,\n",
      "            'VrachtautoExclTrekkerVoorOplegger_12': 12069},\n",
      "           {'Aanhangwagen_17': 174093,\n",
      "            'Bestelauto_11': 155430,\n",
      "            'Bus_15': 524,\n",
      "            'ID': 106,\n",
      "            'InBezitNatuurlijkePersonenRelatief_6': 479,\n",
      "            'InBezitNatuurlijkePersonen_5': 1228372,\n",
      "            'MotorfietsenRelatief_20': 39,\n",
      "            'Oplegger_18': 34361,\n",
      "            'Perioden': '2020JJ00',\n",
      "            'PersonenautoSRelatief_4': 546,\n",
      "            'RegioS': 'PV30  ',\n",
      "            'SpeciaalVoertuig_14': 9984,\n",
      "            'TotaalAanhangwagensEnOpleggers_16': 208454,\n",
      "            'TotaalAanhangwagensEnOpleggers_9': 208454,\n",
      "            'TotaalBedrijfsmotorvoertuigen_10': 193705,\n",
      "            'TotaalBedrijfsmotorvoertuigen_8': 193705,\n",
      "            'TotaalBedrijfsvoertuigen_7': 402159,\n",
      "            'TotaalMotorfietsen_19': 100513,\n",
      "            'TotaalMotorvoertuigen_2': 1692675,\n",
      "            'TotaalPersonenautoS_3': 1398457,\n",
      "            'TotaalWegvoertuigen_1': 1901129,\n",
      "            'TrekkerVoorOplegger_13': 15712,\n",
      "            'VrachtautoExclTrekkerVoorOplegger_12': 12055},\n",
      "           {'Aanhangwagen_17': 175552,\n",
      "            'Bestelauto_11': 158850,\n",
      "            'Bus_15': 491,\n",
      "            'ID': 107,\n",
      "            'InBezitNatuurlijkePersonenRelatief_6': 485,\n",
      "            'InBezitNatuurlijkePersonen_5': 1247712,\n",
      "            'MotorfietsenRelatief_20': 40,\n",
      "            'Oplegger_18': 34686,\n",
      "            'Perioden': '2021JJ00',\n",
      "            'PersonenautoSRelatief_4': 549,\n",
      "            'RegioS': 'PV30  ',\n",
      "            'SpeciaalVoertuig_14': 9920,\n",
      "            'TotaalAanhangwagensEnOpleggers_16': 210238,\n",
      "            'TotaalAanhangwagensEnOpleggers_9': 210238,\n",
      "            'TotaalBedrijfsmotorvoertuigen_10': 196822,\n",
      "            'TotaalBedrijfsmotorvoertuigen_8': 196822,\n",
      "            'TotaalBedrijfsvoertuigen_7': 407060,\n",
      "            'TotaalMotorfietsen_19': 102541,\n",
      "            'TotaalMotorvoertuigen_2': 1712537,\n",
      "            'TotaalPersonenautoS_3': 1413174,\n",
      "            'TotaalWegvoertuigen_1': 1922775,\n",
      "            'TrekkerVoorOplegger_13': 15603,\n",
      "            'VrachtautoExclTrekkerVoorOplegger_12': 11958},\n",
      "           {'Aanhangwagen_17': 179765,\n",
      "            'Bestelauto_11': 164076,\n",
      "            'Bus_15': 453,\n",
      "            'ID': 108,\n",
      "            'InBezitNatuurlijkePersonenRelatief_6': 488,\n",
      "            'InBezitNatuurlijkePersonen_5': 1266113,\n",
      "            'MotorfietsenRelatief_20': 40,\n",
      "            'Oplegger_18': 35523,\n",
      "            'Perioden': '2022JJ00',\n",
      "            'PersonenautoSRelatief_4': 553,\n",
      "            'RegioS': 'PV30  ',\n",
      "            'SpeciaalVoertuig_14': 9819,\n",
      "            'TotaalAanhangwagensEnOpleggers_16': 215288,\n",
      "            'TotaalAanhangwagensEnOpleggers_9': 215288,\n",
      "            'TotaalBedrijfsmotorvoertuigen_10': 202409,\n",
      "            'TotaalBedrijfsmotorvoertuigen_8': 202409,\n",
      "            'TotaalBedrijfsvoertuigen_7': 417697,\n",
      "            'TotaalMotorfietsen_19': 104680,\n",
      "            'TotaalMotorvoertuigen_2': 1740587,\n",
      "            'TotaalPersonenautoS_3': 1433498,\n",
      "            'TotaalWegvoertuigen_1': 1955875,\n",
      "            'TrekkerVoorOplegger_13': 15971,\n",
      "            'VrachtautoExclTrekkerVoorOplegger_12': 12090},\n",
      "           {'Aanhangwagen_17': 182822,\n",
      "            'Bestelauto_11': 166842,\n",
      "            'Bus_15': 487,\n",
      "            'ID': 109,\n",
      "            'InBezitNatuurlijkePersonenRelatief_6': 485,\n",
      "            'InBezitNatuurlijkePersonen_5': 1272565,\n",
      "            'MotorfietsenRelatief_20': 41,\n",
      "            'Oplegger_18': 37032,\n",
      "            'Perioden': '2023JJ00',\n",
      "            'PersonenautoSRelatief_4': 553,\n",
      "            'RegioS': 'PV30  ',\n",
      "            'SpeciaalVoertuig_14': 9695,\n",
      "            'TotaalAanhangwagensEnOpleggers_16': 219854,\n",
      "            'TotaalAanhangwagensEnOpleggers_9': 219854,\n",
      "            'TotaalBedrijfsmotorvoertuigen_10': 205647,\n",
      "            'TotaalBedrijfsmotorvoertuigen_8': 205647,\n",
      "            'TotaalBedrijfsvoertuigen_7': 425501,\n",
      "            'TotaalMotorfietsen_19': 106727,\n",
      "            'TotaalMotorvoertuigen_2': 1764979,\n",
      "            'TotaalPersonenautoS_3': 1452605,\n",
      "            'TotaalWegvoertuigen_1': 1984833,\n",
      "            'TrekkerVoorOplegger_13': 16638,\n",
      "            'VrachtautoExclTrekkerVoorOplegger_12': 11985},\n",
      "           {'Aanhangwagen_17': 184149,\n",
      "            'Bestelauto_11': 169856,\n",
      "            'Bus_15': 493,\n",
      "            'ID': 110,\n",
      "            'InBezitNatuurlijkePersonenRelatief_6': 488,\n",
      "            'InBezitNatuurlijkePersonen_5': 1289970,\n",
      "            'MotorfietsenRelatief_20': 41,\n",
      "            'Oplegger_18': 37599,\n",
      "            'Perioden': '2024JJ00',\n",
      "            'PersonenautoSRelatief_4': 558,\n",
      "            'RegioS': 'PV30  ',\n",
      "            'SpeciaalVoertuig_14': 9587,\n",
      "            'TotaalAanhangwagensEnOpleggers_16': 221748,\n",
      "            'TotaalAanhangwagensEnOpleggers_9': 221748,\n",
      "            'TotaalBedrijfsmotorvoertuigen_10': 208893,\n",
      "            'TotaalBedrijfsmotorvoertuigen_8': 208893,\n",
      "            'TotaalBedrijfsvoertuigen_7': 430641,\n",
      "            'TotaalMotorfietsen_19': 108576,\n",
      "            'TotaalMotorvoertuigen_2': 1792873,\n",
      "            'TotaalPersonenautoS_3': 1475404,\n",
      "            'TotaalWegvoertuigen_1': 2014621,\n",
      "            'TrekkerVoorOplegger_13': 17014,\n",
      "            'VrachtautoExclTrekkerVoorOplegger_12': 11943},\n",
      "           {'Aanhangwagen_17': 187261,\n",
      "            'Bestelauto_11': 177467,\n",
      "            'Bus_15': 525,\n",
      "            'ID': 111,\n",
      "            'InBezitNatuurlijkePersonenRelatief_6': 494,\n",
      "            'InBezitNatuurlijkePersonen_5': 1316255,\n",
      "            'MotorfietsenRelatief_20': 42,\n",
      "            'Oplegger_18': 38163,\n",
      "            'Perioden': '2025JJ00',\n",
      "            'PersonenautoSRelatief_4': 565,\n",
      "            'RegioS': 'PV30  ',\n",
      "            'SpeciaalVoertuig_14': 9498,\n",
      "            'TotaalAanhangwagensEnOpleggers_16': 225424,\n",
      "            'TotaalAanhangwagensEnOpleggers_9': 225424,\n",
      "            'TotaalBedrijfsmotorvoertuigen_10': 217174,\n",
      "            'TotaalBedrijfsmotorvoertuigen_8': 217174,\n",
      "            'TotaalBedrijfsvoertuigen_7': 442598,\n",
      "            'TotaalMotorfietsen_19': 111164,\n",
      "            'TotaalMotorvoertuigen_2': 1832331,\n",
      "            'TotaalPersonenautoS_3': 1503993,\n",
      "            'TotaalWegvoertuigen_1': 2057755,\n",
      "            'TrekkerVoorOplegger_13': 17217,\n",
      "            'VrachtautoExclTrekkerVoorOplegger_12': 12467},\n",
      "           {'Aanhangwagen_17': 68354,\n",
      "            'Bestelauto_11': 50462,\n",
      "            'Bus_15': 352,\n",
      "            'ID': 112,\n",
      "            'InBezitNatuurlijkePersonenRelatief_6': 498,\n",
      "            'InBezitNatuurlijkePersonen_5': 555439,\n",
      "            'MotorfietsenRelatief_20': 41,\n",
      "            'Oplegger_18': 17590,\n",
      "            'Perioden': '2019JJ00',\n",
      "            'PersonenautoSRelatief_4': 520,\n",
      "            'RegioS': 'PV31  ',\n",
      "            'SpeciaalVoertuig_14': 4115,\n",
      "            'TotaalAanhangwagensEnOpleggers_16': 85944,\n",
      "            'TotaalAanhangwagensEnOpleggers_9': 85944,\n",
      "            'TotaalBedrijfsmotorvoertuigen_10': 64659,\n",
      "            'TotaalBedrijfsmotorvoertuigen_8': 64659,\n",
      "            'TotaalBedrijfsvoertuigen_7': 150603,\n",
      "            'TotaalMotorfietsen_19': 45420,\n",
      "            'TotaalMotorvoertuigen_2': 690580,\n",
      "            'TotaalPersonenautoS_3': 580501,\n",
      "            'TotaalWegvoertuigen_1': 776524,\n",
      "            'TrekkerVoorOplegger_13': 5689,\n",
      "            'VrachtautoExclTrekkerVoorOplegger_12': 4041},\n",
      "           {'Aanhangwagen_17': 69833,\n",
      "            'Bestelauto_11': 51261,\n",
      "            'Bus_15': 362,\n",
      "            'ID': 113,\n",
      "            'InBezitNatuurlijkePersonenRelatief_6': 502,\n",
      "            'InBezitNatuurlijkePersonen_5': 560890,\n",
      "            'MotorfietsenRelatief_20': 41,\n",
      "            'Oplegger_18': 17289,\n",
      "            'Perioden': '2020JJ00',\n",
      "            'PersonenautoSRelatief_4': 525,\n",
      "            'RegioS': 'PV31  ',\n",
      "            'SpeciaalVoertuig_14': 4081,\n",
      "            'TotaalAanhangwagensEnOpleggers_16': 87122,\n",
      "            'TotaalAanhangwagensEnOpleggers_9': 87122,\n",
      "            'TotaalBedrijfsmotorvoertuigen_10': 65244,\n",
      "            'TotaalBedrijfsmotorvoertuigen_8': 65244,\n",
      "            'TotaalBedrijfsvoertuigen_7': 152366,\n",
      "            'TotaalMotorfietsen_19': 45604,\n",
      "            'TotaalMotorvoertuigen_2': 697772,\n",
      "            'TotaalPersonenautoS_3': 586924,\n",
      "            'TotaalWegvoertuigen_1': 784894,\n",
      "            'TrekkerVoorOplegger_13': 5518,\n",
      "            'VrachtautoExclTrekkerVoorOplegger_12': 4022},\n",
      "           {'Aanhangwagen_17': 70317,\n",
      "            'Bestelauto_11': 52209,\n",
      "            'Bus_15': 351,\n",
      "            'ID': 114,\n",
      "            'InBezitNatuurlijkePersonenRelatief_6': 509,\n",
      "            'InBezitNatuurlijkePersonen_5': 567638,\n",
      "            'MotorfietsenRelatief_20': 41,\n",
      "            'Oplegger_18': 16683,\n",
      "            'Perioden': '2021JJ00',\n",
      "            'PersonenautoSRelatief_4': 531,\n",
      "            'RegioS': 'PV31  ',\n",
      "            'SpeciaalVoertuig_14': 4040,\n",
      "            'TotaalAanhangwagensEnOpleggers_16': 87000,\n",
      "            'TotaalAanhangwagensEnOpleggers_9': 87000,\n",
      "            'TotaalBedrijfsmotorvoertuigen_10': 66018,\n",
      "            'TotaalBedrijfsmotorvoertuigen_8': 66018,\n",
      "            'TotaalBedrijfsvoertuigen_7': 153018,\n",
      "            'TotaalMotorfietsen_19': 46140,\n",
      "            'TotaalMotorvoertuigen_2': 705201,\n",
      "            'TotaalPersonenautoS_3': 593043,\n",
      "            'TotaalWegvoertuigen_1': 792201,\n",
      "            'TrekkerVoorOplegger_13': 5446,\n",
      "            'VrachtautoExclTrekkerVoorOplegger_12': 3972},\n",
      "           {'Aanhangwagen_17': 72178,\n",
      "            'Bestelauto_11': 53705,\n",
      "            'Bus_15': 332,\n",
      "            'ID': 115,\n",
      "            'InBezitNatuurlijkePersonenRelatief_6': 513,\n",
      "            'InBezitNatuurlijkePersonen_5': 573817,\n",
      "            'MotorfietsenRelatief_20': 42,\n",
      "            'Oplegger_18': 17497,\n",
      "            'Perioden': '2022JJ00',\n",
      "            'PersonenautoSRelatief_4': 536,\n",
      "            'RegioS': 'PV31  ',\n",
      "            'SpeciaalVoertuig_14': 4040,\n",
      "            'TotaalAanhangwagensEnOpleggers_16': 89675,\n",
      "            'TotaalAanhangwagensEnOpleggers_9': 89675,\n",
      "            'TotaalBedrijfsmotorvoertuigen_10': 67585,\n",
      "            'TotaalBedrijfsmotorvoertuigen_8': 67585,\n",
      "            'TotaalBedrijfsvoertuigen_7': 157260,\n",
      "            'TotaalMotorfietsen_19': 46906,\n",
      "            'TotaalMotorvoertuigen_2': 714292,\n",
      "            'TotaalPersonenautoS_3': 599801,\n",
      "            'TotaalWegvoertuigen_1': 803967,\n",
      "            'TrekkerVoorOplegger_13': 5602,\n",
      "            'VrachtautoExclTrekkerVoorOplegger_12': 3906},\n",
      "           {'Aanhangwagen_17': 74049,\n",
      "            'Bestelauto_11': 54396,\n",
      "            'Bus_15': 361,\n",
      "            'ID': 116,\n",
      "            'InBezitNatuurlijkePersonenRelatief_6': 510,\n",
      "            'InBezitNatuurlijkePersonen_5': 575540,\n",
      "            'MotorfietsenRelatief_20': 43,\n",
      "            'Oplegger_18': 18419,\n",
      "            'Perioden': '2023JJ00',\n",
      "            'PersonenautoSRelatief_4': 534,\n",
      "            'RegioS': 'PV31  ',\n",
      "            'SpeciaalVoertuig_14': 4014,\n",
      "            'TotaalAanhangwagensEnOpleggers_16': 92468,\n",
      "            'TotaalAanhangwagensEnOpleggers_9': 92468,\n",
      "            'TotaalBedrijfsmotorvoertuigen_10': 68298,\n",
      "            'TotaalBedrijfsmotorvoertuigen_8': 68298,\n",
      "            'TotaalBedrijfsvoertuigen_7': 160766,\n",
      "            'TotaalMotorfietsen_19': 48135,\n",
      "            'TotaalMotorvoertuigen_2': 719023,\n",
      "            'TotaalPersonenautoS_3': 602590,\n",
      "            'TotaalWegvoertuigen_1': 811491,\n",
      "            'TrekkerVoorOplegger_13': 5655,\n",
      "            'VrachtautoExclTrekkerVoorOplegger_12': 3872},\n",
      "           {'Aanhangwagen_17': 74725,\n",
      "            'Bestelauto_11': 55128,\n",
      "            'Bus_15': 362,\n",
      "            'ID': 117,\n",
      "            'InBezitNatuurlijkePersonenRelatief_6': 513,\n",
      "            'InBezitNatuurlijkePersonen_5': 581050,\n",
      "            'MotorfietsenRelatief_20': 43,\n",
      "            'Oplegger_18': 19140,\n",
      "            'Perioden': '2024JJ00',\n",
      "            'PersonenautoSRelatief_4': 537,\n",
      "            'RegioS': 'PV31  ',\n",
      "            'SpeciaalVoertuig_14': 3962,\n",
      "            'TotaalAanhangwagensEnOpleggers_16': 93865,\n",
      "            'TotaalAanhangwagensEnOpleggers_9': 93865,\n",
      "            'TotaalBedrijfsmotorvoertuigen_10': 68830,\n",
      "            'TotaalBedrijfsmotorvoertuigen_8': 68830,\n",
      "            'TotaalBedrijfsvoertuigen_7': 162695,\n",
      "            'TotaalMotorfietsen_19': 48942,\n",
      "            'TotaalMotorvoertuigen_2': 726790,\n",
      "            'TotaalPersonenautoS_3': 609018,\n",
      "            'TotaalWegvoertuigen_1': 820655,\n",
      "            'TrekkerVoorOplegger_13': 5503,\n",
      "            'VrachtautoExclTrekkerVoorOplegger_12': 3875},\n",
      "           {'Aanhangwagen_17': 75962,\n",
      "            'Bestelauto_11': 56734,\n",
      "            'Bus_15': 352,\n",
      "            'ID': 118,\n",
      "            'InBezitNatuurlijkePersonenRelatief_6': 520,\n",
      "            'InBezitNatuurlijkePersonen_5': 590239,\n",
      "            'MotorfietsenRelatief_20': 44,\n",
      "            'Oplegger_18': 19491,\n",
      "            'Perioden': '2025JJ00',\n",
      "            'PersonenautoSRelatief_4': 545,\n",
      "            'RegioS': 'PV31  ',\n",
      "            'SpeciaalVoertuig_14': 3921,\n",
      "            'TotaalAanhangwagensEnOpleggers_16': 95453,\n",
      "            'TotaalAanhangwagensEnOpleggers_9': 95453,\n",
      "            'TotaalBedrijfsmotorvoertuigen_10': 70311,\n",
      "            'TotaalBedrijfsmotorvoertuigen_8': 70311,\n",
      "            'TotaalBedrijfsvoertuigen_7': 165764,\n",
      "            'TotaalMotorfietsen_19': 49894,\n",
      "            'TotaalMotorvoertuigen_2': 738834,\n",
      "            'TotaalPersonenautoS_3': 618629,\n",
      "            'TotaalWegvoertuigen_1': 834287,\n",
      "            'TrekkerVoorOplegger_13': 5382,\n",
      "            'VrachtautoExclTrekkerVoorOplegger_12': 3922}]}\n"
     ]
    }
   ],
   "source": [
    "#this will print the typed dataset in json format, so name value pairs\n",
    "url = \"https://opendata.cbs.nl/ODataApi/odata/85235NED/TypedDataSet\"\n",
    "posts = requests.get(url).json()\n",
    "\n",
    "pprint (posts)\n",
    "\n",
    "\n",
    "\n"
   ]
  },
  {
   "cell_type": "code",
   "execution_count": 61,
   "id": "a2d250e1",
   "metadata": {},
   "outputs": [
    {
     "data": {
      "text/html": [
       "<div>\n",
       "<style scoped>\n",
       "    .dataframe tbody tr th:only-of-type {\n",
       "        vertical-align: middle;\n",
       "    }\n",
       "\n",
       "    .dataframe tbody tr th {\n",
       "        vertical-align: top;\n",
       "    }\n",
       "\n",
       "    .dataframe thead th {\n",
       "        text-align: right;\n",
       "    }\n",
       "</style>\n",
       "<table border=\"1\" class=\"dataframe\">\n",
       "  <thead>\n",
       "    <tr style=\"text-align: right;\">\n",
       "      <th></th>\n",
       "      <th>Aanhangwagen_17</th>\n",
       "      <th>Bestelauto_11</th>\n",
       "      <th>Bus_15</th>\n",
       "      <th>ID</th>\n",
       "      <th>InBezitNatuurlijkePersonenRelatief_6</th>\n",
       "      <th>InBezitNatuurlijkePersonen_5</th>\n",
       "      <th>MotorfietsenRelatief_20</th>\n",
       "      <th>Oplegger_18</th>\n",
       "      <th>Perioden</th>\n",
       "      <th>PersonenautoSRelatief_4</th>\n",
       "      <th>...</th>\n",
       "      <th>TotaalAanhangwagensEnOpleggers_9</th>\n",
       "      <th>TotaalBedrijfsmotorvoertuigen_10</th>\n",
       "      <th>TotaalBedrijfsmotorvoertuigen_8</th>\n",
       "      <th>TotaalBedrijfsvoertuigen_7</th>\n",
       "      <th>TotaalMotorfietsen_19</th>\n",
       "      <th>TotaalMotorvoertuigen_2</th>\n",
       "      <th>TotaalPersonenautoS_3</th>\n",
       "      <th>TotaalWegvoertuigen_1</th>\n",
       "      <th>TrekkerVoorOplegger_13</th>\n",
       "      <th>VrachtautoExclTrekkerVoorOplegger_12</th>\n",
       "    </tr>\n",
       "  </thead>\n",
       "  <tbody>\n",
       "    <tr>\n",
       "      <th>0</th>\n",
       "      <td>1008412</td>\n",
       "      <td>903005</td>\n",
       "      <td>9513</td>\n",
       "      <td>0</td>\n",
       "      <td>431</td>\n",
       "      <td>7452085</td>\n",
       "      <td>37</td>\n",
       "      <td>163974</td>\n",
       "      <td>2019JJ00</td>\n",
       "      <td>489</td>\n",
       "      <td>...</td>\n",
       "      <td>1172386</td>\n",
       "      <td>1110651</td>\n",
       "      <td>1110651</td>\n",
       "      <td>2283037</td>\n",
       "      <td>646046</td>\n",
       "      <td>10199679</td>\n",
       "      <td>8442982</td>\n",
       "      <td>11372065</td>\n",
       "      <td>78788</td>\n",
       "      <td>61652</td>\n",
       "    </tr>\n",
       "    <tr>\n",
       "      <th>1</th>\n",
       "      <td>1023980</td>\n",
       "      <td>927251</td>\n",
       "      <td>9699</td>\n",
       "      <td>1</td>\n",
       "      <td>434</td>\n",
       "      <td>7548770</td>\n",
       "      <td>38</td>\n",
       "      <td>168502</td>\n",
       "      <td>2020JJ00</td>\n",
       "      <td>493</td>\n",
       "      <td>...</td>\n",
       "      <td>1192482</td>\n",
       "      <td>1135943</td>\n",
       "      <td>1135943</td>\n",
       "      <td>2328425</td>\n",
       "      <td>654387</td>\n",
       "      <td>10374721</td>\n",
       "      <td>8584391</td>\n",
       "      <td>11567203</td>\n",
       "      <td>80118</td>\n",
       "      <td>61746</td>\n",
       "    </tr>\n",
       "    <tr>\n",
       "      <th>2</th>\n",
       "      <td>1029636</td>\n",
       "      <td>945433</td>\n",
       "      <td>9050</td>\n",
       "      <td>2</td>\n",
       "      <td>440</td>\n",
       "      <td>7683236</td>\n",
       "      <td>38</td>\n",
       "      <td>170014</td>\n",
       "      <td>2021JJ00</td>\n",
       "      <td>497</td>\n",
       "      <td>...</td>\n",
       "      <td>1199650</td>\n",
       "      <td>1151740</td>\n",
       "      <td>1151740</td>\n",
       "      <td>2351390</td>\n",
       "      <td>666597</td>\n",
       "      <td>10504756</td>\n",
       "      <td>8686419</td>\n",
       "      <td>11704406</td>\n",
       "      <td>79932</td>\n",
       "      <td>60831</td>\n",
       "    </tr>\n",
       "    <tr>\n",
       "      <th>3</th>\n",
       "      <td>1051486</td>\n",
       "      <td>974792</td>\n",
       "      <td>8532</td>\n",
       "      <td>3</td>\n",
       "      <td>444</td>\n",
       "      <td>7803950</td>\n",
       "      <td>39</td>\n",
       "      <td>177294</td>\n",
       "      <td>2022JJ00</td>\n",
       "      <td>502</td>\n",
       "      <td>...</td>\n",
       "      <td>1228780</td>\n",
       "      <td>1182857</td>\n",
       "      <td>1182857</td>\n",
       "      <td>2411637</td>\n",
       "      <td>677787</td>\n",
       "      <td>10688353</td>\n",
       "      <td>8827709</td>\n",
       "      <td>11917133</td>\n",
       "      <td>82436</td>\n",
       "      <td>60867</td>\n",
       "    </tr>\n",
       "    <tr>\n",
       "      <th>4</th>\n",
       "      <td>1069827</td>\n",
       "      <td>989841</td>\n",
       "      <td>8756</td>\n",
       "      <td>4</td>\n",
       "      <td>440</td>\n",
       "      <td>7842473</td>\n",
       "      <td>39</td>\n",
       "      <td>185262</td>\n",
       "      <td>2023JJ00</td>\n",
       "      <td>501</td>\n",
       "      <td>...</td>\n",
       "      <td>1255089</td>\n",
       "      <td>1201061</td>\n",
       "      <td>1201061</td>\n",
       "      <td>2456150</td>\n",
       "      <td>690724</td>\n",
       "      <td>10808892</td>\n",
       "      <td>8917107</td>\n",
       "      <td>12063981</td>\n",
       "      <td>85679</td>\n",
       "      <td>60811</td>\n",
       "    </tr>\n",
       "  </tbody>\n",
       "</table>\n",
       "<p>5 rows × 23 columns</p>\n",
       "</div>"
      ],
      "text/plain": [
       "   Aanhangwagen_17  Bestelauto_11  Bus_15  ID  \\\n",
       "0          1008412         903005    9513   0   \n",
       "1          1023980         927251    9699   1   \n",
       "2          1029636         945433    9050   2   \n",
       "3          1051486         974792    8532   3   \n",
       "4          1069827         989841    8756   4   \n",
       "\n",
       "   InBezitNatuurlijkePersonenRelatief_6  InBezitNatuurlijkePersonen_5  \\\n",
       "0                                   431                       7452085   \n",
       "1                                   434                       7548770   \n",
       "2                                   440                       7683236   \n",
       "3                                   444                       7803950   \n",
       "4                                   440                       7842473   \n",
       "\n",
       "   MotorfietsenRelatief_20  Oplegger_18  Perioden  PersonenautoSRelatief_4  \\\n",
       "0                       37       163974  2019JJ00                      489   \n",
       "1                       38       168502  2020JJ00                      493   \n",
       "2                       38       170014  2021JJ00                      497   \n",
       "3                       39       177294  2022JJ00                      502   \n",
       "4                       39       185262  2023JJ00                      501   \n",
       "\n",
       "   ... TotaalAanhangwagensEnOpleggers_9  TotaalBedrijfsmotorvoertuigen_10  \\\n",
       "0  ...                          1172386                           1110651   \n",
       "1  ...                          1192482                           1135943   \n",
       "2  ...                          1199650                           1151740   \n",
       "3  ...                          1228780                           1182857   \n",
       "4  ...                          1255089                           1201061   \n",
       "\n",
       "   TotaalBedrijfsmotorvoertuigen_8  TotaalBedrijfsvoertuigen_7  \\\n",
       "0                          1110651                     2283037   \n",
       "1                          1135943                     2328425   \n",
       "2                          1151740                     2351390   \n",
       "3                          1182857                     2411637   \n",
       "4                          1201061                     2456150   \n",
       "\n",
       "   TotaalMotorfietsen_19  TotaalMotorvoertuigen_2  TotaalPersonenautoS_3  \\\n",
       "0                 646046                 10199679                8442982   \n",
       "1                 654387                 10374721                8584391   \n",
       "2                 666597                 10504756                8686419   \n",
       "3                 677787                 10688353                8827709   \n",
       "4                 690724                 10808892                8917107   \n",
       "\n",
       "   TotaalWegvoertuigen_1  TrekkerVoorOplegger_13  \\\n",
       "0               11372065                   78788   \n",
       "1               11567203                   80118   \n",
       "2               11704406                   79932   \n",
       "3               11917133                   82436   \n",
       "4               12063981                   85679   \n",
       "\n",
       "   VrachtautoExclTrekkerVoorOplegger_12  \n",
       "0                                 61652  \n",
       "1                                 61746  \n",
       "2                                 60831  \n",
       "3                                 60867  \n",
       "4                                 60811  \n",
       "\n",
       "[5 rows x 23 columns]"
      ]
     },
     "execution_count": 61,
     "metadata": {},
     "output_type": "execute_result"
    }
   ],
   "source": [
    "# select columns by first selecting the \"value\" key from json format\n",
    "# then specify the specific columns\n",
    "dfposts = pd.DataFrame(posts[\"value\"])[['Aanhangwagen_17',\n",
    "            'Bestelauto_11',\n",
    "            'Bus_15',\n",
    "            'ID',\n",
    "            'InBezitNatuurlijkePersonenRelatief_6',\n",
    "            'InBezitNatuurlijkePersonen_5',\n",
    "            'MotorfietsenRelatief_20',\n",
    "            'Oplegger_18',\n",
    "            'Perioden',\n",
    "            'PersonenautoSRelatief_4',\n",
    "            'RegioS',\n",
    "            'SpeciaalVoertuig_14',\n",
    "            'TotaalAanhangwagensEnOpleggers_16',\n",
    "            'TotaalAanhangwagensEnOpleggers_9',\n",
    "            'TotaalBedrijfsmotorvoertuigen_10',\n",
    "            'TotaalBedrijfsmotorvoertuigen_8',\n",
    "            'TotaalBedrijfsvoertuigen_7',\n",
    "            'TotaalMotorfietsen_19',\n",
    "            'TotaalMotorvoertuigen_2',\n",
    "            'TotaalPersonenautoS_3',\n",
    "            'TotaalWegvoertuigen_1',\n",
    "            'TrekkerVoorOplegger_13',\n",
    "            'VrachtautoExclTrekkerVoorOplegger_12']]\n",
    "dfposts.head()\n",
    "\n"
   ]
  },
  {
   "cell_type": "code",
   "execution_count": 62,
   "id": "e918d6d5",
   "metadata": {},
   "outputs": [
    {
     "name": "stdout",
     "output_type": "stream",
     "text": [
      "<class 'pandas.core.frame.DataFrame'>\n",
      "RangeIndex: 119 entries, 0 to 118\n",
      "Data columns (total 23 columns):\n",
      " #   Column                                Non-Null Count  Dtype \n",
      "---  ------                                --------------  ----- \n",
      " 0   Aanhangwagen_17                       119 non-null    int64 \n",
      " 1   Bestelauto_11                         119 non-null    int64 \n",
      " 2   Bus_15                                119 non-null    int64 \n",
      " 3   ID                                    119 non-null    int64 \n",
      " 4   InBezitNatuurlijkePersonenRelatief_6  119 non-null    int64 \n",
      " 5   InBezitNatuurlijkePersonen_5          119 non-null    int64 \n",
      " 6   MotorfietsenRelatief_20               119 non-null    int64 \n",
      " 7   Oplegger_18                           119 non-null    int64 \n",
      " 8   Perioden                              119 non-null    object\n",
      " 9   PersonenautoSRelatief_4               119 non-null    int64 \n",
      " 10  RegioS                                119 non-null    object\n",
      " 11  SpeciaalVoertuig_14                   119 non-null    int64 \n",
      " 12  TotaalAanhangwagensEnOpleggers_16     119 non-null    int64 \n",
      " 13  TotaalAanhangwagensEnOpleggers_9      119 non-null    int64 \n",
      " 14  TotaalBedrijfsmotorvoertuigen_10      119 non-null    int64 \n",
      " 15  TotaalBedrijfsmotorvoertuigen_8       119 non-null    int64 \n",
      " 16  TotaalBedrijfsvoertuigen_7            119 non-null    int64 \n",
      " 17  TotaalMotorfietsen_19                 119 non-null    int64 \n",
      " 18  TotaalMotorvoertuigen_2               119 non-null    int64 \n",
      " 19  TotaalPersonenautoS_3                 119 non-null    int64 \n",
      " 20  TotaalWegvoertuigen_1                 119 non-null    int64 \n",
      " 21  TrekkerVoorOplegger_13                119 non-null    int64 \n",
      " 22  VrachtautoExclTrekkerVoorOplegger_12  119 non-null    int64 \n",
      "dtypes: int64(21), object(2)\n",
      "memory usage: 21.5+ KB\n"
     ]
    }
   ],
   "source": [
    "dfposts.info()"
   ]
  },
  {
   "cell_type": "code",
   "execution_count": 63,
   "id": "2b7b33c2",
   "metadata": {},
   "outputs": [
    {
     "data": {
      "text/html": [
       "<div>\n",
       "<style scoped>\n",
       "    .dataframe tbody tr th:only-of-type {\n",
       "        vertical-align: middle;\n",
       "    }\n",
       "\n",
       "    .dataframe tbody tr th {\n",
       "        vertical-align: top;\n",
       "    }\n",
       "\n",
       "    .dataframe thead th {\n",
       "        text-align: right;\n",
       "    }\n",
       "</style>\n",
       "<table border=\"1\" class=\"dataframe\">\n",
       "  <thead>\n",
       "    <tr style=\"text-align: right;\">\n",
       "      <th></th>\n",
       "      <th>Aanhangwagen_17</th>\n",
       "      <th>Bestelauto_11</th>\n",
       "      <th>Bus_15</th>\n",
       "      <th>ID</th>\n",
       "      <th>InBezitNatuurlijkePersonenRelatief_6</th>\n",
       "      <th>InBezitNatuurlijkePersonen_5</th>\n",
       "      <th>MotorfietsenRelatief_20</th>\n",
       "      <th>Oplegger_18</th>\n",
       "      <th>Perioden</th>\n",
       "      <th>PersonenautoSRelatief_4</th>\n",
       "      <th>...</th>\n",
       "      <th>TotaalAanhangwagensEnOpleggers_9</th>\n",
       "      <th>TotaalBedrijfsmotorvoertuigen_10</th>\n",
       "      <th>TotaalBedrijfsmotorvoertuigen_8</th>\n",
       "      <th>TotaalBedrijfsvoertuigen_7</th>\n",
       "      <th>TotaalMotorfietsen_19</th>\n",
       "      <th>TotaalMotorvoertuigen_2</th>\n",
       "      <th>TotaalPersonenautoS_3</th>\n",
       "      <th>TotaalWegvoertuigen_1</th>\n",
       "      <th>TrekkerVoorOplegger_13</th>\n",
       "      <th>VrachtautoExclTrekkerVoorOplegger_12</th>\n",
       "    </tr>\n",
       "  </thead>\n",
       "  <tbody>\n",
       "    <tr>\n",
       "      <th>count</th>\n",
       "      <td>1.190000e+02</td>\n",
       "      <td>1.190000e+02</td>\n",
       "      <td>119.000000</td>\n",
       "      <td>119.000000</td>\n",
       "      <td>119.000000</td>\n",
       "      <td>1.190000e+02</td>\n",
       "      <td>119.000000</td>\n",
       "      <td>119.00000</td>\n",
       "      <td>119</td>\n",
       "      <td>119.000000</td>\n",
       "      <td>...</td>\n",
       "      <td>1.190000e+02</td>\n",
       "      <td>1.190000e+02</td>\n",
       "      <td>1.190000e+02</td>\n",
       "      <td>1.190000e+02</td>\n",
       "      <td>119.000000</td>\n",
       "      <td>1.190000e+02</td>\n",
       "      <td>1.190000e+02</td>\n",
       "      <td>1.190000e+02</td>\n",
       "      <td>119.000000</td>\n",
       "      <td>119.000000</td>\n",
       "    </tr>\n",
       "    <tr>\n",
       "      <th>unique</th>\n",
       "      <td>NaN</td>\n",
       "      <td>NaN</td>\n",
       "      <td>NaN</td>\n",
       "      <td>NaN</td>\n",
       "      <td>NaN</td>\n",
       "      <td>NaN</td>\n",
       "      <td>NaN</td>\n",
       "      <td>NaN</td>\n",
       "      <td>7</td>\n",
       "      <td>NaN</td>\n",
       "      <td>...</td>\n",
       "      <td>NaN</td>\n",
       "      <td>NaN</td>\n",
       "      <td>NaN</td>\n",
       "      <td>NaN</td>\n",
       "      <td>NaN</td>\n",
       "      <td>NaN</td>\n",
       "      <td>NaN</td>\n",
       "      <td>NaN</td>\n",
       "      <td>NaN</td>\n",
       "      <td>NaN</td>\n",
       "    </tr>\n",
       "    <tr>\n",
       "      <th>top</th>\n",
       "      <td>NaN</td>\n",
       "      <td>NaN</td>\n",
       "      <td>NaN</td>\n",
       "      <td>NaN</td>\n",
       "      <td>NaN</td>\n",
       "      <td>NaN</td>\n",
       "      <td>NaN</td>\n",
       "      <td>NaN</td>\n",
       "      <td>2019JJ00</td>\n",
       "      <td>NaN</td>\n",
       "      <td>...</td>\n",
       "      <td>NaN</td>\n",
       "      <td>NaN</td>\n",
       "      <td>NaN</td>\n",
       "      <td>NaN</td>\n",
       "      <td>NaN</td>\n",
       "      <td>NaN</td>\n",
       "      <td>NaN</td>\n",
       "      <td>NaN</td>\n",
       "      <td>NaN</td>\n",
       "      <td>NaN</td>\n",
       "    </tr>\n",
       "    <tr>\n",
       "      <th>freq</th>\n",
       "      <td>NaN</td>\n",
       "      <td>NaN</td>\n",
       "      <td>NaN</td>\n",
       "      <td>NaN</td>\n",
       "      <td>NaN</td>\n",
       "      <td>NaN</td>\n",
       "      <td>NaN</td>\n",
       "      <td>NaN</td>\n",
       "      <td>17</td>\n",
       "      <td>NaN</td>\n",
       "      <td>...</td>\n",
       "      <td>NaN</td>\n",
       "      <td>NaN</td>\n",
       "      <td>NaN</td>\n",
       "      <td>NaN</td>\n",
       "      <td>NaN</td>\n",
       "      <td>NaN</td>\n",
       "      <td>NaN</td>\n",
       "      <td>NaN</td>\n",
       "      <td>NaN</td>\n",
       "      <td>NaN</td>\n",
       "    </tr>\n",
       "    <tr>\n",
       "      <th>mean</th>\n",
       "      <td>1.854826e+05</td>\n",
       "      <td>1.713652e+05</td>\n",
       "      <td>1599.781513</td>\n",
       "      <td>59.000000</td>\n",
       "      <td>458.327731</td>\n",
       "      <td>1.371150e+06</td>\n",
       "      <td>41.445378</td>\n",
       "      <td>31314.02521</td>\n",
       "      <td>NaN</td>\n",
       "      <td>531.352941</td>\n",
       "      <td>...</td>\n",
       "      <td>2.167967e+05</td>\n",
       "      <td>2.084077e+05</td>\n",
       "      <td>2.084077e+05</td>\n",
       "      <td>4.252043e+05</td>\n",
       "      <td>119986.058824</td>\n",
       "      <td>1.885717e+06</td>\n",
       "      <td>1.557323e+06</td>\n",
       "      <td>2.102513e+06</td>\n",
       "      <td>14653.285714</td>\n",
       "      <td>10856.092437</td>\n",
       "    </tr>\n",
       "    <tr>\n",
       "      <th>std</th>\n",
       "      <td>2.359257e+05</td>\n",
       "      <td>2.222785e+05</td>\n",
       "      <td>2209.500400</td>\n",
       "      <td>34.496377</td>\n",
       "      <td>43.597953</td>\n",
       "      <td>1.791485e+06</td>\n",
       "      <td>6.256790</td>\n",
       "      <td>41848.47121</td>\n",
       "      <td>NaN</td>\n",
       "      <td>92.283424</td>\n",
       "      <td>...</td>\n",
       "      <td>2.769861e+05</td>\n",
       "      <td>2.701247e+05</td>\n",
       "      <td>2.701247e+05</td>\n",
       "      <td>5.464519e+05</td>\n",
       "      <td>155689.531752</td>\n",
       "      <td>2.460088e+06</td>\n",
       "      <td>2.034669e+06</td>\n",
       "      <td>2.735181e+06</td>\n",
       "      <td>19137.159198</td>\n",
       "      <td>14132.059518</td>\n",
       "    </tr>\n",
       "    <tr>\n",
       "      <th>min</th>\n",
       "      <td>2.181000e+04</td>\n",
       "      <td>2.361800e+04</td>\n",
       "      <td>51.000000</td>\n",
       "      <td>0.000000</td>\n",
       "      <td>375.000000</td>\n",
       "      <td>1.728080e+05</td>\n",
       "      <td>30.000000</td>\n",
       "      <td>2359.00000</td>\n",
       "      <td>NaN</td>\n",
       "      <td>421.000000</td>\n",
       "      <td>...</td>\n",
       "      <td>2.416900e+04</td>\n",
       "      <td>2.922200e+04</td>\n",
       "      <td>2.922200e+04</td>\n",
       "      <td>6.392300e+04</td>\n",
       "      <td>15091.000000</td>\n",
       "      <td>2.477690e+05</td>\n",
       "      <td>2.013010e+05</td>\n",
       "      <td>2.824700e+05</td>\n",
       "      <td>1414.000000</td>\n",
       "      <td>1156.000000</td>\n",
       "    </tr>\n",
       "    <tr>\n",
       "      <th>25%</th>\n",
       "      <td>6.106750e+04</td>\n",
       "      <td>4.746650e+04</td>\n",
       "      <td>367.000000</td>\n",
       "      <td>29.500000</td>\n",
       "      <td>422.500000</td>\n",
       "      <td>3.145290e+05</td>\n",
       "      <td>36.000000</td>\n",
       "      <td>4977.00000</td>\n",
       "      <td>NaN</td>\n",
       "      <td>494.500000</td>\n",
       "      <td>...</td>\n",
       "      <td>6.587250e+04</td>\n",
       "      <td>5.816600e+04</td>\n",
       "      <td>5.816600e+04</td>\n",
       "      <td>1.226150e+05</td>\n",
       "      <td>30465.500000</td>\n",
       "      <td>4.397930e+05</td>\n",
       "      <td>3.646235e+05</td>\n",
       "      <td>4.965140e+05</td>\n",
       "      <td>3261.000000</td>\n",
       "      <td>2796.000000</td>\n",
       "    </tr>\n",
       "    <tr>\n",
       "      <th>50%</th>\n",
       "      <td>1.131420e+05</td>\n",
       "      <td>1.111590e+05</td>\n",
       "      <td>901.000000</td>\n",
       "      <td>59.000000</td>\n",
       "      <td>469.000000</td>\n",
       "      <td>8.491200e+05</td>\n",
       "      <td>41.000000</td>\n",
       "      <td>16419.00000</td>\n",
       "      <td>NaN</td>\n",
       "      <td>525.000000</td>\n",
       "      <td>...</td>\n",
       "      <td>1.295610e+05</td>\n",
       "      <td>1.382770e+05</td>\n",
       "      <td>1.382770e+05</td>\n",
       "      <td>2.881580e+05</td>\n",
       "      <td>83721.000000</td>\n",
       "      <td>1.132392e+06</td>\n",
       "      <td>9.093020e+05</td>\n",
       "      <td>1.306028e+06</td>\n",
       "      <td>7841.000000</td>\n",
       "      <td>6062.000000</td>\n",
       "    </tr>\n",
       "    <tr>\n",
       "      <th>75%</th>\n",
       "      <td>1.834855e+05</td>\n",
       "      <td>1.717850e+05</td>\n",
       "      <td>1628.000000</td>\n",
       "      <td>88.500000</td>\n",
       "      <td>492.500000</td>\n",
       "      <td>1.504870e+06</td>\n",
       "      <td>45.500000</td>\n",
       "      <td>39000.00000</td>\n",
       "      <td>NaN</td>\n",
       "      <td>545.500000</td>\n",
       "      <td>...</td>\n",
       "      <td>2.208010e+05</td>\n",
       "      <td>2.096705e+05</td>\n",
       "      <td>2.096705e+05</td>\n",
       "      <td>4.280710e+05</td>\n",
       "      <td>121018.500000</td>\n",
       "      <td>1.981126e+06</td>\n",
       "      <td>1.656020e+06</td>\n",
       "      <td>2.177265e+06</td>\n",
       "      <td>17043.000000</td>\n",
       "      <td>12079.500000</td>\n",
       "    </tr>\n",
       "    <tr>\n",
       "      <th>max</th>\n",
       "      <td>1.096141e+06</td>\n",
       "      <td>1.050688e+06</td>\n",
       "      <td>9699.000000</td>\n",
       "      <td>118.000000</td>\n",
       "      <td>538.000000</td>\n",
       "      <td>8.112145e+06</td>\n",
       "      <td>58.000000</td>\n",
       "      <td>188898.00000</td>\n",
       "      <td>NaN</td>\n",
       "      <td>910.000000</td>\n",
       "      <td>...</td>\n",
       "      <td>1.285039e+06</td>\n",
       "      <td>1.265892e+06</td>\n",
       "      <td>1.265892e+06</td>\n",
       "      <td>2.550931e+06</td>\n",
       "      <td>720591.000000</td>\n",
       "      <td>1.123429e+07</td>\n",
       "      <td>9.247810e+06</td>\n",
       "      <td>1.251933e+07</td>\n",
       "      <td>87837.000000</td>\n",
       "      <td>63197.000000</td>\n",
       "    </tr>\n",
       "  </tbody>\n",
       "</table>\n",
       "<p>11 rows × 23 columns</p>\n",
       "</div>"
      ],
      "text/plain": [
       "        Aanhangwagen_17  Bestelauto_11       Bus_15          ID  \\\n",
       "count      1.190000e+02   1.190000e+02   119.000000  119.000000   \n",
       "unique              NaN            NaN          NaN         NaN   \n",
       "top                 NaN            NaN          NaN         NaN   \n",
       "freq                NaN            NaN          NaN         NaN   \n",
       "mean       1.854826e+05   1.713652e+05  1599.781513   59.000000   \n",
       "std        2.359257e+05   2.222785e+05  2209.500400   34.496377   \n",
       "min        2.181000e+04   2.361800e+04    51.000000    0.000000   \n",
       "25%        6.106750e+04   4.746650e+04   367.000000   29.500000   \n",
       "50%        1.131420e+05   1.111590e+05   901.000000   59.000000   \n",
       "75%        1.834855e+05   1.717850e+05  1628.000000   88.500000   \n",
       "max        1.096141e+06   1.050688e+06  9699.000000  118.000000   \n",
       "\n",
       "        InBezitNatuurlijkePersonenRelatief_6  InBezitNatuurlijkePersonen_5  \\\n",
       "count                             119.000000                  1.190000e+02   \n",
       "unique                                   NaN                           NaN   \n",
       "top                                      NaN                           NaN   \n",
       "freq                                     NaN                           NaN   \n",
       "mean                              458.327731                  1.371150e+06   \n",
       "std                                43.597953                  1.791485e+06   \n",
       "min                               375.000000                  1.728080e+05   \n",
       "25%                               422.500000                  3.145290e+05   \n",
       "50%                               469.000000                  8.491200e+05   \n",
       "75%                               492.500000                  1.504870e+06   \n",
       "max                               538.000000                  8.112145e+06   \n",
       "\n",
       "        MotorfietsenRelatief_20   Oplegger_18  Perioden  \\\n",
       "count                119.000000     119.00000       119   \n",
       "unique                      NaN           NaN         7   \n",
       "top                         NaN           NaN  2019JJ00   \n",
       "freq                        NaN           NaN        17   \n",
       "mean                  41.445378   31314.02521       NaN   \n",
       "std                    6.256790   41848.47121       NaN   \n",
       "min                   30.000000    2359.00000       NaN   \n",
       "25%                   36.000000    4977.00000       NaN   \n",
       "50%                   41.000000   16419.00000       NaN   \n",
       "75%                   45.500000   39000.00000       NaN   \n",
       "max                   58.000000  188898.00000       NaN   \n",
       "\n",
       "        PersonenautoSRelatief_4  ... TotaalAanhangwagensEnOpleggers_9  \\\n",
       "count                119.000000  ...                     1.190000e+02   \n",
       "unique                      NaN  ...                              NaN   \n",
       "top                         NaN  ...                              NaN   \n",
       "freq                        NaN  ...                              NaN   \n",
       "mean                 531.352941  ...                     2.167967e+05   \n",
       "std                   92.283424  ...                     2.769861e+05   \n",
       "min                  421.000000  ...                     2.416900e+04   \n",
       "25%                  494.500000  ...                     6.587250e+04   \n",
       "50%                  525.000000  ...                     1.295610e+05   \n",
       "75%                  545.500000  ...                     2.208010e+05   \n",
       "max                  910.000000  ...                     1.285039e+06   \n",
       "\n",
       "        TotaalBedrijfsmotorvoertuigen_10  TotaalBedrijfsmotorvoertuigen_8  \\\n",
       "count                       1.190000e+02                     1.190000e+02   \n",
       "unique                               NaN                              NaN   \n",
       "top                                  NaN                              NaN   \n",
       "freq                                 NaN                              NaN   \n",
       "mean                        2.084077e+05                     2.084077e+05   \n",
       "std                         2.701247e+05                     2.701247e+05   \n",
       "min                         2.922200e+04                     2.922200e+04   \n",
       "25%                         5.816600e+04                     5.816600e+04   \n",
       "50%                         1.382770e+05                     1.382770e+05   \n",
       "75%                         2.096705e+05                     2.096705e+05   \n",
       "max                         1.265892e+06                     1.265892e+06   \n",
       "\n",
       "        TotaalBedrijfsvoertuigen_7  TotaalMotorfietsen_19  \\\n",
       "count                 1.190000e+02             119.000000   \n",
       "unique                         NaN                    NaN   \n",
       "top                            NaN                    NaN   \n",
       "freq                           NaN                    NaN   \n",
       "mean                  4.252043e+05          119986.058824   \n",
       "std                   5.464519e+05          155689.531752   \n",
       "min                   6.392300e+04           15091.000000   \n",
       "25%                   1.226150e+05           30465.500000   \n",
       "50%                   2.881580e+05           83721.000000   \n",
       "75%                   4.280710e+05          121018.500000   \n",
       "max                   2.550931e+06          720591.000000   \n",
       "\n",
       "        TotaalMotorvoertuigen_2  TotaalPersonenautoS_3  TotaalWegvoertuigen_1  \\\n",
       "count              1.190000e+02           1.190000e+02           1.190000e+02   \n",
       "unique                      NaN                    NaN                    NaN   \n",
       "top                         NaN                    NaN                    NaN   \n",
       "freq                        NaN                    NaN                    NaN   \n",
       "mean               1.885717e+06           1.557323e+06           2.102513e+06   \n",
       "std                2.460088e+06           2.034669e+06           2.735181e+06   \n",
       "min                2.477690e+05           2.013010e+05           2.824700e+05   \n",
       "25%                4.397930e+05           3.646235e+05           4.965140e+05   \n",
       "50%                1.132392e+06           9.093020e+05           1.306028e+06   \n",
       "75%                1.981126e+06           1.656020e+06           2.177265e+06   \n",
       "max                1.123429e+07           9.247810e+06           1.251933e+07   \n",
       "\n",
       "        TrekkerVoorOplegger_13  VrachtautoExclTrekkerVoorOplegger_12  \n",
       "count               119.000000                            119.000000  \n",
       "unique                     NaN                                   NaN  \n",
       "top                        NaN                                   NaN  \n",
       "freq                       NaN                                   NaN  \n",
       "mean              14653.285714                          10856.092437  \n",
       "std               19137.159198                          14132.059518  \n",
       "min                1414.000000                           1156.000000  \n",
       "25%                3261.000000                           2796.000000  \n",
       "50%                7841.000000                           6062.000000  \n",
       "75%               17043.000000                          12079.500000  \n",
       "max               87837.000000                          63197.000000  \n",
       "\n",
       "[11 rows x 23 columns]"
      ]
     },
     "execution_count": 63,
     "metadata": {},
     "output_type": "execute_result"
    }
   ],
   "source": [
    "dfposts.describe(include=\"all\")"
   ]
  },
  {
   "cell_type": "code",
   "execution_count": 64,
   "id": "4e0ffd44",
   "metadata": {},
   "outputs": [
    {
     "data": {
      "text/plain": [
       "Aanhangwagen_17                         0\n",
       "Bestelauto_11                           0\n",
       "Bus_15                                  0\n",
       "ID                                      0\n",
       "InBezitNatuurlijkePersonenRelatief_6    0\n",
       "InBezitNatuurlijkePersonen_5            0\n",
       "MotorfietsenRelatief_20                 0\n",
       "Oplegger_18                             0\n",
       "Perioden                                0\n",
       "PersonenautoSRelatief_4                 0\n",
       "RegioS                                  0\n",
       "SpeciaalVoertuig_14                     0\n",
       "TotaalAanhangwagensEnOpleggers_16       0\n",
       "TotaalAanhangwagensEnOpleggers_9        0\n",
       "TotaalBedrijfsmotorvoertuigen_10        0\n",
       "TotaalBedrijfsmotorvoertuigen_8         0\n",
       "TotaalBedrijfsvoertuigen_7              0\n",
       "TotaalMotorfietsen_19                   0\n",
       "TotaalMotorvoertuigen_2                 0\n",
       "TotaalPersonenautoS_3                   0\n",
       "TotaalWegvoertuigen_1                   0\n",
       "TrekkerVoorOplegger_13                  0\n",
       "VrachtautoExclTrekkerVoorOplegger_12    0\n",
       "dtype: int64"
      ]
     },
     "execution_count": 64,
     "metadata": {},
     "output_type": "execute_result"
    }
   ],
   "source": [
    "dfposts.isnull().sum()"
   ]
  },
  {
   "cell_type": "markdown",
   "id": "fce3ade5",
   "metadata": {},
   "source": [
    "#### Since we want to use this data to portray the impact of cars in specific regions on the air quality, we choose to use the following attributes from this data source:\n",
    "```\n",
    "columns_vehicledb = ['Aanhangwagen_17',\n",
    "            'Bestelauto_11',\n",
    "            'Bus_15',\n",
    "            'InBezitNatuurlijkePersonenRelatief_6',\n",
    "            'InBezitNatuurlijkePersonen_5',\n",
    "            'MotorfietsenRelatief_20',\n",
    "            'Oplegger_18',\n",
    "            'PersonenautoSRelatief_4',\n",
    "            'SpeciaalVoertuig_14',\n",
    "            'TotaalAanhangwagensEnOpleggers_16',\n",
    "            'TotaalAanhangwagensEnOpleggers_9',\n",
    "            'TotaalBedrijfsmotorvoertuigen_10',\n",
    "            'TotaalBedrijfsmotorvoertuigen_8',\n",
    "            'TotaalBedrijfsvoertuigen_7',\n",
    "            'TotaalMotorfietsen_19',\n",
    "            'TotaalMotorvoertuigen_2',\n",
    "            'TotaalPersonenautoS_3',\n",
    "            'TotaalWegvoertuigen_1',\n",
    "            'TrekkerVoorOplegger_13',\n",
    "            'VrachtautoExclTrekkerVoorOplegger_12']\n",
    "\n",
    "```"
   ]
  },
  {
   "cell_type": "code",
   "execution_count": 65,
   "id": "3bbe5dbe",
   "metadata": {},
   "outputs": [
    {
     "name": "stdout",
     "output_type": "stream",
     "text": [
      "17 different regions\n",
      "['NL01  ' 'LD01  ' 'LD02  ' 'LD03  ' 'LD04  ' 'PV20  ' 'PV21  ' 'PV22  '\n",
      " 'PV23  ' 'PV24  ' 'PV25  ' 'PV26  ' 'PV27  ' 'PV28  ' 'PV29  ' 'PV30  '\n",
      " 'PV31  ']\n",
      "RegioS\n",
      "NL01      7\n",
      "LD01      7\n",
      "LD02      7\n",
      "LD03      7\n",
      "LD04      7\n",
      "PV20      7\n",
      "PV21      7\n",
      "PV22      7\n",
      "PV23      7\n",
      "PV24      7\n",
      "PV25      7\n",
      "PV26      7\n",
      "PV27      7\n",
      "PV28      7\n",
      "PV29      7\n",
      "PV30      7\n",
      "PV31      7\n",
      "Name: count, dtype: int64\n"
     ]
    }
   ],
   "source": [
    "print(dfposts[\"RegioS\"].nunique(), \"different regions\")\n",
    "print(dfposts[\"RegioS\"].unique())\n",
    "print(dfposts[\"RegioS\"].value_counts())"
   ]
  },
  {
   "cell_type": "markdown",
   "id": "1eea4e9f",
   "metadata": {},
   "source": [
    "There are 17 different regios, divided in the following two categories: LD (landsdeel) and PV (provincies). We choose to primiraly focus on provinces due to data granularity. "
   ]
  },
  {
   "cell_type": "code",
   "execution_count": 66,
   "id": "cd68202e",
   "metadata": {},
   "outputs": [
    {
     "name": "stdout",
     "output_type": "stream",
     "text": [
      "     Aanhangwagen_17  Bestelauto_11  Bus_15   ID  \\\n",
      "35             44354          31359      99   35   \n",
      "36             45012          32179     291   36   \n",
      "37             45677          33225     343   37   \n",
      "38             46662          34112     346   38   \n",
      "39             47653          34680     372   39   \n",
      "..               ...            ...     ...  ...   \n",
      "114            70317          52209     351  114   \n",
      "115            72178          53705     332  115   \n",
      "116            74049          54396     361  116   \n",
      "117            74725          55128     362  117   \n",
      "118            75962          56734     352  118   \n",
      "\n",
      "     InBezitNatuurlijkePersonenRelatief_6  InBezitNatuurlijkePersonen_5  \\\n",
      "35                                    431                        251789   \n",
      "36                                    436                        255316   \n",
      "37                                    444                        260707   \n",
      "38                                    450                        265561   \n",
      "39                                    448                        267111   \n",
      "..                                    ...                           ...   \n",
      "114                                   509                        567638   \n",
      "115                                   513                        573817   \n",
      "116                                   510                        575540   \n",
      "117                                   513                        581050   \n",
      "118                                   520                        590239   \n",
      "\n",
      "     MotorfietsenRelatief_20  Oplegger_18  Perioden  PersonenautoSRelatief_4  \\\n",
      "35                        43         2984  2019JJ00                      471   \n",
      "36                        43         3089  2020JJ00                      477   \n",
      "37                        44         3114  2021JJ00                      484   \n",
      "38                        45         3218  2022JJ00                      491   \n",
      "39                        45         3349  2023JJ00                      491   \n",
      "..                       ...          ...       ...                      ...   \n",
      "114                       41        16683  2021JJ00                      531   \n",
      "115                       42        17497  2022JJ00                      536   \n",
      "116                       43        18419  2023JJ00                      534   \n",
      "117                       43        19140  2024JJ00                      537   \n",
      "118                       44        19491  2025JJ00                      545   \n",
      "\n",
      "     ... TotaalAanhangwagensEnOpleggers_9  TotaalBedrijfsmotorvoertuigen_10  \\\n",
      "35   ...                            47338                             37610   \n",
      "36   ...                            48101                             38656   \n",
      "37   ...                            48791                             39761   \n",
      "38   ...                            49880                             40693   \n",
      "39   ...                            51002                             41382   \n",
      "..   ...                              ...                               ...   \n",
      "114  ...                            87000                             66018   \n",
      "115  ...                            89675                             67585   \n",
      "116  ...                            92468                             68298   \n",
      "117  ...                            93865                             68830   \n",
      "118  ...                            95453                             70311   \n",
      "\n",
      "     TotaalBedrijfsmotorvoertuigen_8  TotaalBedrijfsvoertuigen_7  \\\n",
      "35                             37610                       84948   \n",
      "36                             38656                       86757   \n",
      "37                             39761                       88552   \n",
      "38                             40693                       90573   \n",
      "39                             41382                       92384   \n",
      "..                               ...                         ...   \n",
      "114                            66018                      153018   \n",
      "115                            67585                      157260   \n",
      "116                            68298                      160766   \n",
      "117                            68830                      162695   \n",
      "118                            70311                      165764   \n",
      "\n",
      "     TotaalMotorfietsen_19  TotaalMotorvoertuigen_2  TotaalPersonenautoS_3  \\\n",
      "35                   24861                   337248                 274777   \n",
      "36                   25055                   342992                 279281   \n",
      "37                   25665                   349476                 284050   \n",
      "38                   26277                   356506                 289536   \n",
      "39                   26977                   360941                 292582   \n",
      "..                     ...                      ...                    ...   \n",
      "114                  46140                   705201                 593043   \n",
      "115                  46906                   714292                 599801   \n",
      "116                  48135                   719023                 602590   \n",
      "117                  48942                   726790                 609018   \n",
      "118                  49894                   738834                 618629   \n",
      "\n",
      "     TotaalWegvoertuigen_1  TrekkerVoorOplegger_13  \\\n",
      "35                  384586                    1940   \n",
      "36                  391093                    1970   \n",
      "37                  398267                    1977   \n",
      "38                  406386                    2008   \n",
      "39                  411943                    2105   \n",
      "..                     ...                     ...   \n",
      "114                 792201                    5446   \n",
      "115                 803967                    5602   \n",
      "116                 811491                    5655   \n",
      "117                 820655                    5503   \n",
      "118                 834287                    5382   \n",
      "\n",
      "     VrachtautoExclTrekkerVoorOplegger_12  \n",
      "35                                   1588  \n",
      "36                                   1582  \n",
      "37                                   1591  \n",
      "38                                   1611  \n",
      "39                                   1660  \n",
      "..                                    ...  \n",
      "114                                  3972  \n",
      "115                                  3906  \n",
      "116                                  3872  \n",
      "117                                  3875  \n",
      "118                                  3922  \n",
      "\n",
      "[84 rows x 23 columns]\n"
     ]
    }
   ],
   "source": [
    "dfprovince = dfposts[dfposts[\"RegioS\"].str.startswith(\"PV\")]\n",
    "print(dfprovince)"
   ]
  },
  {
   "cell_type": "markdown",
   "id": "8440d948",
   "metadata": {},
   "source": [
    "https://standaarden.overheid.nl/tooi/waardelijsten/expression?lijst_uri=https%3A%2F%2Fidentifier.overheid.nl%2Ftooi%2Fset%2Frwc_provincies_compleet%2F1\n",
    "\n",
    "This website was used to create the encoded values"
   ]
  },
  {
   "cell_type": "code",
   "execution_count": 67,
   "id": "ca7625e6",
   "metadata": {},
   "outputs": [
    {
     "name": "stdout",
     "output_type": "stream",
     "text": [
      "           RegioS       Sum\n",
      "0       Groningen  11936457\n",
      "1       Friesland  14990976\n",
      "2         Drenthe  11755668\n",
      "3      Overijssel  25136738\n",
      "4       Flevoland  12550586\n",
      "5      Gelderland  43979534\n",
      "6         Utrecht  27202822\n",
      "7   Noord-Holland  47438165\n",
      "8    Zuid-Holland  62190626\n",
      "9         Zeeland   8732228\n",
      "10  Noord-Brabant  57201144\n",
      "11        Limburg  23560147\n"
     ]
    }
   ],
   "source": [
    "columns_vehicledb = ['Aanhangwagen_17',\n",
    "            'Bestelauto_11',\n",
    "            'Bus_15',\n",
    "            'InBezitNatuurlijkePersonenRelatief_6',\n",
    "            'InBezitNatuurlijkePersonen_5',\n",
    "            'MotorfietsenRelatief_20',\n",
    "            'Oplegger_18',\n",
    "            'PersonenautoSRelatief_4',\n",
    "            'SpeciaalVoertuig_14',\n",
    "            'TotaalAanhangwagensEnOpleggers_16',\n",
    "            'TotaalAanhangwagensEnOpleggers_9',\n",
    "            'TotaalBedrijfsmotorvoertuigen_10',\n",
    "            'TotaalBedrijfsmotorvoertuigen_8',\n",
    "            'TotaalBedrijfsvoertuigen_7',\n",
    "            'TotaalMotorfietsen_19',\n",
    "            'TotaalMotorvoertuigen_2',\n",
    "            'TotaalPersonenautoS_3',\n",
    "            'TotaalWegvoertuigen_1',\n",
    "            'TrekkerVoorOplegger_13',\n",
    "            'VrachtautoExclTrekkerVoorOplegger_12']\n",
    "\n",
    "pvencoding = {'PV20':'Groningen',\n",
    "              'PV21':'Friesland',\n",
    "              'PV22':'Drenthe',\n",
    "              'PV23':'Overijssel',  \n",
    "              'PV24':'Flevoland',\n",
    "              'PV25':'Gelderland',\n",
    "              'PV26':'Utrecht',\n",
    "              'PV27':'Noord-Holland',\n",
    "              'PV28':'Zuid-Holland',\n",
    "              'PV29':'Zeeland',\n",
    "              'PV30':'Noord-Brabant',\n",
    "              'PV31':'Limburg'}\n",
    "\n",
    "\n",
    "dfprovince = dfprovince.groupby('RegioS')[columns_vehicledb].sum().reset_index()\n",
    "dfprovince[\"Sum\"] = dfprovince[columns_vehicledb].sum(axis=1)\n",
    "dfprovince['RegioS'] = dfprovince['RegioS'].astype(str).str.strip()\n",
    "dfprovince['RegioS'] = dfprovince['RegioS'].map(pvencoding)\n",
    "print(dfprovince[[\"RegioS\",\"Sum\"]])\n"
   ]
  },
  {
   "cell_type": "markdown",
   "id": "3ec276bb",
   "metadata": {},
   "source": [
    "#### Check if this also contains the LD values"
   ]
  },
  {
   "cell_type": "code",
   "execution_count": 68,
   "id": "cee40974",
   "metadata": {},
   "outputs": [
    {
     "name": "stdout",
     "output_type": "stream",
     "text": [
      "Aanhangwagen_17                           7357478\n",
      "Bestelauto_11                             6797487\n",
      "Bus_15                                      63458\n",
      "InBezitNatuurlijkePersonenRelatief_6        38589\n",
      "InBezitNatuurlijkePersonen_5             54388946\n",
      "MotorfietsenRelatief_20                      3503\n",
      "Oplegger_18                               1242123\n",
      "PersonenautoSRelatief_4                     45252\n",
      "SpeciaalVoertuig_14                        394020\n",
      "TotaalAanhangwagensEnOpleggers_16         8599601\n",
      "TotaalAanhangwagensEnOpleggers_9          8599601\n",
      "TotaalBedrijfsmotorvoertuigen_10          8266837\n",
      "TotaalBedrijfsmotorvoertuigen_8           8266837\n",
      "TotaalBedrijfsvoertuigen_7               16866438\n",
      "TotaalMotorfietsen_19                     4759447\n",
      "TotaalMotorvoertuigen_2                  74800095\n",
      "TotaalPersonenautoS_3                    61773811\n",
      "TotaalWegvoertuigen_1                    83399696\n",
      "TrekkerVoorOplegger_13                     581247\n",
      "VrachtautoExclTrekkerVoorOplegger_12       430625\n",
      "Sum                                     346675091\n",
      "dtype: int64\n"
     ]
    }
   ],
   "source": [
    "dftotal = dfprovince.groupby('RegioS')[columns_vehicledb].sum().sum()\n",
    "\n",
    "dftotal[\"Sum\"] = dftotal[columns_vehicledb].sum()\n",
    "\n",
    "print(dftotal)"
   ]
  },
  {
   "cell_type": "code",
   "execution_count": 69,
   "id": "f8796073",
   "metadata": {},
   "outputs": [
    {
     "data": {
      "image/png": "[encoded data removed]",
      "text/plain": [
       "<Figure size 400x600 with 1 Axes>"
      ]
     },
     "metadata": {},
     "output_type": "display_data"
    }
   ],
   "source": [
    "import matplotlib.pyplot as plt\n",
    "plt.figure(figsize=(4,6))\n",
    "sum = dfprovince['Sum'].dropna() # If you don't remove NANs, default matplotlib function will fail\n",
    "plt.boxplot(sum, vert=True, patch_artist=True)\n",
    "plt.title(\"Sum Distribution\")\n",
    "plt.ylabel(\"Sum\")\n",
    "plt.show()"
   ]
  },
  {
   "cell_type": "markdown",
   "id": "c533349e",
   "metadata": {},
   "source": [
    "Made this visualization code with Farheen."
   ]
  },
  {
   "cell_type": "code",
   "execution_count": 70,
   "id": "a6851ac6",
   "metadata": {},
   "outputs": [
    {
     "name": "stdout",
     "output_type": "stream",
     "text": [
      "Requirement already satisfied: nbformat in c:\\users\\ratiba zaid\\appdata\\local\\programs\\python\\python311\\lib\\site-packages (5.10.4)\n",
      "Requirement already satisfied: fastjsonschema>=2.15 in c:\\users\\ratiba zaid\\appdata\\local\\programs\\python\\python311\\lib\\site-packages (from nbformat) (2.21.2)\n",
      "Requirement already satisfied: jsonschema>=2.6 in c:\\users\\ratiba zaid\\appdata\\local\\programs\\python\\python311\\lib\\site-packages (from nbformat) (4.25.1)\n",
      "Requirement already satisfied: jupyter-core!=5.0.*,>=4.12 in c:\\users\\ratiba zaid\\appdata\\roaming\\python\\python311\\site-packages (from nbformat) (5.8.1)\n",
      "Requirement already satisfied: traitlets>=5.1 in c:\\users\\ratiba zaid\\appdata\\roaming\\python\\python311\\site-packages (from nbformat) (5.14.3)\n",
      "Requirement already satisfied: attrs>=22.2.0 in c:\\users\\ratiba zaid\\appdata\\local\\programs\\python\\python311\\lib\\site-packages (from jsonschema>=2.6->nbformat) (25.4.0)\n",
      "Requirement already satisfied: jsonschema-specifications>=2023.03.6 in c:\\users\\ratiba zaid\\appdata\\local\\programs\\python\\python311\\lib\\site-packages (from jsonschema>=2.6->nbformat) (2025.9.1)\n",
      "Requirement already satisfied: referencing>=0.28.4 in c:\\users\\ratiba zaid\\appdata\\local\\programs\\python\\python311\\lib\\site-packages (from jsonschema>=2.6->nbformat) (0.36.2)\n",
      "Requirement already satisfied: rpds-py>=0.7.1 in c:\\users\\ratiba zaid\\appdata\\local\\programs\\python\\python311\\lib\\site-packages (from jsonschema>=2.6->nbformat) (0.27.1)\n",
      "Requirement already satisfied: platformdirs>=2.5 in c:\\users\\ratiba zaid\\appdata\\roaming\\python\\python311\\site-packages (from jupyter-core!=5.0.*,>=4.12->nbformat) (4.4.0)\n",
      "Requirement already satisfied: pywin32>=300 in c:\\users\\ratiba zaid\\appdata\\roaming\\python\\python311\\site-packages (from jupyter-core!=5.0.*,>=4.12->nbformat) (311)\n",
      "Requirement already satisfied: typing-extensions>=4.4.0 in c:\\users\\ratiba zaid\\appdata\\roaming\\python\\python311\\site-packages (from referencing>=0.28.4->jsonschema>=2.6->nbformat) (4.15.0)\n",
      "Note: you may need to restart the kernel to use updated packages.\n"
     ]
    },
    {
     "name": "stderr",
     "output_type": "stream",
     "text": [
      "\n",
      "[notice] A new release of pip available: 22.3.1 -> 25.2\n",
      "[notice] To update, run: c:\\Users\\Ratiba Zaid\\AppData\\Local\\Programs\\Python\\Python311\\python.exe -m pip install --upgrade pip\n"
     ]
    }
   ],
   "source": [
    "%pip install --upgrade nbformat"
   ]
  },
  {
   "cell_type": "code",
   "execution_count": 71,
   "id": "aa0a19b7",
   "metadata": {},
   "outputs": [
    {
     "data": {
      "application/vnd.plotly.v1+json": {
       "config": {
        "plotlyServerURL": "https://plot.ly"
       },
       "data": [
        {
         "hovertemplate": "RegioS=%{x}<br>Sum=%{y}<extra></extra>",
         "legendgroup": "",
         "marker": {
          "color": "#636efa",
          "pattern": {
           "shape": ""
          }
         },
         "name": "",
         "orientation": "v",
         "showlegend": false,
         "textposition": "auto",
         "type": "bar",
         "x": [
          "Groningen",
          "Friesland",
          "Drenthe",
          "Overijssel",
          "Flevoland",
          "Gelderland",
          "Utrecht",
          "Noord-Holland",
          "Zuid-Holland",
          "Zeeland",
          "Noord-Brabant",
          "Limburg"
         ],
         "xaxis": "x",
         "y": {
          "bdata": "ySK2AIC+5ACUYLMAYo5/AbqBvwAOE58CBhWfAVXZ0wIi9LQDRD6FAPjRaAPTf2cB",
          "dtype": "i4"
         },
         "yaxis": "y"
        }
       ],
       "layout": {
        "barmode": "group",
        "legend": {
         "tracegroupgap": 0
        },
        "template": {
         "data": {
          "bar": [
           {
            "error_x": {
             "color": "#2a3f5f"
            },
            "error_y": {
             "color": "#2a3f5f"
            },
            "marker": {
             "line": {
              "color": "#E5ECF6",
              "width": 0.5
             },
             "pattern": {
              "fillmode": "overlay",
              "size": 10,
              "solidity": 0.2
             }
            },
            "type": "bar"
           }
          ],
          "barpolar": [
           {
            "marker": {
             "line": {
              "color": "#E5ECF6",
              "width": 0.5
             },
             "pattern": {
              "fillmode": "overlay",
              "size": 10,
              "solidity": 0.2
             }
            },
            "type": "barpolar"
           }
          ],
          "carpet": [
           {
            "aaxis": {
             "endlinecolor": "#2a3f5f",
             "gridcolor": "white",
             "linecolor": "white",
             "minorgridcolor": "white",
             "startlinecolor": "#2a3f5f"
            },
            "baxis": {
             "endlinecolor": "#2a3f5f",
             "gridcolor": "white",
             "linecolor": "white",
             "minorgridcolor": "white",
             "startlinecolor": "#2a3f5f"
            },
            "type": "carpet"
           }
          ],
          "choropleth": [
           {
            "colorbar": {
             "outlinewidth": 0,
             "ticks": ""
            },
            "type": "choropleth"
           }
          ],
          "contour": [
           {
            "colorbar": {
             "outlinewidth": 0,
             "ticks": ""
            },
            "colorscale": [
             [
              0,
              "#0d0887"
             ],
             [
              0.1111111111111111,
              "#46039f"
             ],
             [
              0.2222222222222222,
              "#7201a8"
             ],
             [
              0.3333333333333333,
              "#9c179e"
             ],
             [
              0.4444444444444444,
              "#bd3786"
             ],
             [
              0.5555555555555556,
              "#d8576b"
             ],
             [
              0.6666666666666666,
              "#ed7953"
             ],
             [
              0.7777777777777778,
              "#fb9f3a"
             ],
             [
              0.8888888888888888,
              "#fdca26"
             ],
             [
              1,
              "#f0f921"
             ]
            ],
            "type": "contour"
           }
          ],
          "contourcarpet": [
           {
            "colorbar": {
             "outlinewidth": 0,
             "ticks": ""
            },
            "type": "contourcarpet"
           }
          ],
          "heatmap": [
           {
            "colorbar": {
             "outlinewidth": 0,
             "ticks": ""
            },
            "colorscale": [
             [
              0,
              "#0d0887"
             ],
             [
              0.1111111111111111,
              "#46039f"
             ],
             [
              0.2222222222222222,
              "#7201a8"
             ],
             [
              0.3333333333333333,
              "#9c179e"
             ],
             [
              0.4444444444444444,
              "#bd3786"
             ],
             [
              0.5555555555555556,
              "#d8576b"
             ],
             [
              0.6666666666666666,
              "#ed7953"
             ],
             [
              0.7777777777777778,
              "#fb9f3a"
             ],
             [
              0.8888888888888888,
              "#fdca26"
             ],
             [
              1,
              "#f0f921"
             ]
            ],
            "type": "heatmap"
           }
          ],
          "histogram": [
           {
            "marker": {
             "pattern": {
              "fillmode": "overlay",
              "size": 10,
              "solidity": 0.2
             }
            },
            "type": "histogram"
           }
          ],
          "histogram2d": [
           {
            "colorbar": {
             "outlinewidth": 0,
             "ticks": ""
            },
            "colorscale": [
             [
              0,
              "#0d0887"
             ],
             [
              0.1111111111111111,
              "#46039f"
             ],
             [
              0.2222222222222222,
              "#7201a8"
             ],
             [
              0.3333333333333333,
              "#9c179e"
             ],
             [
              0.4444444444444444,
              "#bd3786"
             ],
             [
              0.5555555555555556,
              "#d8576b"
             ],
             [
              0.6666666666666666,
              "#ed7953"
             ],
             [
              0.7777777777777778,
              "#fb9f3a"
             ],
             [
              0.8888888888888888,
              "#fdca26"
             ],
             [
              1,
              "#f0f921"
             ]
            ],
            "type": "histogram2d"
           }
          ],
          "histogram2dcontour": [
           {
            "colorbar": {
             "outlinewidth": 0,
             "ticks": ""
            },
            "colorscale": [
             [
              0,
              "#0d0887"
             ],
             [
              0.1111111111111111,
              "#46039f"
             ],
             [
              0.2222222222222222,
              "#7201a8"
             ],
             [
              0.3333333333333333,
              "#9c179e"
             ],
             [
              0.4444444444444444,
              "#bd3786"
             ],
             [
              0.5555555555555556,
              "#d8576b"
             ],
             [
              0.6666666666666666,
              "#ed7953"
             ],
             [
              0.7777777777777778,
              "#fb9f3a"
             ],
             [
              0.8888888888888888,
              "#fdca26"
             ],
             [
              1,
              "#f0f921"
             ]
            ],
            "type": "histogram2dcontour"
           }
          ],
          "mesh3d": [
           {
            "colorbar": {
             "outlinewidth": 0,
             "ticks": ""
            },
            "type": "mesh3d"
           }
          ],
          "parcoords": [
           {
            "line": {
             "colorbar": {
              "outlinewidth": 0,
              "ticks": ""
             }
            },
            "type": "parcoords"
           }
          ],
          "pie": [
           {
            "automargin": true,
            "type": "pie"
           }
          ],
          "scatter": [
           {
            "fillpattern": {
             "fillmode": "overlay",
             "size": 10,
             "solidity": 0.2
            },
            "type": "scatter"
           }
          ],
          "scatter3d": [
           {
            "line": {
             "colorbar": {
              "outlinewidth": 0,
              "ticks": ""
             }
            },
            "marker": {
             "colorbar": {
              "outlinewidth": 0,
              "ticks": ""
             }
            },
            "type": "scatter3d"
           }
          ],
          "scattercarpet": [
           {
            "marker": {
             "colorbar": {
              "outlinewidth": 0,
              "ticks": ""
             }
            },
            "type": "scattercarpet"
           }
          ],
          "scattergeo": [
           {
            "marker": {
             "colorbar": {
              "outlinewidth": 0,
              "ticks": ""
             }
            },
            "type": "scattergeo"
           }
          ],
          "scattergl": [
           {
            "marker": {
             "colorbar": {
              "outlinewidth": 0,
              "ticks": ""
             }
            },
            "type": "scattergl"
           }
          ],
          "scattermap": [
           {
            "marker": {
             "colorbar": {
              "outlinewidth": 0,
              "ticks": ""
             }
            },
            "type": "scattermap"
           }
          ],
          "scattermapbox": [
           {
            "marker": {
             "colorbar": {
              "outlinewidth": 0,
              "ticks": ""
             }
            },
            "type": "scattermapbox"
           }
          ],
          "scatterpolar": [
           {
            "marker": {
             "colorbar": {
              "outlinewidth": 0,
              "ticks": ""
             }
            },
            "type": "scatterpolar"
           }
          ],
          "scatterpolargl": [
           {
            "marker": {
             "colorbar": {
              "outlinewidth": 0,
              "ticks": ""
             }
            },
            "type": "scatterpolargl"
           }
          ],
          "scatterternary": [
           {
            "marker": {
             "colorbar": {
              "outlinewidth": 0,
              "ticks": ""
             }
            },
            "type": "scatterternary"
           }
          ],
          "surface": [
           {
            "colorbar": {
             "outlinewidth": 0,
             "ticks": ""
            },
            "colorscale": [
             [
              0,
              "#0d0887"
             ],
             [
              0.1111111111111111,
              "#46039f"
             ],
             [
              0.2222222222222222,
              "#7201a8"
             ],
             [
              0.3333333333333333,
              "#9c179e"
             ],
             [
              0.4444444444444444,
              "#bd3786"
             ],
             [
              0.5555555555555556,
              "#d8576b"
             ],
             [
              0.6666666666666666,
              "#ed7953"
             ],
             [
              0.7777777777777778,
              "#fb9f3a"
             ],
             [
              0.8888888888888888,
              "#fdca26"
             ],
             [
              1,
              "#f0f921"
             ]
            ],
            "type": "surface"
           }
          ],
          "table": [
           {
            "cells": {
             "fill": {
              "color": "#EBF0F8"
             },
             "line": {
              "color": "white"
             }
            },
            "header": {
             "fill": {
              "color": "#C8D4E3"
             },
             "line": {
              "color": "white"
             }
            },
            "type": "table"
           }
          ]
         },
         "layout": {
          "annotationdefaults": {
           "arrowcolor": "#2a3f5f",
           "arrowhead": 0,
           "arrowwidth": 1
          },
          "autotypenumbers": "strict",
          "coloraxis": {
           "colorbar": {
            "outlinewidth": 0,
            "ticks": ""
           }
          },
          "colorscale": {
           "diverging": [
            [
             0,
             "#8e0152"
            ],
            [
             0.1,
             "#c51b7d"
            ],
            [
             0.2,
             "#de77ae"
            ],
            [
             0.3,
             "#f1b6da"
            ],
            [
             0.4,
             "#fde0ef"
            ],
            [
             0.5,
             "#f7f7f7"
            ],
            [
             0.6,
             "#e6f5d0"
            ],
            [
             0.7,
             "#b8e186"
            ],
            [
             0.8,
             "#7fbc41"
            ],
            [
             0.9,
             "#4d9221"
            ],
            [
             1,
             "#276419"
            ]
           ],
           "sequential": [
            [
             0,
             "#0d0887"
            ],
            [
             0.1111111111111111,
             "#46039f"
            ],
            [
             0.2222222222222222,
             "#7201a8"
            ],
            [
             0.3333333333333333,
             "#9c179e"
            ],
            [
             0.4444444444444444,
             "#bd3786"
            ],
            [
             0.5555555555555556,
             "#d8576b"
            ],
            [
             0.6666666666666666,
             "#ed7953"
            ],
            [
             0.7777777777777778,
             "#fb9f3a"
            ],
            [
             0.8888888888888888,
             "#fdca26"
            ],
            [
             1,
             "#f0f921"
            ]
           ],
           "sequentialminus": [
            [
             0,
             "#0d0887"
            ],
            [
             0.1111111111111111,
             "#46039f"
            ],
            [
             0.2222222222222222,
             "#7201a8"
            ],
            [
             0.3333333333333333,
             "#9c179e"
            ],
            [
             0.4444444444444444,
             "#bd3786"
            ],
            [
             0.5555555555555556,
             "#d8576b"
            ],
            [
             0.6666666666666666,
             "#ed7953"
            ],
            [
             0.7777777777777778,
             "#fb9f3a"
            ],
            [
             0.8888888888888888,
             "#fdca26"
            ],
            [
             1,
             "#f0f921"
            ]
           ]
          },
          "colorway": [
           "#636efa",
           "#EF553B",
           "#00cc96",
           "#ab63fa",
           "#FFA15A",
           "#19d3f3",
           "#FF6692",
           "#B6E880",
           "#FF97FF",
           "#FECB52"
          ],
          "font": {
           "color": "#2a3f5f"
          },
          "geo": {
           "bgcolor": "white",
           "lakecolor": "white",
           "landcolor": "#E5ECF6",
           "showlakes": true,
           "showland": true,
           "subunitcolor": "white"
          },
          "hoverlabel": {
           "align": "left"
          },
          "hovermode": "closest",
          "mapbox": {
           "style": "light"
          },
          "paper_bgcolor": "white",
          "plot_bgcolor": "#E5ECF6",
          "polar": {
           "angularaxis": {
            "gridcolor": "white",
            "linecolor": "white",
            "ticks": ""
           },
           "bgcolor": "#E5ECF6",
           "radialaxis": {
            "gridcolor": "white",
            "linecolor": "white",
            "ticks": ""
           }
          },
          "scene": {
           "xaxis": {
            "backgroundcolor": "#E5ECF6",
            "gridcolor": "white",
            "gridwidth": 2,
            "linecolor": "white",
            "showbackground": true,
            "ticks": "",
            "zerolinecolor": "white"
           },
           "yaxis": {
            "backgroundcolor": "#E5ECF6",
            "gridcolor": "white",
            "gridwidth": 2,
            "linecolor": "white",
            "showbackground": true,
            "ticks": "",
            "zerolinecolor": "white"
           },
           "zaxis": {
            "backgroundcolor": "#E5ECF6",
            "gridcolor": "white",
            "gridwidth": 2,
            "linecolor": "white",
            "showbackground": true,
            "ticks": "",
            "zerolinecolor": "white"
           }
          },
          "shapedefaults": {
           "line": {
            "color": "#2a3f5f"
           }
          },
          "ternary": {
           "aaxis": {
            "gridcolor": "white",
            "linecolor": "white",
            "ticks": ""
           },
           "baxis": {
            "gridcolor": "white",
            "linecolor": "white",
            "ticks": ""
           },
           "bgcolor": "#E5ECF6",
           "caxis": {
            "gridcolor": "white",
            "linecolor": "white",
            "ticks": ""
           }
          },
          "title": {
           "x": 0.05
          },
          "xaxis": {
           "automargin": true,
           "gridcolor": "white",
           "linecolor": "white",
           "ticks": "",
           "title": {
            "standoff": 15
           },
           "zerolinecolor": "white",
           "zerolinewidth": 2
          },
          "yaxis": {
           "automargin": true,
           "gridcolor": "white",
           "linecolor": "white",
           "ticks": "",
           "title": {
            "standoff": 15
           },
           "zerolinecolor": "white",
           "zerolinewidth": 2
          }
         }
        },
        "title": {
         "text": "Bar chart of sum of cars per region"
        },
        "xaxis": {
         "anchor": "y",
         "domain": [
          0,
          1
         ],
         "title": {
          "text": "Region Code"
         }
        },
        "yaxis": {
         "anchor": "x",
         "domain": [
          0,
          1
         ],
         "title": {
          "text": "Sum of cars"
         }
        }
       }
      }
     },
     "metadata": {},
     "output_type": "display_data"
    }
   ],
   "source": [
    "import plotly.express as px\n",
    "\n",
    "\n",
    "bar = px.bar(dfprovince, x='RegioS', y= 'Sum', title='Bar chart of sum of cars per region')\n",
    "bar.update_layout(yaxis_title='Sum of cars', xaxis_title= \"Region Code\", barmode='group') \n",
    "\n",
    "bar.show()"
   ]
  },
  {
   "cell_type": "code",
   "execution_count": null,
   "id": "a9421d2c",
   "metadata": {},
   "outputs": [],
   "source": []
  },
  {
   "cell_type": "markdown",
   "id": "5e14c462",
   "metadata": {},
   "source": [
    "##### Standardize numerical data below, so that this data could be used for the predictive part (machine learning algorithms, such as SVM, dbscan, etc.)\n",
    "\n",
    "https://www.datacamp.com/tutorial/normalization-vs-standardization\n"
   ]
  },
  {
   "cell_type": "code",
   "execution_count": 72,
   "id": "80e22f54",
   "metadata": {},
   "outputs": [
    {
     "name": "stdout",
     "output_type": "stream",
     "text": [
      "    Aanhangwagen_17  Bestelauto_11    Bus_15  \\\n",
      "0         -0.826098      -0.964925 -0.580957   \n",
      "1         -0.491041      -0.676733  0.872484   \n",
      "2         -0.723266      -1.008951 -0.931738   \n",
      "3          0.210462      -0.215500  0.309090   \n",
      "4         -1.310117      -0.711399 -1.004122   \n",
      "5          1.461661       0.782840 -0.493932   \n",
      "6         -0.431911       0.090297  0.308059   \n",
      "7          0.523144       1.021050  2.670520   \n",
      "8          1.177683       1.695970  0.593468   \n",
      "9         -1.131960      -1.141830 -0.797901   \n",
      "10         1.852307       1.695805 -0.364220   \n",
      "11        -0.310864      -0.566621 -0.580751   \n",
      "\n",
      "    InBezitNatuurlijkePersonenRelatief_6  InBezitNatuurlijkePersonen_5  \\\n",
      "0                              -0.305425                     -0.884965   \n",
      "1                               0.691308                     -0.751204   \n",
      "2                               1.356838                     -0.893761   \n",
      "3                               0.153884                     -0.228767   \n",
      "4                              -0.689745                     -1.063064   \n",
      "5                               0.288240                      0.813012   \n",
      "6                              -1.083439                     -0.193917   \n",
      "7                              -1.736471                      1.068978   \n",
      "8                              -1.439639                      1.927196   \n",
      "9                               1.113123                     -1.037207   \n",
      "10                              0.560076                      1.417681   \n",
      "11                              1.091251                     -0.173982   \n",
      "\n",
      "    MotorfietsenRelatief_20  Oplegger_18  PersonenautoSRelatief_4  \\\n",
      "0                  0.461296    -0.881130                -0.482458   \n",
      "1                  1.008287    -0.737156                -0.152212   \n",
      "2                  2.014750    -0.831682                 0.133186   \n",
      "3                  0.417536     0.005644                -0.269089   \n",
      "4                 -0.829603    -0.917040                 3.074141   \n",
      "5                  0.023703     0.417793                -0.311219   \n",
      "6                 -1.223437    -0.553783                -0.016308   \n",
      "7                 -0.939001     0.075686                -1.042381   \n",
      "8                 -1.639150     2.337051                -1.000251   \n",
      "9                  0.855129    -0.761280                -0.001359   \n",
      "10                -0.216973     1.599538                 0.126390   \n",
      "11                 0.067462     0.246358                -0.058439   \n",
      "\n",
      "    SpeciaalVoertuig_14  TotaalAanhangwagensEnOpleggers_16  \\\n",
      "0             -0.751903                          -0.858179   \n",
      "1             -0.499338                          -0.555880   \n",
      "2             -0.894295                          -0.764273   \n",
      "3             -0.168055                           0.171700   \n",
      "4             -1.292556                          -1.257971   \n",
      "5              1.244380                           1.273657   \n",
      "6             -0.348103                          -0.468651   \n",
      "7              0.930173                           0.440017   \n",
      "8              1.276243                           1.455246   \n",
      "9             -1.077697                          -1.080245   \n",
      "10             1.818065                           1.843563   \n",
      "11            -0.236914                          -0.198985   \n",
      "\n",
      "    TotaalAanhangwagensEnOpleggers_9  TotaalBedrijfsmotorvoertuigen_10  \\\n",
      "0                          -0.858179                         -0.959483   \n",
      "1                          -0.555880                         -0.656408   \n",
      "2                          -0.764273                         -0.997406   \n",
      "3                           0.171700                         -0.192134   \n",
      "4                          -1.257971                         -0.800655   \n",
      "5                           1.273657                          0.862454   \n",
      "6                          -0.468651                          0.018707   \n",
      "7                           0.440017                          0.976986   \n",
      "8                           1.455246                          1.669607   \n",
      "9                          -1.080245                         -1.123970   \n",
      "10                          1.843563                          1.719944   \n",
      "11                         -0.198985                         -0.517641   \n",
      "\n",
      "    TotaalBedrijfsmotorvoertuigen_8  TotaalBedrijfsvoertuigen_7  \\\n",
      "0                         -0.959483                   -0.920753   \n",
      "1                         -0.656408                   -0.613965   \n",
      "2                         -0.997406                   -0.891859   \n",
      "3                         -0.192134                   -0.008913   \n",
      "4                         -0.800655                   -1.045085   \n",
      "5                          0.862454                    1.084170   \n",
      "6                          0.018707                   -0.229956   \n",
      "7                          0.976986                    0.715980   \n",
      "8                          1.669607                    1.582763   \n",
      "9                         -1.123970                   -1.116879   \n",
      "10                         1.719944                    1.806405   \n",
      "11                        -0.517641                   -0.361908   \n",
      "\n",
      "    TotaalMotorfietsen_19  TotaalMotorvoertuigen_2  TotaalPersonenautoS_3  \\\n",
      "0               -0.856629                -0.941420              -0.943159   \n",
      "1               -0.709707                -0.805600              -0.829761   \n",
      "2               -0.828125                -0.967267              -0.971470   \n",
      "3               -0.129305                -0.267069              -0.286236   \n",
      "4               -1.153202                -0.789871              -0.759423   \n",
      "5                0.905323                 0.739198               0.709313   \n",
      "6               -0.293254                -0.010025               0.007509   \n",
      "7                1.335659                 1.101763               1.097457   \n",
      "8                1.716100                 1.865488               1.896992   \n",
      "9               -1.082965                -1.114298              -1.112688   \n",
      "10               1.361068                 1.501420               1.480463   \n",
      "11              -0.264963                -0.312320              -0.288997   \n",
      "\n",
      "    TotaalWegvoertuigen_1  TrekkerVoorOplegger_13  \\\n",
      "0               -0.939378               -0.938826   \n",
      "1               -0.786393               -0.680986   \n",
      "2               -0.953679               -0.840583   \n",
      "3               -0.225880               -0.007280   \n",
      "4               -0.840778               -1.029823   \n",
      "5                0.796269                1.122653   \n",
      "6               -0.054953               -0.432761   \n",
      "7                1.044172                0.446770   \n",
      "8                1.837447                1.756494   \n",
      "9               -1.118188               -0.926291   \n",
      "10               1.544618                1.796276   \n",
      "11              -0.303257               -0.265643   \n",
      "\n",
      "    VrachtautoExclTrekkerVoorOplegger_12  \n",
      "0                              -0.940351  \n",
      "1                              -0.620454  \n",
      "2                              -0.943012  \n",
      "3                              -0.215608  \n",
      "4                              -1.067177  \n",
      "5                               1.321104  \n",
      "6                              -0.067304  \n",
      "7                               0.651771  \n",
      "8                               1.345474  \n",
      "9                              -1.022524  \n",
      "10                              1.877184  \n",
      "11                             -0.319104  \n"
     ]
    }
   ],
   "source": [
    "from sklearn.preprocessing import StandardScaler\n",
    "\n",
    "standardization = dfprovince[['Aanhangwagen_17',\n",
    "            'Bestelauto_11',\n",
    "            'Bus_15',\n",
    "            'InBezitNatuurlijkePersonenRelatief_6',\n",
    "            'InBezitNatuurlijkePersonen_5',\n",
    "            'MotorfietsenRelatief_20',\n",
    "            'Oplegger_18',\n",
    "            'PersonenautoSRelatief_4',\n",
    "            'SpeciaalVoertuig_14',\n",
    "            'TotaalAanhangwagensEnOpleggers_16',\n",
    "            'TotaalAanhangwagensEnOpleggers_9',\n",
    "            'TotaalBedrijfsmotorvoertuigen_10',\n",
    "            'TotaalBedrijfsmotorvoertuigen_8',\n",
    "            'TotaalBedrijfsvoertuigen_7',\n",
    "            'TotaalMotorfietsen_19',\n",
    "            'TotaalMotorvoertuigen_2',\n",
    "            'TotaalPersonenautoS_3',\n",
    "            'TotaalWegvoertuigen_1',\n",
    "            'TrekkerVoorOplegger_13',\n",
    "            'VrachtautoExclTrekkerVoorOplegger_12']]\n",
    "\n",
    "\n",
    "standardize = StandardScaler().fit_transform(standardization)\n",
    "\n",
    "dfstandardization = pd.DataFrame(standardize, columns=standardization.columns)\n",
    "print(dfstandardization)"
   ]
  },
  {
   "cell_type": "code",
   "execution_count": null,
   "id": "8ebadf35",
   "metadata": {},
   "outputs": [],
   "source": []
  },
  {
   "cell_type": "markdown",
   "id": "4f572b47",
   "metadata": {},
   "source": [
    "#### IMPORTANT: CHOOSE SAMPLING DURING THE PREDICTIVE PART. IT IS NOW NOT POSSIBLE TO CHOOSE THIS, BECAUSE THE SAMPLES NEEDS TO BE ALIGNED WITH PM2.5 PM10 AND NO2 DATA."
   ]
  },
  {
   "cell_type": "markdown",
   "id": "a21b1c14",
   "metadata": {},
   "source": [
    "# API Luchtmeetnet\n",
    "\n",
    "In this part of the code, we will retrieve data from the luchtmeetnet api. We filter through the measurements using ?formula=NO2 , ?formula=PM10 and ?formula=PM25  "
   ]
  },
  {
   "cell_type": "code",
   "execution_count": 73,
   "id": "098c7eb5",
   "metadata": {},
   "outputs": [
    {
     "name": "stdout",
     "output_type": "stream",
     "text": [
      "{'data': [{'location': 'Overschie-A13', 'number': 'NL01491'},\n",
      "          {'location': 'Rotterdam-Maasvlakte', 'number': 'NL01497'},\n",
      "          {'location': 'Rotterdam-HvHolland', 'number': 'NL01496'},\n",
      "          {'location': 'Wijk aan Zee-Bosweg', 'number': 'NL49557'},\n",
      "          {'location': 'Nistelrode-Gagelstraat', 'number': 'NL10248'},\n",
      "          {'location': 'Ridderkerk-Voorweg', 'number': 'NL01912'},\n",
      "          {'location': 'Meerssen- Beekerweg', 'number': 'NL50013'},\n",
      "          {'location': 'Eijsden-Trichterweg', 'number': 'NL50012'},\n",
      "          {'location': 'Rotterdam-Hoogvliet', 'number': 'NL01485'},\n",
      "          {'location': 'Ridderkerk-A16', 'number': 'NL01489'},\n",
      "          {'location': 'Zaandam-Wagenschotpad', 'number': 'NL49701'},\n",
      "          {'location': 'Burgh-Haamstede', 'number': 'NL10320'},\n",
      "          {'location': 'Zevenbergen-Galgenweg', 'number': 'NL53016'},\n",
      "          {'location': 'Den Haag-Rebecquestraat', 'number': 'NL10404'},\n",
      "          {'location': 'Den Haag-Amsterdamse Veerkade', 'number': 'NL10445'},\n",
      "          {'location': 'Fijnaart-Zwingelspaansedijk', 'number': 'NL10246'},\n",
      "          {'location': 'Amsterdam-Haarlemmerweg', 'number': 'NL49002'},\n",
      "          {'location': 'Amsterdam-Einsteinweg', 'number': 'NL49007'},\n",
      "          {'location': 'Amsterdam-Westerpark', 'number': 'NL49016'},\n",
      "          {'location': 'Amsterdam-Stadhouderskade', 'number': 'NL49017'},\n",
      "          {'location': 'Amsterdam-Oude Schans', 'number': 'NL49019'},\n",
      "          {'location': 'Amsterdam-Jan van Galenstraat', 'number': 'NL49020'},\n",
      "          {'location': 'Amsterdam -Kantershof', 'number': 'NL49021'},\n",
      "          {'location': 'Ossendrecht-Burgemeester Voetenstraat',\n",
      "           'number': 'NL53001'},\n",
      "          {'location': 'Amsterdam-Vondelpark', 'number': 'NL49014'}],\n",
      " 'pagination': {'current_page': 1,\n",
      "                'first_page': 1,\n",
      "                'last_page': 5,\n",
      "                'next_page': 2,\n",
      "                'page_list': [1, 2, 3, 4, 5],\n",
      "                'prev_page': 1}}\n"
     ]
    }
   ],
   "source": [
    "url_province = \"https://api.luchtmeetnet.nl/open_api/stations\"\n",
    "posts_luchtmeetnet_province = requests.get(url_province).json()\n",
    "pprint(posts_luchtmeetnet_province)\n"
   ]
  },
  {
   "cell_type": "code",
   "execution_count": 74,
   "id": "a5b92670",
   "metadata": {},
   "outputs": [
    {
     "data": {
      "text/html": [
       "<div>\n",
       "<style scoped>\n",
       "    .dataframe tbody tr th:only-of-type {\n",
       "        vertical-align: middle;\n",
       "    }\n",
       "\n",
       "    .dataframe tbody tr th {\n",
       "        vertical-align: top;\n",
       "    }\n",
       "\n",
       "    .dataframe thead th {\n",
       "        text-align: right;\n",
       "    }\n",
       "</style>\n",
       "<table border=\"1\" class=\"dataframe\">\n",
       "  <thead>\n",
       "    <tr style=\"text-align: right;\">\n",
       "      <th></th>\n",
       "      <th>location</th>\n",
       "      <th>number</th>\n",
       "    </tr>\n",
       "  </thead>\n",
       "  <tbody>\n",
       "    <tr>\n",
       "      <th>0</th>\n",
       "      <td>Overschie-A13</td>\n",
       "      <td>NL01491</td>\n",
       "    </tr>\n",
       "    <tr>\n",
       "      <th>1</th>\n",
       "      <td>Rotterdam-Maasvlakte</td>\n",
       "      <td>NL01497</td>\n",
       "    </tr>\n",
       "    <tr>\n",
       "      <th>2</th>\n",
       "      <td>Rotterdam-HvHolland</td>\n",
       "      <td>NL01496</td>\n",
       "    </tr>\n",
       "    <tr>\n",
       "      <th>3</th>\n",
       "      <td>Wijk aan Zee-Bosweg</td>\n",
       "      <td>NL49557</td>\n",
       "    </tr>\n",
       "    <tr>\n",
       "      <th>4</th>\n",
       "      <td>Nistelrode-Gagelstraat</td>\n",
       "      <td>NL10248</td>\n",
       "    </tr>\n",
       "    <tr>\n",
       "      <th>5</th>\n",
       "      <td>Ridderkerk-Voorweg</td>\n",
       "      <td>NL01912</td>\n",
       "    </tr>\n",
       "    <tr>\n",
       "      <th>6</th>\n",
       "      <td>Meerssen- Beekerweg</td>\n",
       "      <td>NL50013</td>\n",
       "    </tr>\n",
       "    <tr>\n",
       "      <th>7</th>\n",
       "      <td>Eijsden-Trichterweg</td>\n",
       "      <td>NL50012</td>\n",
       "    </tr>\n",
       "    <tr>\n",
       "      <th>8</th>\n",
       "      <td>Rotterdam-Hoogvliet</td>\n",
       "      <td>NL01485</td>\n",
       "    </tr>\n",
       "    <tr>\n",
       "      <th>9</th>\n",
       "      <td>Ridderkerk-A16</td>\n",
       "      <td>NL01489</td>\n",
       "    </tr>\n",
       "  </tbody>\n",
       "</table>\n",
       "</div>"
      ],
      "text/plain": [
       "                 location   number\n",
       "0           Overschie-A13  NL01491\n",
       "1    Rotterdam-Maasvlakte  NL01497\n",
       "2     Rotterdam-HvHolland  NL01496\n",
       "3     Wijk aan Zee-Bosweg  NL49557\n",
       "4  Nistelrode-Gagelstraat  NL10248\n",
       "5      Ridderkerk-Voorweg  NL01912\n",
       "6     Meerssen- Beekerweg  NL50013\n",
       "7     Eijsden-Trichterweg  NL50012\n",
       "8     Rotterdam-Hoogvliet  NL01485\n",
       "9          Ridderkerk-A16  NL01489"
      ]
     },
     "execution_count": 74,
     "metadata": {},
     "output_type": "execute_result"
    }
   ],
   "source": [
    "dfposts_NO2_province = pd.DataFrame(posts_luchtmeetnet_province[\"data\"])[['location','number']]\n",
    "dfposts_NO2_province.head(10)"
   ]
  },
  {
   "cell_type": "code",
   "execution_count": 75,
   "id": "a4d9f1d8",
   "metadata": {},
   "outputs": [],
   "source": [
    "url = \"https://api.luchtmeetnet.nl/open_api/measurements?formula=NO2\" # get data from luchtmeetnet api and filter it so that only NO2 formulas will be retrieved\n",
    "posts_luchtmeetnet_NO2 = requests.get(url).json()\n",
    "#pprint(posts_luchtmeetnet_NO2)\n",
    "\n"
   ]
  },
  {
   "cell_type": "code",
   "execution_count": 76,
   "id": "656b5063",
   "metadata": {},
   "outputs": [
    {
     "name": "stdout",
     "output_type": "stream",
     "text": [
      "  formula station_number         timestamp_measured  value\n",
      "0     NO2        NL10550  2025-10-08T12:00:00+00:00  11.77\n",
      "1     NO2        NL10538  2025-10-08T12:00:00+00:00   2.30\n",
      "2     NO2        NL10236  2025-10-08T12:00:00+00:00  17.75\n",
      "3     NO2        NL10138  2025-10-08T12:00:00+00:00   6.54\n",
      "4     NO2        NL10450  2025-10-08T12:00:00+00:00   9.92\n",
      "5     NO2        NL10918  2025-10-08T12:00:00+00:00   5.04\n",
      "6     NO2        NL10442  2025-10-08T12:00:00+00:00  19.77\n",
      "7     NO2        NL10230  2025-10-08T12:00:00+00:00  20.85\n",
      "8     NO2        NL49551  2025-10-08T12:00:00+00:00  38.00\n",
      "9     NO2        NL10641  2025-10-08T12:00:00+00:00  26.19\n"
     ]
    }
   ],
   "source": [
    "dfposts_NO2 = pd.DataFrame(posts_luchtmeetnet_NO2[\"data\"])[['formula',\n",
    "           'station_number',\n",
    "           'timestamp_measured',\n",
    "           'value']]\n",
    "print(dfposts_NO2.head(10))\n",
    "\n"
   ]
  },
  {
   "cell_type": "code",
   "execution_count": 77,
   "id": "14a7b331",
   "metadata": {},
   "outputs": [
    {
     "name": "stdout",
     "output_type": "stream",
     "text": [
      "   station_number      value\n",
      "0         NL01485  15.792308\n",
      "1         NL01487  22.430769\n",
      "2         NL01488  14.446154\n",
      "3         NL01491  33.146154\n",
      "4         NL01493  35.915385\n",
      "..            ...        ...\n",
      "75        NL49704  23.583333\n",
      "76        NL50002  11.750000\n",
      "77        NL50003   9.727273\n",
      "78        NL50010  12.833333\n",
      "79        NL54004  21.588462\n",
      "\n",
      "[80 rows x 2 columns]\n"
     ]
    }
   ],
   "source": [
    "meanlocation = dfposts_NO2.groupby('station_number')['value'].mean().reset_index()\n",
    "\n",
    "print(meanlocation)\n"
   ]
  },
  {
   "cell_type": "markdown",
   "id": "7800153e",
   "metadata": {},
   "source": [
    "### Note for visualization team: add legend for the red line which represent the threshold."
   ]
  },
  {
   "cell_type": "code",
   "execution_count": 78,
   "id": "b6f22149",
   "metadata": {},
   "outputs": [
    {
     "data": {
      "application/vnd.plotly.v1+json": {
       "config": {
        "plotlyServerURL": "https://plot.ly"
       },
       "data": [
        {
         "hovertemplate": "station_number=%{x}<br>value=%{y}<extra></extra>",
         "legendgroup": "",
         "marker": {
          "color": "#636efa",
          "pattern": {
           "shape": ""
          }
         },
         "name": "",
         "orientation": "v",
         "showlegend": false,
         "textposition": "auto",
         "type": "bar",
         "x": [
          "NL01485",
          "NL01487",
          "NL01488",
          "NL01491",
          "NL01493",
          "NL01494",
          "NL01495",
          "NL01496",
          "NL01497",
          "NL01912",
          "NL01913",
          "NL10107",
          "NL10131",
          "NL10133",
          "NL10136",
          "NL10138",
          "NL10230",
          "NL10235",
          "NL10236",
          "NL10237",
          "NL10240",
          "NL10241",
          "NL10246",
          "NL10247",
          "NL10248",
          "NL10301",
          "NL10318",
          "NL10404",
          "NL10418",
          "NL10437",
          "NL10442",
          "NL10444",
          "NL10445",
          "NL10446",
          "NL10449",
          "NL10450",
          "NL10538",
          "NL10550",
          "NL10617",
          "NL10633",
          "NL10636",
          "NL10639",
          "NL10641",
          "NL10643",
          "NL10644",
          "NL10722",
          "NL10738",
          "NL10741",
          "NL10742",
          "NL10807",
          "NL10818",
          "NL10918",
          "NL10929",
          "NL10934",
          "NL10937",
          "NL10938",
          "NL49002",
          "NL49003",
          "NL49007",
          "NL49012",
          "NL49014",
          "NL49017",
          "NL49019",
          "NL49020",
          "NL49021",
          "NL49022",
          "NL49546",
          "NL49551",
          "NL49553",
          "NL49561",
          "NL49564",
          "NL49565",
          "NL49680",
          "NL49701",
          "NL49703",
          "NL49704",
          "NL50002",
          "NL50003",
          "NL50010",
          "NL54004"
         ],
         "xaxis": "x",
         "y": {
          "bdata": "W6mVWqmVL0DlRm7kRm42QEdu5EZu5CxALLVSK7WSQEBSK7VSK/VBQHqhF3qhF0FA3d3d3d3dP0CWWqmVWik9QMzMzMzMzChAhl7ohV7oM0AzMzMzMzMjQDLAnGXzzx9Aiber7h2SJEB4d3d3d7cYQLgehetR2C1AQacNdNpgIkCu1Eqt1AoxQGSo7DB1OSlAMJb8YsmPMUBtoNMGOt0zQNW9Q6KK0DdAEW9X3TskMED8wA/8wE8yQGz+GdNkgCxA02SAOctmIUDNzMzMzCwuQLxdde+QKCNAab8pzyXQO0DrUbgehctEQBUh3q669yhAVYR4u+peLED0z5gmA0wkQGBbHCwoqTxA4XoUrkehN0AHOm2g05ZGQEfhehSuBz5Ac5bNP2NaMEAzMzMzM5MwQO8dElWEeCNAT+zETuwEMUBVhHi76l4xQImIiIiIGDJAHhJVhHi7NUCCH/iBH3gwQNLx6WuLAyxAzrL5Z0wTIUBjyS+W/GIhQNejcD0K1y5AR27kRm7kKEBhQUnHp68cQMCcZfPPmB9AJb9Y8ovlHkA/fW1xsKAVQAFzls0/YxJAYFscLCjpL0AbuZEbuZEdQN3d3d3dfT1Agh/4gR94MUDcyI3cyA09QGdmZmZmRjtAERERERFxMUDMzMzMzMw0QIqd2Imd2DJAciM3ciO3PEChF3qhF3oiQJqZmZmZmShA3t3d3d0NQ0DphV7ohd48QIqd2Imd2CJAIPiBH/gBN0DNzMzMzMwrQKVWaqVWai5AfuAHfuAHMUBVVVVVVVU/QGqlVmqlVitAVVVVVVWVN0AAAAAAAIAnQHTRRRdddCNAq6qqqqqqKUBqpVZqpZY1QA==",
          "dtype": "f8"
         },
         "yaxis": "y"
        }
       ],
       "layout": {
        "barmode": "group",
        "legend": {
         "tracegroupgap": 0
        },
        "shapes": [
         {
          "legendrank": 1,
          "line": {
           "color": "red",
           "dash": "5px"
          },
          "name": "Threshold of 40 µg/m³",
          "showlegend": true,
          "type": "line",
          "x0": 1,
          "x1": 0,
          "xref": "paper",
          "y0": 40,
          "y1": 40
         }
        ],
        "template": {
         "data": {
          "bar": [
           {
            "error_x": {
             "color": "#2a3f5f"
            },
            "error_y": {
             "color": "#2a3f5f"
            },
            "marker": {
             "line": {
              "color": "#E5ECF6",
              "width": 0.5
             },
             "pattern": {
              "fillmode": "overlay",
              "size": 10,
              "solidity": 0.2
             }
            },
            "type": "bar"
           }
          ],
          "barpolar": [
           {
            "marker": {
             "line": {
              "color": "#E5ECF6",
              "width": 0.5
             },
             "pattern": {
              "fillmode": "overlay",
              "size": 10,
              "solidity": 0.2
             }
            },
            "type": "barpolar"
           }
          ],
          "carpet": [
           {
            "aaxis": {
             "endlinecolor": "#2a3f5f",
             "gridcolor": "white",
             "linecolor": "white",
             "minorgridcolor": "white",
             "startlinecolor": "#2a3f5f"
            },
            "baxis": {
             "endlinecolor": "#2a3f5f",
             "gridcolor": "white",
             "linecolor": "white",
             "minorgridcolor": "white",
             "startlinecolor": "#2a3f5f"
            },
            "type": "carpet"
           }
          ],
          "choropleth": [
           {
            "colorbar": {
             "outlinewidth": 0,
             "ticks": ""
            },
            "type": "choropleth"
           }
          ],
          "contour": [
           {
            "colorbar": {
             "outlinewidth": 0,
             "ticks": ""
            },
            "colorscale": [
             [
              0,
              "#0d0887"
             ],
             [
              0.1111111111111111,
              "#46039f"
             ],
             [
              0.2222222222222222,
              "#7201a8"
             ],
             [
              0.3333333333333333,
              "#9c179e"
             ],
             [
              0.4444444444444444,
              "#bd3786"
             ],
             [
              0.5555555555555556,
              "#d8576b"
             ],
             [
              0.6666666666666666,
              "#ed7953"
             ],
             [
              0.7777777777777778,
              "#fb9f3a"
             ],
             [
              0.8888888888888888,
              "#fdca26"
             ],
             [
              1,
              "#f0f921"
             ]
            ],
            "type": "contour"
           }
          ],
          "contourcarpet": [
           {
            "colorbar": {
             "outlinewidth": 0,
             "ticks": ""
            },
            "type": "contourcarpet"
           }
          ],
          "heatmap": [
           {
            "colorbar": {
             "outlinewidth": 0,
             "ticks": ""
            },
            "colorscale": [
             [
              0,
              "#0d0887"
             ],
             [
              0.1111111111111111,
              "#46039f"
             ],
             [
              0.2222222222222222,
              "#7201a8"
             ],
             [
              0.3333333333333333,
              "#9c179e"
             ],
             [
              0.4444444444444444,
              "#bd3786"
             ],
             [
              0.5555555555555556,
              "#d8576b"
             ],
             [
              0.6666666666666666,
              "#ed7953"
             ],
             [
              0.7777777777777778,
              "#fb9f3a"
             ],
             [
              0.8888888888888888,
              "#fdca26"
             ],
             [
              1,
              "#f0f921"
             ]
            ],
            "type": "heatmap"
           }
          ],
          "histogram": [
           {
            "marker": {
             "pattern": {
              "fillmode": "overlay",
              "size": 10,
              "solidity": 0.2
             }
            },
            "type": "histogram"
           }
          ],
          "histogram2d": [
           {
            "colorbar": {
             "outlinewidth": 0,
             "ticks": ""
            },
            "colorscale": [
             [
              0,
              "#0d0887"
             ],
             [
              0.1111111111111111,
              "#46039f"
             ],
             [
              0.2222222222222222,
              "#7201a8"
             ],
             [
              0.3333333333333333,
              "#9c179e"
             ],
             [
              0.4444444444444444,
              "#bd3786"
             ],
             [
              0.5555555555555556,
              "#d8576b"
             ],
             [
              0.6666666666666666,
              "#ed7953"
             ],
             [
              0.7777777777777778,
              "#fb9f3a"
             ],
             [
              0.8888888888888888,
              "#fdca26"
             ],
             [
              1,
              "#f0f921"
             ]
            ],
            "type": "histogram2d"
           }
          ],
          "histogram2dcontour": [
           {
            "colorbar": {
             "outlinewidth": 0,
             "ticks": ""
            },
            "colorscale": [
             [
              0,
              "#0d0887"
             ],
             [
              0.1111111111111111,
              "#46039f"
             ],
             [
              0.2222222222222222,
              "#7201a8"
             ],
             [
              0.3333333333333333,
              "#9c179e"
             ],
             [
              0.4444444444444444,
              "#bd3786"
             ],
             [
              0.5555555555555556,
              "#d8576b"
             ],
             [
              0.6666666666666666,
              "#ed7953"
             ],
             [
              0.7777777777777778,
              "#fb9f3a"
             ],
             [
              0.8888888888888888,
              "#fdca26"
             ],
             [
              1,
              "#f0f921"
             ]
            ],
            "type": "histogram2dcontour"
           }
          ],
          "mesh3d": [
           {
            "colorbar": {
             "outlinewidth": 0,
             "ticks": ""
            },
            "type": "mesh3d"
           }
          ],
          "parcoords": [
           {
            "line": {
             "colorbar": {
              "outlinewidth": 0,
              "ticks": ""
             }
            },
            "type": "parcoords"
           }
          ],
          "pie": [
           {
            "automargin": true,
            "type": "pie"
           }
          ],
          "scatter": [
           {
            "fillpattern": {
             "fillmode": "overlay",
             "size": 10,
             "solidity": 0.2
            },
            "type": "scatter"
           }
          ],
          "scatter3d": [
           {
            "line": {
             "colorbar": {
              "outlinewidth": 0,
              "ticks": ""
             }
            },
            "marker": {
             "colorbar": {
              "outlinewidth": 0,
              "ticks": ""
             }
            },
            "type": "scatter3d"
           }
          ],
          "scattercarpet": [
           {
            "marker": {
             "colorbar": {
              "outlinewidth": 0,
              "ticks": ""
             }
            },
            "type": "scattercarpet"
           }
          ],
          "scattergeo": [
           {
            "marker": {
             "colorbar": {
              "outlinewidth": 0,
              "ticks": ""
             }
            },
            "type": "scattergeo"
           }
          ],
          "scattergl": [
           {
            "marker": {
             "colorbar": {
              "outlinewidth": 0,
              "ticks": ""
             }
            },
            "type": "scattergl"
           }
          ],
          "scattermap": [
           {
            "marker": {
             "colorbar": {
              "outlinewidth": 0,
              "ticks": ""
             }
            },
            "type": "scattermap"
           }
          ],
          "scattermapbox": [
           {
            "marker": {
             "colorbar": {
              "outlinewidth": 0,
              "ticks": ""
             }
            },
            "type": "scattermapbox"
           }
          ],
          "scatterpolar": [
           {
            "marker": {
             "colorbar": {
              "outlinewidth": 0,
              "ticks": ""
             }
            },
            "type": "scatterpolar"
           }
          ],
          "scatterpolargl": [
           {
            "marker": {
             "colorbar": {
              "outlinewidth": 0,
              "ticks": ""
             }
            },
            "type": "scatterpolargl"
           }
          ],
          "scatterternary": [
           {
            "marker": {
             "colorbar": {
              "outlinewidth": 0,
              "ticks": ""
             }
            },
            "type": "scatterternary"
           }
          ],
          "surface": [
           {
            "colorbar": {
             "outlinewidth": 0,
             "ticks": ""
            },
            "colorscale": [
             [
              0,
              "#0d0887"
             ],
             [
              0.1111111111111111,
              "#46039f"
             ],
             [
              0.2222222222222222,
              "#7201a8"
             ],
             [
              0.3333333333333333,
              "#9c179e"
             ],
             [
              0.4444444444444444,
              "#bd3786"
             ],
             [
              0.5555555555555556,
              "#d8576b"
             ],
             [
              0.6666666666666666,
              "#ed7953"
             ],
             [
              0.7777777777777778,
              "#fb9f3a"
             ],
             [
              0.8888888888888888,
              "#fdca26"
             ],
             [
              1,
              "#f0f921"
             ]
            ],
            "type": "surface"
           }
          ],
          "table": [
           {
            "cells": {
             "fill": {
              "color": "#EBF0F8"
             },
             "line": {
              "color": "white"
             }
            },
            "header": {
             "fill": {
              "color": "#C8D4E3"
             },
             "line": {
              "color": "white"
             }
            },
            "type": "table"
           }
          ]
         },
         "layout": {
          "annotationdefaults": {
           "arrowcolor": "#2a3f5f",
           "arrowhead": 0,
           "arrowwidth": 1
          },
          "autotypenumbers": "strict",
          "coloraxis": {
           "colorbar": {
            "outlinewidth": 0,
            "ticks": ""
           }
          },
          "colorscale": {
           "diverging": [
            [
             0,
             "#8e0152"
            ],
            [
             0.1,
             "#c51b7d"
            ],
            [
             0.2,
             "#de77ae"
            ],
            [
             0.3,
             "#f1b6da"
            ],
            [
             0.4,
             "#fde0ef"
            ],
            [
             0.5,
             "#f7f7f7"
            ],
            [
             0.6,
             "#e6f5d0"
            ],
            [
             0.7,
             "#b8e186"
            ],
            [
             0.8,
             "#7fbc41"
            ],
            [
             0.9,
             "#4d9221"
            ],
            [
             1,
             "#276419"
            ]
           ],
           "sequential": [
            [
             0,
             "#0d0887"
            ],
            [
             0.1111111111111111,
             "#46039f"
            ],
            [
             0.2222222222222222,
             "#7201a8"
            ],
            [
             0.3333333333333333,
             "#9c179e"
            ],
            [
             0.4444444444444444,
             "#bd3786"
            ],
            [
             0.5555555555555556,
             "#d8576b"
            ],
            [
             0.6666666666666666,
             "#ed7953"
            ],
            [
             0.7777777777777778,
             "#fb9f3a"
            ],
            [
             0.8888888888888888,
             "#fdca26"
            ],
            [
             1,
             "#f0f921"
            ]
           ],
           "sequentialminus": [
            [
             0,
             "#0d0887"
            ],
            [
             0.1111111111111111,
             "#46039f"
            ],
            [
             0.2222222222222222,
             "#7201a8"
            ],
            [
             0.3333333333333333,
             "#9c179e"
            ],
            [
             0.4444444444444444,
             "#bd3786"
            ],
            [
             0.5555555555555556,
             "#d8576b"
            ],
            [
             0.6666666666666666,
             "#ed7953"
            ],
            [
             0.7777777777777778,
             "#fb9f3a"
            ],
            [
             0.8888888888888888,
             "#fdca26"
            ],
            [
             1,
             "#f0f921"
            ]
           ]
          },
          "colorway": [
           "#636efa",
           "#EF553B",
           "#00cc96",
           "#ab63fa",
           "#FFA15A",
           "#19d3f3",
           "#FF6692",
           "#B6E880",
           "#FF97FF",
           "#FECB52"
          ],
          "font": {
           "color": "#2a3f5f"
          },
          "geo": {
           "bgcolor": "white",
           "lakecolor": "white",
           "landcolor": "#E5ECF6",
           "showlakes": true,
           "showland": true,
           "subunitcolor": "white"
          },
          "hoverlabel": {
           "align": "left"
          },
          "hovermode": "closest",
          "mapbox": {
           "style": "light"
          },
          "paper_bgcolor": "white",
          "plot_bgcolor": "#E5ECF6",
          "polar": {
           "angularaxis": {
            "gridcolor": "white",
            "linecolor": "white",
            "ticks": ""
           },
           "bgcolor": "#E5ECF6",
           "radialaxis": {
            "gridcolor": "white",
            "linecolor": "white",
            "ticks": ""
           }
          },
          "scene": {
           "xaxis": {
            "backgroundcolor": "#E5ECF6",
            "gridcolor": "white",
            "gridwidth": 2,
            "linecolor": "white",
            "showbackground": true,
            "ticks": "",
            "zerolinecolor": "white"
           },
           "yaxis": {
            "backgroundcolor": "#E5ECF6",
            "gridcolor": "white",
            "gridwidth": 2,
            "linecolor": "white",
            "showbackground": true,
            "ticks": "",
            "zerolinecolor": "white"
           },
           "zaxis": {
            "backgroundcolor": "#E5ECF6",
            "gridcolor": "white",
            "gridwidth": 2,
            "linecolor": "white",
            "showbackground": true,
            "ticks": "",
            "zerolinecolor": "white"
           }
          },
          "shapedefaults": {
           "line": {
            "color": "#2a3f5f"
           }
          },
          "ternary": {
           "aaxis": {
            "gridcolor": "white",
            "linecolor": "white",
            "ticks": ""
           },
           "baxis": {
            "gridcolor": "white",
            "linecolor": "white",
            "ticks": ""
           },
           "bgcolor": "#E5ECF6",
           "caxis": {
            "gridcolor": "white",
            "linecolor": "white",
            "ticks": ""
           }
          },
          "title": {
           "x": 0.05
          },
          "xaxis": {
           "automargin": true,
           "gridcolor": "white",
           "linecolor": "white",
           "ticks": "",
           "title": {
            "standoff": 15
           },
           "zerolinecolor": "white",
           "zerolinewidth": 2
          },
          "yaxis": {
           "automargin": true,
           "gridcolor": "white",
           "linecolor": "white",
           "ticks": "",
           "title": {
            "standoff": 15
           },
           "zerolinecolor": "white",
           "zerolinewidth": 2
          }
         }
        },
        "title": {
         "text": "Average µg/m³ NO2 per station"
        },
        "xaxis": {
         "anchor": "y",
         "domain": [
          0,
          1
         ],
         "title": {
          "text": "Station numbers"
         }
        },
        "yaxis": {
         "anchor": "x",
         "domain": [
          0,
          1
         ],
         "title": {
          "text": "NO2 in µg/m³"
         }
        }
       }
      }
     },
     "metadata": {},
     "output_type": "display_data"
    }
   ],
   "source": [
    "import plotly.express as px\n",
    "import plotly.graph_objects as go\n",
    "\n",
    "NO2_pvencoding = {'NL49703': 'NL49553' 'NL01493' 'NL10404' 'NL10318' 'NL01912' 'NL10742'\n",
    " 'NL10538' 'NL01496' 'NL01495' 'NL49007' 'NL10636' 'NL49564' 'NL10818'\n",
    " 'NL10550' 'NL49546' 'NL10136' 'NL10235' 'NL01913' 'NL10918' 'NL01487'\n",
    " 'NL10639' 'NL01497' 'NL10644' 'NL10633' 'NL10741' 'NL10437' 'NL10247'\n",
    " 'NL10445' 'NL10934' 'NL01494' 'NL10449' 'NL49017' 'NL49551' 'NL10617'\n",
    " 'NL10442' 'NL10446' 'NL49565' 'NL10418' 'NL10138' 'NL10450' 'NL10929'\n",
    " 'NL49561' 'NL01485' 'NL49003' 'NL10246' 'NL10133' 'NL49020' 'NL10444'\n",
    " 'NL10738' 'NL10107' 'NL49680' 'NL10643' 'NL10248' 'NL10240' 'NL10230'\n",
    " 'NL10131' 'NL49021' 'NL10938' 'NL49019' 'NL49014' 'NL10641' 'NL10237'\n",
    " 'NL01491' 'NL10236' 'NL10241' 'NL49701' 'NL49012' 'NL10722' 'NL49704'\n",
    " 'NL10807' 'NL01488' 'NL10301' 'NL10937' 'NL49002' 'NL50010' 'NL50002'\n",
    " 'NL50003' 'NL54004' 'NL01489'}\n",
    "\n",
    "bar = px.bar(meanlocation, x='station_number', y= 'value', title='Average µg/m³ NO2 per station')\n",
    "bar.update_layout(yaxis_title='NO2 in µg/m³', xaxis_title= \"Station numbers\", barmode='group') \n",
    "#bar.add_shape(type='line', y0=40, y1=40, xref='paper', x0=0, x1=1, line_color='red')\n",
    "bar.add_shape(\n",
    "    legendrank=1,\n",
    "    showlegend=True,\n",
    "    type=\"line\",\n",
    "    xref=\"paper\",\n",
    "    line=dict(dash=\"5px\", color='red'),\n",
    "    x0=1,\n",
    "    x1=0,\n",
    "    y0=40,\n",
    "    y1=40,\n",
    "    name='Threshold of 40 µg/m³'\n",
    ")\n",
    "\n",
    "bar.show()"
   ]
  },
  {
   "cell_type": "code",
   "execution_count": 79,
   "id": "1362356d",
   "metadata": {},
   "outputs": [
    {
     "name": "stdout",
     "output_type": "stream",
     "text": [
      "<class 'pandas.core.frame.DataFrame'>\n",
      "RangeIndex: 1000 entries, 0 to 999\n",
      "Data columns (total 4 columns):\n",
      " #   Column              Non-Null Count  Dtype  \n",
      "---  ------              --------------  -----  \n",
      " 0   formula             1000 non-null   object \n",
      " 1   station_number      1000 non-null   object \n",
      " 2   timestamp_measured  1000 non-null   object \n",
      " 3   value               1000 non-null   float64\n",
      "dtypes: float64(1), object(3)\n",
      "memory usage: 31.4+ KB\n"
     ]
    }
   ],
   "source": [
    "dfposts_NO2.info()"
   ]
  },
  {
   "cell_type": "code",
   "execution_count": 80,
   "id": "abcc6ed4",
   "metadata": {},
   "outputs": [
    {
     "name": "stdout",
     "output_type": "stream",
     "text": [
      "0\n",
      "80 station points\n",
      "['NL10550' 'NL10538' 'NL10236' 'NL10138' 'NL10450' 'NL10918' 'NL10442'\n",
      " 'NL10230' 'NL49551' 'NL10641' 'NL10445' 'NL49017' 'NL10404' 'NL49704'\n",
      " 'NL01488' 'NL49003' 'NL10107' 'NL49002' 'NL10449' 'NL10444' 'NL01496'\n",
      " 'NL10738' 'NL10617' 'NL01912' 'NL10741' 'NL10929' 'NL10722' 'NL01485'\n",
      " 'NL10742' 'NL10136' 'NL10241' 'NL10633' 'NL01497' 'NL10636' 'NL01494'\n",
      " 'NL49553' 'NL49561' 'NL49014' 'NL49680' 'NL01913' 'NL01493' 'NL01487'\n",
      " 'NL10818' 'NL10248' 'NL10418' 'NL49020' 'NL10318' 'NL10237' 'NL10246'\n",
      " 'NL49007' 'NL49546' 'NL49703' 'NL10938' 'NL49019' 'NL10644' 'NL49022'\n",
      " 'NL01491' 'NL10437' 'NL10934' 'NL49565' 'NL49012' 'NL54004' 'NL10133'\n",
      " 'NL10446' 'NL10131' 'NL10240' 'NL10247' 'NL49701' 'NL10643' 'NL49021'\n",
      " 'NL49564' 'NL10807' 'NL10301' 'NL10937' 'NL01495' 'NL10639' 'NL50003'\n",
      " 'NL50010' 'NL10235' 'NL50002']\n",
      "station_number\n",
      "NL10538    13\n",
      "NL10230    13\n",
      "NL10442    13\n",
      "NL10450    13\n",
      "NL49017    13\n",
      "           ..\n",
      "NL10639    12\n",
      "NL50003    11\n",
      "NL10235     9\n",
      "NL50002     8\n",
      "NL49022     4\n",
      "Name: count, Length: 80, dtype: int64\n"
     ]
    }
   ],
   "source": [
    "print(dfposts_NO2[\"station_number\"].isna().sum())\n",
    "print(dfposts_NO2[\"station_number\"].nunique(), \"station points\")\n",
    "print(dfposts_NO2[\"station_number\"].unique())\n",
    "print(dfposts_NO2[\"station_number\"].value_counts())"
   ]
  },
  {
   "cell_type": "code",
   "execution_count": 81,
   "id": "5fdbf815",
   "metadata": {},
   "outputs": [
    {
     "data": {
      "text/html": [
       "<div>\n",
       "<style scoped>\n",
       "    .dataframe tbody tr th:only-of-type {\n",
       "        vertical-align: middle;\n",
       "    }\n",
       "\n",
       "    .dataframe tbody tr th {\n",
       "        vertical-align: top;\n",
       "    }\n",
       "\n",
       "    .dataframe thead th {\n",
       "        text-align: right;\n",
       "    }\n",
       "</style>\n",
       "<table border=\"1\" class=\"dataframe\">\n",
       "  <thead>\n",
       "    <tr style=\"text-align: right;\">\n",
       "      <th></th>\n",
       "      <th>formula</th>\n",
       "      <th>station_number</th>\n",
       "      <th>timestamp_measured</th>\n",
       "      <th>value</th>\n",
       "    </tr>\n",
       "  </thead>\n",
       "  <tbody>\n",
       "    <tr>\n",
       "      <th>count</th>\n",
       "      <td>1000</td>\n",
       "      <td>1000</td>\n",
       "      <td>1000</td>\n",
       "      <td>1000.000000</td>\n",
       "    </tr>\n",
       "    <tr>\n",
       "      <th>unique</th>\n",
       "      <td>1</td>\n",
       "      <td>80</td>\n",
       "      <td>13</td>\n",
       "      <td>NaN</td>\n",
       "    </tr>\n",
       "    <tr>\n",
       "      <th>top</th>\n",
       "      <td>NO2</td>\n",
       "      <td>NL10538</td>\n",
       "      <td>2025-10-08T03:00:00+00:00</td>\n",
       "      <td>NaN</td>\n",
       "    </tr>\n",
       "    <tr>\n",
       "      <th>freq</th>\n",
       "      <td>1000</td>\n",
       "      <td>13</td>\n",
       "      <td>79</td>\n",
       "      <td>NaN</td>\n",
       "    </tr>\n",
       "    <tr>\n",
       "      <th>mean</th>\n",
       "      <td>NaN</td>\n",
       "      <td>NaN</td>\n",
       "      <td>NaN</td>\n",
       "      <td>18.119050</td>\n",
       "    </tr>\n",
       "    <tr>\n",
       "      <th>std</th>\n",
       "      <td>NaN</td>\n",
       "      <td>NaN</td>\n",
       "      <td>NaN</td>\n",
       "      <td>11.940768</td>\n",
       "    </tr>\n",
       "    <tr>\n",
       "      <th>min</th>\n",
       "      <td>NaN</td>\n",
       "      <td>NaN</td>\n",
       "      <td>NaN</td>\n",
       "      <td>2.300000</td>\n",
       "    </tr>\n",
       "    <tr>\n",
       "      <th>25%</th>\n",
       "      <td>NaN</td>\n",
       "      <td>NaN</td>\n",
       "      <td>NaN</td>\n",
       "      <td>8.797500</td>\n",
       "    </tr>\n",
       "    <tr>\n",
       "      <th>50%</th>\n",
       "      <td>NaN</td>\n",
       "      <td>NaN</td>\n",
       "      <td>NaN</td>\n",
       "      <td>14.440000</td>\n",
       "    </tr>\n",
       "    <tr>\n",
       "      <th>75%</th>\n",
       "      <td>NaN</td>\n",
       "      <td>NaN</td>\n",
       "      <td>NaN</td>\n",
       "      <td>24.100000</td>\n",
       "    </tr>\n",
       "    <tr>\n",
       "      <th>max</th>\n",
       "      <td>NaN</td>\n",
       "      <td>NaN</td>\n",
       "      <td>NaN</td>\n",
       "      <td>57.990000</td>\n",
       "    </tr>\n",
       "  </tbody>\n",
       "</table>\n",
       "</div>"
      ],
      "text/plain": [
       "       formula station_number         timestamp_measured        value\n",
       "count     1000           1000                       1000  1000.000000\n",
       "unique       1             80                         13          NaN\n",
       "top        NO2        NL10538  2025-10-08T03:00:00+00:00          NaN\n",
       "freq      1000             13                         79          NaN\n",
       "mean       NaN            NaN                        NaN    18.119050\n",
       "std        NaN            NaN                        NaN    11.940768\n",
       "min        NaN            NaN                        NaN     2.300000\n",
       "25%        NaN            NaN                        NaN     8.797500\n",
       "50%        NaN            NaN                        NaN    14.440000\n",
       "75%        NaN            NaN                        NaN    24.100000\n",
       "max        NaN            NaN                        NaN    57.990000"
      ]
     },
     "execution_count": 81,
     "metadata": {},
     "output_type": "execute_result"
    }
   ],
   "source": [
    "dfposts_NO2.describe(include=\"all\")"
   ]
  },
  {
   "cell_type": "code",
   "execution_count": 82,
   "id": "33f2dd34",
   "metadata": {},
   "outputs": [
    {
     "data": {
      "image/png": "[encoded data removed]",
      "text/plain": [
       "<Figure size 400x600 with 1 Axes>"
      ]
     },
     "metadata": {},
     "output_type": "display_data"
    }
   ],
   "source": [
    "plt.figure(figsize=(4,6))\n",
    "values = dfposts_NO2['value'].dropna() # If you don't remove NANs, default matplotlib function will fail\n",
    "plt.boxplot(values, vert=True, patch_artist=True)\n",
    "plt.title(\"Value Distribution\")\n",
    "plt.ylabel(\"Value\")\n",
    "plt.show()"
   ]
  },
  {
   "cell_type": "code",
   "execution_count": 83,
   "id": "94a198b3",
   "metadata": {},
   "outputs": [
    {
     "data": {
      "image/png": "[encoded data removed]",
      "text/plain": [
       "<Figure size 640x480 with 1 Axes>"
      ]
     },
     "metadata": {},
     "output_type": "display_data"
    }
   ],
   "source": [
    "dfposts_NO2['value'].plot(kind='hist', bins=30, title='Value distribution')\n",
    "plt.show()"
   ]
  },
  {
   "cell_type": "code",
   "execution_count": 84,
   "id": "425fa11d",
   "metadata": {},
   "outputs": [
    {
     "name": "stdout",
     "output_type": "stream",
     "text": [
      "Requirement already satisfied: seaborn in c:\\users\\ratiba zaid\\appdata\\local\\packages\\pythonsoftwarefoundation.python.3.11_qbz5n2kfra8p0\\localcache\\local-packages\\python311\\site-packages (0.13.0)\n",
      "Requirement already satisfied: numpy!=1.24.0,>=1.20 in c:\\users\\ratiba zaid\\appdata\\local\\packages\\pythonsoftwarefoundation.python.3.11_qbz5n2kfra8p0\\localcache\\local-packages\\python311\\site-packages (from seaborn) (1.26.2)\n",
      "Requirement already satisfied: pandas>=1.2 in c:\\users\\ratiba zaid\\appdata\\local\\packages\\pythonsoftwarefoundation.python.3.11_qbz5n2kfra8p0\\localcache\\local-packages\\python311\\site-packages (from seaborn) (2.3.3)\n",
      "Requirement already satisfied: matplotlib!=3.6.1,>=3.3 in c:\\users\\ratiba zaid\\appdata\\local\\packages\\pythonsoftwarefoundation.python.3.11_qbz5n2kfra8p0\\localcache\\local-packages\\python311\\site-packages (from seaborn) (3.8.1)\n",
      "Requirement already satisfied: contourpy>=1.0.1 in c:\\users\\ratiba zaid\\appdata\\local\\packages\\pythonsoftwarefoundation.python.3.11_qbz5n2kfra8p0\\localcache\\local-packages\\python311\\site-packages (from matplotlib!=3.6.1,>=3.3->seaborn) (1.2.0)\n",
      "Requirement already satisfied: cycler>=0.10 in c:\\users\\ratiba zaid\\appdata\\local\\packages\\pythonsoftwarefoundation.python.3.11_qbz5n2kfra8p0\\localcache\\local-packages\\python311\\site-packages (from matplotlib!=3.6.1,>=3.3->seaborn) (0.12.1)\n",
      "Requirement already satisfied: fonttools>=4.22.0 in c:\\users\\ratiba zaid\\appdata\\local\\packages\\pythonsoftwarefoundation.python.3.11_qbz5n2kfra8p0\\localcache\\local-packages\\python311\\site-packages (from matplotlib!=3.6.1,>=3.3->seaborn) (4.44.0)\n",
      "Requirement already satisfied: kiwisolver>=1.3.1 in c:\\users\\ratiba zaid\\appdata\\local\\packages\\pythonsoftwarefoundation.python.3.11_qbz5n2kfra8p0\\localcache\\local-packages\\python311\\site-packages (from matplotlib!=3.6.1,>=3.3->seaborn) (1.4.5)\n",
      "Requirement already satisfied: packaging>=20.0 in c:\\users\\ratiba zaid\\appdata\\local\\packages\\pythonsoftwarefoundation.python.3.11_qbz5n2kfra8p0\\localcache\\local-packages\\python311\\site-packages (from matplotlib!=3.6.1,>=3.3->seaborn) (24.1)\n",
      "Requirement already satisfied: pillow>=8 in c:\\users\\ratiba zaid\\appdata\\local\\packages\\pythonsoftwarefoundation.python.3.11_qbz5n2kfra8p0\\localcache\\local-packages\\python311\\site-packages (from matplotlib!=3.6.1,>=3.3->seaborn) (10.1.0)\n",
      "Requirement already satisfied: pyparsing>=2.3.1 in c:\\users\\ratiba zaid\\appdata\\local\\packages\\pythonsoftwarefoundation.python.3.11_qbz5n2kfra8p0\\localcache\\local-packages\\python311\\site-packages (from matplotlib!=3.6.1,>=3.3->seaborn) (3.1.1)\n",
      "Requirement already satisfied: python-dateutil>=2.7 in c:\\users\\ratiba zaid\\appdata\\local\\packages\\pythonsoftwarefoundation.python.3.11_qbz5n2kfra8p0\\localcache\\local-packages\\python311\\site-packages (from matplotlib!=3.6.1,>=3.3->seaborn) (2.9.0.post0)\n",
      "Requirement already satisfied: pytz>=2020.1 in c:\\users\\ratiba zaid\\appdata\\local\\packages\\pythonsoftwarefoundation.python.3.11_qbz5n2kfra8p0\\localcache\\local-packages\\python311\\site-packages (from pandas>=1.2->seaborn) (2022.7)\n",
      "Requirement already satisfied: tzdata>=2022.7 in c:\\users\\ratiba zaid\\appdata\\local\\packages\\pythonsoftwarefoundation.python.3.11_qbz5n2kfra8p0\\localcache\\local-packages\\python311\\site-packages (from pandas>=1.2->seaborn) (2025.2)\n",
      "Requirement already satisfied: six>=1.5 in c:\\users\\ratiba zaid\\appdata\\local\\packages\\pythonsoftwarefoundation.python.3.11_qbz5n2kfra8p0\\localcache\\local-packages\\python311\\site-packages (from python-dateutil>=2.7->matplotlib!=3.6.1,>=3.3->seaborn) (1.16.0)\n"
     ]
    }
   ],
   "source": [
    "!pip install seaborn"
   ]
  },
  {
   "cell_type": "code",
   "execution_count": 85,
   "id": "4286e765",
   "metadata": {},
   "outputs": [
    {
     "data": {
      "image/png": "[encoded data removed]",
      "text/plain": [
       "<Figure size 640x480 with 1 Axes>"
      ]
     },
     "metadata": {},
     "output_type": "display_data"
    },
    {
     "data": {
      "image/png": "[encoded data removed]",
      "text/plain": [
       "<Figure size 640x480 with 1 Axes>"
      ]
     },
     "metadata": {},
     "output_type": "display_data"
    }
   ],
   "source": [
    "import scipy.stats as stats\n",
    "import seaborn as sns \n",
    "\n",
    "sns.histplot(values, kde=True)\n",
    "plt.title(\"Value Distribution\")\n",
    "plt.show()\n",
    "\n",
    "stats.probplot(values, dist=\"norm\", plot=plt)\n",
    "plt.title(\"QQ plot values\")\n",
    "plt.show()"
   ]
  },
  {
   "cell_type": "code",
   "execution_count": 86,
   "id": "5b31a6f5",
   "metadata": {},
   "outputs": [
    {
     "data": {
      "text/plain": [
       "np.float64(1.0580951565083103)"
      ]
     },
     "execution_count": 86,
     "metadata": {},
     "output_type": "execute_result"
    }
   ],
   "source": [
    "dfposts_NO2[\"value\"].skew()\n"
   ]
  },
  {
   "cell_type": "code",
   "execution_count": 87,
   "id": "40bf753d",
   "metadata": {},
   "outputs": [],
   "source": [
    "c = abs(values.min())"
   ]
  },
  {
   "cell_type": "code",
   "execution_count": 88,
   "id": "bb384690",
   "metadata": {},
   "outputs": [
    {
     "name": "stdout",
     "output_type": "stream",
     "text": [
      "0      2.644116\n",
      "1      1.526274\n",
      "2      2.998279\n",
      "3      2.179400\n",
      "4      2.503156\n",
      "         ...   \n",
      "995    2.463087\n",
      "996    2.890427\n",
      "997    2.438077\n",
      "998    2.649078\n",
      "999    2.495764\n",
      "Name: value, Length: 1000, dtype: float64\n"
     ]
    }
   ],
   "source": [
    "import numpy as np\n",
    "from scipy import stats\n",
    "import matplotlib.pyplot as plt\n",
    "\n",
    "\n",
    "\n",
    "shift = values + c + 0.001\n",
    "log_x = np.log(shift)  \n",
    "print(log_x)\n",
    "\n"
   ]
  },
  {
   "cell_type": "code",
   "execution_count": 89,
   "id": "514d6da3",
   "metadata": {},
   "outputs": [
    {
     "data": {
      "image/png": "[encoded data removed]",
      "text/plain": [
       "<Figure size 640x480 with 1 Axes>"
      ]
     },
     "metadata": {},
     "output_type": "display_data"
    },
    {
     "data": {
      "image/png": "[encoded data removed]",
      "text/plain": [
       "<Figure size 640x480 with 1 Axes>"
      ]
     },
     "metadata": {},
     "output_type": "display_data"
    }
   ],
   "source": [
    "stats.probplot(log_x, dist=\"norm\", plot=plt)\n",
    "plt.title(\"QQ plot values\")\n",
    "plt.show()\n",
    "\n",
    "sns.histplot(log_x,kde=True)\n",
    "plt.title(\"Transdormed value distribution\")\n",
    "plt.show()\n"
   ]
  },
  {
   "cell_type": "code",
   "execution_count": 90,
   "id": "89ec4ed2",
   "metadata": {},
   "outputs": [
    {
     "data": {
      "image/png": "[encoded data removed]",
      "text/plain": [
       "<Figure size 1200x600 with 2 Axes>"
      ]
     },
     "metadata": {},
     "output_type": "display_data"
    }
   ],
   "source": [
    "plt.figure(figsize=(12, 6))\n",
    "\n",
    "plt.subplot(1, 2, 1)\n",
    "plt.hist(values, bins=30, color='blue', alpha=0.7)\n",
    "plt.title('Original Data')\n",
    "\n",
    "plt.subplot(1, 2, 2)\n",
    "plt.hist(log_x, bins=30, color='green', alpha=0.7)\n",
    "plt.title('Transformed Data (Box-Cox)')\n",
    "\n",
    "plt.show()"
   ]
  },
  {
   "cell_type": "code",
   "execution_count": 91,
   "id": "1bf27aa5",
   "metadata": {},
   "outputs": [
    {
     "data": {
      "image/png": "[encoded data removed]",
      "text/plain": [
       "<Figure size 400x600 with 1 Axes>"
      ]
     },
     "metadata": {},
     "output_type": "display_data"
    }
   ],
   "source": [
    "plt.figure(figsize=(4,6))\n",
    "plt.boxplot(log_x, vert=True, patch_artist=True)\n",
    "plt.title(\"Value Distribution\")\n",
    "plt.ylabel(\"Value\")\n",
    "plt.show()"
   ]
  },
  {
   "cell_type": "markdown",
   "id": "2ba6ea4f",
   "metadata": {},
   "source": [
    "For the predicition part, we need to use the log_x data. "
   ]
  },
  {
   "cell_type": "code",
   "execution_count": 92,
   "id": "a7f76e32",
   "metadata": {},
   "outputs": [],
   "source": [
    "url = \"https://api.luchtmeetnet.nl/open_api/measurements?formula=PM25\" # get data from luchtmeetnet api and filter it so that only PM25 formulas will be retrieved\n",
    "posts_luchtmeetnet_PM25 = requests.get(url).json()\n",
    "#pprint(posts_luchtmeetnet_PM25)\n"
   ]
  },
  {
   "cell_type": "code",
   "execution_count": null,
   "id": "843725c8",
   "metadata": {},
   "outputs": [],
   "source": []
  },
  {
   "cell_type": "code",
   "execution_count": 93,
   "id": "1ef16359",
   "metadata": {},
   "outputs": [],
   "source": [
    "url = \"https://api.luchtmeetnet.nl/open_api/measurements?formula=PM10\" # get data from luchtmeetnet api and filter it so that only PM10 formulas will be retrieved\n",
    "posts_luchtmeetnet_PM10 = requests.get(url).json()\n",
    "#pprint(posts_luchtmeetnet_PM10)"
   ]
  },
  {
   "cell_type": "markdown",
   "id": "ee6c668c",
   "metadata": {},
   "source": [
    "We know want to put it in a dataframe "
   ]
  },
  {
   "cell_type": "code",
   "execution_count": 94,
   "id": "ec04ddcd",
   "metadata": {},
   "outputs": [
    {
     "data": {
      "text/html": [
       "<div>\n",
       "<style scoped>\n",
       "    .dataframe tbody tr th:only-of-type {\n",
       "        vertical-align: middle;\n",
       "    }\n",
       "\n",
       "    .dataframe tbody tr th {\n",
       "        vertical-align: top;\n",
       "    }\n",
       "\n",
       "    .dataframe thead th {\n",
       "        text-align: right;\n",
       "    }\n",
       "</style>\n",
       "<table border=\"1\" class=\"dataframe\">\n",
       "  <thead>\n",
       "    <tr style=\"text-align: right;\">\n",
       "      <th></th>\n",
       "      <th>formula</th>\n",
       "      <th>station_number</th>\n",
       "      <th>timestamp_measured</th>\n",
       "      <th>value</th>\n",
       "    </tr>\n",
       "  </thead>\n",
       "  <tbody>\n",
       "    <tr>\n",
       "      <th>0</th>\n",
       "      <td>PM25</td>\n",
       "      <td>NL01493</td>\n",
       "      <td>2025-10-08T12:00:00+00:00</td>\n",
       "      <td>8.60</td>\n",
       "    </tr>\n",
       "    <tr>\n",
       "      <th>1</th>\n",
       "      <td>PM25</td>\n",
       "      <td>NL10738</td>\n",
       "      <td>2025-10-08T12:00:00+00:00</td>\n",
       "      <td>21.60</td>\n",
       "    </tr>\n",
       "    <tr>\n",
       "      <th>2</th>\n",
       "      <td>PM25</td>\n",
       "      <td>NL49573</td>\n",
       "      <td>2025-10-08T12:00:00+00:00</td>\n",
       "      <td>2.40</td>\n",
       "    </tr>\n",
       "    <tr>\n",
       "      <th>3</th>\n",
       "      <td>PM25</td>\n",
       "      <td>NL10538</td>\n",
       "      <td>2025-10-08T12:00:00+00:00</td>\n",
       "      <td>2.84</td>\n",
       "    </tr>\n",
       "    <tr>\n",
       "      <th>4</th>\n",
       "      <td>PM25</td>\n",
       "      <td>NL49703</td>\n",
       "      <td>2025-10-08T12:00:00+00:00</td>\n",
       "      <td>2.90</td>\n",
       "    </tr>\n",
       "    <tr>\n",
       "      <th>5</th>\n",
       "      <td>PM25</td>\n",
       "      <td>NL01495</td>\n",
       "      <td>2025-10-08T12:00:00+00:00</td>\n",
       "      <td>2.60</td>\n",
       "    </tr>\n",
       "    <tr>\n",
       "      <th>6</th>\n",
       "      <td>PM25</td>\n",
       "      <td>NL10742</td>\n",
       "      <td>2025-10-08T12:00:00+00:00</td>\n",
       "      <td>17.99</td>\n",
       "    </tr>\n",
       "    <tr>\n",
       "      <th>7</th>\n",
       "      <td>PM25</td>\n",
       "      <td>NL49704</td>\n",
       "      <td>2025-10-08T12:00:00+00:00</td>\n",
       "      <td>3.30</td>\n",
       "    </tr>\n",
       "    <tr>\n",
       "      <th>8</th>\n",
       "      <td>PM25</td>\n",
       "      <td>NL01488</td>\n",
       "      <td>2025-10-08T12:00:00+00:00</td>\n",
       "      <td>8.80</td>\n",
       "    </tr>\n",
       "    <tr>\n",
       "      <th>9</th>\n",
       "      <td>PM25</td>\n",
       "      <td>NL10934</td>\n",
       "      <td>2025-10-08T12:00:00+00:00</td>\n",
       "      <td>3.37</td>\n",
       "    </tr>\n",
       "  </tbody>\n",
       "</table>\n",
       "</div>"
      ],
      "text/plain": [
       "  formula station_number         timestamp_measured  value\n",
       "0    PM25        NL01493  2025-10-08T12:00:00+00:00   8.60\n",
       "1    PM25        NL10738  2025-10-08T12:00:00+00:00  21.60\n",
       "2    PM25        NL49573  2025-10-08T12:00:00+00:00   2.40\n",
       "3    PM25        NL10538  2025-10-08T12:00:00+00:00   2.84\n",
       "4    PM25        NL49703  2025-10-08T12:00:00+00:00   2.90\n",
       "5    PM25        NL01495  2025-10-08T12:00:00+00:00   2.60\n",
       "6    PM25        NL10742  2025-10-08T12:00:00+00:00  17.99\n",
       "7    PM25        NL49704  2025-10-08T12:00:00+00:00   3.30\n",
       "8    PM25        NL01488  2025-10-08T12:00:00+00:00   8.80\n",
       "9    PM25        NL10934  2025-10-08T12:00:00+00:00   3.37"
      ]
     },
     "execution_count": 94,
     "metadata": {},
     "output_type": "execute_result"
    }
   ],
   "source": [
    "dfposts_PM25 = pd.DataFrame(posts_luchtmeetnet_PM25[\"data\"])[['formula',\n",
    "           'station_number',\n",
    "           'timestamp_measured',\n",
    "           'value']]\n",
    "dfposts_PM25.head(10)"
   ]
  },
  {
   "cell_type": "code",
   "execution_count": 95,
   "id": "553b9a76",
   "metadata": {},
   "outputs": [
    {
     "data": {
      "text/html": [
       "<div>\n",
       "<style scoped>\n",
       "    .dataframe tbody tr th:only-of-type {\n",
       "        vertical-align: middle;\n",
       "    }\n",
       "\n",
       "    .dataframe tbody tr th {\n",
       "        vertical-align: top;\n",
       "    }\n",
       "\n",
       "    .dataframe thead th {\n",
       "        text-align: right;\n",
       "    }\n",
       "</style>\n",
       "<table border=\"1\" class=\"dataframe\">\n",
       "  <thead>\n",
       "    <tr style=\"text-align: right;\">\n",
       "      <th></th>\n",
       "      <th>formula</th>\n",
       "      <th>station_number</th>\n",
       "      <th>timestamp_measured</th>\n",
       "      <th>value</th>\n",
       "    </tr>\n",
       "  </thead>\n",
       "  <tbody>\n",
       "    <tr>\n",
       "      <th>0</th>\n",
       "      <td>PM10</td>\n",
       "      <td>NL01496</td>\n",
       "      <td>2025-10-08T12:00:00+00:00</td>\n",
       "      <td>8.60</td>\n",
       "    </tr>\n",
       "    <tr>\n",
       "      <th>1</th>\n",
       "      <td>PM10</td>\n",
       "      <td>NL01494</td>\n",
       "      <td>2025-10-08T12:00:00+00:00</td>\n",
       "      <td>14.60</td>\n",
       "    </tr>\n",
       "    <tr>\n",
       "      <th>2</th>\n",
       "      <td>PM10</td>\n",
       "      <td>NL49012</td>\n",
       "      <td>2025-10-08T12:00:00+00:00</td>\n",
       "      <td>11.50</td>\n",
       "    </tr>\n",
       "    <tr>\n",
       "      <th>3</th>\n",
       "      <td>PM10</td>\n",
       "      <td>NL10445</td>\n",
       "      <td>2025-10-08T12:00:00+00:00</td>\n",
       "      <td>8.27</td>\n",
       "    </tr>\n",
       "    <tr>\n",
       "      <th>4</th>\n",
       "      <td>PM10</td>\n",
       "      <td>NL10636</td>\n",
       "      <td>2025-10-08T12:00:00+00:00</td>\n",
       "      <td>-12.21</td>\n",
       "    </tr>\n",
       "    <tr>\n",
       "      <th>5</th>\n",
       "      <td>PM10</td>\n",
       "      <td>NL10818</td>\n",
       "      <td>2025-10-08T12:00:00+00:00</td>\n",
       "      <td>5.71</td>\n",
       "    </tr>\n",
       "    <tr>\n",
       "      <th>6</th>\n",
       "      <td>PM10</td>\n",
       "      <td>NL49680</td>\n",
       "      <td>2025-10-08T12:00:00+00:00</td>\n",
       "      <td>12.80</td>\n",
       "    </tr>\n",
       "    <tr>\n",
       "      <th>7</th>\n",
       "      <td>PM10</td>\n",
       "      <td>NL10741</td>\n",
       "      <td>2025-10-08T12:00:00+00:00</td>\n",
       "      <td>14.67</td>\n",
       "    </tr>\n",
       "    <tr>\n",
       "      <th>8</th>\n",
       "      <td>PM10</td>\n",
       "      <td>NL10138</td>\n",
       "      <td>2025-10-08T12:00:00+00:00</td>\n",
       "      <td>5.71</td>\n",
       "    </tr>\n",
       "    <tr>\n",
       "      <th>9</th>\n",
       "      <td>PM10</td>\n",
       "      <td>NL01493</td>\n",
       "      <td>2025-10-08T12:00:00+00:00</td>\n",
       "      <td>20.60</td>\n",
       "    </tr>\n",
       "  </tbody>\n",
       "</table>\n",
       "</div>"
      ],
      "text/plain": [
       "  formula station_number         timestamp_measured  value\n",
       "0    PM10        NL01496  2025-10-08T12:00:00+00:00   8.60\n",
       "1    PM10        NL01494  2025-10-08T12:00:00+00:00  14.60\n",
       "2    PM10        NL49012  2025-10-08T12:00:00+00:00  11.50\n",
       "3    PM10        NL10445  2025-10-08T12:00:00+00:00   8.27\n",
       "4    PM10        NL10636  2025-10-08T12:00:00+00:00 -12.21\n",
       "5    PM10        NL10818  2025-10-08T12:00:00+00:00   5.71\n",
       "6    PM10        NL49680  2025-10-08T12:00:00+00:00  12.80\n",
       "7    PM10        NL10741  2025-10-08T12:00:00+00:00  14.67\n",
       "8    PM10        NL10138  2025-10-08T12:00:00+00:00   5.71\n",
       "9    PM10        NL01493  2025-10-08T12:00:00+00:00  20.60"
      ]
     },
     "execution_count": 95,
     "metadata": {},
     "output_type": "execute_result"
    }
   ],
   "source": [
    "dfposts_PM10 = pd.DataFrame(posts_luchtmeetnet_PM10[\"data\"])[['formula',\n",
    "           'station_number',\n",
    "           'timestamp_measured',\n",
    "           'value']]\n",
    "dfposts_PM10.head(10)"
   ]
  },
  {
   "cell_type": "markdown",
   "id": "23250967",
   "metadata": {},
   "source": [
    "# API Population density\n",
    "\n",
    "```\n",
    "{\n",
    "  \"odata.metadata\":\"https://opendata.cbs.nl/ODataApi/OData/85984NED/$metadata\",\"value\":[\n",
    "    {\n",
    "      \"name\":\"TableInfos\",\"url\":\"https://opendata.cbs.nl/ODataApi/odata/85984NED/TableInfos\"\n",
    "    },{\n",
    "      \"name\":\"UntypedDataSet\",\"url\":\"https://opendata.cbs.nl/ODataApi/odata/85984NED/UntypedDataSet\"\n",
    "    },{\n",
    "      \"name\":\"TypedDataSet\",\"url\":\"https://opendata.cbs.nl/ODataApi/odata/85984NED/TypedDataSet\"\n",
    "    },{\n",
    "      \"name\":\"DataProperties\",\"url\":\"https://opendata.cbs.nl/ODataApi/odata/85984NED/DataProperties\"\n",
    "    },{\n",
    "      \"name\":\"CategoryGroups\",\"url\":\"https://opendata.cbs.nl/ODataApi/odata/85984NED/CategoryGroups\"\n",
    "    },{\n",
    "      \"name\":\"WijkenEnBuurten\",\"url\":\"https://opendata.cbs.nl/ODataApi/odata/85984NED/WijkenEnBuurten\"\n",
    "    }\n",
    "  ]\n",
    "}\n",
    "```\n",
    "\n",
    "* https://learn.microsoft.com/en-us/odata/concepts/queryoptions-overview -> explains how to use batches since thi API needs to parse from a very large data source. Since it is a very large data set, we will print the first 9000 rows before we begin with preprocessing"
   ]
  },
  {
   "cell_type": "markdown",
   "id": "ea335ec4",
   "metadata": {},
   "source": [
    "### NOTE: it is still not on the same abstraction level as the other APIs. To fix this, we need to specify codering_3 to only values that start with NL"
   ]
  },
  {
   "cell_type": "code",
   "execution_count": 96,
   "id": "f50216c8",
   "metadata": {},
   "outputs": [],
   "source": [
    "url_population = \"https://opendata.cbs.nl/ODataApi/odata/85984NED/TypedDataSet?$top=9000&$skip=0\"\n",
    "response_population= requests.get(url_population)\n",
    "users_population= response.json()\n",
    "posts_population = requests.get(url_population).json()\n",
    "\n",
    "#pprint (posts_population)"
   ]
  },
  {
   "cell_type": "code",
   "execution_count": 97,
   "id": "af69f986",
   "metadata": {},
   "outputs": [
    {
     "data": {
      "text/html": [
       "<div>\n",
       "<style scoped>\n",
       "    .dataframe tbody tr th:only-of-type {\n",
       "        vertical-align: middle;\n",
       "    }\n",
       "\n",
       "    .dataframe tbody tr th {\n",
       "        vertical-align: top;\n",
       "    }\n",
       "\n",
       "    .dataframe thead th {\n",
       "        text-align: right;\n",
       "    }\n",
       "</style>\n",
       "<table border=\"1\" class=\"dataframe\">\n",
       "  <thead>\n",
       "    <tr style=\"text-align: right;\">\n",
       "      <th></th>\n",
       "      <th>Bevolkingsdichtheid_34</th>\n",
       "      <th>Codering_3</th>\n",
       "      <th>Gemeentenaam_1</th>\n",
       "    </tr>\n",
       "  </thead>\n",
       "  <tbody>\n",
       "    <tr>\n",
       "      <th>0</th>\n",
       "      <td>533.0</td>\n",
       "      <td>NL00</td>\n",
       "      <td>Nederland</td>\n",
       "    </tr>\n",
       "    <tr>\n",
       "      <th>1</th>\n",
       "      <td>94.0</td>\n",
       "      <td>GM1680</td>\n",
       "      <td>Aa en Hunze</td>\n",
       "    </tr>\n",
       "    <tr>\n",
       "      <th>2</th>\n",
       "      <td>245.0</td>\n",
       "      <td>WK168000</td>\n",
       "      <td>Aa en Hunze</td>\n",
       "    </tr>\n",
       "    <tr>\n",
       "      <th>3</th>\n",
       "      <td>1369.0</td>\n",
       "      <td>BU16800000</td>\n",
       "      <td>Aa en Hunze</td>\n",
       "    </tr>\n",
       "    <tr>\n",
       "      <th>4</th>\n",
       "      <td>12.0</td>\n",
       "      <td>BU16800009</td>\n",
       "      <td>Aa en Hunze</td>\n",
       "    </tr>\n",
       "    <tr>\n",
       "      <th>5</th>\n",
       "      <td>82.0</td>\n",
       "      <td>WK168001</td>\n",
       "      <td>Aa en Hunze</td>\n",
       "    </tr>\n",
       "    <tr>\n",
       "      <th>6</th>\n",
       "      <td>754.0</td>\n",
       "      <td>BU16800100</td>\n",
       "      <td>Aa en Hunze</td>\n",
       "    </tr>\n",
       "    <tr>\n",
       "      <th>7</th>\n",
       "      <td>11.0</td>\n",
       "      <td>BU16800109</td>\n",
       "      <td>Aa en Hunze</td>\n",
       "    </tr>\n",
       "    <tr>\n",
       "      <th>8</th>\n",
       "      <td>48.0</td>\n",
       "      <td>WK168002</td>\n",
       "      <td>Aa en Hunze</td>\n",
       "    </tr>\n",
       "    <tr>\n",
       "      <th>9</th>\n",
       "      <td>573.0</td>\n",
       "      <td>BU16800200</td>\n",
       "      <td>Aa en Hunze</td>\n",
       "    </tr>\n",
       "  </tbody>\n",
       "</table>\n",
       "</div>"
      ],
      "text/plain": [
       "   Bevolkingsdichtheid_34  Codering_3  \\\n",
       "0                   533.0  NL00         \n",
       "1                    94.0  GM1680       \n",
       "2                   245.0  WK168000     \n",
       "3                  1369.0  BU16800000   \n",
       "4                    12.0  BU16800009   \n",
       "5                    82.0  WK168001     \n",
       "6                   754.0  BU16800100   \n",
       "7                    11.0  BU16800109   \n",
       "8                    48.0  WK168002     \n",
       "9                   573.0  BU16800200   \n",
       "\n",
       "                             Gemeentenaam_1  \n",
       "0  Nederland                                 \n",
       "1  Aa en Hunze                               \n",
       "2  Aa en Hunze                               \n",
       "3  Aa en Hunze                               \n",
       "4  Aa en Hunze                               \n",
       "5  Aa en Hunze                               \n",
       "6  Aa en Hunze                               \n",
       "7  Aa en Hunze                               \n",
       "8  Aa en Hunze                               \n",
       "9  Aa en Hunze                               "
      ]
     },
     "execution_count": 97,
     "metadata": {},
     "output_type": "execute_result"
    }
   ],
   "source": [
    "dfposts_population = pd.DataFrame(posts_population[\"value\"])[['Bevolkingsdichtheid_34',\n",
    "           'Codering_3',\n",
    "           'Gemeentenaam_1']]\n",
    "dfposts_population.head(10)"
   ]
  },
  {
   "cell_type": "markdown",
   "id": "09be530f",
   "metadata": {},
   "source": [
    "## Note: DISCUSS IF IT IS USEFUL TO EVEN USE THIS SPECIFIC DATASET SINCE IT IS DIFFICULT TO EASILY LINK IT TO THE REGIOS ID OF THE API DATASET"
   ]
  },
  {
   "cell_type": "code",
   "execution_count": 98,
   "id": "695e1468",
   "metadata": {},
   "outputs": [
    {
     "data": {
      "text/plain": [
       "Bevolkingsdichtheid_34  Codering_3  Gemeentenaam_1                          \n",
       "1.0                     BU02289051  Ede                                         1\n",
       "                        BU02460009  Heerde                                      1\n",
       "                        BU05059800  Dordrecht                                   1\n",
       "                        BU16800309  Aa en Hunze                                 1\n",
       "                        BU16819709  Borger-Odoorn                               1\n",
       "                                                                               ..\n",
       "31046.0                 BU0363EM01  Amsterdam                                   1\n",
       "31750.0                 BU0363KE03  Amsterdam                                   1\n",
       "33964.0                 BU0363EU01  Amsterdam                                   1\n",
       "35026.0                 BU0363EH02  Amsterdam                                   1\n",
       "56582.0                 BU03840208  Diemen                                      1\n",
       "Name: count, Length: 8572, dtype: int64"
      ]
     },
     "execution_count": 98,
     "metadata": {},
     "output_type": "execute_result"
    }
   ],
   "source": [
    "dffiltered = dfposts_population[dfposts_population[\"Codering_3\"].str.startswith(\"GM\")]\n",
    "\n",
    "\n",
    "dffiltered.value_counts() #154 Gemeentes\n",
    "dfposts_population.value_counts() # Codering_3 has a total of lenght of 8527"
   ]
  },
  {
   "cell_type": "markdown",
   "id": "37d0a967",
   "metadata": {},
   "source": [
    "# XML emission zone"
   ]
  },
  {
   "cell_type": "code",
   "execution_count": 99,
   "id": "00b68cf5",
   "metadata": {},
   "outputs": [
    {
     "name": "stdout",
     "output_type": "stream",
     "text": [
      "Requirement already satisfied: xmltodict in c:\\users\\ratiba zaid\\appdata\\local\\packages\\pythonsoftwarefoundation.python.3.11_qbz5n2kfra8p0\\localcache\\local-packages\\python311\\site-packages (1.0.2)\n"
     ]
    }
   ],
   "source": [
    "!pip install xmltodict"
   ]
  },
  {
   "cell_type": "code",
   "execution_count": 100,
   "id": "3b2a8f86",
   "metadata": {},
   "outputs": [
    {
     "name": "stdout",
     "output_type": "stream",
     "text": [
      "Requirement already satisfied: lxml in c:\\users\\ratiba zaid\\appdata\\local\\packages\\pythonsoftwarefoundation.python.3.11_qbz5n2kfra8p0\\localcache\\local-packages\\python311\\site-packages (6.0.2)\n"
     ]
    }
   ],
   "source": [
    "!pip install lxml"
   ]
  },
  {
   "cell_type": "markdown",
   "id": "32fe5f0d",
   "metadata": {},
   "source": [
    "<?xml version=\"1.0\" encoding=\"UTF-8\" standalone=\"yes\"?>\n",
    "<mc:messageContainer xmlns:mc=\"http://datex2.eu/schema/3/messageContainer\" xmlns:nlxe=\"http://datex2.eu/schema/3/nlxExtensions\" xmlns:inf=\"http://datex2.eu/schema/3/informationManagement\" xmlns:comx=\"http://datex2.eu/schema/3/commonExtension\" xmlns:cz=\"http://datex2.eu/schema/3/controlledZone\" xmlns:ex=\"http://datex2.eu/schema/3/exchangeInformation\" xmlns:tro=\"http://datex2.eu/schema/3/trafficRegulation\" xmlns:loc=\"http://datex2.eu/schema/3/locationReferencing\" xmlns:com=\"http://datex2.eu/schema/3/common\" modelBaseVersion=\"3\"><mc:payload xmlns:xsi=\"http://www.w3.org/2001/XMLSchema-instance\""
   ]
  },
  {
   "cell_type": "code",
   "execution_count": 101,
   "id": "f6357169",
   "metadata": {},
   "outputs": [
    {
     "name": "stdout",
     "output_type": "stream",
     "text": [
      "{http://datex2.eu/schema/3/messageContainer}messageContainer\n",
      "{'modelBaseVersion': '3'}\n",
      "<Element '{http://datex2.eu/schema/3/messageContainer}messageContainer' at 0x000001CC0AE9B100>\n"
     ]
    }
   ],
   "source": [
    "\n",
    "\n",
    "import xml.etree.cElementTree as ET\n",
    "tree = ET.parse(r'C:\\Users\\Ratiba Zaid\\Downloads\\emissiezones.xml\\emissiezones.xml')\n",
    "root = tree.getroot()\n",
    "\n",
    "print(root.tag)\n",
    "print(root.attrib)\n",
    "\n",
    "print(root)\n",
    "#namespace from julian's code\n",
    "name_space = {\n",
    "    'mc': 'http://datex2.eu/schema/3/messageContainer',\n",
    "    'ex': 'http://datex2.eu/schema/3/exchange',\n",
    "    'com': 'http://datex2.eu/schema/3/common',\n",
    "    'comx': 'http://datex2.eu/schema/3/commonExtension',\n",
    "    'cz': 'http://datex2.eu/schema/3/controlledZone',\n",
    "    'tro': 'http://datex2.eu/schema/3/trafficRegulationOrder',\n",
    "    'loc': 'http://datex2.eu/schema/3/locationReferencing',\n",
    "    'xsi': 'http://www.w3.org/2001/XMLSchema-instance'\n",
    "}\n",
    "\n",
    "for elements in root.findall(\".//loc:locationReferencing\", name_space):\n",
    "    print(elements.tag, elements.attrib)\n"
   ]
  },
  {
   "cell_type": "markdown",
   "id": "06693da1",
   "metadata": {},
   "source": [
    "##### JULIAN's code from untitled.ipynb=> first cell"
   ]
  },
  {
   "cell_type": "code",
   "execution_count": 102,
   "id": "d3b14761",
   "metadata": {},
   "outputs": [
    {
     "name": "stdout",
     "output_type": "stream",
     "text": [
      "Root element: {http://datex2.eu/schema/3/messageContainer}messageContainer\n",
      "Root attributes: {'modelBaseVersion': '3'}\n",
      "\n",
      "Found 42 emission zones\n",
      "[{'name': \"LEZ 's-Hertogenbosch\", 'type': 'lowEmissionZone', 'url': 'https://www.s-hertogenbosch.nl/ondernemer/milieu-en-afval/milieuzone-zero-emissie-zone/', 'status': 'active', 'authority': 'Unknown', 'regulation_id': 'Unknown', 'start_date': '2020-01-01T00:00:00Z', 'end_date': '2025-03-01T00:00:00Z', 'coordinate_sets': 1, 'vehicle_restrictions': 0}, {'name': 'ZE Dordrecht', 'type': 'lowEmissionZone', 'url': 'https://cms.dordrecht.nl/Inwoners/Overzicht_Inwoners/Parkeren_verkeer_en_vervoer/Overige_informatie/Zero_emissiezone_vanaf_2026', 'status': 'active', 'authority': 'Unknown', 'regulation_id': 'Unknown', 'start_date': '2026-01-01T00:00:00Z', 'end_date': '2026-12-31T23:00:00Z', 'coordinate_sets': 1, 'vehicle_restrictions': 0}, {'name': 'LEZ Delft', 'type': 'lowEmissionZone', 'url': 'https://www.delft.nl/milieuzone', 'status': 'active', 'authority': 'Unknown', 'regulation_id': 'Unknown', 'start_date': '2020-01-01T00:00:00Z', 'end_date': '2999-01-01T00:00:00Z', 'coordinate_sets': 1, 'vehicle_restrictions': 0}, {'name': 'ZE zone Alphen aan den Rijn', 'type': 'lowEmissionZone', 'url': 'https://www.alphenaandenrijn.nl/Ondernemen/Zero_emissiezone', 'status': 'active', 'authority': 'Unknown', 'regulation_id': 'Unknown', 'start_date': '2026-07-01T00:00:00Z', 'end_date': '2999-01-01T00:00:00Z', 'coordinate_sets': 1, 'vehicle_restrictions': 0}, {'name': 'LEZ Haarlem', 'type': 'lowEmissionZone', 'url': 'https://haarlem.nl/ontheffing-milieuzone-voor-dieselvrachtwagens', 'status': 'active', 'authority': 'Unknown', 'regulation_id': 'Unknown', 'start_date': '2020-01-01T00:00:00Z', 'end_date': '2999-01-01T00:00:00Z', 'coordinate_sets': 1, 'vehicle_restrictions': 0}, {'name': 'ZE Haarlemmermeer', 'type': 'lowEmissionZone', 'url': 'https://haarlemmermeergemeente.nl/zero-emissiezone-schiphol', 'status': 'active', 'authority': 'Unknown', 'regulation_id': 'Unknown', 'start_date': '2026-01-01T00:00:00Z', 'end_date': '2026-12-31T23:00:00Z', 'coordinate_sets': 1, 'vehicle_restrictions': 0}, {'name': 'ZE Zwolle', 'type': 'lowEmissionZone', 'url': 'https://www.zwolle.nl/invoering-zero-emissiezone-in-2025', 'status': 'active', 'authority': 'Unknown', 'regulation_id': 'Unknown', 'start_date': '2025-01-01T00:00:00Z', 'end_date': '2999-01-01T00:00:00Z', 'coordinate_sets': 1, 'vehicle_restrictions': 0}, {'name': 'ZE Ede', 'type': 'lowEmissionZone', 'url': 'https://ondernemen.ede.nl/zes-loket', 'status': 'active', 'authority': 'Unknown', 'regulation_id': 'Unknown', 'start_date': '2030-01-01T00:00:00Z', 'end_date': 'Unknown', 'coordinate_sets': 1, 'vehicle_restrictions': 0}, {'name': 'ZE Gouda', 'type': 'lowEmissionZone', 'url': None, 'status': 'active', 'authority': 'Unknown', 'regulation_id': 'Unknown', 'start_date': '2025-01-01T00:00:00Z', 'end_date': '2999-01-01T00:00:00Z', 'coordinate_sets': 1, 'vehicle_restrictions': 0}, {'name': 'ZE Amersfoort 2027', 'type': 'lowEmissionZone', 'url': 'https://www.amersfoort.nl/zero-emissie-stadslogistiek-zes-uitstootvrij-bevoorraden', 'status': 'active', 'authority': 'Unknown', 'regulation_id': 'Unknown', 'start_date': '2027-01-01T00:00:00Z', 'end_date': '2999-01-01T00:00:00Z', 'coordinate_sets': 5, 'vehicle_restrictions': 0}, {'name': 'ZE Enschede', 'type': 'lowEmissionZone', 'url': None, 'status': 'active', 'authority': 'Unknown', 'regulation_id': 'Unknown', 'start_date': '2025-07-01T00:00:00Z', 'end_date': '2999-01-01T00:00:00Z', 'coordinate_sets': 1, 'vehicle_restrictions': 0}, {'name': 'ZE Haarlem', 'type': 'lowEmissionZone', 'url': 'https://haarlem.nl/nul-emissiezone-voor-vracht-en-bestelwagens', 'status': 'active', 'authority': 'Unknown', 'regulation_id': 'Unknown', 'start_date': '2025-06-01T00:00:00Z', 'end_date': '2026-12-31T23:00:00Z', 'coordinate_sets': 1, 'vehicle_restrictions': 0}, {'name': 'ZE Arnhem', 'type': 'lowEmissionZone', 'url': 'https://www.arnhem.nl/stad_en_wijken/Wegen_en_vervoer/Zero_emissiezone', 'status': 'active', 'authority': 'Unknown', 'regulation_id': 'Unknown', 'start_date': '2026-06-01T00:00:00Z', 'end_date': '2099-12-31T00:00:00Z', 'coordinate_sets': 1, 'vehicle_restrictions': 0}, {'name': 'ZE Zone', 'type': 'lowEmissionZone', 'url': 'www.eindhoven.nl', 'status': 'active', 'authority': 'Unknown', 'regulation_id': 'Unknown', 'start_date': '2025-01-01T00:00:00Z', 'end_date': '2026-12-31T23:00:00Z', 'coordinate_sets': 1, 'vehicle_restrictions': 0}, {'name': \"ZE 's-Hertogenbosch\", 'type': 'lowEmissionZone', 'url': 'https://www.s-hertogenbosch.nl/ondernemer/milieu-en-afval/milieuzone-zero-emissie-zone/', 'status': 'active', 'authority': 'Unknown', 'regulation_id': 'Unknown', 'start_date': '2025-03-01T00:00:00Z', 'end_date': '2999-01-01T00:00:00Z', 'coordinate_sets': 1, 'vehicle_restrictions': 0}, {'name': 'onbekend', 'type': 'lowEmissionZone', 'url': 'https://www.amersfoort.nl/zero-emissie-stadslogistiek-zes-uitstootvrij-bevoorraden', 'status': 'active', 'authority': 'Unknown', 'regulation_id': 'Unknown', 'start_date': '2025-01-01T00:00:00Z', 'end_date': '2026-12-31T23:00:00Z', 'coordinate_sets': 2, 'vehicle_restrictions': 0}, {'name': 'ZE Amsterdam', 'type': 'lowEmissionZone', 'url': 'https://www.amsterdam.nl/verkeer-vervoer/milieuzone-uitstootvrijezone/', 'status': 'active', 'authority': 'Unknown', 'regulation_id': 'Unknown', 'start_date': '2025-01-01T00:00:00Z', 'end_date': '2030-01-01T00:00:00Z', 'coordinate_sets': 2, 'vehicle_restrictions': 0}, {'name': 'LEZ Den Haag', 'type': 'lowEmissionZone', 'url': 'https://www.denhaag.nl/nl/verkeer-en-vervoer/milieuzone-dieselautos/', 'status': 'active', 'authority': 'Unknown', 'regulation_id': 'Unknown', 'start_date': '2020-01-01T00:00:00Z', 'end_date': '2999-01-01T00:00:00Z', 'coordinate_sets': 1, 'vehicle_restrictions': 0}, {'name': 'ZE Den Haag', 'type': 'lowEmissionZone', 'url': 'https://www.denhaag.nl/nl/verkeer-en-vervoer/zero-emissiezone/', 'status': 'active', 'authority': 'Unknown', 'regulation_id': 'Unknown', 'start_date': '2025-01-01T00:00:00Z', 'end_date': '2026-12-31T23:00:00Z', 'coordinate_sets': 1, 'vehicle_restrictions': 0}, {'name': 'LEZ Breda', 'type': 'lowEmissionZone', 'url': 'https://www.breda.nl/ontheffing-milieuzone', 'status': 'active', 'authority': 'Unknown', 'regulation_id': 'Unknown', 'start_date': '2020-01-01T00:00:00Z', 'end_date': '2999-01-01T00:00:00Z', 'coordinate_sets': 1, 'vehicle_restrictions': 0}, {'name': 'ZE Rotterdam', 'type': 'lowEmissionZone', 'url': 'https://www.rotterdam.nl/zero-emissiezone-voor-bestel-en-vrachtautos', 'status': 'active', 'authority': 'Unknown', 'regulation_id': 'Unknown', 'start_date': '2025-01-01T00:00:00Z', 'end_date': '2999-01-01T00:00:00Z', 'coordinate_sets': 8, 'vehicle_restrictions': 0}, {'name': 'LEZ Tilburg', 'type': 'lowEmissionZone', 'url': 'https://www.tilburg.nl/ondernemers/milieu/ontheffing-milieuzone/', 'status': 'active', 'authority': 'Unknown', 'regulation_id': 'Unknown', 'start_date': '2020-01-01T00:00:00Z', 'end_date': '2025-01-01T00:00:00Z', 'coordinate_sets': 1, 'vehicle_restrictions': 0}, {'name': 'LEZ Utrecht', 'type': 'lowEmissionZone', 'url': 'https://www.utrecht.nl/wonen-en-leven/gezonde-leefomgeving/luchtkwaliteit/milieuzone-en-zero-emissiezone', 'status': 'active', 'authority': 'Unknown', 'regulation_id': 'Unknown', 'start_date': '2020-01-01T00:00:00Z', 'end_date': '2999-01-01T00:00:00Z', 'coordinate_sets': 1, 'vehicle_restrictions': 0}, {'name': 'ZE Tilburg', 'type': 'lowEmissionZone', 'url': 'https://www.tilburg.nl/ondernemers/milieu/zero-emissiezone/#:~:text=De%20emissievrije%20zone%20in%20Tilburg,omvang%20als%20de%20huidige%20milieuzone.', 'status': 'active', 'authority': 'Unknown', 'regulation_id': 'Unknown', 'start_date': '2025-01-01T00:00:00Z', 'end_date': '2099-12-31T00:00:00Z', 'coordinate_sets': 1, 'vehicle_restrictions': 0}, {'name': 'Milieuzone Amsterdam', 'type': 'lowEmissionZone', 'url': 'https://www.amsterdam.nl/verkeer-vervoer/milieuzone-uitstootvrijezone/', 'status': 'active', 'authority': 'Unknown', 'regulation_id': 'Unknown', 'start_date': '2025-01-01T00:00:00Z', 'end_date': '2030-01-01T00:00:00Z', 'coordinate_sets': 6, 'vehicle_restrictions': 0}, {'name': 'ZE Leiden', 'type': 'lowEmissionZone', 'url': None, 'status': 'active', 'authority': 'Unknown', 'regulation_id': 'Unknown', 'start_date': '2025-01-01T00:00:00Z', 'end_date': '2999-01-01T00:00:00Z', 'coordinate_sets': 1, 'vehicle_restrictions': 0}, {'name': 'ZE Amersfoort 2025', 'type': 'lowEmissionZone', 'url': 'https://www.amersfoort.nl/zero-emissie-stadslogistiek-zes-uitstootvrij-bevoorraden', 'status': 'active', 'authority': 'Unknown', 'regulation_id': 'Unknown', 'start_date': '2025-01-01T00:00:00Z', 'end_date': '2026-12-31T23:00:00Z', 'coordinate_sets': 9, 'vehicle_restrictions': 0}, {'name': 'LEZ Leiden', 'type': 'lowEmissionZone', 'url': 'https://gemeente.leiden.nl/inwoners-en-ondernemers/parkeren/parkeren-in-leiden/milieuzone-ontheffing/', 'status': 'active', 'authority': 'Unknown', 'regulation_id': 'Unknown', 'start_date': '2020-01-01T00:00:00Z', 'end_date': '2999-01-01T00:00:00Z', 'coordinate_sets': 1, 'vehicle_restrictions': 0}, {'name': 'ZE Assen', 'type': 'lowEmissionZone', 'url': 'https://www.assen.nl/zero-emissiezone', 'status': 'active', 'authority': 'Unknown', 'regulation_id': 'Unknown', 'start_date': '2025-01-01T00:00:00Z', 'end_date': '2999-01-01T00:00:00Z', 'coordinate_sets': 1, 'vehicle_restrictions': 0}, {'name': 'ZE Den Haag Kust', 'type': 'lowEmissionZone', 'url': 'https://www.denhaag.nl/nl/verkeer-en-vervoer/zero-emissiezone/', 'status': 'active', 'authority': 'Unknown', 'regulation_id': 'Unknown', 'start_date': '2026-01-01T00:00:00Z', 'end_date': '2026-12-31T23:00:00Z', 'coordinate_sets': 1, 'vehicle_restrictions': 0}, {'name': 'ZE Groningen', 'type': 'lowEmissionZone', 'url': 'https://groningendoethetzero.nl/', 'status': 'active', 'authority': 'Unknown', 'regulation_id': 'Unknown', 'start_date': '2025-04-01T00:00:00Z', 'end_date': '2999-01-01T00:00:00Z', 'coordinate_sets': 1, 'vehicle_restrictions': 0}, {'name': 'ZE Delft', 'type': 'lowEmissionZone', 'url': 'https://www.delft.nl/nul-emissiezone', 'status': 'active', 'authority': 'Unknown', 'regulation_id': 'Unknown', 'start_date': '2025-01-01T00:00:00Z', 'end_date': '2999-01-01T00:00:00Z', 'coordinate_sets': 1, 'vehicle_restrictions': 0}, {'name': 'LEZ Rijswijk', 'type': 'lowEmissionZone', 'url': 'https://www.rijswijk.nl/milieuzone', 'status': 'active', 'authority': 'Unknown', 'regulation_id': 'Unknown', 'start_date': '2020-01-01T00:00:00Z', 'end_date': '2999-01-01T00:00:00Z', 'coordinate_sets': 1, 'vehicle_restrictions': 0}, {'name': 'ZES Maastricht', 'type': 'lowEmissionZone', 'url': 'https://www.gemeentemaastricht.nl/parkeren-en-verkeer/bedrijfswagens-op-fossiele-brandstof-vanaf-2025', 'status': 'active', 'authority': 'Unknown', 'regulation_id': 'Unknown', 'start_date': '2025-01-01T00:00:00Z', 'end_date': '2999-01-01T00:00:00Z', 'coordinate_sets': 1, 'vehicle_restrictions': 0}, {'name': 'ZE Utrecht', 'type': 'lowEmissionZone', 'url': 'https://www.utrecht.nl/wonen-en-leven/gezonde-leefomgeving/luchtkwaliteit/milieuzone-en-zero-emissiezone', 'status': 'active', 'authority': 'Unknown', 'regulation_id': 'Unknown', 'start_date': '2025-01-01T00:00:00Z', 'end_date': '2999-01-01T00:00:00Z', 'coordinate_sets': 1, 'vehicle_restrictions': 0}, {'name': 'Milieuzone Arnhem', 'type': 'lowEmissionZone', 'url': 'https://www.arnhem.nl/stad_en_wijken/Wegen_en_vervoer/milieuzone', 'status': 'active', 'authority': 'Unknown', 'regulation_id': 'Unknown', 'start_date': '2020-12-20T00:00:00Z', 'end_date': 'Unknown', 'coordinate_sets': 1, 'vehicle_restrictions': 0}, {'name': 'LEZ Amsterdam', 'type': 'lowEmissionZone', 'url': None, 'status': 'active', 'authority': 'Unknown', 'regulation_id': 'Unknown', 'start_date': '2020-11-01T00:00:00Z', 'end_date': '2025-01-01T00:00:00Z', 'coordinate_sets': 1, 'vehicle_restrictions': 0}, {'name': 'ZE Nijmegen', 'type': 'lowEmissionZone', 'url': 'https://www.nijmegen.nl/over-de-gemeente/plannen/invoering-zero-emissiezones/?featureid=MIL_ZES_ZONE.3', 'status': 'active', 'authority': 'Unknown', 'regulation_id': 'Unknown', 'start_date': '2025-01-01T00:00:00Z', 'end_date': '2099-12-31T00:00:00Z', 'coordinate_sets': 3, 'vehicle_restrictions': 0}, {'name': 'ZE Deventer', 'type': 'lowEmissionZone', 'url': 'https://www.deventer.nl/nieuws-en-nieuwsbrieven/deventer-nieuws/2024/7/3/deventer-voert-zero-emissiezone-in-per-1-januari-2028', 'status': 'active', 'authority': 'Unknown', 'regulation_id': 'Unknown', 'start_date': '2028-01-01T00:00:00Z', 'end_date': '2999-01-01T00:00:00Z', 'coordinate_sets': 1, 'vehicle_restrictions': 0}, {'name': 'Milieuzone Maastricht', 'type': 'lowEmissionZone', 'url': 'https://www.gemeentemaastricht.nl/milieuzone-ontheffing', 'status': 'active', 'authority': 'Unknown', 'regulation_id': 'Unknown', 'start_date': '2020-01-01T00:00:00Z', 'end_date': '2999-01-01T00:00:00Z', 'coordinate_sets': 1, 'vehicle_restrictions': 0}, {'name': 'LEZ Rotterdam Maasvlakte', 'type': 'lowEmissionZone', 'url': 'https://www.rotterdam.nl/milieuzone-stad-rotterdam', 'status': 'active', 'authority': 'Unknown', 'regulation_id': 'Unknown', 'start_date': '2020-01-01T00:00:00Z', 'end_date': '2999-01-01T00:00:00Z', 'coordinate_sets': 1, 'vehicle_restrictions': 0}, {'name': 'ZE Apeldoorn', 'type': 'lowEmissionZone', 'url': 'https://www.apeldoorn.nl/college-van-b-en-w/beleidsstukken-en-visies/verkeer-en-veiligheid-beleidsstukken-visies/zero-emissiezone', 'status': 'active', 'authority': 'Unknown', 'regulation_id': 'Unknown', 'start_date': '2030-01-01T00:00:00Z', 'end_date': 'Unknown', 'coordinate_sets': 2, 'vehicle_restrictions': 0}]\n"
     ]
    }
   ],
   "source": [
    "# Read the XML file\n",
    "xml_file_path = r'C:\\Users\\Ratiba Zaid\\Downloads\\emissiezones.xml\\emissiezones.xml'\n",
    "\n",
    "# Parse the XML file\n",
    "tree = ET.parse(xml_file_path)\n",
    "root = tree.getroot()\n",
    "\n",
    "print(f\"Root element: {root.tag}\")\n",
    "print(f\"Root attributes: {root.attrib}\")\n",
    "\n",
    "# Find all emission zones\n",
    "emission_zones = []\n",
    "\n",
    "# Define correct namespaces based on the actual XML structure\n",
    "namespaces = {\n",
    "    'mc': 'http://datex2.eu/schema/3/messageContainer',\n",
    "    'ex': 'http://datex2.eu/schema/3/exchange',\n",
    "    'com': 'http://datex2.eu/schema/3/common',\n",
    "    'comx': 'http://datex2.eu/schema/3/commonExtension',\n",
    "    'cz': 'http://datex2.eu/schema/3/controlledZone',\n",
    "    'tro': 'http://datex2.eu/schema/3/trafficRegulationOrder',\n",
    "    'loc': 'http://datex2.eu/schema/3/locationReferencing',\n",
    "    'xsi': 'http://www.w3.org/2001/XMLSchema-instance'\n",
    "}\n",
    "\n",
    "# Find controlled zone table\n",
    "controlled_zone_table = root.find('.//cz:controlledZoneTable', namespaces)\n",
    "if controlled_zone_table is not None:\n",
    "    # Find all urban vehicle access regulations\n",
    "    access_regulations = controlled_zone_table.findall('.//cz:urbanVehicleAccessRegulation', namespaces)\n",
    "    \n",
    "    print(f\"\\nFound {len(access_regulations)} emission zones\")\n",
    "    \n",
    "    for regulation in access_regulations:\n",
    "        zone_data = {}\n",
    "        \n",
    "        # Extract zone name\n",
    "        name_element = regulation.find('.//cz:name/com:values/com:value[@lang=\"nl\"]', namespaces)\n",
    "        zone_data['name'] = name_element.text if name_element is not None else \"Unknown\"\n",
    "        \n",
    "        # Extract zone type\n",
    "        zone_type_element = regulation.find('.//cz:controlledZoneType', namespaces)\n",
    "        zone_data['type'] = zone_type_element.text if zone_type_element is not None else \"Unknown\"\n",
    "        \n",
    "        # Extract URL for further information\n",
    "        url_element = regulation.find('.//cz:urlForFurtherInformation', namespaces)\n",
    "        zone_data['url'] = url_element.text if url_element is not None else \"\"\n",
    "        \n",
    "        # Extract status\n",
    "        status_element = regulation.find('.//cz:status', namespaces)\n",
    "        zone_data['status'] = status_element.text if status_element is not None else \"Unknown\"\n",
    "        \n",
    "        # Extract issuing authority\n",
    "        authority_element = regulation.find('.//tro:issuingAuthority/com:values/com:value[@lang=\"nl\"]', namespaces)\n",
    "        zone_data['authority'] = authority_element.text if authority_element is not None else \"Unknown\"\n",
    "        \n",
    "        # Extract regulation ID\n",
    "        regulation_id_element = regulation.find('.//tro:regulationId', namespaces)\n",
    "        zone_data['regulation_id'] = regulation_id_element.text if regulation_id_element is not None else \"Unknown\"\n",
    "        \n",
    "        # Extract validity period\n",
    "        start_time_element = regulation.find('.//com:overallStartTime', namespaces)\n",
    "        end_time_element = regulation.find('.//com:overallEndTime', namespaces)\n",
    "        zone_data['start_date'] = start_time_element.text if start_time_element is not None else \"Unknown\"\n",
    "        zone_data['end_date'] = end_time_element.text if end_time_element is not None else \"Unknown\"\n",
    "        \n",
    "        # Extract location coordinates (simplified - just count)\n",
    "        coordinates = regulation.findall('.//loc:posList', namespaces)\n",
    "        zone_data['coordinate_sets'] = len(coordinates)\n",
    "        \n",
    "        # Extract vehicle restrictions\n",
    "        vehicle_conditions = regulation.findall('.//tro:vehicleCharacteristics', namespaces)\n",
    "        zone_data['vehicle_restrictions'] = len(vehicle_conditions)\n",
    "        \n",
    "        emission_zones.append(zone_data)\n",
    "\n",
    "print(emission_zones)"
   ]
  },
  {
   "cell_type": "code",
   "execution_count": null,
   "id": "288c86dd",
   "metadata": {},
   "outputs": [],
   "source": []
  }
 ],
 "metadata": {
  "kernelspec": {
   "display_name": "Python 3",
   "language": "python",
   "name": "python3"
  },
  "language_info": {
   "codemirror_mode": {
    "name": "ipython",
    "version": 3
   },
   "file_extension": ".py",
   "mimetype": "text/x-python",
   "name": "python",
   "nbconvert_exporter": "python",
   "pygments_lexer": "ipython3",
   "version": "3.11.1"
  }
 },
 "nbformat": 4,
 "nbformat_minor": 5
}
