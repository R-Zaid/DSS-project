{
 "cells": [
  {
   "cell_type": "code",
   "id": "initial_id",
   "metadata": {
    "collapsed": true,
    "ExecuteTime": {
     "end_time": "2025-10-16T13:53:22.947779Z",
     "start_time": "2025-10-16T13:53:20.994685Z"
    }
   },
   "source": [
    "import folium\n",
    "import pandas as pd\n",
    "import re\n",
    "from shapely.geometry import Polygon\n",
    "import geopandas as gpd\n",
    "import numpy as np\n",
    "import ast"
   ],
   "outputs": [],
   "execution_count": 1
  },
  {
   "metadata": {
    "ExecuteTime": {
     "end_time": "2025-10-16T13:53:22.960444Z",
     "start_time": "2025-10-16T13:53:22.950330Z"
    }
   },
   "cell_type": "code",
   "source": "",
   "id": "99ea0ad5c5495e98",
   "outputs": [],
   "execution_count": null
  },
  {
   "metadata": {
    "ExecuteTime": {
     "end_time": "2025-10-16T13:53:23.103258Z",
     "start_time": "2025-10-16T13:53:22.968073Z"
    }
   },
   "cell_type": "code",
   "source": [
    "LEZ_location = pd.read_csv(r\"..\\..\\data\\ProcessedData\\NDW_locations.csv\")\n",
    "LEZ_location = LEZ_location[LEZ_location['zone_name'].str.startswith('ZE') == False].reset_index(drop=True)\n",
    "LEZ_location = LEZ_location[LEZ_location['zone_name'] != \"Milieuzone Amsterdam\"].reset_index(drop=True)\n",
    "\n",
    "def parse_coords(coord_str):\n",
    "    # Clean and parse string into (lat, lon) pairs list\n",
    "    coord_str = coord_str.strip(\"[]'\\\" \")\n",
    "    coords_split = coord_str.split()\n",
    "    coords_clean = [re.sub(r\"[,'\\\"]\", \"\", c) for c in coords_split]\n",
    "    latlons = [(float(coords_clean[i]), float(coords_clean[i+1])) for i in range(0, len(coords_clean), 2)]\n",
    "    return latlons\n",
    "\n",
    "# Apply function to the column 'coordinate_sets', storing results in a new column 'latlon_pairs'\n",
    "LEZ_location['latlon_pairs'] = LEZ_location['coordinate_sets'].apply(parse_coords)\n",
    "\n",
    "LEZ_location.head()"
   ],
   "id": "bd86947660cadc48",
   "outputs": [
    {
     "data": {
      "text/plain": [
       "              zone_name                                    coordinate_sets  \\\n",
       "0  LEZ 's-Hertogenbosch  ['51.691127953 5.294504572 51.6886171294 5.293...   \n",
       "1             LEZ Delft  ['52.013883 4.365207 52.013771 4.365007 52.013...   \n",
       "2           LEZ Haarlem  ['52.387318 4.650521 52.387734 4.64918 52.3883...   \n",
       "3              onbekend  ['52.20791599788392 5.958141001309827 52.20938...   \n",
       "4          LEZ Den Haag  ['52.075427 4.329351 52.075976 4.329212 52.076...   \n",
       "\n",
       "             start_date              end_date  \\\n",
       "0  2020-01-01T00:00:00Z  2025-03-01T00:00:00Z   \n",
       "1  2020-01-01T00:00:00Z  2999-01-01T00:00:00Z   \n",
       "2  2020-01-01T00:00:00Z  2999-01-01T00:00:00Z   \n",
       "3  2025-01-01T00:00:00Z  2026-12-31T23:00:00Z   \n",
       "4  2020-01-01T00:00:00Z  2999-01-01T00:00:00Z   \n",
       "\n",
       "                                        latlon_pairs  \n",
       "0  [(51.691127953, 5.294504572), (51.6886171294, ...  \n",
       "1  [(52.013883, 4.365207), (52.013771, 4.365007),...  \n",
       "2  [(52.387318, 4.650521), (52.387734, 4.64918), ...  \n",
       "3  [(52.20791599788392, 5.958141001309827), (52.2...  \n",
       "4  [(52.075427, 4.329351), (52.075976, 4.329212),...  "
      ],
      "text/html": [
       "<div>\n",
       "<style scoped>\n",
       "    .dataframe tbody tr th:only-of-type {\n",
       "        vertical-align: middle;\n",
       "    }\n",
       "\n",
       "    .dataframe tbody tr th {\n",
       "        vertical-align: top;\n",
       "    }\n",
       "\n",
       "    .dataframe thead th {\n",
       "        text-align: right;\n",
       "    }\n",
       "</style>\n",
       "<table border=\"1\" class=\"dataframe\">\n",
       "  <thead>\n",
       "    <tr style=\"text-align: right;\">\n",
       "      <th></th>\n",
       "      <th>zone_name</th>\n",
       "      <th>coordinate_sets</th>\n",
       "      <th>start_date</th>\n",
       "      <th>end_date</th>\n",
       "      <th>latlon_pairs</th>\n",
       "    </tr>\n",
       "  </thead>\n",
       "  <tbody>\n",
       "    <tr>\n",
       "      <th>0</th>\n",
       "      <td>LEZ 's-Hertogenbosch</td>\n",
       "      <td>['51.691127953 5.294504572 51.6886171294 5.293...</td>\n",
       "      <td>2020-01-01T00:00:00Z</td>\n",
       "      <td>2025-03-01T00:00:00Z</td>\n",
       "      <td>[(51.691127953, 5.294504572), (51.6886171294, ...</td>\n",
       "    </tr>\n",
       "    <tr>\n",
       "      <th>1</th>\n",
       "      <td>LEZ Delft</td>\n",
       "      <td>['52.013883 4.365207 52.013771 4.365007 52.013...</td>\n",
       "      <td>2020-01-01T00:00:00Z</td>\n",
       "      <td>2999-01-01T00:00:00Z</td>\n",
       "      <td>[(52.013883, 4.365207), (52.013771, 4.365007),...</td>\n",
       "    </tr>\n",
       "    <tr>\n",
       "      <th>2</th>\n",
       "      <td>LEZ Haarlem</td>\n",
       "      <td>['52.387318 4.650521 52.387734 4.64918 52.3883...</td>\n",
       "      <td>2020-01-01T00:00:00Z</td>\n",
       "      <td>2999-01-01T00:00:00Z</td>\n",
       "      <td>[(52.387318, 4.650521), (52.387734, 4.64918), ...</td>\n",
       "    </tr>\n",
       "    <tr>\n",
       "      <th>3</th>\n",
       "      <td>onbekend</td>\n",
       "      <td>['52.20791599788392 5.958141001309827 52.20938...</td>\n",
       "      <td>2025-01-01T00:00:00Z</td>\n",
       "      <td>2026-12-31T23:00:00Z</td>\n",
       "      <td>[(52.20791599788392, 5.958141001309827), (52.2...</td>\n",
       "    </tr>\n",
       "    <tr>\n",
       "      <th>4</th>\n",
       "      <td>LEZ Den Haag</td>\n",
       "      <td>['52.075427 4.329351 52.075976 4.329212 52.076...</td>\n",
       "      <td>2020-01-01T00:00:00Z</td>\n",
       "      <td>2999-01-01T00:00:00Z</td>\n",
       "      <td>[(52.075427, 4.329351), (52.075976, 4.329212),...</td>\n",
       "    </tr>\n",
       "  </tbody>\n",
       "</table>\n",
       "</div>"
      ]
     },
     "execution_count": 2,
     "metadata": {},
     "output_type": "execute_result"
    }
   ],
   "execution_count": 2
  },
  {
   "metadata": {
    "ExecuteTime": {
     "end_time": "2025-10-16T13:53:23.287756Z",
     "start_time": "2025-10-16T13:53:23.263751Z"
    }
   },
   "cell_type": "code",
   "source": [
    "df = LEZ_location\n",
    "\n",
    "df['LAT'] = df['latlon_pairs'].apply(lambda x: [lat for lon, lat in x])\n",
    "df['LON'] = df['latlon_pairs'].apply(lambda x: [lon for lon, lat in x])\n",
    "\n",
    "geom_list = [(x, y) for x, y  in zip(df['LON'],df['LAT'])]\n",
    "\n",
    "geom_list_2 = [Polygon(tuple(zip(x, y))) for x, y in geom_list]\n",
    "\n",
    "polygon_gdf =  gpd.GeoDataFrame(geometry=geom_list_2)"
   ],
   "id": "9787c96b2ff2c2f2",
   "outputs": [],
   "execution_count": 3
  },
  {
   "metadata": {
    "ExecuteTime": {
     "end_time": "2025-10-16T13:53:23.493103Z",
     "start_time": "2025-10-16T13:53:23.474917Z"
    }
   },
   "cell_type": "code",
   "source": "print(polygon_gdf)",
   "id": "6870c913846f31df",
   "outputs": [
    {
     "name": "stdout",
     "output_type": "stream",
     "text": [
      "                                             geometry\n",
      "0   POLYGON ((51.69113 5.2945, 51.68862 5.29358, 5...\n",
      "1   POLYGON ((52.01388 4.36521, 52.01377 4.36501, ...\n",
      "2   POLYGON ((52.38732 4.65052, 52.38773 4.64918, ...\n",
      "3   POLYGON ((52.20792 5.95814, 52.20939 5.95777, ...\n",
      "4   POLYGON ((52.07543 4.32935, 52.07598 4.32921, ...\n",
      "5   POLYGON ((51.57938 4.77048, 51.57938 4.77049, ...\n",
      "6   POLYGON ((51.54421 5.05947, 51.54402 5.06125, ...\n",
      "7   POLYGON ((52.09075 5.10505, 52.0904 5.10401, 5...\n",
      "8   POLYGON ((52.16022 4.47762, 52.16082 4.48051, ...\n",
      "9   POLYGON ((52.04555 4.33742, 52.04701 4.33954, ...\n",
      "10  POLYGON ((51.98459 5.90506, 51.98476 5.9063, 5...\n",
      "11  POLYGON ((52.39999 4.84996, 52.40012 4.85022, ...\n",
      "12  POLYGON ((50.84966 5.67752, 50.84965 5.67797, ...\n",
      "13  POLYGON ((51.9159 3.99302, 51.91756 3.99984, 5...\n"
     ]
    }
   ],
   "execution_count": 4
  },
  {
   "metadata": {
    "ExecuteTime": {
     "end_time": "2025-10-16T13:53:23.567945Z",
     "start_time": "2025-10-16T13:53:23.550848Z"
    }
   },
   "cell_type": "code",
   "source": "LEZ_location = pd.merge(LEZ_location, polygon_gdf, left_index=True, right_index=True)",
   "id": "b0b396873d37e8eb",
   "outputs": [],
   "execution_count": 5
  },
  {
   "metadata": {
    "ExecuteTime": {
     "end_time": "2025-10-16T13:53:23.800476Z",
     "start_time": "2025-10-16T13:53:23.606836Z"
    }
   },
   "cell_type": "code",
   "source": "print(LEZ_location)",
   "id": "482e581ba52bb6a3",
   "outputs": [
    {
     "name": "stdout",
     "output_type": "stream",
     "text": [
      "                   zone_name  \\\n",
      "0       LEZ 's-Hertogenbosch   \n",
      "1                  LEZ Delft   \n",
      "2                LEZ Haarlem   \n",
      "3                   onbekend   \n",
      "4               LEZ Den Haag   \n",
      "5                  LEZ Breda   \n",
      "6                LEZ Tilburg   \n",
      "7                LEZ Utrecht   \n",
      "8                 LEZ Leiden   \n",
      "9               LEZ Rijswijk   \n",
      "10         Milieuzone Arnhem   \n",
      "11             LEZ Amsterdam   \n",
      "12     Milieuzone Maastricht   \n",
      "13  LEZ Rotterdam Maasvlakte   \n",
      "\n",
      "                                      coordinate_sets            start_date  \\\n",
      "0   ['51.691127953 5.294504572 51.6886171294 5.293...  2020-01-01T00:00:00Z   \n",
      "1   ['52.013883 4.365207 52.013771 4.365007 52.013...  2020-01-01T00:00:00Z   \n",
      "2   ['52.387318 4.650521 52.387734 4.64918 52.3883...  2020-01-01T00:00:00Z   \n",
      "3   ['52.20791599788392 5.958141001309827 52.20938...  2025-01-01T00:00:00Z   \n",
      "4   ['52.075427 4.329351 52.075976 4.329212 52.076...  2020-01-01T00:00:00Z   \n",
      "5   ['51.579381 4.770481 51.579378 4.77049 51.5793...  2020-01-01T00:00:00Z   \n",
      "6   ['51.544207 5.059472 51.544023 5.061253 51.544...  2020-01-01T00:00:00Z   \n",
      "7   ['52.090751 5.10505 52.090402 5.104011 52.0886...  2020-01-01T00:00:00Z   \n",
      "8   ['52.160218 4.477615 52.160823 4.480512 52.160...  2020-01-01T00:00:00Z   \n",
      "9   ['52.04555482639968 4.337420994947492 52.04700...  2020-01-01T00:00:00Z   \n",
      "10  ['51.98459199838273 5.905060570812294 51.98476...  2020-12-20T00:00:00Z   \n",
      "11  ['52.399986 4.849957 52.400117 4.850217 52.399...  2020-11-01T00:00:00Z   \n",
      "12  ['50.849663 5.67752 50.849654 5.677968 50.8498...  2020-01-01T00:00:00Z   \n",
      "13  ['51.915897 3.993015 51.917558 3.999839 51.917...  2020-01-01T00:00:00Z   \n",
      "\n",
      "                end_date                                       latlon_pairs  \\\n",
      "0   2025-03-01T00:00:00Z  [(51.691127953, 5.294504572), (51.6886171294, ...   \n",
      "1   2999-01-01T00:00:00Z  [(52.013883, 4.365207), (52.013771, 4.365007),...   \n",
      "2   2999-01-01T00:00:00Z  [(52.387318, 4.650521), (52.387734, 4.64918), ...   \n",
      "3   2026-12-31T23:00:00Z  [(52.20791599788392, 5.958141001309827), (52.2...   \n",
      "4   2999-01-01T00:00:00Z  [(52.075427, 4.329351), (52.075976, 4.329212),...   \n",
      "5   2999-01-01T00:00:00Z  [(51.579381, 4.770481), (51.579378, 4.77049), ...   \n",
      "6   2025-01-01T00:00:00Z  [(51.544207, 5.059472), (51.544023, 5.061253),...   \n",
      "7   2999-01-01T00:00:00Z  [(52.090751, 5.10505), (52.090402, 5.104011), ...   \n",
      "8   2999-01-01T00:00:00Z  [(52.160218, 4.477615), (52.160823, 4.480512),...   \n",
      "9   2999-01-01T00:00:00Z  [(52.04555482639968, 4.337420994947492), (52.0...   \n",
      "10                   NaN  [(51.98459199838273, 5.905060570812294), (51.9...   \n",
      "11  2025-01-01T00:00:00Z  [(52.399986, 4.849957), (52.400117, 4.850217),...   \n",
      "12  2999-01-01T00:00:00Z  [(50.849663, 5.67752), (50.849654, 5.677968), ...   \n",
      "13  2999-01-01T00:00:00Z  [(51.915897, 3.993015), (51.917558, 3.999839),...   \n",
      "\n",
      "                                                  LAT  \\\n",
      "0   [5.294504572, 5.2935798162, 5.2928948555, 5.29...   \n",
      "1   [4.365207, 4.365007, 4.365055, 4.368614, 4.369...   \n",
      "2   [4.650521, 4.64918, 4.649475, 4.64976, 4.65030...   \n",
      "3   [5.958141001309827, 5.957766001064106, 5.95728...   \n",
      "4   [4.329351, 4.329212, 4.327963, 4.326784, 4.324...   \n",
      "5   [4.770481, 4.77049, 4.770498, 4.77051, 4.77050...   \n",
      "6   [5.059472, 5.061253, 5.064252, 5.066843, 5.067...   \n",
      "7   [5.10505, 5.104011, 5.098516, 5.098401, 5.0942...   \n",
      "8   [4.477615, 4.480512, 4.480813, 4.480855, 4.481...   \n",
      "9   [4.337420994947492, 4.339544117573205, 4.34009...   \n",
      "10  [5.905060570812294, 5.906298897265578, 5.90770...   \n",
      "11  [4.849957, 4.850217, 4.851841, 4.861152, 4.861...   \n",
      "12  [5.67752, 5.677968, 5.677966, 5.678025, 5.6788...   \n",
      "13  [3.993015, 3.999839, 4.002296, 4.007113, 4.015...   \n",
      "\n",
      "                                                  LON  \\\n",
      "0   [51.691127953, 51.6886171294, 51.6874442351, 5...   \n",
      "1   [52.013883, 52.013771, 52.01372, 52.011584, 52...   \n",
      "2   [52.387318, 52.387734, 52.388363, 52.390537, 5...   \n",
      "3   [52.20791599788392, 52.209387997329955, 52.209...   \n",
      "4   [52.075427, 52.075976, 52.076972, 52.077956, 5...   \n",
      "5   [51.579381, 51.579378, 51.579344, 51.579279, 5...   \n",
      "6   [51.544207, 51.544023, 51.544123, 51.544157, 5...   \n",
      "7   [52.090751, 52.090402, 52.088699, 52.088661, 5...   \n",
      "8   [52.160218, 52.160823, 52.160691, 52.15979, 52...   \n",
      "9   [52.04555482639968, 52.047009318589666, 52.046...   \n",
      "10  [51.98459199838273, 51.98476133507491, 51.9849...   \n",
      "11  [52.399986, 52.400117, 52.39934, 52.395213, 52...   \n",
      "12  [50.849663, 50.849654, 50.84981, 50.849923, 50...   \n",
      "13  [51.915897, 51.917558, 51.917843, 51.918829, 5...   \n",
      "\n",
      "                                             geometry  \n",
      "0   POLYGON ((51.69113 5.2945, 51.68862 5.29358, 5...  \n",
      "1   POLYGON ((52.01388 4.36521, 52.01377 4.36501, ...  \n",
      "2   POLYGON ((52.38732 4.65052, 52.38773 4.64918, ...  \n",
      "3   POLYGON ((52.20792 5.95814, 52.20939 5.95777, ...  \n",
      "4   POLYGON ((52.07543 4.32935, 52.07598 4.32921, ...  \n",
      "5   POLYGON ((51.57938 4.77048, 51.57938 4.77049, ...  \n",
      "6   POLYGON ((51.54421 5.05947, 51.54402 5.06125, ...  \n",
      "7   POLYGON ((52.09075 5.10505, 52.0904 5.10401, 5...  \n",
      "8   POLYGON ((52.16022 4.47762, 52.16082 4.48051, ...  \n",
      "9   POLYGON ((52.04555 4.33742, 52.04701 4.33954, ...  \n",
      "10  POLYGON ((51.98459 5.90506, 51.98476 5.9063, 5...  \n",
      "11  POLYGON ((52.39999 4.84996, 52.40012 4.85022, ...  \n",
      "12  POLYGON ((50.84966 5.67752, 50.84965 5.67797, ...  \n",
      "13  POLYGON ((51.9159 3.99302, 51.91756 3.99984, 5...  \n"
     ]
    }
   ],
   "execution_count": 6
  },
  {
   "metadata": {
    "ExecuteTime": {
     "end_time": "2025-10-16T13:53:23.857026Z",
     "start_time": "2025-10-16T13:53:23.833037Z"
    }
   },
   "cell_type": "code",
   "source": [
    "center_lat = 52.2\n",
    "center_lon = 5.3\n",
    "\n",
    "m = folium.Map(\n",
    "        location=[center_lat, center_lon],\n",
    "        zoom_start=7,\n",
    "        tiles='CartoDB Positron'\n",
    "    )\n",
    "m"
   ],
   "id": "eae2e05070b2b0c0",
   "outputs": [
    {
     "data": {
      "text/plain": [
       "<folium.folium.Map at 0x1b379f1bf50>"
      ],
      "text/html": [
       "<div style=\"width:100%;\"><div style=\"position:relative;width:100%;height:0;padding-bottom:60%;\"><span style=\"color:#565656\">Make this Notebook Trusted to load map: File -> Trust Notebook</span><iframe srcdoc=\"&lt;!DOCTYPE html&gt;\n",
       "&lt;html&gt;\n",
       "&lt;head&gt;\n",
       "    \n",
       "    &lt;meta http-equiv=&quot;content-type&quot; content=&quot;text/html; charset=UTF-8&quot; /&gt;\n",
       "    &lt;script src=&quot;https://cdn.jsdelivr.net/npm/leaflet@1.9.3/dist/leaflet.js&quot;&gt;&lt;/script&gt;\n",
       "    &lt;script src=&quot;https://code.jquery.com/jquery-3.7.1.min.js&quot;&gt;&lt;/script&gt;\n",
       "    &lt;script src=&quot;https://cdn.jsdelivr.net/npm/bootstrap@5.2.2/dist/js/bootstrap.bundle.min.js&quot;&gt;&lt;/script&gt;\n",
       "    &lt;script src=&quot;https://cdnjs.cloudflare.com/ajax/libs/Leaflet.awesome-markers/2.0.2/leaflet.awesome-markers.js&quot;&gt;&lt;/script&gt;\n",
       "    &lt;link rel=&quot;stylesheet&quot; href=&quot;https://cdn.jsdelivr.net/npm/leaflet@1.9.3/dist/leaflet.css&quot;/&gt;\n",
       "    &lt;link rel=&quot;stylesheet&quot; href=&quot;https://cdn.jsdelivr.net/npm/bootstrap@5.2.2/dist/css/bootstrap.min.css&quot;/&gt;\n",
       "    &lt;link rel=&quot;stylesheet&quot; href=&quot;https://netdna.bootstrapcdn.com/bootstrap/3.0.0/css/bootstrap-glyphicons.css&quot;/&gt;\n",
       "    &lt;link rel=&quot;stylesheet&quot; href=&quot;https://cdn.jsdelivr.net/npm/@fortawesome/fontawesome-free@6.2.0/css/all.min.css&quot;/&gt;\n",
       "    &lt;link rel=&quot;stylesheet&quot; href=&quot;https://cdnjs.cloudflare.com/ajax/libs/Leaflet.awesome-markers/2.0.2/leaflet.awesome-markers.css&quot;/&gt;\n",
       "    &lt;link rel=&quot;stylesheet&quot; href=&quot;https://cdn.jsdelivr.net/gh/python-visualization/folium/folium/templates/leaflet.awesome.rotate.min.css&quot;/&gt;\n",
       "    \n",
       "            &lt;meta name=&quot;viewport&quot; content=&quot;width=device-width,\n",
       "                initial-scale=1.0, maximum-scale=1.0, user-scalable=no&quot; /&gt;\n",
       "            &lt;style&gt;\n",
       "                #map_b39d919bbb3e6a7799ba6f868a60a507 {\n",
       "                    position: relative;\n",
       "                    width: 100.0%;\n",
       "                    height: 100.0%;\n",
       "                    left: 0.0%;\n",
       "                    top: 0.0%;\n",
       "                }\n",
       "                .leaflet-container { font-size: 1rem; }\n",
       "            &lt;/style&gt;\n",
       "\n",
       "            &lt;style&gt;html, body {\n",
       "                width: 100%;\n",
       "                height: 100%;\n",
       "                margin: 0;\n",
       "                padding: 0;\n",
       "            }\n",
       "            &lt;/style&gt;\n",
       "\n",
       "            &lt;style&gt;#map {\n",
       "                position:absolute;\n",
       "                top:0;\n",
       "                bottom:0;\n",
       "                right:0;\n",
       "                left:0;\n",
       "                }\n",
       "            &lt;/style&gt;\n",
       "\n",
       "            &lt;script&gt;\n",
       "                L_NO_TOUCH = false;\n",
       "                L_DISABLE_3D = false;\n",
       "            &lt;/script&gt;\n",
       "\n",
       "        \n",
       "&lt;/head&gt;\n",
       "&lt;body&gt;\n",
       "    \n",
       "    \n",
       "            &lt;div class=&quot;folium-map&quot; id=&quot;map_b39d919bbb3e6a7799ba6f868a60a507&quot; &gt;&lt;/div&gt;\n",
       "        \n",
       "&lt;/body&gt;\n",
       "&lt;script&gt;\n",
       "    \n",
       "    \n",
       "            var map_b39d919bbb3e6a7799ba6f868a60a507 = L.map(\n",
       "                &quot;map_b39d919bbb3e6a7799ba6f868a60a507&quot;,\n",
       "                {\n",
       "                    center: [52.2, 5.3],\n",
       "                    crs: L.CRS.EPSG3857,\n",
       "                    ...{\n",
       "  &quot;zoom&quot;: 7,\n",
       "  &quot;zoomControl&quot;: true,\n",
       "  &quot;preferCanvas&quot;: false,\n",
       "}\n",
       "\n",
       "                }\n",
       "            );\n",
       "\n",
       "            \n",
       "\n",
       "        \n",
       "    \n",
       "            var tile_layer_3fc9e12da1f5bf6e330f238eea4f0233 = L.tileLayer(\n",
       "                &quot;https://{s}.basemaps.cartocdn.com/light_all/{z}/{x}/{y}{r}.png&quot;,\n",
       "                {\n",
       "  &quot;minZoom&quot;: 0,\n",
       "  &quot;maxZoom&quot;: 20,\n",
       "  &quot;maxNativeZoom&quot;: 20,\n",
       "  &quot;noWrap&quot;: false,\n",
       "  &quot;attribution&quot;: &quot;\\u0026copy; \\u003ca href=\\&quot;https://www.openstreetmap.org/copyright\\&quot;\\u003eOpenStreetMap\\u003c/a\\u003e contributors \\u0026copy; \\u003ca href=\\&quot;https://carto.com/attributions\\&quot;\\u003eCARTO\\u003c/a\\u003e&quot;,\n",
       "  &quot;subdomains&quot;: &quot;abcd&quot;,\n",
       "  &quot;detectRetina&quot;: false,\n",
       "  &quot;tms&quot;: false,\n",
       "  &quot;opacity&quot;: 1,\n",
       "}\n",
       "\n",
       "            );\n",
       "        \n",
       "    \n",
       "            tile_layer_3fc9e12da1f5bf6e330f238eea4f0233.addTo(map_b39d919bbb3e6a7799ba6f868a60a507);\n",
       "        \n",
       "&lt;/script&gt;\n",
       "&lt;/html&gt;\" style=\"position:absolute;width:100%;height:100%;left:0;top:0;border:none !important;\" allowfullscreen webkitallowfullscreen mozallowfullscreen></iframe></div></div>"
      ]
     },
     "execution_count": 7,
     "metadata": {},
     "output_type": "execute_result"
    }
   ],
   "execution_count": 7
  },
  {
   "metadata": {
    "ExecuteTime": {
     "end_time": "2025-10-16T13:53:23.980604Z",
     "start_time": "2025-10-16T13:53:23.890069Z"
    }
   },
   "cell_type": "code",
   "source": [
    "for idx, row in LEZ_location.iterrows():\n",
    "\n",
    "    folium.Polygon(\n",
    "    locations=LEZ_location.latlon_pairs.iloc[idx],\n",
    "    color=\"blue\",\n",
    "    weight=3,\n",
    "    fill_color=\"red\",\n",
    "    fill_opacity=0.2,\n",
    "    fill=True,\n",
    "    popup= LEZ_location['zone_name'].iloc[idx],\n",
    "    ).add_to(m)\n",
    "\n",
    "m.save('test_map.html')"
   ],
   "id": "845595779b41a7c3",
   "outputs": [],
   "execution_count": 8
  }
 ],
 "metadata": {
  "kernelspec": {
   "display_name": "Python 3",
   "language": "python",
   "name": "python3"
  },
  "language_info": {
   "codemirror_mode": {
    "name": "ipython",
    "version": 2
   },
   "file_extension": ".py",
   "mimetype": "text/x-python",
   "name": "python",
   "nbconvert_exporter": "python",
   "pygments_lexer": "ipython2",
   "version": "2.7.6"
  }
 },
 "nbformat": 4,
 "nbformat_minor": 5
}
