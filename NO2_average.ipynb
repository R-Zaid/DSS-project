{
 "cells": [
  {
   "cell_type": "markdown",
   "id": "286181db",
   "metadata": {},
   "source": [
    "# **Retrieve data from the CSV files** \n",
    "#### all tables concecated into one dataframe, calculate the mean per month and put it into one csv file called: mean_no2_monthlyvalues.csv\n"
   ]
  },
  {
   "cell_type": "code",
   "execution_count": 1,
   "id": "39c10549",
   "metadata": {},
   "outputs": [
    {
     "name": "stdout",
     "output_type": "stream",
     "text": [
      "loaded: 1990_NO2.csv\n",
      "loaded: 2016_NO2.csv\n",
      "loaded: 2017_NO2.csv\n",
      "loaded: 2018_NO2.csv\n",
      "loaded: 2019_NO2.csv\n",
      "loaded: 2020_NO2.csv\n",
      "loaded: 2021_NO2.csv\n",
      "loaded: 2022_NO2.csv\n",
      "loaded: 2023_NO2.csv\n",
      "loaded: 2024_NO2.csv\n",
      "Total instances: 6666197\n"
     ]
    }
   ],
   "source": [
    "import pandas as pd\n",
    "import numpy as np\n",
    "\n",
    "urls = [\n",
    "    'https://data.rivm.nl/data/luchtmeetnet/Vastgesteld-jaar/1990/', \n",
    "    'https://data.rivm.nl/data/luchtmeetnet/Vastgesteld-jaar/2016/',\n",
    "    'https://data.rivm.nl/data/luchtmeetnet/Vastgesteld-jaar/2017/',\n",
    "    'https://data.rivm.nl/data/luchtmeetnet/Vastgesteld-jaar/2018/',\n",
    "    'https://data.rivm.nl/data/luchtmeetnet/Vastgesteld-jaar/2019/',\n",
    "    'https://data.rivm.nl/data/luchtmeetnet/Vastgesteld-jaar/2020/',\n",
    "    'https://data.rivm.nl/data/luchtmeetnet/Vastgesteld-jaar/2021/',\n",
    "    'https://data.rivm.nl/data/luchtmeetnet/Vastgesteld-jaar/2022/',\n",
    "    'https://data.rivm.nl/data/luchtmeetnet/Vastgesteld-jaar/2023/',\n",
    "    'https://data.rivm.nl/data/luchtmeetnet/Vastgesteld-jaar/2024/',\n",
    "]\n",
    "csv_suffix = '_NO2.csv' \n",
    "all_dfs = [] \n",
    "\n",
    "\n",
    "for base_url in urls:\n",
    "    \n",
    "    year = base_url.split('/')[-2]\n",
    "    file_name = year + csv_suffix\n",
    "    full_url = base_url + file_name \n",
    "    \n",
    "   \n",
    "    temp_df = pd.read_csv(\n",
    "        full_url, \n",
    "        sep=';', \n",
    "        skiprows=5 \n",
    "    )\n",
    "    \n",
    "    all_dfs.append(temp_df)\n",
    "    print(f\"loaded: {file_name}\")\n",
    "\n",
    "#Combine data into one df\n",
    "main_df = pd.concat(all_dfs, ignore_index=True)\n",
    "\n",
    "print(f\"Total instances: {len(main_df)}\")\n"
   ]
  },
  {
   "cell_type": "code",
   "execution_count": 2,
   "id": "ea567a88",
   "metadata": {},
   "outputs": [
    {
     "name": "stderr",
     "output_type": "stream",
     "text": [
      "C:\\Users\\enock\\AppData\\Local\\Temp\\ipykernel_32224\\1723036923.py:5: UserWarning: Converting to PeriodArray/Index representation will drop timezone information.\n",
      "  main_df['Jaar_Maand'] = main_df['begindatumtijd'].dt.to_period('M')\n"
     ]
    },
    {
     "name": "stdout",
     "output_type": "stream",
     "text": [
      "    Year_Month  Average NO2 Value\n",
      "0      1990-01                 37\n",
      "1      1990-02                 34\n",
      "2      1990-03                 38\n",
      "3      1990-04                 35\n",
      "4      1990-05                 38\n",
      "..         ...                ...\n",
      "115    2024-08                 13\n",
      "116    2024-09                 14\n",
      "117    2024-10                 18\n",
      "118    2024-11                 19\n",
      "119    2024-12                 17\n",
      "\n",
      "[120 rows x 2 columns]\n"
     ]
    }
   ],
   "source": [
    "# Converteer de datumkolom naar datetime\n",
    "main_df['begindatumtijd'] = pd.to_datetime(main_df['begindatumtijd'], errors='coerce')\n",
    "\n",
    "# Maak een nieuwe kolom aan voor Jaar-Maand \n",
    "main_df['Jaar_Maand'] = main_df['begindatumtijd'].dt.to_period('M')\n",
    "\n",
    "# Groepeer op de nieuwe Jaar_Maand kolom en bereken het gemiddelde van 'waarde'\n",
    "maandelijks_gemiddelde_df = main_df.groupby('Jaar_Maand')['waarde'].mean().reset_index()\n",
    "\n",
    "# Hernoem de kolommen\n",
    "maandelijks_gemiddelde_df.columns = ['Year_Month', 'Average NO2 Value']\n",
    "\n",
    "# Formatteer de kolom 'Jaar_Maand' voor betere weergave\n",
    "maandelijks_gemiddelde_df['Year_Month'] = maandelijks_gemiddelde_df['Year_Month'].astype(str)\n",
    "maandelijks_gemiddelde_df['Average NO2 Value'] = maandelijks_gemiddelde_df['Average NO2 Value'].round(0).astype(int)\n",
    "\n",
    "\n",
    "print(maandelijks_gemiddelde_df)\n",
    "output_filename = 'mean_no2_monthlyvalues.csv'\n",
    "maandelijks_gemiddelde_df.to_csv(output_filename, index=False, sep=',')\n"
   ]
  }
 ],
 "metadata": {
  "kernelspec": {
   "display_name": "Python 3",
   "language": "python",
   "name": "python3"
  },
  "language_info": {
   "codemirror_mode": {
    "name": "ipython",
    "version": 3
   },
   "file_extension": ".py",
   "mimetype": "text/x-python",
   "name": "python",
   "nbconvert_exporter": "python",
   "pygments_lexer": "ipython3",
   "version": "3.11.9"
  }
 },
 "nbformat": 4,
 "nbformat_minor": 5
}
